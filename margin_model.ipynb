{
 "cells": [
  {
   "cell_type": "code",
   "execution_count": 31,
   "metadata": {},
   "outputs": [],
   "source": [
    "import pandas as pd\n",
    "import numpy as np\n",
    "from xgboost import XGBRegressor\n",
    "from xgboost import XGBClassifier\n",
    "from sklearn.model_selection import train_test_split\n",
    "import optuna\n",
    "from sklearn.metrics import mean_squared_error"
   ]
  },
  {
   "cell_type": "code",
   "execution_count": 32,
   "metadata": {},
   "outputs": [],
   "source": [
    "games = pd.read_csv(f'data/train_data.csv')\n",
    "games = games[games['completed'] == True]"
   ]
  },
  {
   "cell_type": "code",
   "execution_count": 40,
   "metadata": {},
   "outputs": [
    {
     "name": "stdout",
     "output_type": "stream",
     "text": [
      "0\n",
      "10\n"
     ]
    },
    {
     "name": "stderr",
     "output_type": "stream",
     "text": [
      "/var/folders/_6/_8xn00vj0gz5g10qr8khtxz40000gn/T/ipykernel_10067/1731616626.py:19: SettingWithCopyWarning: \n",
      "A value is trying to be set on a copy of a slice from a DataFrame.\n",
      "Try using .loc[row_indexer,col_indexer] = value instead\n",
      "\n",
      "See the caveats in the documentation: https://pandas.pydata.org/pandas-docs/stable/user_guide/indexing.html#returning-a-view-versus-a-copy\n",
      "  test.loc[:,'pred_margin'] = y_pred\n",
      "/var/folders/_6/_8xn00vj0gz5g10qr8khtxz40000gn/T/ipykernel_10067/1731616626.py:20: SettingWithCopyWarning: \n",
      "A value is trying to be set on a copy of a slice from a DataFrame.\n",
      "Try using .loc[row_indexer,col_indexer] = value instead\n",
      "\n",
      "See the caveats in the documentation: https://pandas.pydata.org/pandas-docs/stable/user_guide/indexing.html#returning-a-view-versus-a-copy\n",
      "  test.loc[:,'mse'] = (test['margin'] - test['pred_margin'])**2\n"
     ]
    },
    {
     "name": "stdout",
     "output_type": "stream",
     "text": [
      "Num games:  10 MSE on sample:  247.64 MSE on all games:  247.64\n",
      "20\n"
     ]
    },
    {
     "name": "stderr",
     "output_type": "stream",
     "text": [
      "/var/folders/_6/_8xn00vj0gz5g10qr8khtxz40000gn/T/ipykernel_10067/1731616626.py:19: SettingWithCopyWarning: \n",
      "A value is trying to be set on a copy of a slice from a DataFrame.\n",
      "Try using .loc[row_indexer,col_indexer] = value instead\n",
      "\n",
      "See the caveats in the documentation: https://pandas.pydata.org/pandas-docs/stable/user_guide/indexing.html#returning-a-view-versus-a-copy\n",
      "  test.loc[:,'pred_margin'] = y_pred\n",
      "/var/folders/_6/_8xn00vj0gz5g10qr8khtxz40000gn/T/ipykernel_10067/1731616626.py:20: SettingWithCopyWarning: \n",
      "A value is trying to be set on a copy of a slice from a DataFrame.\n",
      "Try using .loc[row_indexer,col_indexer] = value instead\n",
      "\n",
      "See the caveats in the documentation: https://pandas.pydata.org/pandas-docs/stable/user_guide/indexing.html#returning-a-view-versus-a-copy\n",
      "  test.loc[:,'mse'] = (test['margin'] - test['pred_margin'])**2\n"
     ]
    },
    {
     "name": "stdout",
     "output_type": "stream",
     "text": [
      "Num games:  20 MSE on sample:  245.4 MSE on all games:  246.64\n",
      "30\n"
     ]
    },
    {
     "name": "stderr",
     "output_type": "stream",
     "text": [
      "/var/folders/_6/_8xn00vj0gz5g10qr8khtxz40000gn/T/ipykernel_10067/1731616626.py:19: SettingWithCopyWarning: \n",
      "A value is trying to be set on a copy of a slice from a DataFrame.\n",
      "Try using .loc[row_indexer,col_indexer] = value instead\n",
      "\n",
      "See the caveats in the documentation: https://pandas.pydata.org/pandas-docs/stable/user_guide/indexing.html#returning-a-view-versus-a-copy\n",
      "  test.loc[:,'pred_margin'] = y_pred\n",
      "/var/folders/_6/_8xn00vj0gz5g10qr8khtxz40000gn/T/ipykernel_10067/1731616626.py:20: SettingWithCopyWarning: \n",
      "A value is trying to be set on a copy of a slice from a DataFrame.\n",
      "Try using .loc[row_indexer,col_indexer] = value instead\n",
      "\n",
      "See the caveats in the documentation: https://pandas.pydata.org/pandas-docs/stable/user_guide/indexing.html#returning-a-view-versus-a-copy\n",
      "  test.loc[:,'mse'] = (test['margin'] - test['pred_margin'])**2\n"
     ]
    },
    {
     "name": "stdout",
     "output_type": "stream",
     "text": [
      "Num games:  30 MSE on sample:  219.34 MSE on all games:  238.78\n",
      "40\n"
     ]
    },
    {
     "name": "stderr",
     "output_type": "stream",
     "text": [
      "/var/folders/_6/_8xn00vj0gz5g10qr8khtxz40000gn/T/ipykernel_10067/1731616626.py:19: SettingWithCopyWarning: \n",
      "A value is trying to be set on a copy of a slice from a DataFrame.\n",
      "Try using .loc[row_indexer,col_indexer] = value instead\n",
      "\n",
      "See the caveats in the documentation: https://pandas.pydata.org/pandas-docs/stable/user_guide/indexing.html#returning-a-view-versus-a-copy\n",
      "  test.loc[:,'pred_margin'] = y_pred\n",
      "/var/folders/_6/_8xn00vj0gz5g10qr8khtxz40000gn/T/ipykernel_10067/1731616626.py:20: SettingWithCopyWarning: \n",
      "A value is trying to be set on a copy of a slice from a DataFrame.\n",
      "Try using .loc[row_indexer,col_indexer] = value instead\n",
      "\n",
      "See the caveats in the documentation: https://pandas.pydata.org/pandas-docs/stable/user_guide/indexing.html#returning-a-view-versus-a-copy\n",
      "  test.loc[:,'mse'] = (test['margin'] - test['pred_margin'])**2\n"
     ]
    },
    {
     "name": "stdout",
     "output_type": "stream",
     "text": [
      "Num games:  40 MSE on sample:  216.03 MSE on all games:  232.8\n",
      "50\n"
     ]
    },
    {
     "name": "stderr",
     "output_type": "stream",
     "text": [
      "/var/folders/_6/_8xn00vj0gz5g10qr8khtxz40000gn/T/ipykernel_10067/1731616626.py:19: SettingWithCopyWarning: \n",
      "A value is trying to be set on a copy of a slice from a DataFrame.\n",
      "Try using .loc[row_indexer,col_indexer] = value instead\n",
      "\n",
      "See the caveats in the documentation: https://pandas.pydata.org/pandas-docs/stable/user_guide/indexing.html#returning-a-view-versus-a-copy\n",
      "  test.loc[:,'pred_margin'] = y_pred\n",
      "/var/folders/_6/_8xn00vj0gz5g10qr8khtxz40000gn/T/ipykernel_10067/1731616626.py:20: SettingWithCopyWarning: \n",
      "A value is trying to be set on a copy of a slice from a DataFrame.\n",
      "Try using .loc[row_indexer,col_indexer] = value instead\n",
      "\n",
      "See the caveats in the documentation: https://pandas.pydata.org/pandas-docs/stable/user_guide/indexing.html#returning-a-view-versus-a-copy\n",
      "  test.loc[:,'mse'] = (test['margin'] - test['pred_margin'])**2\n"
     ]
    },
    {
     "name": "stdout",
     "output_type": "stream",
     "text": [
      "Num games:  50 MSE on sample:  191.37 MSE on all games:  222.89\n",
      "60\n"
     ]
    },
    {
     "name": "stderr",
     "output_type": "stream",
     "text": [
      "/var/folders/_6/_8xn00vj0gz5g10qr8khtxz40000gn/T/ipykernel_10067/1731616626.py:19: SettingWithCopyWarning: \n",
      "A value is trying to be set on a copy of a slice from a DataFrame.\n",
      "Try using .loc[row_indexer,col_indexer] = value instead\n",
      "\n",
      "See the caveats in the documentation: https://pandas.pydata.org/pandas-docs/stable/user_guide/indexing.html#returning-a-view-versus-a-copy\n",
      "  test.loc[:,'pred_margin'] = y_pred\n",
      "/var/folders/_6/_8xn00vj0gz5g10qr8khtxz40000gn/T/ipykernel_10067/1731616626.py:20: SettingWithCopyWarning: \n",
      "A value is trying to be set on a copy of a slice from a DataFrame.\n",
      "Try using .loc[row_indexer,col_indexer] = value instead\n",
      "\n",
      "See the caveats in the documentation: https://pandas.pydata.org/pandas-docs/stable/user_guide/indexing.html#returning-a-view-versus-a-copy\n",
      "  test.loc[:,'mse'] = (test['margin'] - test['pred_margin'])**2\n"
     ]
    },
    {
     "name": "stdout",
     "output_type": "stream",
     "text": [
      "Num games:  60 MSE on sample:  213.26 MSE on all games:  221.24\n",
      "70\n"
     ]
    },
    {
     "name": "stderr",
     "output_type": "stream",
     "text": [
      "/var/folders/_6/_8xn00vj0gz5g10qr8khtxz40000gn/T/ipykernel_10067/1731616626.py:19: SettingWithCopyWarning: \n",
      "A value is trying to be set on a copy of a slice from a DataFrame.\n",
      "Try using .loc[row_indexer,col_indexer] = value instead\n",
      "\n",
      "See the caveats in the documentation: https://pandas.pydata.org/pandas-docs/stable/user_guide/indexing.html#returning-a-view-versus-a-copy\n",
      "  test.loc[:,'pred_margin'] = y_pred\n",
      "/var/folders/_6/_8xn00vj0gz5g10qr8khtxz40000gn/T/ipykernel_10067/1731616626.py:20: SettingWithCopyWarning: \n",
      "A value is trying to be set on a copy of a slice from a DataFrame.\n",
      "Try using .loc[row_indexer,col_indexer] = value instead\n",
      "\n",
      "See the caveats in the documentation: https://pandas.pydata.org/pandas-docs/stable/user_guide/indexing.html#returning-a-view-versus-a-copy\n",
      "  test.loc[:,'mse'] = (test['margin'] - test['pred_margin'])**2\n"
     ]
    },
    {
     "name": "stdout",
     "output_type": "stream",
     "text": [
      "Num games:  70 MSE on sample:  145.51 MSE on all games:  211.7\n",
      "80\n"
     ]
    },
    {
     "name": "stderr",
     "output_type": "stream",
     "text": [
      "/var/folders/_6/_8xn00vj0gz5g10qr8khtxz40000gn/T/ipykernel_10067/1731616626.py:19: SettingWithCopyWarning: \n",
      "A value is trying to be set on a copy of a slice from a DataFrame.\n",
      "Try using .loc[row_indexer,col_indexer] = value instead\n",
      "\n",
      "See the caveats in the documentation: https://pandas.pydata.org/pandas-docs/stable/user_guide/indexing.html#returning-a-view-versus-a-copy\n",
      "  test.loc[:,'pred_margin'] = y_pred\n",
      "/var/folders/_6/_8xn00vj0gz5g10qr8khtxz40000gn/T/ipykernel_10067/1731616626.py:20: SettingWithCopyWarning: \n",
      "A value is trying to be set on a copy of a slice from a DataFrame.\n",
      "Try using .loc[row_indexer,col_indexer] = value instead\n",
      "\n",
      "See the caveats in the documentation: https://pandas.pydata.org/pandas-docs/stable/user_guide/indexing.html#returning-a-view-versus-a-copy\n",
      "  test.loc[:,'mse'] = (test['margin'] - test['pred_margin'])**2\n"
     ]
    },
    {
     "name": "stdout",
     "output_type": "stream",
     "text": [
      "Num games:  80 MSE on sample:  188.11 MSE on all games:  209.0\n",
      "90\n"
     ]
    },
    {
     "name": "stderr",
     "output_type": "stream",
     "text": [
      "/var/folders/_6/_8xn00vj0gz5g10qr8khtxz40000gn/T/ipykernel_10067/1731616626.py:19: SettingWithCopyWarning: \n",
      "A value is trying to be set on a copy of a slice from a DataFrame.\n",
      "Try using .loc[row_indexer,col_indexer] = value instead\n",
      "\n",
      "See the caveats in the documentation: https://pandas.pydata.org/pandas-docs/stable/user_guide/indexing.html#returning-a-view-versus-a-copy\n",
      "  test.loc[:,'pred_margin'] = y_pred\n",
      "/var/folders/_6/_8xn00vj0gz5g10qr8khtxz40000gn/T/ipykernel_10067/1731616626.py:20: SettingWithCopyWarning: \n",
      "A value is trying to be set on a copy of a slice from a DataFrame.\n",
      "Try using .loc[row_indexer,col_indexer] = value instead\n",
      "\n",
      "See the caveats in the documentation: https://pandas.pydata.org/pandas-docs/stable/user_guide/indexing.html#returning-a-view-versus-a-copy\n",
      "  test.loc[:,'mse'] = (test['margin'] - test['pred_margin'])**2\n"
     ]
    },
    {
     "name": "stdout",
     "output_type": "stream",
     "text": [
      "Num games:  90 MSE on sample:  196.13 MSE on all games:  207.51\n",
      "100\n"
     ]
    },
    {
     "name": "stderr",
     "output_type": "stream",
     "text": [
      "/var/folders/_6/_8xn00vj0gz5g10qr8khtxz40000gn/T/ipykernel_10067/1731616626.py:19: SettingWithCopyWarning: \n",
      "A value is trying to be set on a copy of a slice from a DataFrame.\n",
      "Try using .loc[row_indexer,col_indexer] = value instead\n",
      "\n",
      "See the caveats in the documentation: https://pandas.pydata.org/pandas-docs/stable/user_guide/indexing.html#returning-a-view-versus-a-copy\n",
      "  test.loc[:,'pred_margin'] = y_pred\n",
      "/var/folders/_6/_8xn00vj0gz5g10qr8khtxz40000gn/T/ipykernel_10067/1731616626.py:20: SettingWithCopyWarning: \n",
      "A value is trying to be set on a copy of a slice from a DataFrame.\n",
      "Try using .loc[row_indexer,col_indexer] = value instead\n",
      "\n",
      "See the caveats in the documentation: https://pandas.pydata.org/pandas-docs/stable/user_guide/indexing.html#returning-a-view-versus-a-copy\n",
      "  test.loc[:,'mse'] = (test['margin'] - test['pred_margin'])**2\n"
     ]
    },
    {
     "name": "stdout",
     "output_type": "stream",
     "text": [
      "Num games:  100 MSE on sample:  179.54 MSE on all games:  204.26\n",
      "110\n"
     ]
    },
    {
     "name": "stderr",
     "output_type": "stream",
     "text": [
      "/var/folders/_6/_8xn00vj0gz5g10qr8khtxz40000gn/T/ipykernel_10067/1731616626.py:19: SettingWithCopyWarning: \n",
      "A value is trying to be set on a copy of a slice from a DataFrame.\n",
      "Try using .loc[row_indexer,col_indexer] = value instead\n",
      "\n",
      "See the caveats in the documentation: https://pandas.pydata.org/pandas-docs/stable/user_guide/indexing.html#returning-a-view-versus-a-copy\n",
      "  test.loc[:,'pred_margin'] = y_pred\n",
      "/var/folders/_6/_8xn00vj0gz5g10qr8khtxz40000gn/T/ipykernel_10067/1731616626.py:20: SettingWithCopyWarning: \n",
      "A value is trying to be set on a copy of a slice from a DataFrame.\n",
      "Try using .loc[row_indexer,col_indexer] = value instead\n",
      "\n",
      "See the caveats in the documentation: https://pandas.pydata.org/pandas-docs/stable/user_guide/indexing.html#returning-a-view-versus-a-copy\n",
      "  test.loc[:,'mse'] = (test['margin'] - test['pred_margin'])**2\n"
     ]
    },
    {
     "name": "stdout",
     "output_type": "stream",
     "text": [
      "Num games:  110 MSE on sample:  167.79 MSE on all games:  201.22\n",
      "120\n"
     ]
    },
    {
     "name": "stderr",
     "output_type": "stream",
     "text": [
      "/var/folders/_6/_8xn00vj0gz5g10qr8khtxz40000gn/T/ipykernel_10067/1731616626.py:19: SettingWithCopyWarning: \n",
      "A value is trying to be set on a copy of a slice from a DataFrame.\n",
      "Try using .loc[row_indexer,col_indexer] = value instead\n",
      "\n",
      "See the caveats in the documentation: https://pandas.pydata.org/pandas-docs/stable/user_guide/indexing.html#returning-a-view-versus-a-copy\n",
      "  test.loc[:,'pred_margin'] = y_pred\n",
      "/var/folders/_6/_8xn00vj0gz5g10qr8khtxz40000gn/T/ipykernel_10067/1731616626.py:20: SettingWithCopyWarning: \n",
      "A value is trying to be set on a copy of a slice from a DataFrame.\n",
      "Try using .loc[row_indexer,col_indexer] = value instead\n",
      "\n",
      "See the caveats in the documentation: https://pandas.pydata.org/pandas-docs/stable/user_guide/indexing.html#returning-a-view-versus-a-copy\n",
      "  test.loc[:,'mse'] = (test['margin'] - test['pred_margin'])**2\n"
     ]
    },
    {
     "name": "stdout",
     "output_type": "stream",
     "text": [
      "Num games:  120 MSE on sample:  209.43 MSE on all games:  201.86\n",
      "130\n"
     ]
    },
    {
     "name": "stderr",
     "output_type": "stream",
     "text": [
      "/var/folders/_6/_8xn00vj0gz5g10qr8khtxz40000gn/T/ipykernel_10067/1731616626.py:19: SettingWithCopyWarning: \n",
      "A value is trying to be set on a copy of a slice from a DataFrame.\n",
      "Try using .loc[row_indexer,col_indexer] = value instead\n",
      "\n",
      "See the caveats in the documentation: https://pandas.pydata.org/pandas-docs/stable/user_guide/indexing.html#returning-a-view-versus-a-copy\n",
      "  test.loc[:,'pred_margin'] = y_pred\n",
      "/var/folders/_6/_8xn00vj0gz5g10qr8khtxz40000gn/T/ipykernel_10067/1731616626.py:20: SettingWithCopyWarning: \n",
      "A value is trying to be set on a copy of a slice from a DataFrame.\n",
      "Try using .loc[row_indexer,col_indexer] = value instead\n",
      "\n",
      "See the caveats in the documentation: https://pandas.pydata.org/pandas-docs/stable/user_guide/indexing.html#returning-a-view-versus-a-copy\n",
      "  test.loc[:,'mse'] = (test['margin'] - test['pred_margin'])**2\n"
     ]
    },
    {
     "name": "stdout",
     "output_type": "stream",
     "text": [
      "Num games:  130 MSE on sample:  161.92 MSE on all games:  198.48\n",
      "140\n"
     ]
    },
    {
     "name": "stderr",
     "output_type": "stream",
     "text": [
      "/var/folders/_6/_8xn00vj0gz5g10qr8khtxz40000gn/T/ipykernel_10067/1731616626.py:19: SettingWithCopyWarning: \n",
      "A value is trying to be set on a copy of a slice from a DataFrame.\n",
      "Try using .loc[row_indexer,col_indexer] = value instead\n",
      "\n",
      "See the caveats in the documentation: https://pandas.pydata.org/pandas-docs/stable/user_guide/indexing.html#returning-a-view-versus-a-copy\n",
      "  test.loc[:,'pred_margin'] = y_pred\n",
      "/var/folders/_6/_8xn00vj0gz5g10qr8khtxz40000gn/T/ipykernel_10067/1731616626.py:20: SettingWithCopyWarning: \n",
      "A value is trying to be set on a copy of a slice from a DataFrame.\n",
      "Try using .loc[row_indexer,col_indexer] = value instead\n",
      "\n",
      "See the caveats in the documentation: https://pandas.pydata.org/pandas-docs/stable/user_guide/indexing.html#returning-a-view-versus-a-copy\n",
      "  test.loc[:,'mse'] = (test['margin'] - test['pred_margin'])**2\n"
     ]
    },
    {
     "name": "stdout",
     "output_type": "stream",
     "text": [
      "Num games:  140 MSE on sample:  134.15 MSE on all games:  194.08\n",
      "150\n"
     ]
    },
    {
     "name": "stderr",
     "output_type": "stream",
     "text": [
      "/var/folders/_6/_8xn00vj0gz5g10qr8khtxz40000gn/T/ipykernel_10067/1731616626.py:19: SettingWithCopyWarning: \n",
      "A value is trying to be set on a copy of a slice from a DataFrame.\n",
      "Try using .loc[row_indexer,col_indexer] = value instead\n",
      "\n",
      "See the caveats in the documentation: https://pandas.pydata.org/pandas-docs/stable/user_guide/indexing.html#returning-a-view-versus-a-copy\n",
      "  test.loc[:,'pred_margin'] = y_pred\n",
      "/var/folders/_6/_8xn00vj0gz5g10qr8khtxz40000gn/T/ipykernel_10067/1731616626.py:20: SettingWithCopyWarning: \n",
      "A value is trying to be set on a copy of a slice from a DataFrame.\n",
      "Try using .loc[row_indexer,col_indexer] = value instead\n",
      "\n",
      "See the caveats in the documentation: https://pandas.pydata.org/pandas-docs/stable/user_guide/indexing.html#returning-a-view-versus-a-copy\n",
      "  test.loc[:,'mse'] = (test['margin'] - test['pred_margin'])**2\n"
     ]
    },
    {
     "name": "stdout",
     "output_type": "stream",
     "text": [
      "Num games:  150 MSE on sample:  151.84 MSE on all games:  190.74\n",
      "160\n"
     ]
    },
    {
     "name": "stderr",
     "output_type": "stream",
     "text": [
      "/var/folders/_6/_8xn00vj0gz5g10qr8khtxz40000gn/T/ipykernel_10067/1731616626.py:19: SettingWithCopyWarning: \n",
      "A value is trying to be set on a copy of a slice from a DataFrame.\n",
      "Try using .loc[row_indexer,col_indexer] = value instead\n",
      "\n",
      "See the caveats in the documentation: https://pandas.pydata.org/pandas-docs/stable/user_guide/indexing.html#returning-a-view-versus-a-copy\n",
      "  test.loc[:,'pred_margin'] = y_pred\n",
      "/var/folders/_6/_8xn00vj0gz5g10qr8khtxz40000gn/T/ipykernel_10067/1731616626.py:20: SettingWithCopyWarning: \n",
      "A value is trying to be set on a copy of a slice from a DataFrame.\n",
      "Try using .loc[row_indexer,col_indexer] = value instead\n",
      "\n",
      "See the caveats in the documentation: https://pandas.pydata.org/pandas-docs/stable/user_guide/indexing.html#returning-a-view-versus-a-copy\n",
      "  test.loc[:,'mse'] = (test['margin'] - test['pred_margin'])**2\n"
     ]
    },
    {
     "name": "stdout",
     "output_type": "stream",
     "text": [
      "Num games:  160 MSE on sample:  124.41 MSE on all games:  187.23\n",
      "170\n"
     ]
    },
    {
     "name": "stderr",
     "output_type": "stream",
     "text": [
      "/var/folders/_6/_8xn00vj0gz5g10qr8khtxz40000gn/T/ipykernel_10067/1731616626.py:19: SettingWithCopyWarning: \n",
      "A value is trying to be set on a copy of a slice from a DataFrame.\n",
      "Try using .loc[row_indexer,col_indexer] = value instead\n",
      "\n",
      "See the caveats in the documentation: https://pandas.pydata.org/pandas-docs/stable/user_guide/indexing.html#returning-a-view-versus-a-copy\n",
      "  test.loc[:,'pred_margin'] = y_pred\n",
      "/var/folders/_6/_8xn00vj0gz5g10qr8khtxz40000gn/T/ipykernel_10067/1731616626.py:20: SettingWithCopyWarning: \n",
      "A value is trying to be set on a copy of a slice from a DataFrame.\n",
      "Try using .loc[row_indexer,col_indexer] = value instead\n",
      "\n",
      "See the caveats in the documentation: https://pandas.pydata.org/pandas-docs/stable/user_guide/indexing.html#returning-a-view-versus-a-copy\n",
      "  test.loc[:,'mse'] = (test['margin'] - test['pred_margin'])**2\n"
     ]
    },
    {
     "name": "stdout",
     "output_type": "stream",
     "text": [
      "Num games:  170 MSE on sample:  189.42 MSE on all games:  187.34\n",
      "180\n"
     ]
    },
    {
     "name": "stderr",
     "output_type": "stream",
     "text": [
      "/var/folders/_6/_8xn00vj0gz5g10qr8khtxz40000gn/T/ipykernel_10067/1731616626.py:19: SettingWithCopyWarning: \n",
      "A value is trying to be set on a copy of a slice from a DataFrame.\n",
      "Try using .loc[row_indexer,col_indexer] = value instead\n",
      "\n",
      "See the caveats in the documentation: https://pandas.pydata.org/pandas-docs/stable/user_guide/indexing.html#returning-a-view-versus-a-copy\n",
      "  test.loc[:,'pred_margin'] = y_pred\n",
      "/var/folders/_6/_8xn00vj0gz5g10qr8khtxz40000gn/T/ipykernel_10067/1731616626.py:20: SettingWithCopyWarning: \n",
      "A value is trying to be set on a copy of a slice from a DataFrame.\n",
      "Try using .loc[row_indexer,col_indexer] = value instead\n",
      "\n",
      "See the caveats in the documentation: https://pandas.pydata.org/pandas-docs/stable/user_guide/indexing.html#returning-a-view-versus-a-copy\n",
      "  test.loc[:,'mse'] = (test['margin'] - test['pred_margin'])**2\n"
     ]
    },
    {
     "name": "stdout",
     "output_type": "stream",
     "text": [
      "Num games:  180 MSE on sample:  166.16 MSE on all games:  186.08\n",
      "190\n"
     ]
    },
    {
     "name": "stderr",
     "output_type": "stream",
     "text": [
      "/var/folders/_6/_8xn00vj0gz5g10qr8khtxz40000gn/T/ipykernel_10067/1731616626.py:19: SettingWithCopyWarning: \n",
      "A value is trying to be set on a copy of a slice from a DataFrame.\n",
      "Try using .loc[row_indexer,col_indexer] = value instead\n",
      "\n",
      "See the caveats in the documentation: https://pandas.pydata.org/pandas-docs/stable/user_guide/indexing.html#returning-a-view-versus-a-copy\n",
      "  test.loc[:,'pred_margin'] = y_pred\n",
      "/var/folders/_6/_8xn00vj0gz5g10qr8khtxz40000gn/T/ipykernel_10067/1731616626.py:20: SettingWithCopyWarning: \n",
      "A value is trying to be set on a copy of a slice from a DataFrame.\n",
      "Try using .loc[row_indexer,col_indexer] = value instead\n",
      "\n",
      "See the caveats in the documentation: https://pandas.pydata.org/pandas-docs/stable/user_guide/indexing.html#returning-a-view-versus-a-copy\n",
      "  test.loc[:,'mse'] = (test['margin'] - test['pred_margin'])**2\n"
     ]
    },
    {
     "name": "stdout",
     "output_type": "stream",
     "text": [
      "Num games:  190 MSE on sample:  180.17 MSE on all games:  185.82\n",
      "200\n"
     ]
    },
    {
     "name": "stderr",
     "output_type": "stream",
     "text": [
      "/var/folders/_6/_8xn00vj0gz5g10qr8khtxz40000gn/T/ipykernel_10067/1731616626.py:19: SettingWithCopyWarning: \n",
      "A value is trying to be set on a copy of a slice from a DataFrame.\n",
      "Try using .loc[row_indexer,col_indexer] = value instead\n",
      "\n",
      "See the caveats in the documentation: https://pandas.pydata.org/pandas-docs/stable/user_guide/indexing.html#returning-a-view-versus-a-copy\n",
      "  test.loc[:,'pred_margin'] = y_pred\n",
      "/var/folders/_6/_8xn00vj0gz5g10qr8khtxz40000gn/T/ipykernel_10067/1731616626.py:20: SettingWithCopyWarning: \n",
      "A value is trying to be set on a copy of a slice from a DataFrame.\n",
      "Try using .loc[row_indexer,col_indexer] = value instead\n",
      "\n",
      "See the caveats in the documentation: https://pandas.pydata.org/pandas-docs/stable/user_guide/indexing.html#returning-a-view-versus-a-copy\n",
      "  test.loc[:,'mse'] = (test['margin'] - test['pred_margin'])**2\n"
     ]
    },
    {
     "name": "stdout",
     "output_type": "stream",
     "text": [
      "Num games:  200 MSE on sample:  201.91 MSE on all games:  186.71\n",
      "210\n"
     ]
    },
    {
     "name": "stderr",
     "output_type": "stream",
     "text": [
      "/var/folders/_6/_8xn00vj0gz5g10qr8khtxz40000gn/T/ipykernel_10067/1731616626.py:19: SettingWithCopyWarning: \n",
      "A value is trying to be set on a copy of a slice from a DataFrame.\n",
      "Try using .loc[row_indexer,col_indexer] = value instead\n",
      "\n",
      "See the caveats in the documentation: https://pandas.pydata.org/pandas-docs/stable/user_guide/indexing.html#returning-a-view-versus-a-copy\n",
      "  test.loc[:,'pred_margin'] = y_pred\n",
      "/var/folders/_6/_8xn00vj0gz5g10qr8khtxz40000gn/T/ipykernel_10067/1731616626.py:20: SettingWithCopyWarning: \n",
      "A value is trying to be set on a copy of a slice from a DataFrame.\n",
      "Try using .loc[row_indexer,col_indexer] = value instead\n",
      "\n",
      "See the caveats in the documentation: https://pandas.pydata.org/pandas-docs/stable/user_guide/indexing.html#returning-a-view-versus-a-copy\n",
      "  test.loc[:,'mse'] = (test['margin'] - test['pred_margin'])**2\n"
     ]
    },
    {
     "name": "stdout",
     "output_type": "stream",
     "text": [
      "Num games:  210 MSE on sample:  176.66 MSE on all games:  186.24\n",
      "220\n"
     ]
    },
    {
     "name": "stderr",
     "output_type": "stream",
     "text": [
      "/var/folders/_6/_8xn00vj0gz5g10qr8khtxz40000gn/T/ipykernel_10067/1731616626.py:19: SettingWithCopyWarning: \n",
      "A value is trying to be set on a copy of a slice from a DataFrame.\n",
      "Try using .loc[row_indexer,col_indexer] = value instead\n",
      "\n",
      "See the caveats in the documentation: https://pandas.pydata.org/pandas-docs/stable/user_guide/indexing.html#returning-a-view-versus-a-copy\n",
      "  test.loc[:,'pred_margin'] = y_pred\n",
      "/var/folders/_6/_8xn00vj0gz5g10qr8khtxz40000gn/T/ipykernel_10067/1731616626.py:20: SettingWithCopyWarning: \n",
      "A value is trying to be set on a copy of a slice from a DataFrame.\n",
      "Try using .loc[row_indexer,col_indexer] = value instead\n",
      "\n",
      "See the caveats in the documentation: https://pandas.pydata.org/pandas-docs/stable/user_guide/indexing.html#returning-a-view-versus-a-copy\n",
      "  test.loc[:,'mse'] = (test['margin'] - test['pred_margin'])**2\n"
     ]
    },
    {
     "name": "stdout",
     "output_type": "stream",
     "text": [
      "Num games:  220 MSE on sample:  157.54 MSE on all games:  184.76\n",
      "230\n"
     ]
    },
    {
     "name": "stderr",
     "output_type": "stream",
     "text": [
      "/var/folders/_6/_8xn00vj0gz5g10qr8khtxz40000gn/T/ipykernel_10067/1731616626.py:19: SettingWithCopyWarning: \n",
      "A value is trying to be set on a copy of a slice from a DataFrame.\n",
      "Try using .loc[row_indexer,col_indexer] = value instead\n",
      "\n",
      "See the caveats in the documentation: https://pandas.pydata.org/pandas-docs/stable/user_guide/indexing.html#returning-a-view-versus-a-copy\n",
      "  test.loc[:,'pred_margin'] = y_pred\n",
      "/var/folders/_6/_8xn00vj0gz5g10qr8khtxz40000gn/T/ipykernel_10067/1731616626.py:20: SettingWithCopyWarning: \n",
      "A value is trying to be set on a copy of a slice from a DataFrame.\n",
      "Try using .loc[row_indexer,col_indexer] = value instead\n",
      "\n",
      "See the caveats in the documentation: https://pandas.pydata.org/pandas-docs/stable/user_guide/indexing.html#returning-a-view-versus-a-copy\n",
      "  test.loc[:,'mse'] = (test['margin'] - test['pred_margin'])**2\n"
     ]
    },
    {
     "name": "stdout",
     "output_type": "stream",
     "text": [
      "Num games:  230 MSE on sample:  146.21 MSE on all games:  183.27\n",
      "240\n"
     ]
    },
    {
     "name": "stderr",
     "output_type": "stream",
     "text": [
      "/var/folders/_6/_8xn00vj0gz5g10qr8khtxz40000gn/T/ipykernel_10067/1731616626.py:19: SettingWithCopyWarning: \n",
      "A value is trying to be set on a copy of a slice from a DataFrame.\n",
      "Try using .loc[row_indexer,col_indexer] = value instead\n",
      "\n",
      "See the caveats in the documentation: https://pandas.pydata.org/pandas-docs/stable/user_guide/indexing.html#returning-a-view-versus-a-copy\n",
      "  test.loc[:,'pred_margin'] = y_pred\n",
      "/var/folders/_6/_8xn00vj0gz5g10qr8khtxz40000gn/T/ipykernel_10067/1731616626.py:20: SettingWithCopyWarning: \n",
      "A value is trying to be set on a copy of a slice from a DataFrame.\n",
      "Try using .loc[row_indexer,col_indexer] = value instead\n",
      "\n",
      "See the caveats in the documentation: https://pandas.pydata.org/pandas-docs/stable/user_guide/indexing.html#returning-a-view-versus-a-copy\n",
      "  test.loc[:,'mse'] = (test['margin'] - test['pred_margin'])**2\n"
     ]
    },
    {
     "name": "stdout",
     "output_type": "stream",
     "text": [
      "Num games:  240 MSE on sample:  156.36 MSE on all games:  182.26\n",
      "250\n"
     ]
    },
    {
     "name": "stderr",
     "output_type": "stream",
     "text": [
      "/var/folders/_6/_8xn00vj0gz5g10qr8khtxz40000gn/T/ipykernel_10067/1731616626.py:19: SettingWithCopyWarning: \n",
      "A value is trying to be set on a copy of a slice from a DataFrame.\n",
      "Try using .loc[row_indexer,col_indexer] = value instead\n",
      "\n",
      "See the caveats in the documentation: https://pandas.pydata.org/pandas-docs/stable/user_guide/indexing.html#returning-a-view-versus-a-copy\n",
      "  test.loc[:,'pred_margin'] = y_pred\n",
      "/var/folders/_6/_8xn00vj0gz5g10qr8khtxz40000gn/T/ipykernel_10067/1731616626.py:20: SettingWithCopyWarning: \n",
      "A value is trying to be set on a copy of a slice from a DataFrame.\n",
      "Try using .loc[row_indexer,col_indexer] = value instead\n",
      "\n",
      "See the caveats in the documentation: https://pandas.pydata.org/pandas-docs/stable/user_guide/indexing.html#returning-a-view-versus-a-copy\n",
      "  test.loc[:,'mse'] = (test['margin'] - test['pred_margin'])**2\n"
     ]
    },
    {
     "name": "stdout",
     "output_type": "stream",
     "text": [
      "Num games:  250 MSE on sample:  167.88 MSE on all games:  181.56\n",
      "260\n"
     ]
    },
    {
     "name": "stderr",
     "output_type": "stream",
     "text": [
      "/var/folders/_6/_8xn00vj0gz5g10qr8khtxz40000gn/T/ipykernel_10067/1731616626.py:19: SettingWithCopyWarning: \n",
      "A value is trying to be set on a copy of a slice from a DataFrame.\n",
      "Try using .loc[row_indexer,col_indexer] = value instead\n",
      "\n",
      "See the caveats in the documentation: https://pandas.pydata.org/pandas-docs/stable/user_guide/indexing.html#returning-a-view-versus-a-copy\n",
      "  test.loc[:,'pred_margin'] = y_pred\n",
      "/var/folders/_6/_8xn00vj0gz5g10qr8khtxz40000gn/T/ipykernel_10067/1731616626.py:20: SettingWithCopyWarning: \n",
      "A value is trying to be set on a copy of a slice from a DataFrame.\n",
      "Try using .loc[row_indexer,col_indexer] = value instead\n",
      "\n",
      "See the caveats in the documentation: https://pandas.pydata.org/pandas-docs/stable/user_guide/indexing.html#returning-a-view-versus-a-copy\n",
      "  test.loc[:,'mse'] = (test['margin'] - test['pred_margin'])**2\n"
     ]
    },
    {
     "name": "stdout",
     "output_type": "stream",
     "text": [
      "Num games:  260 MSE on sample:  146.32 MSE on all games:  180.17\n",
      "270\n"
     ]
    },
    {
     "name": "stderr",
     "output_type": "stream",
     "text": [
      "/var/folders/_6/_8xn00vj0gz5g10qr8khtxz40000gn/T/ipykernel_10067/1731616626.py:19: SettingWithCopyWarning: \n",
      "A value is trying to be set on a copy of a slice from a DataFrame.\n",
      "Try using .loc[row_indexer,col_indexer] = value instead\n",
      "\n",
      "See the caveats in the documentation: https://pandas.pydata.org/pandas-docs/stable/user_guide/indexing.html#returning-a-view-versus-a-copy\n",
      "  test.loc[:,'pred_margin'] = y_pred\n",
      "/var/folders/_6/_8xn00vj0gz5g10qr8khtxz40000gn/T/ipykernel_10067/1731616626.py:20: SettingWithCopyWarning: \n",
      "A value is trying to be set on a copy of a slice from a DataFrame.\n",
      "Try using .loc[row_indexer,col_indexer] = value instead\n",
      "\n",
      "See the caveats in the documentation: https://pandas.pydata.org/pandas-docs/stable/user_guide/indexing.html#returning-a-view-versus-a-copy\n",
      "  test.loc[:,'mse'] = (test['margin'] - test['pred_margin'])**2\n"
     ]
    },
    {
     "name": "stdout",
     "output_type": "stream",
     "text": [
      "Num games:  270 MSE on sample:  213.06 MSE on all games:  181.32\n",
      "280\n"
     ]
    },
    {
     "name": "stderr",
     "output_type": "stream",
     "text": [
      "/var/folders/_6/_8xn00vj0gz5g10qr8khtxz40000gn/T/ipykernel_10067/1731616626.py:19: SettingWithCopyWarning: \n",
      "A value is trying to be set on a copy of a slice from a DataFrame.\n",
      "Try using .loc[row_indexer,col_indexer] = value instead\n",
      "\n",
      "See the caveats in the documentation: https://pandas.pydata.org/pandas-docs/stable/user_guide/indexing.html#returning-a-view-versus-a-copy\n",
      "  test.loc[:,'pred_margin'] = y_pred\n",
      "/var/folders/_6/_8xn00vj0gz5g10qr8khtxz40000gn/T/ipykernel_10067/1731616626.py:20: SettingWithCopyWarning: \n",
      "A value is trying to be set on a copy of a slice from a DataFrame.\n",
      "Try using .loc[row_indexer,col_indexer] = value instead\n",
      "\n",
      "See the caveats in the documentation: https://pandas.pydata.org/pandas-docs/stable/user_guide/indexing.html#returning-a-view-versus-a-copy\n",
      "  test.loc[:,'mse'] = (test['margin'] - test['pred_margin'])**2\n"
     ]
    },
    {
     "name": "stdout",
     "output_type": "stream",
     "text": [
      "Num games:  280 MSE on sample:  183.96 MSE on all games:  181.42\n",
      "290\n"
     ]
    },
    {
     "name": "stderr",
     "output_type": "stream",
     "text": [
      "/var/folders/_6/_8xn00vj0gz5g10qr8khtxz40000gn/T/ipykernel_10067/1731616626.py:19: SettingWithCopyWarning: \n",
      "A value is trying to be set on a copy of a slice from a DataFrame.\n",
      "Try using .loc[row_indexer,col_indexer] = value instead\n",
      "\n",
      "See the caveats in the documentation: https://pandas.pydata.org/pandas-docs/stable/user_guide/indexing.html#returning-a-view-versus-a-copy\n",
      "  test.loc[:,'pred_margin'] = y_pred\n",
      "/var/folders/_6/_8xn00vj0gz5g10qr8khtxz40000gn/T/ipykernel_10067/1731616626.py:20: SettingWithCopyWarning: \n",
      "A value is trying to be set on a copy of a slice from a DataFrame.\n",
      "Try using .loc[row_indexer,col_indexer] = value instead\n",
      "\n",
      "See the caveats in the documentation: https://pandas.pydata.org/pandas-docs/stable/user_guide/indexing.html#returning-a-view-versus-a-copy\n",
      "  test.loc[:,'mse'] = (test['margin'] - test['pred_margin'])**2\n"
     ]
    },
    {
     "name": "stdout",
     "output_type": "stream",
     "text": [
      "Num games:  290 MSE on sample:  178.53 MSE on all games:  181.33\n",
      "300\n"
     ]
    },
    {
     "name": "stderr",
     "output_type": "stream",
     "text": [
      "/var/folders/_6/_8xn00vj0gz5g10qr8khtxz40000gn/T/ipykernel_10067/1731616626.py:19: SettingWithCopyWarning: \n",
      "A value is trying to be set on a copy of a slice from a DataFrame.\n",
      "Try using .loc[row_indexer,col_indexer] = value instead\n",
      "\n",
      "See the caveats in the documentation: https://pandas.pydata.org/pandas-docs/stable/user_guide/indexing.html#returning-a-view-versus-a-copy\n",
      "  test.loc[:,'pred_margin'] = y_pred\n",
      "/var/folders/_6/_8xn00vj0gz5g10qr8khtxz40000gn/T/ipykernel_10067/1731616626.py:20: SettingWithCopyWarning: \n",
      "A value is trying to be set on a copy of a slice from a DataFrame.\n",
      "Try using .loc[row_indexer,col_indexer] = value instead\n",
      "\n",
      "See the caveats in the documentation: https://pandas.pydata.org/pandas-docs/stable/user_guide/indexing.html#returning-a-view-versus-a-copy\n",
      "  test.loc[:,'mse'] = (test['margin'] - test['pred_margin'])**2\n"
     ]
    },
    {
     "name": "stdout",
     "output_type": "stream",
     "text": [
      "Num games:  300 MSE on sample:  172.98 MSE on all games:  181.02\n",
      "310\n"
     ]
    },
    {
     "name": "stderr",
     "output_type": "stream",
     "text": [
      "/var/folders/_6/_8xn00vj0gz5g10qr8khtxz40000gn/T/ipykernel_10067/1731616626.py:19: SettingWithCopyWarning: \n",
      "A value is trying to be set on a copy of a slice from a DataFrame.\n",
      "Try using .loc[row_indexer,col_indexer] = value instead\n",
      "\n",
      "See the caveats in the documentation: https://pandas.pydata.org/pandas-docs/stable/user_guide/indexing.html#returning-a-view-versus-a-copy\n",
      "  test.loc[:,'pred_margin'] = y_pred\n",
      "/var/folders/_6/_8xn00vj0gz5g10qr8khtxz40000gn/T/ipykernel_10067/1731616626.py:20: SettingWithCopyWarning: \n",
      "A value is trying to be set on a copy of a slice from a DataFrame.\n",
      "Try using .loc[row_indexer,col_indexer] = value instead\n",
      "\n",
      "See the caveats in the documentation: https://pandas.pydata.org/pandas-docs/stable/user_guide/indexing.html#returning-a-view-versus-a-copy\n",
      "  test.loc[:,'mse'] = (test['margin'] - test['pred_margin'])**2\n"
     ]
    },
    {
     "name": "stdout",
     "output_type": "stream",
     "text": [
      "Num games:  310 MSE on sample:  197.77 MSE on all games:  181.66\n",
      "320\n"
     ]
    },
    {
     "name": "stderr",
     "output_type": "stream",
     "text": [
      "/var/folders/_6/_8xn00vj0gz5g10qr8khtxz40000gn/T/ipykernel_10067/1731616626.py:19: SettingWithCopyWarning: \n",
      "A value is trying to be set on a copy of a slice from a DataFrame.\n",
      "Try using .loc[row_indexer,col_indexer] = value instead\n",
      "\n",
      "See the caveats in the documentation: https://pandas.pydata.org/pandas-docs/stable/user_guide/indexing.html#returning-a-view-versus-a-copy\n",
      "  test.loc[:,'pred_margin'] = y_pred\n",
      "/var/folders/_6/_8xn00vj0gz5g10qr8khtxz40000gn/T/ipykernel_10067/1731616626.py:20: SettingWithCopyWarning: \n",
      "A value is trying to be set on a copy of a slice from a DataFrame.\n",
      "Try using .loc[row_indexer,col_indexer] = value instead\n",
      "\n",
      "See the caveats in the documentation: https://pandas.pydata.org/pandas-docs/stable/user_guide/indexing.html#returning-a-view-versus-a-copy\n",
      "  test.loc[:,'mse'] = (test['margin'] - test['pred_margin'])**2\n"
     ]
    },
    {
     "name": "stdout",
     "output_type": "stream",
     "text": [
      "Num games:  320 MSE on sample:  179.25 MSE on all games:  181.59\n",
      "330\n"
     ]
    },
    {
     "name": "stderr",
     "output_type": "stream",
     "text": [
      "/var/folders/_6/_8xn00vj0gz5g10qr8khtxz40000gn/T/ipykernel_10067/1731616626.py:19: SettingWithCopyWarning: \n",
      "A value is trying to be set on a copy of a slice from a DataFrame.\n",
      "Try using .loc[row_indexer,col_indexer] = value instead\n",
      "\n",
      "See the caveats in the documentation: https://pandas.pydata.org/pandas-docs/stable/user_guide/indexing.html#returning-a-view-versus-a-copy\n",
      "  test.loc[:,'pred_margin'] = y_pred\n",
      "/var/folders/_6/_8xn00vj0gz5g10qr8khtxz40000gn/T/ipykernel_10067/1731616626.py:20: SettingWithCopyWarning: \n",
      "A value is trying to be set on a copy of a slice from a DataFrame.\n",
      "Try using .loc[row_indexer,col_indexer] = value instead\n",
      "\n",
      "See the caveats in the documentation: https://pandas.pydata.org/pandas-docs/stable/user_guide/indexing.html#returning-a-view-versus-a-copy\n",
      "  test.loc[:,'mse'] = (test['margin'] - test['pred_margin'])**2\n"
     ]
    },
    {
     "name": "stdout",
     "output_type": "stream",
     "text": [
      "Num games:  330 MSE on sample:  207.05 MSE on all games:  182.23\n",
      "340\n"
     ]
    },
    {
     "name": "stderr",
     "output_type": "stream",
     "text": [
      "/var/folders/_6/_8xn00vj0gz5g10qr8khtxz40000gn/T/ipykernel_10067/1731616626.py:19: SettingWithCopyWarning: \n",
      "A value is trying to be set on a copy of a slice from a DataFrame.\n",
      "Try using .loc[row_indexer,col_indexer] = value instead\n",
      "\n",
      "See the caveats in the documentation: https://pandas.pydata.org/pandas-docs/stable/user_guide/indexing.html#returning-a-view-versus-a-copy\n",
      "  test.loc[:,'pred_margin'] = y_pred\n",
      "/var/folders/_6/_8xn00vj0gz5g10qr8khtxz40000gn/T/ipykernel_10067/1731616626.py:20: SettingWithCopyWarning: \n",
      "A value is trying to be set on a copy of a slice from a DataFrame.\n",
      "Try using .loc[row_indexer,col_indexer] = value instead\n",
      "\n",
      "See the caveats in the documentation: https://pandas.pydata.org/pandas-docs/stable/user_guide/indexing.html#returning-a-view-versus-a-copy\n",
      "  test.loc[:,'mse'] = (test['margin'] - test['pred_margin'])**2\n"
     ]
    },
    {
     "name": "stdout",
     "output_type": "stream",
     "text": [
      "Num games:  340 MSE on sample:  181.0 MSE on all games:  182.19\n",
      "350\n"
     ]
    },
    {
     "name": "stderr",
     "output_type": "stream",
     "text": [
      "/var/folders/_6/_8xn00vj0gz5g10qr8khtxz40000gn/T/ipykernel_10067/1731616626.py:19: SettingWithCopyWarning: \n",
      "A value is trying to be set on a copy of a slice from a DataFrame.\n",
      "Try using .loc[row_indexer,col_indexer] = value instead\n",
      "\n",
      "See the caveats in the documentation: https://pandas.pydata.org/pandas-docs/stable/user_guide/indexing.html#returning-a-view-versus-a-copy\n",
      "  test.loc[:,'pred_margin'] = y_pred\n",
      "/var/folders/_6/_8xn00vj0gz5g10qr8khtxz40000gn/T/ipykernel_10067/1731616626.py:20: SettingWithCopyWarning: \n",
      "A value is trying to be set on a copy of a slice from a DataFrame.\n",
      "Try using .loc[row_indexer,col_indexer] = value instead\n",
      "\n",
      "See the caveats in the documentation: https://pandas.pydata.org/pandas-docs/stable/user_guide/indexing.html#returning-a-view-versus-a-copy\n",
      "  test.loc[:,'mse'] = (test['margin'] - test['pred_margin'])**2\n"
     ]
    },
    {
     "name": "stdout",
     "output_type": "stream",
     "text": [
      "Num games:  350 MSE on sample:  160.6 MSE on all games:  181.49\n",
      "360\n"
     ]
    },
    {
     "name": "stderr",
     "output_type": "stream",
     "text": [
      "/var/folders/_6/_8xn00vj0gz5g10qr8khtxz40000gn/T/ipykernel_10067/1731616626.py:19: SettingWithCopyWarning: \n",
      "A value is trying to be set on a copy of a slice from a DataFrame.\n",
      "Try using .loc[row_indexer,col_indexer] = value instead\n",
      "\n",
      "See the caveats in the documentation: https://pandas.pydata.org/pandas-docs/stable/user_guide/indexing.html#returning-a-view-versus-a-copy\n",
      "  test.loc[:,'pred_margin'] = y_pred\n",
      "/var/folders/_6/_8xn00vj0gz5g10qr8khtxz40000gn/T/ipykernel_10067/1731616626.py:20: SettingWithCopyWarning: \n",
      "A value is trying to be set on a copy of a slice from a DataFrame.\n",
      "Try using .loc[row_indexer,col_indexer] = value instead\n",
      "\n",
      "See the caveats in the documentation: https://pandas.pydata.org/pandas-docs/stable/user_guide/indexing.html#returning-a-view-versus-a-copy\n",
      "  test.loc[:,'mse'] = (test['margin'] - test['pred_margin'])**2\n"
     ]
    },
    {
     "name": "stdout",
     "output_type": "stream",
     "text": [
      "Num games:  360 MSE on sample:  135.56 MSE on all games:  180.2\n",
      "370\n"
     ]
    },
    {
     "name": "stderr",
     "output_type": "stream",
     "text": [
      "/var/folders/_6/_8xn00vj0gz5g10qr8khtxz40000gn/T/ipykernel_10067/1731616626.py:19: SettingWithCopyWarning: \n",
      "A value is trying to be set on a copy of a slice from a DataFrame.\n",
      "Try using .loc[row_indexer,col_indexer] = value instead\n",
      "\n",
      "See the caveats in the documentation: https://pandas.pydata.org/pandas-docs/stable/user_guide/indexing.html#returning-a-view-versus-a-copy\n",
      "  test.loc[:,'pred_margin'] = y_pred\n",
      "/var/folders/_6/_8xn00vj0gz5g10qr8khtxz40000gn/T/ipykernel_10067/1731616626.py:20: SettingWithCopyWarning: \n",
      "A value is trying to be set on a copy of a slice from a DataFrame.\n",
      "Try using .loc[row_indexer,col_indexer] = value instead\n",
      "\n",
      "See the caveats in the documentation: https://pandas.pydata.org/pandas-docs/stable/user_guide/indexing.html#returning-a-view-versus-a-copy\n",
      "  test.loc[:,'mse'] = (test['margin'] - test['pred_margin'])**2\n"
     ]
    },
    {
     "name": "stdout",
     "output_type": "stream",
     "text": [
      "Num games:  370 MSE on sample:  150.06 MSE on all games:  179.39\n",
      "380\n"
     ]
    },
    {
     "name": "stderr",
     "output_type": "stream",
     "text": [
      "/var/folders/_6/_8xn00vj0gz5g10qr8khtxz40000gn/T/ipykernel_10067/1731616626.py:19: SettingWithCopyWarning: \n",
      "A value is trying to be set on a copy of a slice from a DataFrame.\n",
      "Try using .loc[row_indexer,col_indexer] = value instead\n",
      "\n",
      "See the caveats in the documentation: https://pandas.pydata.org/pandas-docs/stable/user_guide/indexing.html#returning-a-view-versus-a-copy\n",
      "  test.loc[:,'pred_margin'] = y_pred\n",
      "/var/folders/_6/_8xn00vj0gz5g10qr8khtxz40000gn/T/ipykernel_10067/1731616626.py:20: SettingWithCopyWarning: \n",
      "A value is trying to be set on a copy of a slice from a DataFrame.\n",
      "Try using .loc[row_indexer,col_indexer] = value instead\n",
      "\n",
      "See the caveats in the documentation: https://pandas.pydata.org/pandas-docs/stable/user_guide/indexing.html#returning-a-view-versus-a-copy\n",
      "  test.loc[:,'mse'] = (test['margin'] - test['pred_margin'])**2\n"
     ]
    },
    {
     "name": "stdout",
     "output_type": "stream",
     "text": [
      "Num games:  380 MSE on sample:  148.23 MSE on all games:  178.62\n",
      "390\n"
     ]
    },
    {
     "name": "stderr",
     "output_type": "stream",
     "text": [
      "/var/folders/_6/_8xn00vj0gz5g10qr8khtxz40000gn/T/ipykernel_10067/1731616626.py:19: SettingWithCopyWarning: \n",
      "A value is trying to be set on a copy of a slice from a DataFrame.\n",
      "Try using .loc[row_indexer,col_indexer] = value instead\n",
      "\n",
      "See the caveats in the documentation: https://pandas.pydata.org/pandas-docs/stable/user_guide/indexing.html#returning-a-view-versus-a-copy\n",
      "  test.loc[:,'pred_margin'] = y_pred\n",
      "/var/folders/_6/_8xn00vj0gz5g10qr8khtxz40000gn/T/ipykernel_10067/1731616626.py:20: SettingWithCopyWarning: \n",
      "A value is trying to be set on a copy of a slice from a DataFrame.\n",
      "Try using .loc[row_indexer,col_indexer] = value instead\n",
      "\n",
      "See the caveats in the documentation: https://pandas.pydata.org/pandas-docs/stable/user_guide/indexing.html#returning-a-view-versus-a-copy\n",
      "  test.loc[:,'mse'] = (test['margin'] - test['pred_margin'])**2\n"
     ]
    },
    {
     "name": "stdout",
     "output_type": "stream",
     "text": [
      "Num games:  390 MSE on sample:  150.66 MSE on all games:  177.92\n",
      "400\n"
     ]
    },
    {
     "name": "stderr",
     "output_type": "stream",
     "text": [
      "/var/folders/_6/_8xn00vj0gz5g10qr8khtxz40000gn/T/ipykernel_10067/1731616626.py:19: SettingWithCopyWarning: \n",
      "A value is trying to be set on a copy of a slice from a DataFrame.\n",
      "Try using .loc[row_indexer,col_indexer] = value instead\n",
      "\n",
      "See the caveats in the documentation: https://pandas.pydata.org/pandas-docs/stable/user_guide/indexing.html#returning-a-view-versus-a-copy\n",
      "  test.loc[:,'pred_margin'] = y_pred\n",
      "/var/folders/_6/_8xn00vj0gz5g10qr8khtxz40000gn/T/ipykernel_10067/1731616626.py:20: SettingWithCopyWarning: \n",
      "A value is trying to be set on a copy of a slice from a DataFrame.\n",
      "Try using .loc[row_indexer,col_indexer] = value instead\n",
      "\n",
      "See the caveats in the documentation: https://pandas.pydata.org/pandas-docs/stable/user_guide/indexing.html#returning-a-view-versus-a-copy\n",
      "  test.loc[:,'mse'] = (test['margin'] - test['pred_margin'])**2\n"
     ]
    },
    {
     "name": "stdout",
     "output_type": "stream",
     "text": [
      "Num games:  400 MSE on sample:  171.46 MSE on all games:  177.75\n",
      "410\n"
     ]
    },
    {
     "name": "stderr",
     "output_type": "stream",
     "text": [
      "/var/folders/_6/_8xn00vj0gz5g10qr8khtxz40000gn/T/ipykernel_10067/1731616626.py:19: SettingWithCopyWarning: \n",
      "A value is trying to be set on a copy of a slice from a DataFrame.\n",
      "Try using .loc[row_indexer,col_indexer] = value instead\n",
      "\n",
      "See the caveats in the documentation: https://pandas.pydata.org/pandas-docs/stable/user_guide/indexing.html#returning-a-view-versus-a-copy\n",
      "  test.loc[:,'pred_margin'] = y_pred\n",
      "/var/folders/_6/_8xn00vj0gz5g10qr8khtxz40000gn/T/ipykernel_10067/1731616626.py:20: SettingWithCopyWarning: \n",
      "A value is trying to be set on a copy of a slice from a DataFrame.\n",
      "Try using .loc[row_indexer,col_indexer] = value instead\n",
      "\n",
      "See the caveats in the documentation: https://pandas.pydata.org/pandas-docs/stable/user_guide/indexing.html#returning-a-view-versus-a-copy\n",
      "  test.loc[:,'mse'] = (test['margin'] - test['pred_margin'])**2\n"
     ]
    },
    {
     "name": "stdout",
     "output_type": "stream",
     "text": [
      "Num games:  410 MSE on sample:  152.49 MSE on all games:  177.07\n",
      "420\n"
     ]
    },
    {
     "name": "stderr",
     "output_type": "stream",
     "text": [
      "/var/folders/_6/_8xn00vj0gz5g10qr8khtxz40000gn/T/ipykernel_10067/1731616626.py:19: SettingWithCopyWarning: \n",
      "A value is trying to be set on a copy of a slice from a DataFrame.\n",
      "Try using .loc[row_indexer,col_indexer] = value instead\n",
      "\n",
      "See the caveats in the documentation: https://pandas.pydata.org/pandas-docs/stable/user_guide/indexing.html#returning-a-view-versus-a-copy\n",
      "  test.loc[:,'pred_margin'] = y_pred\n",
      "/var/folders/_6/_8xn00vj0gz5g10qr8khtxz40000gn/T/ipykernel_10067/1731616626.py:20: SettingWithCopyWarning: \n",
      "A value is trying to be set on a copy of a slice from a DataFrame.\n",
      "Try using .loc[row_indexer,col_indexer] = value instead\n",
      "\n",
      "See the caveats in the documentation: https://pandas.pydata.org/pandas-docs/stable/user_guide/indexing.html#returning-a-view-versus-a-copy\n",
      "  test.loc[:,'mse'] = (test['margin'] - test['pred_margin'])**2\n"
     ]
    },
    {
     "name": "stdout",
     "output_type": "stream",
     "text": [
      "Num games:  420 MSE on sample:  144.8 MSE on all games:  176.34\n",
      "430\n"
     ]
    },
    {
     "name": "stderr",
     "output_type": "stream",
     "text": [
      "/var/folders/_6/_8xn00vj0gz5g10qr8khtxz40000gn/T/ipykernel_10067/1731616626.py:19: SettingWithCopyWarning: \n",
      "A value is trying to be set on a copy of a slice from a DataFrame.\n",
      "Try using .loc[row_indexer,col_indexer] = value instead\n",
      "\n",
      "See the caveats in the documentation: https://pandas.pydata.org/pandas-docs/stable/user_guide/indexing.html#returning-a-view-versus-a-copy\n",
      "  test.loc[:,'pred_margin'] = y_pred\n",
      "/var/folders/_6/_8xn00vj0gz5g10qr8khtxz40000gn/T/ipykernel_10067/1731616626.py:20: SettingWithCopyWarning: \n",
      "A value is trying to be set on a copy of a slice from a DataFrame.\n",
      "Try using .loc[row_indexer,col_indexer] = value instead\n",
      "\n",
      "See the caveats in the documentation: https://pandas.pydata.org/pandas-docs/stable/user_guide/indexing.html#returning-a-view-versus-a-copy\n",
      "  test.loc[:,'mse'] = (test['margin'] - test['pred_margin'])**2\n"
     ]
    },
    {
     "name": "stdout",
     "output_type": "stream",
     "text": [
      "Num games:  430 MSE on sample:  172.98 MSE on all games:  176.28\n",
      "440\n"
     ]
    },
    {
     "name": "stderr",
     "output_type": "stream",
     "text": [
      "/var/folders/_6/_8xn00vj0gz5g10qr8khtxz40000gn/T/ipykernel_10067/1731616626.py:19: SettingWithCopyWarning: \n",
      "A value is trying to be set on a copy of a slice from a DataFrame.\n",
      "Try using .loc[row_indexer,col_indexer] = value instead\n",
      "\n",
      "See the caveats in the documentation: https://pandas.pydata.org/pandas-docs/stable/user_guide/indexing.html#returning-a-view-versus-a-copy\n",
      "  test.loc[:,'pred_margin'] = y_pred\n",
      "/var/folders/_6/_8xn00vj0gz5g10qr8khtxz40000gn/T/ipykernel_10067/1731616626.py:20: SettingWithCopyWarning: \n",
      "A value is trying to be set on a copy of a slice from a DataFrame.\n",
      "Try using .loc[row_indexer,col_indexer] = value instead\n",
      "\n",
      "See the caveats in the documentation: https://pandas.pydata.org/pandas-docs/stable/user_guide/indexing.html#returning-a-view-versus-a-copy\n",
      "  test.loc[:,'mse'] = (test['margin'] - test['pred_margin'])**2\n"
     ]
    },
    {
     "name": "stdout",
     "output_type": "stream",
     "text": [
      "Num games:  440 MSE on sample:  156.21 MSE on all games:  175.86\n",
      "450\n"
     ]
    },
    {
     "name": "stderr",
     "output_type": "stream",
     "text": [
      "/var/folders/_6/_8xn00vj0gz5g10qr8khtxz40000gn/T/ipykernel_10067/1731616626.py:19: SettingWithCopyWarning: \n",
      "A value is trying to be set on a copy of a slice from a DataFrame.\n",
      "Try using .loc[row_indexer,col_indexer] = value instead\n",
      "\n",
      "See the caveats in the documentation: https://pandas.pydata.org/pandas-docs/stable/user_guide/indexing.html#returning-a-view-versus-a-copy\n",
      "  test.loc[:,'pred_margin'] = y_pred\n",
      "/var/folders/_6/_8xn00vj0gz5g10qr8khtxz40000gn/T/ipykernel_10067/1731616626.py:20: SettingWithCopyWarning: \n",
      "A value is trying to be set on a copy of a slice from a DataFrame.\n",
      "Try using .loc[row_indexer,col_indexer] = value instead\n",
      "\n",
      "See the caveats in the documentation: https://pandas.pydata.org/pandas-docs/stable/user_guide/indexing.html#returning-a-view-versus-a-copy\n",
      "  test.loc[:,'mse'] = (test['margin'] - test['pred_margin'])**2\n"
     ]
    },
    {
     "name": "stdout",
     "output_type": "stream",
     "text": [
      "Num games:  450 MSE on sample:  149.17 MSE on all games:  175.12\n",
      "460\n"
     ]
    },
    {
     "name": "stderr",
     "output_type": "stream",
     "text": [
      "/var/folders/_6/_8xn00vj0gz5g10qr8khtxz40000gn/T/ipykernel_10067/1731616626.py:19: SettingWithCopyWarning: \n",
      "A value is trying to be set on a copy of a slice from a DataFrame.\n",
      "Try using .loc[row_indexer,col_indexer] = value instead\n",
      "\n",
      "See the caveats in the documentation: https://pandas.pydata.org/pandas-docs/stable/user_guide/indexing.html#returning-a-view-versus-a-copy\n",
      "  test.loc[:,'pred_margin'] = y_pred\n",
      "/var/folders/_6/_8xn00vj0gz5g10qr8khtxz40000gn/T/ipykernel_10067/1731616626.py:20: SettingWithCopyWarning: \n",
      "A value is trying to be set on a copy of a slice from a DataFrame.\n",
      "Try using .loc[row_indexer,col_indexer] = value instead\n",
      "\n",
      "See the caveats in the documentation: https://pandas.pydata.org/pandas-docs/stable/user_guide/indexing.html#returning-a-view-versus-a-copy\n",
      "  test.loc[:,'mse'] = (test['margin'] - test['pred_margin'])**2\n"
     ]
    },
    {
     "name": "stdout",
     "output_type": "stream",
     "text": [
      "Num games:  460 MSE on sample:  171.36 MSE on all games:  175.05\n",
      "470\n"
     ]
    },
    {
     "name": "stderr",
     "output_type": "stream",
     "text": [
      "/var/folders/_6/_8xn00vj0gz5g10qr8khtxz40000gn/T/ipykernel_10067/1731616626.py:19: SettingWithCopyWarning: \n",
      "A value is trying to be set on a copy of a slice from a DataFrame.\n",
      "Try using .loc[row_indexer,col_indexer] = value instead\n",
      "\n",
      "See the caveats in the documentation: https://pandas.pydata.org/pandas-docs/stable/user_guide/indexing.html#returning-a-view-versus-a-copy\n",
      "  test.loc[:,'pred_margin'] = y_pred\n",
      "/var/folders/_6/_8xn00vj0gz5g10qr8khtxz40000gn/T/ipykernel_10067/1731616626.py:20: SettingWithCopyWarning: \n",
      "A value is trying to be set on a copy of a slice from a DataFrame.\n",
      "Try using .loc[row_indexer,col_indexer] = value instead\n",
      "\n",
      "See the caveats in the documentation: https://pandas.pydata.org/pandas-docs/stable/user_guide/indexing.html#returning-a-view-versus-a-copy\n",
      "  test.loc[:,'mse'] = (test['margin'] - test['pred_margin'])**2\n"
     ]
    },
    {
     "name": "stdout",
     "output_type": "stream",
     "text": [
      "Num games:  470 MSE on sample:  167.68 MSE on all games:  174.88\n",
      "480\n"
     ]
    },
    {
     "name": "stderr",
     "output_type": "stream",
     "text": [
      "/var/folders/_6/_8xn00vj0gz5g10qr8khtxz40000gn/T/ipykernel_10067/1731616626.py:19: SettingWithCopyWarning: \n",
      "A value is trying to be set on a copy of a slice from a DataFrame.\n",
      "Try using .loc[row_indexer,col_indexer] = value instead\n",
      "\n",
      "See the caveats in the documentation: https://pandas.pydata.org/pandas-docs/stable/user_guide/indexing.html#returning-a-view-versus-a-copy\n",
      "  test.loc[:,'pred_margin'] = y_pred\n",
      "/var/folders/_6/_8xn00vj0gz5g10qr8khtxz40000gn/T/ipykernel_10067/1731616626.py:20: SettingWithCopyWarning: \n",
      "A value is trying to be set on a copy of a slice from a DataFrame.\n",
      "Try using .loc[row_indexer,col_indexer] = value instead\n",
      "\n",
      "See the caveats in the documentation: https://pandas.pydata.org/pandas-docs/stable/user_guide/indexing.html#returning-a-view-versus-a-copy\n",
      "  test.loc[:,'mse'] = (test['margin'] - test['pred_margin'])**2\n"
     ]
    },
    {
     "name": "stdout",
     "output_type": "stream",
     "text": [
      "Num games:  480 MSE on sample:  172.86 MSE on all games:  174.84\n",
      "490\n"
     ]
    },
    {
     "name": "stderr",
     "output_type": "stream",
     "text": [
      "/var/folders/_6/_8xn00vj0gz5g10qr8khtxz40000gn/T/ipykernel_10067/1731616626.py:19: SettingWithCopyWarning: \n",
      "A value is trying to be set on a copy of a slice from a DataFrame.\n",
      "Try using .loc[row_indexer,col_indexer] = value instead\n",
      "\n",
      "See the caveats in the documentation: https://pandas.pydata.org/pandas-docs/stable/user_guide/indexing.html#returning-a-view-versus-a-copy\n",
      "  test.loc[:,'pred_margin'] = y_pred\n",
      "/var/folders/_6/_8xn00vj0gz5g10qr8khtxz40000gn/T/ipykernel_10067/1731616626.py:20: SettingWithCopyWarning: \n",
      "A value is trying to be set on a copy of a slice from a DataFrame.\n",
      "Try using .loc[row_indexer,col_indexer] = value instead\n",
      "\n",
      "See the caveats in the documentation: https://pandas.pydata.org/pandas-docs/stable/user_guide/indexing.html#returning-a-view-versus-a-copy\n",
      "  test.loc[:,'mse'] = (test['margin'] - test['pred_margin'])**2\n"
     ]
    },
    {
     "name": "stdout",
     "output_type": "stream",
     "text": [
      "Num games:  490 MSE on sample:  228.22 MSE on all games:  175.88\n",
      "500\n"
     ]
    },
    {
     "name": "stderr",
     "output_type": "stream",
     "text": [
      "/var/folders/_6/_8xn00vj0gz5g10qr8khtxz40000gn/T/ipykernel_10067/1731616626.py:19: SettingWithCopyWarning: \n",
      "A value is trying to be set on a copy of a slice from a DataFrame.\n",
      "Try using .loc[row_indexer,col_indexer] = value instead\n",
      "\n",
      "See the caveats in the documentation: https://pandas.pydata.org/pandas-docs/stable/user_guide/indexing.html#returning-a-view-versus-a-copy\n",
      "  test.loc[:,'pred_margin'] = y_pred\n",
      "/var/folders/_6/_8xn00vj0gz5g10qr8khtxz40000gn/T/ipykernel_10067/1731616626.py:20: SettingWithCopyWarning: \n",
      "A value is trying to be set on a copy of a slice from a DataFrame.\n",
      "Try using .loc[row_indexer,col_indexer] = value instead\n",
      "\n",
      "See the caveats in the documentation: https://pandas.pydata.org/pandas-docs/stable/user_guide/indexing.html#returning-a-view-versus-a-copy\n",
      "  test.loc[:,'mse'] = (test['margin'] - test['pred_margin'])**2\n"
     ]
    },
    {
     "name": "stdout",
     "output_type": "stream",
     "text": [
      "Num games:  500 MSE on sample:  168.1 MSE on all games:  175.71\n",
      "510\n"
     ]
    },
    {
     "name": "stderr",
     "output_type": "stream",
     "text": [
      "/var/folders/_6/_8xn00vj0gz5g10qr8khtxz40000gn/T/ipykernel_10067/1731616626.py:19: SettingWithCopyWarning: \n",
      "A value is trying to be set on a copy of a slice from a DataFrame.\n",
      "Try using .loc[row_indexer,col_indexer] = value instead\n",
      "\n",
      "See the caveats in the documentation: https://pandas.pydata.org/pandas-docs/stable/user_guide/indexing.html#returning-a-view-versus-a-copy\n",
      "  test.loc[:,'pred_margin'] = y_pred\n",
      "/var/folders/_6/_8xn00vj0gz5g10qr8khtxz40000gn/T/ipykernel_10067/1731616626.py:20: SettingWithCopyWarning: \n",
      "A value is trying to be set on a copy of a slice from a DataFrame.\n",
      "Try using .loc[row_indexer,col_indexer] = value instead\n",
      "\n",
      "See the caveats in the documentation: https://pandas.pydata.org/pandas-docs/stable/user_guide/indexing.html#returning-a-view-versus-a-copy\n",
      "  test.loc[:,'mse'] = (test['margin'] - test['pred_margin'])**2\n"
     ]
    },
    {
     "name": "stdout",
     "output_type": "stream",
     "text": [
      "Num games:  510 MSE on sample:  162.28 MSE on all games:  175.45\n",
      "520\n"
     ]
    },
    {
     "name": "stderr",
     "output_type": "stream",
     "text": [
      "/var/folders/_6/_8xn00vj0gz5g10qr8khtxz40000gn/T/ipykernel_10067/1731616626.py:19: SettingWithCopyWarning: \n",
      "A value is trying to be set on a copy of a slice from a DataFrame.\n",
      "Try using .loc[row_indexer,col_indexer] = value instead\n",
      "\n",
      "See the caveats in the documentation: https://pandas.pydata.org/pandas-docs/stable/user_guide/indexing.html#returning-a-view-versus-a-copy\n",
      "  test.loc[:,'pred_margin'] = y_pred\n",
      "/var/folders/_6/_8xn00vj0gz5g10qr8khtxz40000gn/T/ipykernel_10067/1731616626.py:20: SettingWithCopyWarning: \n",
      "A value is trying to be set on a copy of a slice from a DataFrame.\n",
      "Try using .loc[row_indexer,col_indexer] = value instead\n",
      "\n",
      "See the caveats in the documentation: https://pandas.pydata.org/pandas-docs/stable/user_guide/indexing.html#returning-a-view-versus-a-copy\n",
      "  test.loc[:,'mse'] = (test['margin'] - test['pred_margin'])**2\n"
     ]
    },
    {
     "name": "stdout",
     "output_type": "stream",
     "text": [
      "Num games:  520 MSE on sample:  154.64 MSE on all games:  174.97\n",
      "530\n"
     ]
    },
    {
     "name": "stderr",
     "output_type": "stream",
     "text": [
      "/var/folders/_6/_8xn00vj0gz5g10qr8khtxz40000gn/T/ipykernel_10067/1731616626.py:19: SettingWithCopyWarning: \n",
      "A value is trying to be set on a copy of a slice from a DataFrame.\n",
      "Try using .loc[row_indexer,col_indexer] = value instead\n",
      "\n",
      "See the caveats in the documentation: https://pandas.pydata.org/pandas-docs/stable/user_guide/indexing.html#returning-a-view-versus-a-copy\n",
      "  test.loc[:,'pred_margin'] = y_pred\n",
      "/var/folders/_6/_8xn00vj0gz5g10qr8khtxz40000gn/T/ipykernel_10067/1731616626.py:20: SettingWithCopyWarning: \n",
      "A value is trying to be set on a copy of a slice from a DataFrame.\n",
      "Try using .loc[row_indexer,col_indexer] = value instead\n",
      "\n",
      "See the caveats in the documentation: https://pandas.pydata.org/pandas-docs/stable/user_guide/indexing.html#returning-a-view-versus-a-copy\n",
      "  test.loc[:,'mse'] = (test['margin'] - test['pred_margin'])**2\n"
     ]
    },
    {
     "name": "stdout",
     "output_type": "stream",
     "text": [
      "Num games:  530 MSE on sample:  160.33 MSE on all games:  174.73\n",
      "540\n"
     ]
    },
    {
     "name": "stderr",
     "output_type": "stream",
     "text": [
      "/var/folders/_6/_8xn00vj0gz5g10qr8khtxz40000gn/T/ipykernel_10067/1731616626.py:19: SettingWithCopyWarning: \n",
      "A value is trying to be set on a copy of a slice from a DataFrame.\n",
      "Try using .loc[row_indexer,col_indexer] = value instead\n",
      "\n",
      "See the caveats in the documentation: https://pandas.pydata.org/pandas-docs/stable/user_guide/indexing.html#returning-a-view-versus-a-copy\n",
      "  test.loc[:,'pred_margin'] = y_pred\n",
      "/var/folders/_6/_8xn00vj0gz5g10qr8khtxz40000gn/T/ipykernel_10067/1731616626.py:20: SettingWithCopyWarning: \n",
      "A value is trying to be set on a copy of a slice from a DataFrame.\n",
      "Try using .loc[row_indexer,col_indexer] = value instead\n",
      "\n",
      "See the caveats in the documentation: https://pandas.pydata.org/pandas-docs/stable/user_guide/indexing.html#returning-a-view-versus-a-copy\n",
      "  test.loc[:,'mse'] = (test['margin'] - test['pred_margin'])**2\n"
     ]
    },
    {
     "name": "stdout",
     "output_type": "stream",
     "text": [
      "Num games:  540 MSE on sample:  132.88 MSE on all games:  174.03\n",
      "550\n"
     ]
    },
    {
     "name": "stderr",
     "output_type": "stream",
     "text": [
      "/var/folders/_6/_8xn00vj0gz5g10qr8khtxz40000gn/T/ipykernel_10067/1731616626.py:19: SettingWithCopyWarning: \n",
      "A value is trying to be set on a copy of a slice from a DataFrame.\n",
      "Try using .loc[row_indexer,col_indexer] = value instead\n",
      "\n",
      "See the caveats in the documentation: https://pandas.pydata.org/pandas-docs/stable/user_guide/indexing.html#returning-a-view-versus-a-copy\n",
      "  test.loc[:,'pred_margin'] = y_pred\n",
      "/var/folders/_6/_8xn00vj0gz5g10qr8khtxz40000gn/T/ipykernel_10067/1731616626.py:20: SettingWithCopyWarning: \n",
      "A value is trying to be set on a copy of a slice from a DataFrame.\n",
      "Try using .loc[row_indexer,col_indexer] = value instead\n",
      "\n",
      "See the caveats in the documentation: https://pandas.pydata.org/pandas-docs/stable/user_guide/indexing.html#returning-a-view-versus-a-copy\n",
      "  test.loc[:,'mse'] = (test['margin'] - test['pred_margin'])**2\n"
     ]
    },
    {
     "name": "stdout",
     "output_type": "stream",
     "text": [
      "Num games:  550 MSE on sample:  186.24 MSE on all games:  174.25\n",
      "560\n"
     ]
    },
    {
     "name": "stderr",
     "output_type": "stream",
     "text": [
      "/var/folders/_6/_8xn00vj0gz5g10qr8khtxz40000gn/T/ipykernel_10067/1731616626.py:19: SettingWithCopyWarning: \n",
      "A value is trying to be set on a copy of a slice from a DataFrame.\n",
      "Try using .loc[row_indexer,col_indexer] = value instead\n",
      "\n",
      "See the caveats in the documentation: https://pandas.pydata.org/pandas-docs/stable/user_guide/indexing.html#returning-a-view-versus-a-copy\n",
      "  test.loc[:,'pred_margin'] = y_pred\n",
      "/var/folders/_6/_8xn00vj0gz5g10qr8khtxz40000gn/T/ipykernel_10067/1731616626.py:20: SettingWithCopyWarning: \n",
      "A value is trying to be set on a copy of a slice from a DataFrame.\n",
      "Try using .loc[row_indexer,col_indexer] = value instead\n",
      "\n",
      "See the caveats in the documentation: https://pandas.pydata.org/pandas-docs/stable/user_guide/indexing.html#returning-a-view-versus-a-copy\n",
      "  test.loc[:,'mse'] = (test['margin'] - test['pred_margin'])**2\n"
     ]
    },
    {
     "name": "stdout",
     "output_type": "stream",
     "text": [
      "Num games:  560 MSE on sample:  144.4 MSE on all games:  173.63\n",
      "570\n"
     ]
    },
    {
     "name": "stderr",
     "output_type": "stream",
     "text": [
      "/var/folders/_6/_8xn00vj0gz5g10qr8khtxz40000gn/T/ipykernel_10067/1731616626.py:19: SettingWithCopyWarning: \n",
      "A value is trying to be set on a copy of a slice from a DataFrame.\n",
      "Try using .loc[row_indexer,col_indexer] = value instead\n",
      "\n",
      "See the caveats in the documentation: https://pandas.pydata.org/pandas-docs/stable/user_guide/indexing.html#returning-a-view-versus-a-copy\n",
      "  test.loc[:,'pred_margin'] = y_pred\n",
      "/var/folders/_6/_8xn00vj0gz5g10qr8khtxz40000gn/T/ipykernel_10067/1731616626.py:20: SettingWithCopyWarning: \n",
      "A value is trying to be set on a copy of a slice from a DataFrame.\n",
      "Try using .loc[row_indexer,col_indexer] = value instead\n",
      "\n",
      "See the caveats in the documentation: https://pandas.pydata.org/pandas-docs/stable/user_guide/indexing.html#returning-a-view-versus-a-copy\n",
      "  test.loc[:,'mse'] = (test['margin'] - test['pred_margin'])**2\n"
     ]
    },
    {
     "name": "stdout",
     "output_type": "stream",
     "text": [
      "Num games:  570 MSE on sample:  189.42 MSE on all games:  173.9\n",
      "580\n"
     ]
    },
    {
     "name": "stderr",
     "output_type": "stream",
     "text": [
      "/var/folders/_6/_8xn00vj0gz5g10qr8khtxz40000gn/T/ipykernel_10067/1731616626.py:19: SettingWithCopyWarning: \n",
      "A value is trying to be set on a copy of a slice from a DataFrame.\n",
      "Try using .loc[row_indexer,col_indexer] = value instead\n",
      "\n",
      "See the caveats in the documentation: https://pandas.pydata.org/pandas-docs/stable/user_guide/indexing.html#returning-a-view-versus-a-copy\n",
      "  test.loc[:,'pred_margin'] = y_pred\n",
      "/var/folders/_6/_8xn00vj0gz5g10qr8khtxz40000gn/T/ipykernel_10067/1731616626.py:20: SettingWithCopyWarning: \n",
      "A value is trying to be set on a copy of a slice from a DataFrame.\n",
      "Try using .loc[row_indexer,col_indexer] = value instead\n",
      "\n",
      "See the caveats in the documentation: https://pandas.pydata.org/pandas-docs/stable/user_guide/indexing.html#returning-a-view-versus-a-copy\n",
      "  test.loc[:,'mse'] = (test['margin'] - test['pred_margin'])**2\n"
     ]
    },
    {
     "name": "stdout",
     "output_type": "stream",
     "text": [
      "Num games:  580 MSE on sample:  145.37 MSE on all games:  173.53\n",
      "590\n"
     ]
    },
    {
     "name": "stderr",
     "output_type": "stream",
     "text": [
      "/var/folders/_6/_8xn00vj0gz5g10qr8khtxz40000gn/T/ipykernel_10067/1731616626.py:19: SettingWithCopyWarning: \n",
      "A value is trying to be set on a copy of a slice from a DataFrame.\n",
      "Try using .loc[row_indexer,col_indexer] = value instead\n",
      "\n",
      "See the caveats in the documentation: https://pandas.pydata.org/pandas-docs/stable/user_guide/indexing.html#returning-a-view-versus-a-copy\n",
      "  test.loc[:,'pred_margin'] = y_pred\n",
      "/var/folders/_6/_8xn00vj0gz5g10qr8khtxz40000gn/T/ipykernel_10067/1731616626.py:20: SettingWithCopyWarning: \n",
      "A value is trying to be set on a copy of a slice from a DataFrame.\n",
      "Try using .loc[row_indexer,col_indexer] = value instead\n",
      "\n",
      "See the caveats in the documentation: https://pandas.pydata.org/pandas-docs/stable/user_guide/indexing.html#returning-a-view-versus-a-copy\n",
      "  test.loc[:,'mse'] = (test['margin'] - test['pred_margin'])**2\n"
     ]
    },
    {
     "name": "stdout",
     "output_type": "stream",
     "text": [
      "Num games:  590 MSE on sample:  118.74 MSE on all games:  172.47\n",
      "600\n"
     ]
    },
    {
     "name": "stderr",
     "output_type": "stream",
     "text": [
      "/var/folders/_6/_8xn00vj0gz5g10qr8khtxz40000gn/T/ipykernel_10067/1731616626.py:19: SettingWithCopyWarning: \n",
      "A value is trying to be set on a copy of a slice from a DataFrame.\n",
      "Try using .loc[row_indexer,col_indexer] = value instead\n",
      "\n",
      "See the caveats in the documentation: https://pandas.pydata.org/pandas-docs/stable/user_guide/indexing.html#returning-a-view-versus-a-copy\n",
      "  test.loc[:,'pred_margin'] = y_pred\n",
      "/var/folders/_6/_8xn00vj0gz5g10qr8khtxz40000gn/T/ipykernel_10067/1731616626.py:20: SettingWithCopyWarning: \n",
      "A value is trying to be set on a copy of a slice from a DataFrame.\n",
      "Try using .loc[row_indexer,col_indexer] = value instead\n",
      "\n",
      "See the caveats in the documentation: https://pandas.pydata.org/pandas-docs/stable/user_guide/indexing.html#returning-a-view-versus-a-copy\n",
      "  test.loc[:,'mse'] = (test['margin'] - test['pred_margin'])**2\n"
     ]
    },
    {
     "name": "stdout",
     "output_type": "stream",
     "text": [
      "Num games:  600 MSE on sample:  179.47 MSE on all games:  172.58\n",
      "610\n"
     ]
    },
    {
     "name": "stderr",
     "output_type": "stream",
     "text": [
      "/var/folders/_6/_8xn00vj0gz5g10qr8khtxz40000gn/T/ipykernel_10067/1731616626.py:19: SettingWithCopyWarning: \n",
      "A value is trying to be set on a copy of a slice from a DataFrame.\n",
      "Try using .loc[row_indexer,col_indexer] = value instead\n",
      "\n",
      "See the caveats in the documentation: https://pandas.pydata.org/pandas-docs/stable/user_guide/indexing.html#returning-a-view-versus-a-copy\n",
      "  test.loc[:,'pred_margin'] = y_pred\n",
      "/var/folders/_6/_8xn00vj0gz5g10qr8khtxz40000gn/T/ipykernel_10067/1731616626.py:20: SettingWithCopyWarning: \n",
      "A value is trying to be set on a copy of a slice from a DataFrame.\n",
      "Try using .loc[row_indexer,col_indexer] = value instead\n",
      "\n",
      "See the caveats in the documentation: https://pandas.pydata.org/pandas-docs/stable/user_guide/indexing.html#returning-a-view-versus-a-copy\n",
      "  test.loc[:,'mse'] = (test['margin'] - test['pred_margin'])**2\n"
     ]
    },
    {
     "name": "stdout",
     "output_type": "stream",
     "text": [
      "Num games:  610 MSE on sample:  195.36 MSE on all games:  173.02\n",
      "620\n"
     ]
    },
    {
     "name": "stderr",
     "output_type": "stream",
     "text": [
      "/var/folders/_6/_8xn00vj0gz5g10qr8khtxz40000gn/T/ipykernel_10067/1731616626.py:19: SettingWithCopyWarning: \n",
      "A value is trying to be set on a copy of a slice from a DataFrame.\n",
      "Try using .loc[row_indexer,col_indexer] = value instead\n",
      "\n",
      "See the caveats in the documentation: https://pandas.pydata.org/pandas-docs/stable/user_guide/indexing.html#returning-a-view-versus-a-copy\n",
      "  test.loc[:,'pred_margin'] = y_pred\n",
      "/var/folders/_6/_8xn00vj0gz5g10qr8khtxz40000gn/T/ipykernel_10067/1731616626.py:20: SettingWithCopyWarning: \n",
      "A value is trying to be set on a copy of a slice from a DataFrame.\n",
      "Try using .loc[row_indexer,col_indexer] = value instead\n",
      "\n",
      "See the caveats in the documentation: https://pandas.pydata.org/pandas-docs/stable/user_guide/indexing.html#returning-a-view-versus-a-copy\n",
      "  test.loc[:,'mse'] = (test['margin'] - test['pred_margin'])**2\n"
     ]
    },
    {
     "name": "stdout",
     "output_type": "stream",
     "text": [
      "Num games:  620 MSE on sample:  180.29 MSE on all games:  173.14\n",
      "630\n"
     ]
    },
    {
     "name": "stderr",
     "output_type": "stream",
     "text": [
      "/var/folders/_6/_8xn00vj0gz5g10qr8khtxz40000gn/T/ipykernel_10067/1731616626.py:19: SettingWithCopyWarning: \n",
      "A value is trying to be set on a copy of a slice from a DataFrame.\n",
      "Try using .loc[row_indexer,col_indexer] = value instead\n",
      "\n",
      "See the caveats in the documentation: https://pandas.pydata.org/pandas-docs/stable/user_guide/indexing.html#returning-a-view-versus-a-copy\n",
      "  test.loc[:,'pred_margin'] = y_pred\n",
      "/var/folders/_6/_8xn00vj0gz5g10qr8khtxz40000gn/T/ipykernel_10067/1731616626.py:20: SettingWithCopyWarning: \n",
      "A value is trying to be set on a copy of a slice from a DataFrame.\n",
      "Try using .loc[row_indexer,col_indexer] = value instead\n",
      "\n",
      "See the caveats in the documentation: https://pandas.pydata.org/pandas-docs/stable/user_guide/indexing.html#returning-a-view-versus-a-copy\n",
      "  test.loc[:,'mse'] = (test['margin'] - test['pred_margin'])**2\n"
     ]
    },
    {
     "name": "stdout",
     "output_type": "stream",
     "text": [
      "Num games:  630 MSE on sample:  172.77 MSE on all games:  173.13\n",
      "640\n"
     ]
    },
    {
     "name": "stderr",
     "output_type": "stream",
     "text": [
      "/var/folders/_6/_8xn00vj0gz5g10qr8khtxz40000gn/T/ipykernel_10067/1731616626.py:19: SettingWithCopyWarning: \n",
      "A value is trying to be set on a copy of a slice from a DataFrame.\n",
      "Try using .loc[row_indexer,col_indexer] = value instead\n",
      "\n",
      "See the caveats in the documentation: https://pandas.pydata.org/pandas-docs/stable/user_guide/indexing.html#returning-a-view-versus-a-copy\n",
      "  test.loc[:,'pred_margin'] = y_pred\n",
      "/var/folders/_6/_8xn00vj0gz5g10qr8khtxz40000gn/T/ipykernel_10067/1731616626.py:20: SettingWithCopyWarning: \n",
      "A value is trying to be set on a copy of a slice from a DataFrame.\n",
      "Try using .loc[row_indexer,col_indexer] = value instead\n",
      "\n",
      "See the caveats in the documentation: https://pandas.pydata.org/pandas-docs/stable/user_guide/indexing.html#returning-a-view-versus-a-copy\n",
      "  test.loc[:,'mse'] = (test['margin'] - test['pred_margin'])**2\n"
     ]
    },
    {
     "name": "stdout",
     "output_type": "stream",
     "text": [
      "Num games:  640 MSE on sample:  164.47 MSE on all games:  173.01\n",
      "650\n"
     ]
    },
    {
     "name": "stderr",
     "output_type": "stream",
     "text": [
      "/var/folders/_6/_8xn00vj0gz5g10qr8khtxz40000gn/T/ipykernel_10067/1731616626.py:19: SettingWithCopyWarning: \n",
      "A value is trying to be set on a copy of a slice from a DataFrame.\n",
      "Try using .loc[row_indexer,col_indexer] = value instead\n",
      "\n",
      "See the caveats in the documentation: https://pandas.pydata.org/pandas-docs/stable/user_guide/indexing.html#returning-a-view-versus-a-copy\n",
      "  test.loc[:,'pred_margin'] = y_pred\n",
      "/var/folders/_6/_8xn00vj0gz5g10qr8khtxz40000gn/T/ipykernel_10067/1731616626.py:20: SettingWithCopyWarning: \n",
      "A value is trying to be set on a copy of a slice from a DataFrame.\n",
      "Try using .loc[row_indexer,col_indexer] = value instead\n",
      "\n",
      "See the caveats in the documentation: https://pandas.pydata.org/pandas-docs/stable/user_guide/indexing.html#returning-a-view-versus-a-copy\n",
      "  test.loc[:,'mse'] = (test['margin'] - test['pred_margin'])**2\n"
     ]
    },
    {
     "name": "stdout",
     "output_type": "stream",
     "text": [
      "Num games:  650 MSE on sample:  162.8 MSE on all games:  172.84\n",
      "660\n"
     ]
    },
    {
     "name": "stderr",
     "output_type": "stream",
     "text": [
      "/var/folders/_6/_8xn00vj0gz5g10qr8khtxz40000gn/T/ipykernel_10067/1731616626.py:19: SettingWithCopyWarning: \n",
      "A value is trying to be set on a copy of a slice from a DataFrame.\n",
      "Try using .loc[row_indexer,col_indexer] = value instead\n",
      "\n",
      "See the caveats in the documentation: https://pandas.pydata.org/pandas-docs/stable/user_guide/indexing.html#returning-a-view-versus-a-copy\n",
      "  test.loc[:,'pred_margin'] = y_pred\n",
      "/var/folders/_6/_8xn00vj0gz5g10qr8khtxz40000gn/T/ipykernel_10067/1731616626.py:20: SettingWithCopyWarning: \n",
      "A value is trying to be set on a copy of a slice from a DataFrame.\n",
      "Try using .loc[row_indexer,col_indexer] = value instead\n",
      "\n",
      "See the caveats in the documentation: https://pandas.pydata.org/pandas-docs/stable/user_guide/indexing.html#returning-a-view-versus-a-copy\n",
      "  test.loc[:,'mse'] = (test['margin'] - test['pred_margin'])**2\n"
     ]
    },
    {
     "name": "stdout",
     "output_type": "stream",
     "text": [
      "Num games:  660 MSE on sample:  138.73 MSE on all games:  172.29\n",
      "670\n"
     ]
    },
    {
     "name": "stderr",
     "output_type": "stream",
     "text": [
      "/var/folders/_6/_8xn00vj0gz5g10qr8khtxz40000gn/T/ipykernel_10067/1731616626.py:19: SettingWithCopyWarning: \n",
      "A value is trying to be set on a copy of a slice from a DataFrame.\n",
      "Try using .loc[row_indexer,col_indexer] = value instead\n",
      "\n",
      "See the caveats in the documentation: https://pandas.pydata.org/pandas-docs/stable/user_guide/indexing.html#returning-a-view-versus-a-copy\n",
      "  test.loc[:,'pred_margin'] = y_pred\n",
      "/var/folders/_6/_8xn00vj0gz5g10qr8khtxz40000gn/T/ipykernel_10067/1731616626.py:20: SettingWithCopyWarning: \n",
      "A value is trying to be set on a copy of a slice from a DataFrame.\n",
      "Try using .loc[row_indexer,col_indexer] = value instead\n",
      "\n",
      "See the caveats in the documentation: https://pandas.pydata.org/pandas-docs/stable/user_guide/indexing.html#returning-a-view-versus-a-copy\n",
      "  test.loc[:,'mse'] = (test['margin'] - test['pred_margin'])**2\n"
     ]
    },
    {
     "name": "stdout",
     "output_type": "stream",
     "text": [
      "Num games:  670 MSE on sample:  148.62 MSE on all games:  171.94\n",
      "680\n"
     ]
    },
    {
     "name": "stderr",
     "output_type": "stream",
     "text": [
      "/var/folders/_6/_8xn00vj0gz5g10qr8khtxz40000gn/T/ipykernel_10067/1731616626.py:19: SettingWithCopyWarning: \n",
      "A value is trying to be set on a copy of a slice from a DataFrame.\n",
      "Try using .loc[row_indexer,col_indexer] = value instead\n",
      "\n",
      "See the caveats in the documentation: https://pandas.pydata.org/pandas-docs/stable/user_guide/indexing.html#returning-a-view-versus-a-copy\n",
      "  test.loc[:,'pred_margin'] = y_pred\n",
      "/var/folders/_6/_8xn00vj0gz5g10qr8khtxz40000gn/T/ipykernel_10067/1731616626.py:20: SettingWithCopyWarning: \n",
      "A value is trying to be set on a copy of a slice from a DataFrame.\n",
      "Try using .loc[row_indexer,col_indexer] = value instead\n",
      "\n",
      "See the caveats in the documentation: https://pandas.pydata.org/pandas-docs/stable/user_guide/indexing.html#returning-a-view-versus-a-copy\n",
      "  test.loc[:,'mse'] = (test['margin'] - test['pred_margin'])**2\n"
     ]
    },
    {
     "name": "stdout",
     "output_type": "stream",
     "text": [
      "Num games:  680 MSE on sample:  175.94 MSE on all games:  171.99\n",
      "690\n"
     ]
    },
    {
     "name": "stderr",
     "output_type": "stream",
     "text": [
      "/var/folders/_6/_8xn00vj0gz5g10qr8khtxz40000gn/T/ipykernel_10067/1731616626.py:19: SettingWithCopyWarning: \n",
      "A value is trying to be set on a copy of a slice from a DataFrame.\n",
      "Try using .loc[row_indexer,col_indexer] = value instead\n",
      "\n",
      "See the caveats in the documentation: https://pandas.pydata.org/pandas-docs/stable/user_guide/indexing.html#returning-a-view-versus-a-copy\n",
      "  test.loc[:,'pred_margin'] = y_pred\n",
      "/var/folders/_6/_8xn00vj0gz5g10qr8khtxz40000gn/T/ipykernel_10067/1731616626.py:20: SettingWithCopyWarning: \n",
      "A value is trying to be set on a copy of a slice from a DataFrame.\n",
      "Try using .loc[row_indexer,col_indexer] = value instead\n",
      "\n",
      "See the caveats in the documentation: https://pandas.pydata.org/pandas-docs/stable/user_guide/indexing.html#returning-a-view-versus-a-copy\n",
      "  test.loc[:,'mse'] = (test['margin'] - test['pred_margin'])**2\n"
     ]
    },
    {
     "name": "stdout",
     "output_type": "stream",
     "text": [
      "Num games:  690 MSE on sample:  145.74 MSE on all games:  171.57\n",
      "700\n"
     ]
    },
    {
     "name": "stderr",
     "output_type": "stream",
     "text": [
      "/var/folders/_6/_8xn00vj0gz5g10qr8khtxz40000gn/T/ipykernel_10067/1731616626.py:19: SettingWithCopyWarning: \n",
      "A value is trying to be set on a copy of a slice from a DataFrame.\n",
      "Try using .loc[row_indexer,col_indexer] = value instead\n",
      "\n",
      "See the caveats in the documentation: https://pandas.pydata.org/pandas-docs/stable/user_guide/indexing.html#returning-a-view-versus-a-copy\n",
      "  test.loc[:,'pred_margin'] = y_pred\n",
      "/var/folders/_6/_8xn00vj0gz5g10qr8khtxz40000gn/T/ipykernel_10067/1731616626.py:20: SettingWithCopyWarning: \n",
      "A value is trying to be set on a copy of a slice from a DataFrame.\n",
      "Try using .loc[row_indexer,col_indexer] = value instead\n",
      "\n",
      "See the caveats in the documentation: https://pandas.pydata.org/pandas-docs/stable/user_guide/indexing.html#returning-a-view-versus-a-copy\n",
      "  test.loc[:,'mse'] = (test['margin'] - test['pred_margin'])**2\n"
     ]
    },
    {
     "name": "stdout",
     "output_type": "stream",
     "text": [
      "Num games:  700 MSE on sample:  160.99 MSE on all games:  171.41\n",
      "710\n"
     ]
    },
    {
     "name": "stderr",
     "output_type": "stream",
     "text": [
      "/var/folders/_6/_8xn00vj0gz5g10qr8khtxz40000gn/T/ipykernel_10067/1731616626.py:19: SettingWithCopyWarning: \n",
      "A value is trying to be set on a copy of a slice from a DataFrame.\n",
      "Try using .loc[row_indexer,col_indexer] = value instead\n",
      "\n",
      "See the caveats in the documentation: https://pandas.pydata.org/pandas-docs/stable/user_guide/indexing.html#returning-a-view-versus-a-copy\n",
      "  test.loc[:,'pred_margin'] = y_pred\n",
      "/var/folders/_6/_8xn00vj0gz5g10qr8khtxz40000gn/T/ipykernel_10067/1731616626.py:20: SettingWithCopyWarning: \n",
      "A value is trying to be set on a copy of a slice from a DataFrame.\n",
      "Try using .loc[row_indexer,col_indexer] = value instead\n",
      "\n",
      "See the caveats in the documentation: https://pandas.pydata.org/pandas-docs/stable/user_guide/indexing.html#returning-a-view-versus-a-copy\n",
      "  test.loc[:,'mse'] = (test['margin'] - test['pred_margin'])**2\n"
     ]
    },
    {
     "name": "stdout",
     "output_type": "stream",
     "text": [
      "Num games:  710 MSE on sample:  169.17 MSE on all games:  171.38\n",
      "720\n"
     ]
    },
    {
     "name": "stderr",
     "output_type": "stream",
     "text": [
      "/var/folders/_6/_8xn00vj0gz5g10qr8khtxz40000gn/T/ipykernel_10067/1731616626.py:19: SettingWithCopyWarning: \n",
      "A value is trying to be set on a copy of a slice from a DataFrame.\n",
      "Try using .loc[row_indexer,col_indexer] = value instead\n",
      "\n",
      "See the caveats in the documentation: https://pandas.pydata.org/pandas-docs/stable/user_guide/indexing.html#returning-a-view-versus-a-copy\n",
      "  test.loc[:,'pred_margin'] = y_pred\n",
      "/var/folders/_6/_8xn00vj0gz5g10qr8khtxz40000gn/T/ipykernel_10067/1731616626.py:20: SettingWithCopyWarning: \n",
      "A value is trying to be set on a copy of a slice from a DataFrame.\n",
      "Try using .loc[row_indexer,col_indexer] = value instead\n",
      "\n",
      "See the caveats in the documentation: https://pandas.pydata.org/pandas-docs/stable/user_guide/indexing.html#returning-a-view-versus-a-copy\n",
      "  test.loc[:,'mse'] = (test['margin'] - test['pred_margin'])**2\n"
     ]
    },
    {
     "name": "stdout",
     "output_type": "stream",
     "text": [
      "Num games:  720 MSE on sample:  174.35 MSE on all games:  171.41\n",
      "730\n"
     ]
    },
    {
     "name": "stderr",
     "output_type": "stream",
     "text": [
      "/var/folders/_6/_8xn00vj0gz5g10qr8khtxz40000gn/T/ipykernel_10067/1731616626.py:19: SettingWithCopyWarning: \n",
      "A value is trying to be set on a copy of a slice from a DataFrame.\n",
      "Try using .loc[row_indexer,col_indexer] = value instead\n",
      "\n",
      "See the caveats in the documentation: https://pandas.pydata.org/pandas-docs/stable/user_guide/indexing.html#returning-a-view-versus-a-copy\n",
      "  test.loc[:,'pred_margin'] = y_pred\n",
      "/var/folders/_6/_8xn00vj0gz5g10qr8khtxz40000gn/T/ipykernel_10067/1731616626.py:20: SettingWithCopyWarning: \n",
      "A value is trying to be set on a copy of a slice from a DataFrame.\n",
      "Try using .loc[row_indexer,col_indexer] = value instead\n",
      "\n",
      "See the caveats in the documentation: https://pandas.pydata.org/pandas-docs/stable/user_guide/indexing.html#returning-a-view-versus-a-copy\n",
      "  test.loc[:,'mse'] = (test['margin'] - test['pred_margin'])**2\n"
     ]
    },
    {
     "name": "stdout",
     "output_type": "stream",
     "text": [
      "Num games:  730 MSE on sample:  145.75 MSE on all games:  171.08\n",
      "740\n"
     ]
    },
    {
     "name": "stderr",
     "output_type": "stream",
     "text": [
      "/var/folders/_6/_8xn00vj0gz5g10qr8khtxz40000gn/T/ipykernel_10067/1731616626.py:19: SettingWithCopyWarning: \n",
      "A value is trying to be set on a copy of a slice from a DataFrame.\n",
      "Try using .loc[row_indexer,col_indexer] = value instead\n",
      "\n",
      "See the caveats in the documentation: https://pandas.pydata.org/pandas-docs/stable/user_guide/indexing.html#returning-a-view-versus-a-copy\n",
      "  test.loc[:,'pred_margin'] = y_pred\n",
      "/var/folders/_6/_8xn00vj0gz5g10qr8khtxz40000gn/T/ipykernel_10067/1731616626.py:20: SettingWithCopyWarning: \n",
      "A value is trying to be set on a copy of a slice from a DataFrame.\n",
      "Try using .loc[row_indexer,col_indexer] = value instead\n",
      "\n",
      "See the caveats in the documentation: https://pandas.pydata.org/pandas-docs/stable/user_guide/indexing.html#returning-a-view-versus-a-copy\n",
      "  test.loc[:,'mse'] = (test['margin'] - test['pred_margin'])**2\n"
     ]
    },
    {
     "name": "stdout",
     "output_type": "stream",
     "text": [
      "Num games:  740 MSE on sample:  158.23 MSE on all games:  170.92\n",
      "750\n"
     ]
    },
    {
     "name": "stderr",
     "output_type": "stream",
     "text": [
      "/var/folders/_6/_8xn00vj0gz5g10qr8khtxz40000gn/T/ipykernel_10067/1731616626.py:19: SettingWithCopyWarning: \n",
      "A value is trying to be set on a copy of a slice from a DataFrame.\n",
      "Try using .loc[row_indexer,col_indexer] = value instead\n",
      "\n",
      "See the caveats in the documentation: https://pandas.pydata.org/pandas-docs/stable/user_guide/indexing.html#returning-a-view-versus-a-copy\n",
      "  test.loc[:,'pred_margin'] = y_pred\n",
      "/var/folders/_6/_8xn00vj0gz5g10qr8khtxz40000gn/T/ipykernel_10067/1731616626.py:20: SettingWithCopyWarning: \n",
      "A value is trying to be set on a copy of a slice from a DataFrame.\n",
      "Try using .loc[row_indexer,col_indexer] = value instead\n",
      "\n",
      "See the caveats in the documentation: https://pandas.pydata.org/pandas-docs/stable/user_guide/indexing.html#returning-a-view-versus-a-copy\n",
      "  test.loc[:,'mse'] = (test['margin'] - test['pred_margin'])**2\n"
     ]
    },
    {
     "name": "stdout",
     "output_type": "stream",
     "text": [
      "Num games:  750 MSE on sample:  194.37 MSE on all games:  171.24\n",
      "760\n"
     ]
    },
    {
     "name": "stderr",
     "output_type": "stream",
     "text": [
      "/var/folders/_6/_8xn00vj0gz5g10qr8khtxz40000gn/T/ipykernel_10067/1731616626.py:19: SettingWithCopyWarning: \n",
      "A value is trying to be set on a copy of a slice from a DataFrame.\n",
      "Try using .loc[row_indexer,col_indexer] = value instead\n",
      "\n",
      "See the caveats in the documentation: https://pandas.pydata.org/pandas-docs/stable/user_guide/indexing.html#returning-a-view-versus-a-copy\n",
      "  test.loc[:,'pred_margin'] = y_pred\n",
      "/var/folders/_6/_8xn00vj0gz5g10qr8khtxz40000gn/T/ipykernel_10067/1731616626.py:20: SettingWithCopyWarning: \n",
      "A value is trying to be set on a copy of a slice from a DataFrame.\n",
      "Try using .loc[row_indexer,col_indexer] = value instead\n",
      "\n",
      "See the caveats in the documentation: https://pandas.pydata.org/pandas-docs/stable/user_guide/indexing.html#returning-a-view-versus-a-copy\n",
      "  test.loc[:,'mse'] = (test['margin'] - test['pred_margin'])**2\n"
     ]
    },
    {
     "name": "stdout",
     "output_type": "stream",
     "text": [
      "Num games:  760 MSE on sample:  153.76 MSE on all games:  171.01\n",
      "770\n"
     ]
    },
    {
     "name": "stderr",
     "output_type": "stream",
     "text": [
      "/var/folders/_6/_8xn00vj0gz5g10qr8khtxz40000gn/T/ipykernel_10067/1731616626.py:19: SettingWithCopyWarning: \n",
      "A value is trying to be set on a copy of a slice from a DataFrame.\n",
      "Try using .loc[row_indexer,col_indexer] = value instead\n",
      "\n",
      "See the caveats in the documentation: https://pandas.pydata.org/pandas-docs/stable/user_guide/indexing.html#returning-a-view-versus-a-copy\n",
      "  test.loc[:,'pred_margin'] = y_pred\n",
      "/var/folders/_6/_8xn00vj0gz5g10qr8khtxz40000gn/T/ipykernel_10067/1731616626.py:20: SettingWithCopyWarning: \n",
      "A value is trying to be set on a copy of a slice from a DataFrame.\n",
      "Try using .loc[row_indexer,col_indexer] = value instead\n",
      "\n",
      "See the caveats in the documentation: https://pandas.pydata.org/pandas-docs/stable/user_guide/indexing.html#returning-a-view-versus-a-copy\n",
      "  test.loc[:,'mse'] = (test['margin'] - test['pred_margin'])**2\n"
     ]
    },
    {
     "name": "stdout",
     "output_type": "stream",
     "text": [
      "Num games:  770 MSE on sample:  151.6 MSE on all games:  170.8\n",
      "780\n"
     ]
    },
    {
     "name": "stderr",
     "output_type": "stream",
     "text": [
      "/var/folders/_6/_8xn00vj0gz5g10qr8khtxz40000gn/T/ipykernel_10067/1731616626.py:19: SettingWithCopyWarning: \n",
      "A value is trying to be set on a copy of a slice from a DataFrame.\n",
      "Try using .loc[row_indexer,col_indexer] = value instead\n",
      "\n",
      "See the caveats in the documentation: https://pandas.pydata.org/pandas-docs/stable/user_guide/indexing.html#returning-a-view-versus-a-copy\n",
      "  test.loc[:,'pred_margin'] = y_pred\n",
      "/var/folders/_6/_8xn00vj0gz5g10qr8khtxz40000gn/T/ipykernel_10067/1731616626.py:20: SettingWithCopyWarning: \n",
      "A value is trying to be set on a copy of a slice from a DataFrame.\n",
      "Try using .loc[row_indexer,col_indexer] = value instead\n",
      "\n",
      "See the caveats in the documentation: https://pandas.pydata.org/pandas-docs/stable/user_guide/indexing.html#returning-a-view-versus-a-copy\n",
      "  test.loc[:,'mse'] = (test['margin'] - test['pred_margin'])**2\n"
     ]
    },
    {
     "name": "stdout",
     "output_type": "stream",
     "text": [
      "Num games:  780 MSE on sample:  149.06 MSE on all games:  170.49\n",
      "790\n"
     ]
    },
    {
     "name": "stderr",
     "output_type": "stream",
     "text": [
      "/var/folders/_6/_8xn00vj0gz5g10qr8khtxz40000gn/T/ipykernel_10067/1731616626.py:19: SettingWithCopyWarning: \n",
      "A value is trying to be set on a copy of a slice from a DataFrame.\n",
      "Try using .loc[row_indexer,col_indexer] = value instead\n",
      "\n",
      "See the caveats in the documentation: https://pandas.pydata.org/pandas-docs/stable/user_guide/indexing.html#returning-a-view-versus-a-copy\n",
      "  test.loc[:,'pred_margin'] = y_pred\n",
      "/var/folders/_6/_8xn00vj0gz5g10qr8khtxz40000gn/T/ipykernel_10067/1731616626.py:20: SettingWithCopyWarning: \n",
      "A value is trying to be set on a copy of a slice from a DataFrame.\n",
      "Try using .loc[row_indexer,col_indexer] = value instead\n",
      "\n",
      "See the caveats in the documentation: https://pandas.pydata.org/pandas-docs/stable/user_guide/indexing.html#returning-a-view-versus-a-copy\n",
      "  test.loc[:,'mse'] = (test['margin'] - test['pred_margin'])**2\n"
     ]
    },
    {
     "name": "stdout",
     "output_type": "stream",
     "text": [
      "Num games:  790 MSE on sample:  169.59 MSE on all games:  170.48\n",
      "800\n"
     ]
    },
    {
     "name": "stderr",
     "output_type": "stream",
     "text": [
      "/var/folders/_6/_8xn00vj0gz5g10qr8khtxz40000gn/T/ipykernel_10067/1731616626.py:19: SettingWithCopyWarning: \n",
      "A value is trying to be set on a copy of a slice from a DataFrame.\n",
      "Try using .loc[row_indexer,col_indexer] = value instead\n",
      "\n",
      "See the caveats in the documentation: https://pandas.pydata.org/pandas-docs/stable/user_guide/indexing.html#returning-a-view-versus-a-copy\n",
      "  test.loc[:,'pred_margin'] = y_pred\n",
      "/var/folders/_6/_8xn00vj0gz5g10qr8khtxz40000gn/T/ipykernel_10067/1731616626.py:20: SettingWithCopyWarning: \n",
      "A value is trying to be set on a copy of a slice from a DataFrame.\n",
      "Try using .loc[row_indexer,col_indexer] = value instead\n",
      "\n",
      "See the caveats in the documentation: https://pandas.pydata.org/pandas-docs/stable/user_guide/indexing.html#returning-a-view-versus-a-copy\n",
      "  test.loc[:,'mse'] = (test['margin'] - test['pred_margin'])**2\n"
     ]
    },
    {
     "name": "stdout",
     "output_type": "stream",
     "text": [
      "Num games:  800 MSE on sample:  225.24 MSE on all games:  171.15\n",
      "810\n"
     ]
    },
    {
     "name": "stderr",
     "output_type": "stream",
     "text": [
      "/var/folders/_6/_8xn00vj0gz5g10qr8khtxz40000gn/T/ipykernel_10067/1731616626.py:19: SettingWithCopyWarning: \n",
      "A value is trying to be set on a copy of a slice from a DataFrame.\n",
      "Try using .loc[row_indexer,col_indexer] = value instead\n",
      "\n",
      "See the caveats in the documentation: https://pandas.pydata.org/pandas-docs/stable/user_guide/indexing.html#returning-a-view-versus-a-copy\n",
      "  test.loc[:,'pred_margin'] = y_pred\n",
      "/var/folders/_6/_8xn00vj0gz5g10qr8khtxz40000gn/T/ipykernel_10067/1731616626.py:20: SettingWithCopyWarning: \n",
      "A value is trying to be set on a copy of a slice from a DataFrame.\n",
      "Try using .loc[row_indexer,col_indexer] = value instead\n",
      "\n",
      "See the caveats in the documentation: https://pandas.pydata.org/pandas-docs/stable/user_guide/indexing.html#returning-a-view-versus-a-copy\n",
      "  test.loc[:,'mse'] = (test['margin'] - test['pred_margin'])**2\n"
     ]
    },
    {
     "name": "stdout",
     "output_type": "stream",
     "text": [
      "Num games:  810 MSE on sample:  155.49 MSE on all games:  170.98\n",
      "820\n"
     ]
    },
    {
     "name": "stderr",
     "output_type": "stream",
     "text": [
      "/var/folders/_6/_8xn00vj0gz5g10qr8khtxz40000gn/T/ipykernel_10067/1731616626.py:19: SettingWithCopyWarning: \n",
      "A value is trying to be set on a copy of a slice from a DataFrame.\n",
      "Try using .loc[row_indexer,col_indexer] = value instead\n",
      "\n",
      "See the caveats in the documentation: https://pandas.pydata.org/pandas-docs/stable/user_guide/indexing.html#returning-a-view-versus-a-copy\n",
      "  test.loc[:,'pred_margin'] = y_pred\n",
      "/var/folders/_6/_8xn00vj0gz5g10qr8khtxz40000gn/T/ipykernel_10067/1731616626.py:20: SettingWithCopyWarning: \n",
      "A value is trying to be set on a copy of a slice from a DataFrame.\n",
      "Try using .loc[row_indexer,col_indexer] = value instead\n",
      "\n",
      "See the caveats in the documentation: https://pandas.pydata.org/pandas-docs/stable/user_guide/indexing.html#returning-a-view-versus-a-copy\n",
      "  test.loc[:,'mse'] = (test['margin'] - test['pred_margin'])**2\n"
     ]
    },
    {
     "name": "stdout",
     "output_type": "stream",
     "text": [
      "Num games:  820 MSE on sample:  130.11 MSE on all games:  170.55\n",
      "830\n"
     ]
    },
    {
     "name": "stderr",
     "output_type": "stream",
     "text": [
      "/var/folders/_6/_8xn00vj0gz5g10qr8khtxz40000gn/T/ipykernel_10067/1731616626.py:19: SettingWithCopyWarning: \n",
      "A value is trying to be set on a copy of a slice from a DataFrame.\n",
      "Try using .loc[row_indexer,col_indexer] = value instead\n",
      "\n",
      "See the caveats in the documentation: https://pandas.pydata.org/pandas-docs/stable/user_guide/indexing.html#returning-a-view-versus-a-copy\n",
      "  test.loc[:,'pred_margin'] = y_pred\n",
      "/var/folders/_6/_8xn00vj0gz5g10qr8khtxz40000gn/T/ipykernel_10067/1731616626.py:20: SettingWithCopyWarning: \n",
      "A value is trying to be set on a copy of a slice from a DataFrame.\n",
      "Try using .loc[row_indexer,col_indexer] = value instead\n",
      "\n",
      "See the caveats in the documentation: https://pandas.pydata.org/pandas-docs/stable/user_guide/indexing.html#returning-a-view-versus-a-copy\n",
      "  test.loc[:,'mse'] = (test['margin'] - test['pred_margin'])**2\n"
     ]
    },
    {
     "name": "stdout",
     "output_type": "stream",
     "text": [
      "Num games:  830 MSE on sample:  153.55 MSE on all games:  170.33\n",
      "840\n"
     ]
    },
    {
     "name": "stderr",
     "output_type": "stream",
     "text": [
      "/var/folders/_6/_8xn00vj0gz5g10qr8khtxz40000gn/T/ipykernel_10067/1731616626.py:19: SettingWithCopyWarning: \n",
      "A value is trying to be set on a copy of a slice from a DataFrame.\n",
      "Try using .loc[row_indexer,col_indexer] = value instead\n",
      "\n",
      "See the caveats in the documentation: https://pandas.pydata.org/pandas-docs/stable/user_guide/indexing.html#returning-a-view-versus-a-copy\n",
      "  test.loc[:,'pred_margin'] = y_pred\n",
      "/var/folders/_6/_8xn00vj0gz5g10qr8khtxz40000gn/T/ipykernel_10067/1731616626.py:20: SettingWithCopyWarning: \n",
      "A value is trying to be set on a copy of a slice from a DataFrame.\n",
      "Try using .loc[row_indexer,col_indexer] = value instead\n",
      "\n",
      "See the caveats in the documentation: https://pandas.pydata.org/pandas-docs/stable/user_guide/indexing.html#returning-a-view-versus-a-copy\n",
      "  test.loc[:,'mse'] = (test['margin'] - test['pred_margin'])**2\n"
     ]
    },
    {
     "name": "stdout",
     "output_type": "stream",
     "text": [
      "Num games:  840 MSE on sample:  166.13 MSE on all games:  170.3\n",
      "850\n"
     ]
    },
    {
     "name": "stderr",
     "output_type": "stream",
     "text": [
      "/var/folders/_6/_8xn00vj0gz5g10qr8khtxz40000gn/T/ipykernel_10067/1731616626.py:19: SettingWithCopyWarning: \n",
      "A value is trying to be set on a copy of a slice from a DataFrame.\n",
      "Try using .loc[row_indexer,col_indexer] = value instead\n",
      "\n",
      "See the caveats in the documentation: https://pandas.pydata.org/pandas-docs/stable/user_guide/indexing.html#returning-a-view-versus-a-copy\n",
      "  test.loc[:,'pred_margin'] = y_pred\n",
      "/var/folders/_6/_8xn00vj0gz5g10qr8khtxz40000gn/T/ipykernel_10067/1731616626.py:20: SettingWithCopyWarning: \n",
      "A value is trying to be set on a copy of a slice from a DataFrame.\n",
      "Try using .loc[row_indexer,col_indexer] = value instead\n",
      "\n",
      "See the caveats in the documentation: https://pandas.pydata.org/pandas-docs/stable/user_guide/indexing.html#returning-a-view-versus-a-copy\n",
      "  test.loc[:,'mse'] = (test['margin'] - test['pred_margin'])**2\n"
     ]
    },
    {
     "name": "stdout",
     "output_type": "stream",
     "text": [
      "Num games:  850 MSE on sample:  178.25 MSE on all games:  170.39\n",
      "860\n"
     ]
    },
    {
     "name": "stderr",
     "output_type": "stream",
     "text": [
      "/var/folders/_6/_8xn00vj0gz5g10qr8khtxz40000gn/T/ipykernel_10067/1731616626.py:19: SettingWithCopyWarning: \n",
      "A value is trying to be set on a copy of a slice from a DataFrame.\n",
      "Try using .loc[row_indexer,col_indexer] = value instead\n",
      "\n",
      "See the caveats in the documentation: https://pandas.pydata.org/pandas-docs/stable/user_guide/indexing.html#returning-a-view-versus-a-copy\n",
      "  test.loc[:,'pred_margin'] = y_pred\n",
      "/var/folders/_6/_8xn00vj0gz5g10qr8khtxz40000gn/T/ipykernel_10067/1731616626.py:20: SettingWithCopyWarning: \n",
      "A value is trying to be set on a copy of a slice from a DataFrame.\n",
      "Try using .loc[row_indexer,col_indexer] = value instead\n",
      "\n",
      "See the caveats in the documentation: https://pandas.pydata.org/pandas-docs/stable/user_guide/indexing.html#returning-a-view-versus-a-copy\n",
      "  test.loc[:,'mse'] = (test['margin'] - test['pred_margin'])**2\n"
     ]
    },
    {
     "name": "stdout",
     "output_type": "stream",
     "text": [
      "Num games:  860 MSE on sample:  153.32 MSE on all games:  170.21\n",
      "870\n"
     ]
    },
    {
     "name": "stderr",
     "output_type": "stream",
     "text": [
      "/var/folders/_6/_8xn00vj0gz5g10qr8khtxz40000gn/T/ipykernel_10067/1731616626.py:19: SettingWithCopyWarning: \n",
      "A value is trying to be set on a copy of a slice from a DataFrame.\n",
      "Try using .loc[row_indexer,col_indexer] = value instead\n",
      "\n",
      "See the caveats in the documentation: https://pandas.pydata.org/pandas-docs/stable/user_guide/indexing.html#returning-a-view-versus-a-copy\n",
      "  test.loc[:,'pred_margin'] = y_pred\n",
      "/var/folders/_6/_8xn00vj0gz5g10qr8khtxz40000gn/T/ipykernel_10067/1731616626.py:20: SettingWithCopyWarning: \n",
      "A value is trying to be set on a copy of a slice from a DataFrame.\n",
      "Try using .loc[row_indexer,col_indexer] = value instead\n",
      "\n",
      "See the caveats in the documentation: https://pandas.pydata.org/pandas-docs/stable/user_guide/indexing.html#returning-a-view-versus-a-copy\n",
      "  test.loc[:,'mse'] = (test['margin'] - test['pred_margin'])**2\n"
     ]
    },
    {
     "name": "stdout",
     "output_type": "stream",
     "text": [
      "Num games:  870 MSE on sample:  166.65 MSE on all games:  170.18\n",
      "880\n"
     ]
    },
    {
     "name": "stderr",
     "output_type": "stream",
     "text": [
      "/var/folders/_6/_8xn00vj0gz5g10qr8khtxz40000gn/T/ipykernel_10067/1731616626.py:19: SettingWithCopyWarning: \n",
      "A value is trying to be set on a copy of a slice from a DataFrame.\n",
      "Try using .loc[row_indexer,col_indexer] = value instead\n",
      "\n",
      "See the caveats in the documentation: https://pandas.pydata.org/pandas-docs/stable/user_guide/indexing.html#returning-a-view-versus-a-copy\n",
      "  test.loc[:,'pred_margin'] = y_pred\n",
      "/var/folders/_6/_8xn00vj0gz5g10qr8khtxz40000gn/T/ipykernel_10067/1731616626.py:20: SettingWithCopyWarning: \n",
      "A value is trying to be set on a copy of a slice from a DataFrame.\n",
      "Try using .loc[row_indexer,col_indexer] = value instead\n",
      "\n",
      "See the caveats in the documentation: https://pandas.pydata.org/pandas-docs/stable/user_guide/indexing.html#returning-a-view-versus-a-copy\n",
      "  test.loc[:,'mse'] = (test['margin'] - test['pred_margin'])**2\n"
     ]
    },
    {
     "name": "stdout",
     "output_type": "stream",
     "text": [
      "Num games:  880 MSE on sample:  178.19 MSE on all games:  170.26\n",
      "890\n"
     ]
    },
    {
     "name": "stderr",
     "output_type": "stream",
     "text": [
      "/var/folders/_6/_8xn00vj0gz5g10qr8khtxz40000gn/T/ipykernel_10067/1731616626.py:19: SettingWithCopyWarning: \n",
      "A value is trying to be set on a copy of a slice from a DataFrame.\n",
      "Try using .loc[row_indexer,col_indexer] = value instead\n",
      "\n",
      "See the caveats in the documentation: https://pandas.pydata.org/pandas-docs/stable/user_guide/indexing.html#returning-a-view-versus-a-copy\n",
      "  test.loc[:,'pred_margin'] = y_pred\n",
      "/var/folders/_6/_8xn00vj0gz5g10qr8khtxz40000gn/T/ipykernel_10067/1731616626.py:20: SettingWithCopyWarning: \n",
      "A value is trying to be set on a copy of a slice from a DataFrame.\n",
      "Try using .loc[row_indexer,col_indexer] = value instead\n",
      "\n",
      "See the caveats in the documentation: https://pandas.pydata.org/pandas-docs/stable/user_guide/indexing.html#returning-a-view-versus-a-copy\n",
      "  test.loc[:,'mse'] = (test['margin'] - test['pred_margin'])**2\n"
     ]
    },
    {
     "name": "stdout",
     "output_type": "stream",
     "text": [
      "Num games:  890 MSE on sample:  169.07 MSE on all games:  170.24\n",
      "900\n"
     ]
    },
    {
     "name": "stderr",
     "output_type": "stream",
     "text": [
      "/var/folders/_6/_8xn00vj0gz5g10qr8khtxz40000gn/T/ipykernel_10067/1731616626.py:19: SettingWithCopyWarning: \n",
      "A value is trying to be set on a copy of a slice from a DataFrame.\n",
      "Try using .loc[row_indexer,col_indexer] = value instead\n",
      "\n",
      "See the caveats in the documentation: https://pandas.pydata.org/pandas-docs/stable/user_guide/indexing.html#returning-a-view-versus-a-copy\n",
      "  test.loc[:,'pred_margin'] = y_pred\n",
      "/var/folders/_6/_8xn00vj0gz5g10qr8khtxz40000gn/T/ipykernel_10067/1731616626.py:20: SettingWithCopyWarning: \n",
      "A value is trying to be set on a copy of a slice from a DataFrame.\n",
      "Try using .loc[row_indexer,col_indexer] = value instead\n",
      "\n",
      "See the caveats in the documentation: https://pandas.pydata.org/pandas-docs/stable/user_guide/indexing.html#returning-a-view-versus-a-copy\n",
      "  test.loc[:,'mse'] = (test['margin'] - test['pred_margin'])**2\n"
     ]
    },
    {
     "name": "stdout",
     "output_type": "stream",
     "text": [
      "Num games:  900 MSE on sample:  159.7 MSE on all games:  170.15\n",
      "910\n"
     ]
    },
    {
     "name": "stderr",
     "output_type": "stream",
     "text": [
      "/var/folders/_6/_8xn00vj0gz5g10qr8khtxz40000gn/T/ipykernel_10067/1731616626.py:19: SettingWithCopyWarning: \n",
      "A value is trying to be set on a copy of a slice from a DataFrame.\n",
      "Try using .loc[row_indexer,col_indexer] = value instead\n",
      "\n",
      "See the caveats in the documentation: https://pandas.pydata.org/pandas-docs/stable/user_guide/indexing.html#returning-a-view-versus-a-copy\n",
      "  test.loc[:,'pred_margin'] = y_pred\n",
      "/var/folders/_6/_8xn00vj0gz5g10qr8khtxz40000gn/T/ipykernel_10067/1731616626.py:20: SettingWithCopyWarning: \n",
      "A value is trying to be set on a copy of a slice from a DataFrame.\n",
      "Try using .loc[row_indexer,col_indexer] = value instead\n",
      "\n",
      "See the caveats in the documentation: https://pandas.pydata.org/pandas-docs/stable/user_guide/indexing.html#returning-a-view-versus-a-copy\n",
      "  test.loc[:,'mse'] = (test['margin'] - test['pred_margin'])**2\n"
     ]
    },
    {
     "name": "stdout",
     "output_type": "stream",
     "text": [
      "Num games:  910 MSE on sample:  211.65 MSE on all games:  170.57\n",
      "920\n"
     ]
    },
    {
     "name": "stderr",
     "output_type": "stream",
     "text": [
      "/var/folders/_6/_8xn00vj0gz5g10qr8khtxz40000gn/T/ipykernel_10067/1731616626.py:19: SettingWithCopyWarning: \n",
      "A value is trying to be set on a copy of a slice from a DataFrame.\n",
      "Try using .loc[row_indexer,col_indexer] = value instead\n",
      "\n",
      "See the caveats in the documentation: https://pandas.pydata.org/pandas-docs/stable/user_guide/indexing.html#returning-a-view-versus-a-copy\n",
      "  test.loc[:,'pred_margin'] = y_pred\n",
      "/var/folders/_6/_8xn00vj0gz5g10qr8khtxz40000gn/T/ipykernel_10067/1731616626.py:20: SettingWithCopyWarning: \n",
      "A value is trying to be set on a copy of a slice from a DataFrame.\n",
      "Try using .loc[row_indexer,col_indexer] = value instead\n",
      "\n",
      "See the caveats in the documentation: https://pandas.pydata.org/pandas-docs/stable/user_guide/indexing.html#returning-a-view-versus-a-copy\n",
      "  test.loc[:,'mse'] = (test['margin'] - test['pred_margin'])**2\n"
     ]
    },
    {
     "name": "stdout",
     "output_type": "stream",
     "text": [
      "Num games:  920 MSE on sample:  161.34 MSE on all games:  170.47\n",
      "930\n"
     ]
    },
    {
     "name": "stderr",
     "output_type": "stream",
     "text": [
      "/var/folders/_6/_8xn00vj0gz5g10qr8khtxz40000gn/T/ipykernel_10067/1731616626.py:19: SettingWithCopyWarning: \n",
      "A value is trying to be set on a copy of a slice from a DataFrame.\n",
      "Try using .loc[row_indexer,col_indexer] = value instead\n",
      "\n",
      "See the caveats in the documentation: https://pandas.pydata.org/pandas-docs/stable/user_guide/indexing.html#returning-a-view-versus-a-copy\n",
      "  test.loc[:,'pred_margin'] = y_pred\n",
      "/var/folders/_6/_8xn00vj0gz5g10qr8khtxz40000gn/T/ipykernel_10067/1731616626.py:20: SettingWithCopyWarning: \n",
      "A value is trying to be set on a copy of a slice from a DataFrame.\n",
      "Try using .loc[row_indexer,col_indexer] = value instead\n",
      "\n",
      "See the caveats in the documentation: https://pandas.pydata.org/pandas-docs/stable/user_guide/indexing.html#returning-a-view-versus-a-copy\n",
      "  test.loc[:,'mse'] = (test['margin'] - test['pred_margin'])**2\n"
     ]
    },
    {
     "name": "stdout",
     "output_type": "stream",
     "text": [
      "Num games:  930 MSE on sample:  165.05 MSE on all games:  170.42\n",
      "940\n"
     ]
    },
    {
     "name": "stderr",
     "output_type": "stream",
     "text": [
      "/var/folders/_6/_8xn00vj0gz5g10qr8khtxz40000gn/T/ipykernel_10067/1731616626.py:19: SettingWithCopyWarning: \n",
      "A value is trying to be set on a copy of a slice from a DataFrame.\n",
      "Try using .loc[row_indexer,col_indexer] = value instead\n",
      "\n",
      "See the caveats in the documentation: https://pandas.pydata.org/pandas-docs/stable/user_guide/indexing.html#returning-a-view-versus-a-copy\n",
      "  test.loc[:,'pred_margin'] = y_pred\n",
      "/var/folders/_6/_8xn00vj0gz5g10qr8khtxz40000gn/T/ipykernel_10067/1731616626.py:20: SettingWithCopyWarning: \n",
      "A value is trying to be set on a copy of a slice from a DataFrame.\n",
      "Try using .loc[row_indexer,col_indexer] = value instead\n",
      "\n",
      "See the caveats in the documentation: https://pandas.pydata.org/pandas-docs/stable/user_guide/indexing.html#returning-a-view-versus-a-copy\n",
      "  test.loc[:,'mse'] = (test['margin'] - test['pred_margin'])**2\n"
     ]
    },
    {
     "name": "stdout",
     "output_type": "stream",
     "text": [
      "Num games:  940 MSE on sample:  178.12 MSE on all games:  170.51\n",
      "950\n"
     ]
    },
    {
     "name": "stderr",
     "output_type": "stream",
     "text": [
      "/var/folders/_6/_8xn00vj0gz5g10qr8khtxz40000gn/T/ipykernel_10067/1731616626.py:19: SettingWithCopyWarning: \n",
      "A value is trying to be set on a copy of a slice from a DataFrame.\n",
      "Try using .loc[row_indexer,col_indexer] = value instead\n",
      "\n",
      "See the caveats in the documentation: https://pandas.pydata.org/pandas-docs/stable/user_guide/indexing.html#returning-a-view-versus-a-copy\n",
      "  test.loc[:,'pred_margin'] = y_pred\n",
      "/var/folders/_6/_8xn00vj0gz5g10qr8khtxz40000gn/T/ipykernel_10067/1731616626.py:20: SettingWithCopyWarning: \n",
      "A value is trying to be set on a copy of a slice from a DataFrame.\n",
      "Try using .loc[row_indexer,col_indexer] = value instead\n",
      "\n",
      "See the caveats in the documentation: https://pandas.pydata.org/pandas-docs/stable/user_guide/indexing.html#returning-a-view-versus-a-copy\n",
      "  test.loc[:,'mse'] = (test['margin'] - test['pred_margin'])**2\n"
     ]
    },
    {
     "name": "stdout",
     "output_type": "stream",
     "text": [
      "Num games:  950 MSE on sample:  173.71 MSE on all games:  170.54\n",
      "960\n"
     ]
    },
    {
     "name": "stderr",
     "output_type": "stream",
     "text": [
      "/var/folders/_6/_8xn00vj0gz5g10qr8khtxz40000gn/T/ipykernel_10067/1731616626.py:19: SettingWithCopyWarning: \n",
      "A value is trying to be set on a copy of a slice from a DataFrame.\n",
      "Try using .loc[row_indexer,col_indexer] = value instead\n",
      "\n",
      "See the caveats in the documentation: https://pandas.pydata.org/pandas-docs/stable/user_guide/indexing.html#returning-a-view-versus-a-copy\n",
      "  test.loc[:,'pred_margin'] = y_pred\n",
      "/var/folders/_6/_8xn00vj0gz5g10qr8khtxz40000gn/T/ipykernel_10067/1731616626.py:20: SettingWithCopyWarning: \n",
      "A value is trying to be set on a copy of a slice from a DataFrame.\n",
      "Try using .loc[row_indexer,col_indexer] = value instead\n",
      "\n",
      "See the caveats in the documentation: https://pandas.pydata.org/pandas-docs/stable/user_guide/indexing.html#returning-a-view-versus-a-copy\n",
      "  test.loc[:,'mse'] = (test['margin'] - test['pred_margin'])**2\n"
     ]
    },
    {
     "name": "stdout",
     "output_type": "stream",
     "text": [
      "Num games:  960 MSE on sample:  154.88 MSE on all games:  170.4\n",
      "970\n"
     ]
    },
    {
     "name": "stderr",
     "output_type": "stream",
     "text": [
      "/var/folders/_6/_8xn00vj0gz5g10qr8khtxz40000gn/T/ipykernel_10067/1731616626.py:19: SettingWithCopyWarning: \n",
      "A value is trying to be set on a copy of a slice from a DataFrame.\n",
      "Try using .loc[row_indexer,col_indexer] = value instead\n",
      "\n",
      "See the caveats in the documentation: https://pandas.pydata.org/pandas-docs/stable/user_guide/indexing.html#returning-a-view-versus-a-copy\n",
      "  test.loc[:,'pred_margin'] = y_pred\n",
      "/var/folders/_6/_8xn00vj0gz5g10qr8khtxz40000gn/T/ipykernel_10067/1731616626.py:20: SettingWithCopyWarning: \n",
      "A value is trying to be set on a copy of a slice from a DataFrame.\n",
      "Try using .loc[row_indexer,col_indexer] = value instead\n",
      "\n",
      "See the caveats in the documentation: https://pandas.pydata.org/pandas-docs/stable/user_guide/indexing.html#returning-a-view-versus-a-copy\n",
      "  test.loc[:,'mse'] = (test['margin'] - test['pred_margin'])**2\n"
     ]
    },
    {
     "name": "stdout",
     "output_type": "stream",
     "text": [
      "Num games:  970 MSE on sample:  193.99 MSE on all games:  170.67\n",
      "980\n"
     ]
    },
    {
     "name": "stderr",
     "output_type": "stream",
     "text": [
      "/var/folders/_6/_8xn00vj0gz5g10qr8khtxz40000gn/T/ipykernel_10067/1731616626.py:19: SettingWithCopyWarning: \n",
      "A value is trying to be set on a copy of a slice from a DataFrame.\n",
      "Try using .loc[row_indexer,col_indexer] = value instead\n",
      "\n",
      "See the caveats in the documentation: https://pandas.pydata.org/pandas-docs/stable/user_guide/indexing.html#returning-a-view-versus-a-copy\n",
      "  test.loc[:,'pred_margin'] = y_pred\n",
      "/var/folders/_6/_8xn00vj0gz5g10qr8khtxz40000gn/T/ipykernel_10067/1731616626.py:20: SettingWithCopyWarning: \n",
      "A value is trying to be set on a copy of a slice from a DataFrame.\n",
      "Try using .loc[row_indexer,col_indexer] = value instead\n",
      "\n",
      "See the caveats in the documentation: https://pandas.pydata.org/pandas-docs/stable/user_guide/indexing.html#returning-a-view-versus-a-copy\n",
      "  test.loc[:,'mse'] = (test['margin'] - test['pred_margin'])**2\n"
     ]
    },
    {
     "name": "stdout",
     "output_type": "stream",
     "text": [
      "Num games:  980 MSE on sample:  199.4 MSE on all games:  170.9\n",
      "990\n"
     ]
    },
    {
     "name": "stderr",
     "output_type": "stream",
     "text": [
      "/var/folders/_6/_8xn00vj0gz5g10qr8khtxz40000gn/T/ipykernel_10067/1731616626.py:19: SettingWithCopyWarning: \n",
      "A value is trying to be set on a copy of a slice from a DataFrame.\n",
      "Try using .loc[row_indexer,col_indexer] = value instead\n",
      "\n",
      "See the caveats in the documentation: https://pandas.pydata.org/pandas-docs/stable/user_guide/indexing.html#returning-a-view-versus-a-copy\n",
      "  test.loc[:,'pred_margin'] = y_pred\n",
      "/var/folders/_6/_8xn00vj0gz5g10qr8khtxz40000gn/T/ipykernel_10067/1731616626.py:20: SettingWithCopyWarning: \n",
      "A value is trying to be set on a copy of a slice from a DataFrame.\n",
      "Try using .loc[row_indexer,col_indexer] = value instead\n",
      "\n",
      "See the caveats in the documentation: https://pandas.pydata.org/pandas-docs/stable/user_guide/indexing.html#returning-a-view-versus-a-copy\n",
      "  test.loc[:,'mse'] = (test['margin'] - test['pred_margin'])**2\n"
     ]
    },
    {
     "name": "stdout",
     "output_type": "stream",
     "text": [
      "Num games:  990 MSE on sample:  192.5 MSE on all games:  171.08\n",
      "1000\n"
     ]
    },
    {
     "name": "stderr",
     "output_type": "stream",
     "text": [
      "/var/folders/_6/_8xn00vj0gz5g10qr8khtxz40000gn/T/ipykernel_10067/1731616626.py:19: SettingWithCopyWarning: \n",
      "A value is trying to be set on a copy of a slice from a DataFrame.\n",
      "Try using .loc[row_indexer,col_indexer] = value instead\n",
      "\n",
      "See the caveats in the documentation: https://pandas.pydata.org/pandas-docs/stable/user_guide/indexing.html#returning-a-view-versus-a-copy\n",
      "  test.loc[:,'pred_margin'] = y_pred\n",
      "/var/folders/_6/_8xn00vj0gz5g10qr8khtxz40000gn/T/ipykernel_10067/1731616626.py:20: SettingWithCopyWarning: \n",
      "A value is trying to be set on a copy of a slice from a DataFrame.\n",
      "Try using .loc[row_indexer,col_indexer] = value instead\n",
      "\n",
      "See the caveats in the documentation: https://pandas.pydata.org/pandas-docs/stable/user_guide/indexing.html#returning-a-view-versus-a-copy\n",
      "  test.loc[:,'mse'] = (test['margin'] - test['pred_margin'])**2\n"
     ]
    },
    {
     "name": "stdout",
     "output_type": "stream",
     "text": [
      "Num games:  1000 MSE on sample:  186.12 MSE on all games:  171.24\n",
      "1010\n"
     ]
    },
    {
     "name": "stderr",
     "output_type": "stream",
     "text": [
      "/var/folders/_6/_8xn00vj0gz5g10qr8khtxz40000gn/T/ipykernel_10067/1731616626.py:19: SettingWithCopyWarning: \n",
      "A value is trying to be set on a copy of a slice from a DataFrame.\n",
      "Try using .loc[row_indexer,col_indexer] = value instead\n",
      "\n",
      "See the caveats in the documentation: https://pandas.pydata.org/pandas-docs/stable/user_guide/indexing.html#returning-a-view-versus-a-copy\n",
      "  test.loc[:,'pred_margin'] = y_pred\n",
      "/var/folders/_6/_8xn00vj0gz5g10qr8khtxz40000gn/T/ipykernel_10067/1731616626.py:20: SettingWithCopyWarning: \n",
      "A value is trying to be set on a copy of a slice from a DataFrame.\n",
      "Try using .loc[row_indexer,col_indexer] = value instead\n",
      "\n",
      "See the caveats in the documentation: https://pandas.pydata.org/pandas-docs/stable/user_guide/indexing.html#returning-a-view-versus-a-copy\n",
      "  test.loc[:,'mse'] = (test['margin'] - test['pred_margin'])**2\n"
     ]
    },
    {
     "name": "stdout",
     "output_type": "stream",
     "text": [
      "Num games:  1010 MSE on sample:  146.5 MSE on all games:  170.95\n",
      "1020\n"
     ]
    },
    {
     "name": "stderr",
     "output_type": "stream",
     "text": [
      "/var/folders/_6/_8xn00vj0gz5g10qr8khtxz40000gn/T/ipykernel_10067/1731616626.py:19: SettingWithCopyWarning: \n",
      "A value is trying to be set on a copy of a slice from a DataFrame.\n",
      "Try using .loc[row_indexer,col_indexer] = value instead\n",
      "\n",
      "See the caveats in the documentation: https://pandas.pydata.org/pandas-docs/stable/user_guide/indexing.html#returning-a-view-versus-a-copy\n",
      "  test.loc[:,'pred_margin'] = y_pred\n",
      "/var/folders/_6/_8xn00vj0gz5g10qr8khtxz40000gn/T/ipykernel_10067/1731616626.py:20: SettingWithCopyWarning: \n",
      "A value is trying to be set on a copy of a slice from a DataFrame.\n",
      "Try using .loc[row_indexer,col_indexer] = value instead\n",
      "\n",
      "See the caveats in the documentation: https://pandas.pydata.org/pandas-docs/stable/user_guide/indexing.html#returning-a-view-versus-a-copy\n",
      "  test.loc[:,'mse'] = (test['margin'] - test['pred_margin'])**2\n"
     ]
    },
    {
     "name": "stdout",
     "output_type": "stream",
     "text": [
      "Num games:  1020 MSE on sample:  155.79 MSE on all games:  170.84\n",
      "1030\n"
     ]
    },
    {
     "name": "stderr",
     "output_type": "stream",
     "text": [
      "/var/folders/_6/_8xn00vj0gz5g10qr8khtxz40000gn/T/ipykernel_10067/1731616626.py:19: SettingWithCopyWarning: \n",
      "A value is trying to be set on a copy of a slice from a DataFrame.\n",
      "Try using .loc[row_indexer,col_indexer] = value instead\n",
      "\n",
      "See the caveats in the documentation: https://pandas.pydata.org/pandas-docs/stable/user_guide/indexing.html#returning-a-view-versus-a-copy\n",
      "  test.loc[:,'pred_margin'] = y_pred\n",
      "/var/folders/_6/_8xn00vj0gz5g10qr8khtxz40000gn/T/ipykernel_10067/1731616626.py:20: SettingWithCopyWarning: \n",
      "A value is trying to be set on a copy of a slice from a DataFrame.\n",
      "Try using .loc[row_indexer,col_indexer] = value instead\n",
      "\n",
      "See the caveats in the documentation: https://pandas.pydata.org/pandas-docs/stable/user_guide/indexing.html#returning-a-view-versus-a-copy\n",
      "  test.loc[:,'mse'] = (test['margin'] - test['pred_margin'])**2\n"
     ]
    },
    {
     "name": "stdout",
     "output_type": "stream",
     "text": [
      "Num games:  1030 MSE on sample:  148.06 MSE on all games:  170.64\n",
      "1040\n"
     ]
    },
    {
     "name": "stderr",
     "output_type": "stream",
     "text": [
      "/var/folders/_6/_8xn00vj0gz5g10qr8khtxz40000gn/T/ipykernel_10067/1731616626.py:19: SettingWithCopyWarning: \n",
      "A value is trying to be set on a copy of a slice from a DataFrame.\n",
      "Try using .loc[row_indexer,col_indexer] = value instead\n",
      "\n",
      "See the caveats in the documentation: https://pandas.pydata.org/pandas-docs/stable/user_guide/indexing.html#returning-a-view-versus-a-copy\n",
      "  test.loc[:,'pred_margin'] = y_pred\n",
      "/var/folders/_6/_8xn00vj0gz5g10qr8khtxz40000gn/T/ipykernel_10067/1731616626.py:20: SettingWithCopyWarning: \n",
      "A value is trying to be set on a copy of a slice from a DataFrame.\n",
      "Try using .loc[row_indexer,col_indexer] = value instead\n",
      "\n",
      "See the caveats in the documentation: https://pandas.pydata.org/pandas-docs/stable/user_guide/indexing.html#returning-a-view-versus-a-copy\n",
      "  test.loc[:,'mse'] = (test['margin'] - test['pred_margin'])**2\n"
     ]
    },
    {
     "name": "stdout",
     "output_type": "stream",
     "text": [
      "Num games:  1040 MSE on sample:  174.26 MSE on all games:  170.67\n",
      "1050\n"
     ]
    },
    {
     "name": "stderr",
     "output_type": "stream",
     "text": [
      "/var/folders/_6/_8xn00vj0gz5g10qr8khtxz40000gn/T/ipykernel_10067/1731616626.py:19: SettingWithCopyWarning: \n",
      "A value is trying to be set on a copy of a slice from a DataFrame.\n",
      "Try using .loc[row_indexer,col_indexer] = value instead\n",
      "\n",
      "See the caveats in the documentation: https://pandas.pydata.org/pandas-docs/stable/user_guide/indexing.html#returning-a-view-versus-a-copy\n",
      "  test.loc[:,'pred_margin'] = y_pred\n",
      "/var/folders/_6/_8xn00vj0gz5g10qr8khtxz40000gn/T/ipykernel_10067/1731616626.py:20: SettingWithCopyWarning: \n",
      "A value is trying to be set on a copy of a slice from a DataFrame.\n",
      "Try using .loc[row_indexer,col_indexer] = value instead\n",
      "\n",
      "See the caveats in the documentation: https://pandas.pydata.org/pandas-docs/stable/user_guide/indexing.html#returning-a-view-versus-a-copy\n",
      "  test.loc[:,'mse'] = (test['margin'] - test['pred_margin'])**2\n"
     ]
    },
    {
     "name": "stdout",
     "output_type": "stream",
     "text": [
      "Num games:  1050 MSE on sample:  156.92 MSE on all games:  170.53\n",
      "1060\n"
     ]
    },
    {
     "name": "stderr",
     "output_type": "stream",
     "text": [
      "/var/folders/_6/_8xn00vj0gz5g10qr8khtxz40000gn/T/ipykernel_10067/1731616626.py:19: SettingWithCopyWarning: \n",
      "A value is trying to be set on a copy of a slice from a DataFrame.\n",
      "Try using .loc[row_indexer,col_indexer] = value instead\n",
      "\n",
      "See the caveats in the documentation: https://pandas.pydata.org/pandas-docs/stable/user_guide/indexing.html#returning-a-view-versus-a-copy\n",
      "  test.loc[:,'pred_margin'] = y_pred\n",
      "/var/folders/_6/_8xn00vj0gz5g10qr8khtxz40000gn/T/ipykernel_10067/1731616626.py:20: SettingWithCopyWarning: \n",
      "A value is trying to be set on a copy of a slice from a DataFrame.\n",
      "Try using .loc[row_indexer,col_indexer] = value instead\n",
      "\n",
      "See the caveats in the documentation: https://pandas.pydata.org/pandas-docs/stable/user_guide/indexing.html#returning-a-view-versus-a-copy\n",
      "  test.loc[:,'mse'] = (test['margin'] - test['pred_margin'])**2\n"
     ]
    },
    {
     "name": "stdout",
     "output_type": "stream",
     "text": [
      "Num games:  1060 MSE on sample:  163.42 MSE on all games:  170.48\n",
      "1070\n"
     ]
    },
    {
     "name": "stderr",
     "output_type": "stream",
     "text": [
      "/var/folders/_6/_8xn00vj0gz5g10qr8khtxz40000gn/T/ipykernel_10067/1731616626.py:19: SettingWithCopyWarning: \n",
      "A value is trying to be set on a copy of a slice from a DataFrame.\n",
      "Try using .loc[row_indexer,col_indexer] = value instead\n",
      "\n",
      "See the caveats in the documentation: https://pandas.pydata.org/pandas-docs/stable/user_guide/indexing.html#returning-a-view-versus-a-copy\n",
      "  test.loc[:,'pred_margin'] = y_pred\n",
      "/var/folders/_6/_8xn00vj0gz5g10qr8khtxz40000gn/T/ipykernel_10067/1731616626.py:20: SettingWithCopyWarning: \n",
      "A value is trying to be set on a copy of a slice from a DataFrame.\n",
      "Try using .loc[row_indexer,col_indexer] = value instead\n",
      "\n",
      "See the caveats in the documentation: https://pandas.pydata.org/pandas-docs/stable/user_guide/indexing.html#returning-a-view-versus-a-copy\n",
      "  test.loc[:,'mse'] = (test['margin'] - test['pred_margin'])**2\n"
     ]
    },
    {
     "name": "stdout",
     "output_type": "stream",
     "text": [
      "Num games:  1070 MSE on sample:  168.0 MSE on all games:  170.46\n",
      "1080\n"
     ]
    },
    {
     "name": "stderr",
     "output_type": "stream",
     "text": [
      "/var/folders/_6/_8xn00vj0gz5g10qr8khtxz40000gn/T/ipykernel_10067/1731616626.py:19: SettingWithCopyWarning: \n",
      "A value is trying to be set on a copy of a slice from a DataFrame.\n",
      "Try using .loc[row_indexer,col_indexer] = value instead\n",
      "\n",
      "See the caveats in the documentation: https://pandas.pydata.org/pandas-docs/stable/user_guide/indexing.html#returning-a-view-versus-a-copy\n",
      "  test.loc[:,'pred_margin'] = y_pred\n",
      "/var/folders/_6/_8xn00vj0gz5g10qr8khtxz40000gn/T/ipykernel_10067/1731616626.py:20: SettingWithCopyWarning: \n",
      "A value is trying to be set on a copy of a slice from a DataFrame.\n",
      "Try using .loc[row_indexer,col_indexer] = value instead\n",
      "\n",
      "See the caveats in the documentation: https://pandas.pydata.org/pandas-docs/stable/user_guide/indexing.html#returning-a-view-versus-a-copy\n",
      "  test.loc[:,'mse'] = (test['margin'] - test['pred_margin'])**2\n"
     ]
    },
    {
     "name": "stdout",
     "output_type": "stream",
     "text": [
      "Num games:  1080 MSE on sample:  198.8 MSE on all games:  170.67\n",
      "1090\n"
     ]
    },
    {
     "name": "stderr",
     "output_type": "stream",
     "text": [
      "/var/folders/_6/_8xn00vj0gz5g10qr8khtxz40000gn/T/ipykernel_10067/1731616626.py:19: SettingWithCopyWarning: \n",
      "A value is trying to be set on a copy of a slice from a DataFrame.\n",
      "Try using .loc[row_indexer,col_indexer] = value instead\n",
      "\n",
      "See the caveats in the documentation: https://pandas.pydata.org/pandas-docs/stable/user_guide/indexing.html#returning-a-view-versus-a-copy\n",
      "  test.loc[:,'pred_margin'] = y_pred\n",
      "/var/folders/_6/_8xn00vj0gz5g10qr8khtxz40000gn/T/ipykernel_10067/1731616626.py:20: SettingWithCopyWarning: \n",
      "A value is trying to be set on a copy of a slice from a DataFrame.\n",
      "Try using .loc[row_indexer,col_indexer] = value instead\n",
      "\n",
      "See the caveats in the documentation: https://pandas.pydata.org/pandas-docs/stable/user_guide/indexing.html#returning-a-view-versus-a-copy\n",
      "  test.loc[:,'mse'] = (test['margin'] - test['pred_margin'])**2\n"
     ]
    },
    {
     "name": "stdout",
     "output_type": "stream",
     "text": [
      "Num games:  1090 MSE on sample:  192.38 MSE on all games:  170.87\n",
      "1100\n"
     ]
    },
    {
     "name": "stderr",
     "output_type": "stream",
     "text": [
      "/var/folders/_6/_8xn00vj0gz5g10qr8khtxz40000gn/T/ipykernel_10067/1731616626.py:19: SettingWithCopyWarning: \n",
      "A value is trying to be set on a copy of a slice from a DataFrame.\n",
      "Try using .loc[row_indexer,col_indexer] = value instead\n",
      "\n",
      "See the caveats in the documentation: https://pandas.pydata.org/pandas-docs/stable/user_guide/indexing.html#returning-a-view-versus-a-copy\n",
      "  test.loc[:,'pred_margin'] = y_pred\n",
      "/var/folders/_6/_8xn00vj0gz5g10qr8khtxz40000gn/T/ipykernel_10067/1731616626.py:20: SettingWithCopyWarning: \n",
      "A value is trying to be set on a copy of a slice from a DataFrame.\n",
      "Try using .loc[row_indexer,col_indexer] = value instead\n",
      "\n",
      "See the caveats in the documentation: https://pandas.pydata.org/pandas-docs/stable/user_guide/indexing.html#returning-a-view-versus-a-copy\n",
      "  test.loc[:,'mse'] = (test['margin'] - test['pred_margin'])**2\n"
     ]
    },
    {
     "name": "stdout",
     "output_type": "stream",
     "text": [
      "Num games:  1100 MSE on sample:  160.73 MSE on all games:  170.79\n",
      "1110\n"
     ]
    },
    {
     "name": "stderr",
     "output_type": "stream",
     "text": [
      "/var/folders/_6/_8xn00vj0gz5g10qr8khtxz40000gn/T/ipykernel_10067/1731616626.py:19: SettingWithCopyWarning: \n",
      "A value is trying to be set on a copy of a slice from a DataFrame.\n",
      "Try using .loc[row_indexer,col_indexer] = value instead\n",
      "\n",
      "See the caveats in the documentation: https://pandas.pydata.org/pandas-docs/stable/user_guide/indexing.html#returning-a-view-versus-a-copy\n",
      "  test.loc[:,'pred_margin'] = y_pred\n",
      "/var/folders/_6/_8xn00vj0gz5g10qr8khtxz40000gn/T/ipykernel_10067/1731616626.py:20: SettingWithCopyWarning: \n",
      "A value is trying to be set on a copy of a slice from a DataFrame.\n",
      "Try using .loc[row_indexer,col_indexer] = value instead\n",
      "\n",
      "See the caveats in the documentation: https://pandas.pydata.org/pandas-docs/stable/user_guide/indexing.html#returning-a-view-versus-a-copy\n",
      "  test.loc[:,'mse'] = (test['margin'] - test['pred_margin'])**2\n"
     ]
    },
    {
     "name": "stdout",
     "output_type": "stream",
     "text": [
      "Num games:  1110 MSE on sample:  151.2 MSE on all games:  170.64\n",
      "1120\n"
     ]
    },
    {
     "name": "stderr",
     "output_type": "stream",
     "text": [
      "/var/folders/_6/_8xn00vj0gz5g10qr8khtxz40000gn/T/ipykernel_10067/1731616626.py:19: SettingWithCopyWarning: \n",
      "A value is trying to be set on a copy of a slice from a DataFrame.\n",
      "Try using .loc[row_indexer,col_indexer] = value instead\n",
      "\n",
      "See the caveats in the documentation: https://pandas.pydata.org/pandas-docs/stable/user_guide/indexing.html#returning-a-view-versus-a-copy\n",
      "  test.loc[:,'pred_margin'] = y_pred\n",
      "/var/folders/_6/_8xn00vj0gz5g10qr8khtxz40000gn/T/ipykernel_10067/1731616626.py:20: SettingWithCopyWarning: \n",
      "A value is trying to be set on a copy of a slice from a DataFrame.\n",
      "Try using .loc[row_indexer,col_indexer] = value instead\n",
      "\n",
      "See the caveats in the documentation: https://pandas.pydata.org/pandas-docs/stable/user_guide/indexing.html#returning-a-view-versus-a-copy\n",
      "  test.loc[:,'mse'] = (test['margin'] - test['pred_margin'])**2\n"
     ]
    },
    {
     "name": "stdout",
     "output_type": "stream",
     "text": [
      "Num games:  1120 MSE on sample:  111.59 MSE on all games:  170.09\n",
      "1130\n"
     ]
    },
    {
     "name": "stderr",
     "output_type": "stream",
     "text": [
      "/var/folders/_6/_8xn00vj0gz5g10qr8khtxz40000gn/T/ipykernel_10067/1731616626.py:19: SettingWithCopyWarning: \n",
      "A value is trying to be set on a copy of a slice from a DataFrame.\n",
      "Try using .loc[row_indexer,col_indexer] = value instead\n",
      "\n",
      "See the caveats in the documentation: https://pandas.pydata.org/pandas-docs/stable/user_guide/indexing.html#returning-a-view-versus-a-copy\n",
      "  test.loc[:,'pred_margin'] = y_pred\n",
      "/var/folders/_6/_8xn00vj0gz5g10qr8khtxz40000gn/T/ipykernel_10067/1731616626.py:20: SettingWithCopyWarning: \n",
      "A value is trying to be set on a copy of a slice from a DataFrame.\n",
      "Try using .loc[row_indexer,col_indexer] = value instead\n",
      "\n",
      "See the caveats in the documentation: https://pandas.pydata.org/pandas-docs/stable/user_guide/indexing.html#returning-a-view-versus-a-copy\n",
      "  test.loc[:,'mse'] = (test['margin'] - test['pred_margin'])**2\n"
     ]
    },
    {
     "name": "stdout",
     "output_type": "stream",
     "text": [
      "Num games:  1130 MSE on sample:  117.3 MSE on all games:  169.76\n",
      "1140\n"
     ]
    },
    {
     "name": "stderr",
     "output_type": "stream",
     "text": [
      "/var/folders/_6/_8xn00vj0gz5g10qr8khtxz40000gn/T/ipykernel_10067/1731616626.py:19: SettingWithCopyWarning: \n",
      "A value is trying to be set on a copy of a slice from a DataFrame.\n",
      "Try using .loc[row_indexer,col_indexer] = value instead\n",
      "\n",
      "See the caveats in the documentation: https://pandas.pydata.org/pandas-docs/stable/user_guide/indexing.html#returning-a-view-versus-a-copy\n",
      "  test.loc[:,'pred_margin'] = y_pred\n",
      "/var/folders/_6/_8xn00vj0gz5g10qr8khtxz40000gn/T/ipykernel_10067/1731616626.py:20: SettingWithCopyWarning: \n",
      "A value is trying to be set on a copy of a slice from a DataFrame.\n",
      "Try using .loc[row_indexer,col_indexer] = value instead\n",
      "\n",
      "See the caveats in the documentation: https://pandas.pydata.org/pandas-docs/stable/user_guide/indexing.html#returning-a-view-versus-a-copy\n",
      "  test.loc[:,'mse'] = (test['margin'] - test['pred_margin'])**2\n"
     ]
    },
    {
     "name": "stdout",
     "output_type": "stream",
     "text": [
      "Num games:  1140 MSE on sample:  139.51 MSE on all games:  169.54\n",
      "1150\n"
     ]
    },
    {
     "name": "stderr",
     "output_type": "stream",
     "text": [
      "/var/folders/_6/_8xn00vj0gz5g10qr8khtxz40000gn/T/ipykernel_10067/1731616626.py:19: SettingWithCopyWarning: \n",
      "A value is trying to be set on a copy of a slice from a DataFrame.\n",
      "Try using .loc[row_indexer,col_indexer] = value instead\n",
      "\n",
      "See the caveats in the documentation: https://pandas.pydata.org/pandas-docs/stable/user_guide/indexing.html#returning-a-view-versus-a-copy\n",
      "  test.loc[:,'pred_margin'] = y_pred\n",
      "/var/folders/_6/_8xn00vj0gz5g10qr8khtxz40000gn/T/ipykernel_10067/1731616626.py:20: SettingWithCopyWarning: \n",
      "A value is trying to be set on a copy of a slice from a DataFrame.\n",
      "Try using .loc[row_indexer,col_indexer] = value instead\n",
      "\n",
      "See the caveats in the documentation: https://pandas.pydata.org/pandas-docs/stable/user_guide/indexing.html#returning-a-view-versus-a-copy\n",
      "  test.loc[:,'mse'] = (test['margin'] - test['pred_margin'])**2\n"
     ]
    },
    {
     "name": "stdout",
     "output_type": "stream",
     "text": [
      "Num games:  1150 MSE on sample:  172.58 MSE on all games:  169.56\n",
      "1160\n"
     ]
    },
    {
     "name": "stderr",
     "output_type": "stream",
     "text": [
      "/var/folders/_6/_8xn00vj0gz5g10qr8khtxz40000gn/T/ipykernel_10067/1731616626.py:19: SettingWithCopyWarning: \n",
      "A value is trying to be set on a copy of a slice from a DataFrame.\n",
      "Try using .loc[row_indexer,col_indexer] = value instead\n",
      "\n",
      "See the caveats in the documentation: https://pandas.pydata.org/pandas-docs/stable/user_guide/indexing.html#returning-a-view-versus-a-copy\n",
      "  test.loc[:,'pred_margin'] = y_pred\n",
      "/var/folders/_6/_8xn00vj0gz5g10qr8khtxz40000gn/T/ipykernel_10067/1731616626.py:20: SettingWithCopyWarning: \n",
      "A value is trying to be set on a copy of a slice from a DataFrame.\n",
      "Try using .loc[row_indexer,col_indexer] = value instead\n",
      "\n",
      "See the caveats in the documentation: https://pandas.pydata.org/pandas-docs/stable/user_guide/indexing.html#returning-a-view-versus-a-copy\n",
      "  test.loc[:,'mse'] = (test['margin'] - test['pred_margin'])**2\n"
     ]
    },
    {
     "name": "stdout",
     "output_type": "stream",
     "text": [
      "Num games:  1160 MSE on sample:  190.14 MSE on all games:  169.7\n",
      "1170\n"
     ]
    },
    {
     "name": "stderr",
     "output_type": "stream",
     "text": [
      "/var/folders/_6/_8xn00vj0gz5g10qr8khtxz40000gn/T/ipykernel_10067/1731616626.py:19: SettingWithCopyWarning: \n",
      "A value is trying to be set on a copy of a slice from a DataFrame.\n",
      "Try using .loc[row_indexer,col_indexer] = value instead\n",
      "\n",
      "See the caveats in the documentation: https://pandas.pydata.org/pandas-docs/stable/user_guide/indexing.html#returning-a-view-versus-a-copy\n",
      "  test.loc[:,'pred_margin'] = y_pred\n",
      "/var/folders/_6/_8xn00vj0gz5g10qr8khtxz40000gn/T/ipykernel_10067/1731616626.py:20: SettingWithCopyWarning: \n",
      "A value is trying to be set on a copy of a slice from a DataFrame.\n",
      "Try using .loc[row_indexer,col_indexer] = value instead\n",
      "\n",
      "See the caveats in the documentation: https://pandas.pydata.org/pandas-docs/stable/user_guide/indexing.html#returning-a-view-versus-a-copy\n",
      "  test.loc[:,'mse'] = (test['margin'] - test['pred_margin'])**2\n"
     ]
    },
    {
     "name": "stdout",
     "output_type": "stream",
     "text": [
      "Num games:  1170 MSE on sample:  132.64 MSE on all games:  169.39\n",
      "1180\n"
     ]
    },
    {
     "name": "stderr",
     "output_type": "stream",
     "text": [
      "/var/folders/_6/_8xn00vj0gz5g10qr8khtxz40000gn/T/ipykernel_10067/1731616626.py:19: SettingWithCopyWarning: \n",
      "A value is trying to be set on a copy of a slice from a DataFrame.\n",
      "Try using .loc[row_indexer,col_indexer] = value instead\n",
      "\n",
      "See the caveats in the documentation: https://pandas.pydata.org/pandas-docs/stable/user_guide/indexing.html#returning-a-view-versus-a-copy\n",
      "  test.loc[:,'pred_margin'] = y_pred\n",
      "/var/folders/_6/_8xn00vj0gz5g10qr8khtxz40000gn/T/ipykernel_10067/1731616626.py:20: SettingWithCopyWarning: \n",
      "A value is trying to be set on a copy of a slice from a DataFrame.\n",
      "Try using .loc[row_indexer,col_indexer] = value instead\n",
      "\n",
      "See the caveats in the documentation: https://pandas.pydata.org/pandas-docs/stable/user_guide/indexing.html#returning-a-view-versus-a-copy\n",
      "  test.loc[:,'mse'] = (test['margin'] - test['pred_margin'])**2\n"
     ]
    },
    {
     "name": "stdout",
     "output_type": "stream",
     "text": [
      "Num games:  1180 MSE on sample:  192.99 MSE on all games:  169.47\n",
      "1190\n"
     ]
    },
    {
     "name": "stderr",
     "output_type": "stream",
     "text": [
      "/var/folders/_6/_8xn00vj0gz5g10qr8khtxz40000gn/T/ipykernel_10067/1731616626.py:19: SettingWithCopyWarning: \n",
      "A value is trying to be set on a copy of a slice from a DataFrame.\n",
      "Try using .loc[row_indexer,col_indexer] = value instead\n",
      "\n",
      "See the caveats in the documentation: https://pandas.pydata.org/pandas-docs/stable/user_guide/indexing.html#returning-a-view-versus-a-copy\n",
      "  test.loc[:,'pred_margin'] = y_pred\n",
      "/var/folders/_6/_8xn00vj0gz5g10qr8khtxz40000gn/T/ipykernel_10067/1731616626.py:20: SettingWithCopyWarning: \n",
      "A value is trying to be set on a copy of a slice from a DataFrame.\n",
      "Try using .loc[row_indexer,col_indexer] = value instead\n",
      "\n",
      "See the caveats in the documentation: https://pandas.pydata.org/pandas-docs/stable/user_guide/indexing.html#returning-a-view-versus-a-copy\n",
      "  test.loc[:,'mse'] = (test['margin'] - test['pred_margin'])**2\n"
     ]
    },
    {
     "name": "stdout",
     "output_type": "stream",
     "text": [
      "Num games:  1190 MSE on sample:  178.17 MSE on all games:  169.52\n",
      "1200\n"
     ]
    },
    {
     "name": "stderr",
     "output_type": "stream",
     "text": [
      "/var/folders/_6/_8xn00vj0gz5g10qr8khtxz40000gn/T/ipykernel_10067/1731616626.py:19: SettingWithCopyWarning: \n",
      "A value is trying to be set on a copy of a slice from a DataFrame.\n",
      "Try using .loc[row_indexer,col_indexer] = value instead\n",
      "\n",
      "See the caveats in the documentation: https://pandas.pydata.org/pandas-docs/stable/user_guide/indexing.html#returning-a-view-versus-a-copy\n",
      "  test.loc[:,'pred_margin'] = y_pred\n",
      "/var/folders/_6/_8xn00vj0gz5g10qr8khtxz40000gn/T/ipykernel_10067/1731616626.py:20: SettingWithCopyWarning: \n",
      "A value is trying to be set on a copy of a slice from a DataFrame.\n",
      "Try using .loc[row_indexer,col_indexer] = value instead\n",
      "\n",
      "See the caveats in the documentation: https://pandas.pydata.org/pandas-docs/stable/user_guide/indexing.html#returning-a-view-versus-a-copy\n",
      "  test.loc[:,'mse'] = (test['margin'] - test['pred_margin'])**2\n"
     ]
    },
    {
     "name": "stdout",
     "output_type": "stream",
     "text": [
      "Num games:  1200 MSE on sample:  156.48 MSE on all games:  169.44\n",
      "1210\n"
     ]
    },
    {
     "name": "stderr",
     "output_type": "stream",
     "text": [
      "/var/folders/_6/_8xn00vj0gz5g10qr8khtxz40000gn/T/ipykernel_10067/1731616626.py:19: SettingWithCopyWarning: \n",
      "A value is trying to be set on a copy of a slice from a DataFrame.\n",
      "Try using .loc[row_indexer,col_indexer] = value instead\n",
      "\n",
      "See the caveats in the documentation: https://pandas.pydata.org/pandas-docs/stable/user_guide/indexing.html#returning-a-view-versus-a-copy\n",
      "  test.loc[:,'pred_margin'] = y_pred\n",
      "/var/folders/_6/_8xn00vj0gz5g10qr8khtxz40000gn/T/ipykernel_10067/1731616626.py:20: SettingWithCopyWarning: \n",
      "A value is trying to be set on a copy of a slice from a DataFrame.\n",
      "Try using .loc[row_indexer,col_indexer] = value instead\n",
      "\n",
      "See the caveats in the documentation: https://pandas.pydata.org/pandas-docs/stable/user_guide/indexing.html#returning-a-view-versus-a-copy\n",
      "  test.loc[:,'mse'] = (test['margin'] - test['pred_margin'])**2\n"
     ]
    },
    {
     "name": "stdout",
     "output_type": "stream",
     "text": [
      "Num games:  1210 MSE on sample:  208.65 MSE on all games:  169.85\n",
      "1220\n"
     ]
    },
    {
     "name": "stderr",
     "output_type": "stream",
     "text": [
      "/var/folders/_6/_8xn00vj0gz5g10qr8khtxz40000gn/T/ipykernel_10067/1731616626.py:19: SettingWithCopyWarning: \n",
      "A value is trying to be set on a copy of a slice from a DataFrame.\n",
      "Try using .loc[row_indexer,col_indexer] = value instead\n",
      "\n",
      "See the caveats in the documentation: https://pandas.pydata.org/pandas-docs/stable/user_guide/indexing.html#returning-a-view-versus-a-copy\n",
      "  test.loc[:,'pred_margin'] = y_pred\n",
      "/var/folders/_6/_8xn00vj0gz5g10qr8khtxz40000gn/T/ipykernel_10067/1731616626.py:20: SettingWithCopyWarning: \n",
      "A value is trying to be set on a copy of a slice from a DataFrame.\n",
      "Try using .loc[row_indexer,col_indexer] = value instead\n",
      "\n",
      "See the caveats in the documentation: https://pandas.pydata.org/pandas-docs/stable/user_guide/indexing.html#returning-a-view-versus-a-copy\n",
      "  test.loc[:,'mse'] = (test['margin'] - test['pred_margin'])**2\n"
     ]
    },
    {
     "name": "stdout",
     "output_type": "stream",
     "text": [
      "Num games:  1220 MSE on sample:  111.01 MSE on all games:  169.83\n",
      "1230\n"
     ]
    },
    {
     "name": "stderr",
     "output_type": "stream",
     "text": [
      "/var/folders/_6/_8xn00vj0gz5g10qr8khtxz40000gn/T/ipykernel_10067/1731616626.py:19: SettingWithCopyWarning: \n",
      "A value is trying to be set on a copy of a slice from a DataFrame.\n",
      "Try using .loc[row_indexer,col_indexer] = value instead\n",
      "\n",
      "See the caveats in the documentation: https://pandas.pydata.org/pandas-docs/stable/user_guide/indexing.html#returning-a-view-versus-a-copy\n",
      "  test.loc[:,'pred_margin'] = y_pred\n",
      "/var/folders/_6/_8xn00vj0gz5g10qr8khtxz40000gn/T/ipykernel_10067/1731616626.py:20: SettingWithCopyWarning: \n",
      "A value is trying to be set on a copy of a slice from a DataFrame.\n",
      "Try using .loc[row_indexer,col_indexer] = value instead\n",
      "\n",
      "See the caveats in the documentation: https://pandas.pydata.org/pandas-docs/stable/user_guide/indexing.html#returning-a-view-versus-a-copy\n",
      "  test.loc[:,'mse'] = (test['margin'] - test['pred_margin'])**2\n"
     ]
    },
    {
     "name": "stdout",
     "output_type": "stream",
     "text": [
      "Num games:  1230 MSE on sample:  180.02 MSE on all games:  169.89\n",
      "1240\n"
     ]
    },
    {
     "name": "stderr",
     "output_type": "stream",
     "text": [
      "/var/folders/_6/_8xn00vj0gz5g10qr8khtxz40000gn/T/ipykernel_10067/1731616626.py:19: SettingWithCopyWarning: \n",
      "A value is trying to be set on a copy of a slice from a DataFrame.\n",
      "Try using .loc[row_indexer,col_indexer] = value instead\n",
      "\n",
      "See the caveats in the documentation: https://pandas.pydata.org/pandas-docs/stable/user_guide/indexing.html#returning-a-view-versus-a-copy\n",
      "  test.loc[:,'pred_margin'] = y_pred\n",
      "/var/folders/_6/_8xn00vj0gz5g10qr8khtxz40000gn/T/ipykernel_10067/1731616626.py:20: SettingWithCopyWarning: \n",
      "A value is trying to be set on a copy of a slice from a DataFrame.\n",
      "Try using .loc[row_indexer,col_indexer] = value instead\n",
      "\n",
      "See the caveats in the documentation: https://pandas.pydata.org/pandas-docs/stable/user_guide/indexing.html#returning-a-view-versus-a-copy\n",
      "  test.loc[:,'mse'] = (test['margin'] - test['pred_margin'])**2\n"
     ]
    },
    {
     "name": "stdout",
     "output_type": "stream",
     "text": [
      "Num games:  1240 MSE on sample:  144.07 MSE on all games:  169.72\n",
      "1250\n"
     ]
    },
    {
     "name": "stderr",
     "output_type": "stream",
     "text": [
      "/var/folders/_6/_8xn00vj0gz5g10qr8khtxz40000gn/T/ipykernel_10067/1731616626.py:19: SettingWithCopyWarning: \n",
      "A value is trying to be set on a copy of a slice from a DataFrame.\n",
      "Try using .loc[row_indexer,col_indexer] = value instead\n",
      "\n",
      "See the caveats in the documentation: https://pandas.pydata.org/pandas-docs/stable/user_guide/indexing.html#returning-a-view-versus-a-copy\n",
      "  test.loc[:,'pred_margin'] = y_pred\n",
      "/var/folders/_6/_8xn00vj0gz5g10qr8khtxz40000gn/T/ipykernel_10067/1731616626.py:20: SettingWithCopyWarning: \n",
      "A value is trying to be set on a copy of a slice from a DataFrame.\n",
      "Try using .loc[row_indexer,col_indexer] = value instead\n",
      "\n",
      "See the caveats in the documentation: https://pandas.pydata.org/pandas-docs/stable/user_guide/indexing.html#returning-a-view-versus-a-copy\n",
      "  test.loc[:,'mse'] = (test['margin'] - test['pred_margin'])**2\n"
     ]
    },
    {
     "name": "stdout",
     "output_type": "stream",
     "text": [
      "Num games:  1250 MSE on sample:  127.84 MSE on all games:  169.5\n",
      "1260\n"
     ]
    },
    {
     "name": "stderr",
     "output_type": "stream",
     "text": [
      "/var/folders/_6/_8xn00vj0gz5g10qr8khtxz40000gn/T/ipykernel_10067/1731616626.py:19: SettingWithCopyWarning: \n",
      "A value is trying to be set on a copy of a slice from a DataFrame.\n",
      "Try using .loc[row_indexer,col_indexer] = value instead\n",
      "\n",
      "See the caveats in the documentation: https://pandas.pydata.org/pandas-docs/stable/user_guide/indexing.html#returning-a-view-versus-a-copy\n",
      "  test.loc[:,'pred_margin'] = y_pred\n",
      "/var/folders/_6/_8xn00vj0gz5g10qr8khtxz40000gn/T/ipykernel_10067/1731616626.py:20: SettingWithCopyWarning: \n",
      "A value is trying to be set on a copy of a slice from a DataFrame.\n",
      "Try using .loc[row_indexer,col_indexer] = value instead\n",
      "\n",
      "See the caveats in the documentation: https://pandas.pydata.org/pandas-docs/stable/user_guide/indexing.html#returning-a-view-versus-a-copy\n",
      "  test.loc[:,'mse'] = (test['margin'] - test['pred_margin'])**2\n"
     ]
    },
    {
     "name": "stdout",
     "output_type": "stream",
     "text": [
      "Num games:  1260 MSE on sample:  167.79 MSE on all games:  169.49\n",
      "1270\n"
     ]
    },
    {
     "name": "stderr",
     "output_type": "stream",
     "text": [
      "/var/folders/_6/_8xn00vj0gz5g10qr8khtxz40000gn/T/ipykernel_10067/1731616626.py:19: SettingWithCopyWarning: \n",
      "A value is trying to be set on a copy of a slice from a DataFrame.\n",
      "Try using .loc[row_indexer,col_indexer] = value instead\n",
      "\n",
      "See the caveats in the documentation: https://pandas.pydata.org/pandas-docs/stable/user_guide/indexing.html#returning-a-view-versus-a-copy\n",
      "  test.loc[:,'pred_margin'] = y_pred\n",
      "/var/folders/_6/_8xn00vj0gz5g10qr8khtxz40000gn/T/ipykernel_10067/1731616626.py:20: SettingWithCopyWarning: \n",
      "A value is trying to be set on a copy of a slice from a DataFrame.\n",
      "Try using .loc[row_indexer,col_indexer] = value instead\n",
      "\n",
      "See the caveats in the documentation: https://pandas.pydata.org/pandas-docs/stable/user_guide/indexing.html#returning-a-view-versus-a-copy\n",
      "  test.loc[:,'mse'] = (test['margin'] - test['pred_margin'])**2\n"
     ]
    },
    {
     "name": "stdout",
     "output_type": "stream",
     "text": [
      "Num games:  1270 MSE on sample:  196.4 MSE on all games:  169.64\n",
      "1280\n"
     ]
    },
    {
     "name": "stderr",
     "output_type": "stream",
     "text": [
      "/var/folders/_6/_8xn00vj0gz5g10qr8khtxz40000gn/T/ipykernel_10067/1731616626.py:19: SettingWithCopyWarning: \n",
      "A value is trying to be set on a copy of a slice from a DataFrame.\n",
      "Try using .loc[row_indexer,col_indexer] = value instead\n",
      "\n",
      "See the caveats in the documentation: https://pandas.pydata.org/pandas-docs/stable/user_guide/indexing.html#returning-a-view-versus-a-copy\n",
      "  test.loc[:,'pred_margin'] = y_pred\n",
      "/var/folders/_6/_8xn00vj0gz5g10qr8khtxz40000gn/T/ipykernel_10067/1731616626.py:20: SettingWithCopyWarning: \n",
      "A value is trying to be set on a copy of a slice from a DataFrame.\n",
      "Try using .loc[row_indexer,col_indexer] = value instead\n",
      "\n",
      "See the caveats in the documentation: https://pandas.pydata.org/pandas-docs/stable/user_guide/indexing.html#returning-a-view-versus-a-copy\n",
      "  test.loc[:,'mse'] = (test['margin'] - test['pred_margin'])**2\n"
     ]
    },
    {
     "name": "stdout",
     "output_type": "stream",
     "text": [
      "Num games:  1280 MSE on sample:  206.61 MSE on all games:  169.85\n",
      "1290\n"
     ]
    },
    {
     "name": "stderr",
     "output_type": "stream",
     "text": [
      "/var/folders/_6/_8xn00vj0gz5g10qr8khtxz40000gn/T/ipykernel_10067/1731616626.py:19: SettingWithCopyWarning: \n",
      "A value is trying to be set on a copy of a slice from a DataFrame.\n",
      "Try using .loc[row_indexer,col_indexer] = value instead\n",
      "\n",
      "See the caveats in the documentation: https://pandas.pydata.org/pandas-docs/stable/user_guide/indexing.html#returning-a-view-versus-a-copy\n",
      "  test.loc[:,'pred_margin'] = y_pred\n",
      "/var/folders/_6/_8xn00vj0gz5g10qr8khtxz40000gn/T/ipykernel_10067/1731616626.py:20: SettingWithCopyWarning: \n",
      "A value is trying to be set on a copy of a slice from a DataFrame.\n",
      "Try using .loc[row_indexer,col_indexer] = value instead\n",
      "\n",
      "See the caveats in the documentation: https://pandas.pydata.org/pandas-docs/stable/user_guide/indexing.html#returning-a-view-versus-a-copy\n",
      "  test.loc[:,'mse'] = (test['margin'] - test['pred_margin'])**2\n"
     ]
    },
    {
     "name": "stdout",
     "output_type": "stream",
     "text": [
      "Num games:  1290 MSE on sample:  270.6 MSE on all games:  170.41\n",
      "1300\n"
     ]
    },
    {
     "name": "stderr",
     "output_type": "stream",
     "text": [
      "/var/folders/_6/_8xn00vj0gz5g10qr8khtxz40000gn/T/ipykernel_10067/1731616626.py:19: SettingWithCopyWarning: \n",
      "A value is trying to be set on a copy of a slice from a DataFrame.\n",
      "Try using .loc[row_indexer,col_indexer] = value instead\n",
      "\n",
      "See the caveats in the documentation: https://pandas.pydata.org/pandas-docs/stable/user_guide/indexing.html#returning-a-view-versus-a-copy\n",
      "  test.loc[:,'pred_margin'] = y_pred\n",
      "/var/folders/_6/_8xn00vj0gz5g10qr8khtxz40000gn/T/ipykernel_10067/1731616626.py:20: SettingWithCopyWarning: \n",
      "A value is trying to be set on a copy of a slice from a DataFrame.\n",
      "Try using .loc[row_indexer,col_indexer] = value instead\n",
      "\n",
      "See the caveats in the documentation: https://pandas.pydata.org/pandas-docs/stable/user_guide/indexing.html#returning-a-view-versus-a-copy\n",
      "  test.loc[:,'mse'] = (test['margin'] - test['pred_margin'])**2\n"
     ]
    },
    {
     "name": "stdout",
     "output_type": "stream",
     "text": [
      "Num games:  1300 MSE on sample:  227.2 MSE on all games:  170.72\n",
      "1310\n"
     ]
    },
    {
     "name": "stderr",
     "output_type": "stream",
     "text": [
      "/var/folders/_6/_8xn00vj0gz5g10qr8khtxz40000gn/T/ipykernel_10067/1731616626.py:19: SettingWithCopyWarning: \n",
      "A value is trying to be set on a copy of a slice from a DataFrame.\n",
      "Try using .loc[row_indexer,col_indexer] = value instead\n",
      "\n",
      "See the caveats in the documentation: https://pandas.pydata.org/pandas-docs/stable/user_guide/indexing.html#returning-a-view-versus-a-copy\n",
      "  test.loc[:,'pred_margin'] = y_pred\n",
      "/var/folders/_6/_8xn00vj0gz5g10qr8khtxz40000gn/T/ipykernel_10067/1731616626.py:20: SettingWithCopyWarning: \n",
      "A value is trying to be set on a copy of a slice from a DataFrame.\n",
      "Try using .loc[row_indexer,col_indexer] = value instead\n",
      "\n",
      "See the caveats in the documentation: https://pandas.pydata.org/pandas-docs/stable/user_guide/indexing.html#returning-a-view-versus-a-copy\n",
      "  test.loc[:,'mse'] = (test['margin'] - test['pred_margin'])**2\n"
     ]
    },
    {
     "name": "stdout",
     "output_type": "stream",
     "text": [
      "Num games:  1310 MSE on sample:  213.11 MSE on all games:  170.82\n",
      "1320\n",
      "Num games:  1320 MSE on sample:  236.8 MSE on all games:  170.83\n"
     ]
    },
    {
     "name": "stderr",
     "output_type": "stream",
     "text": [
      "/var/folders/_6/_8xn00vj0gz5g10qr8khtxz40000gn/T/ipykernel_10067/1731616626.py:19: SettingWithCopyWarning: \n",
      "A value is trying to be set on a copy of a slice from a DataFrame.\n",
      "Try using .loc[row_indexer,col_indexer] = value instead\n",
      "\n",
      "See the caveats in the documentation: https://pandas.pydata.org/pandas-docs/stable/user_guide/indexing.html#returning-a-view-versus-a-copy\n",
      "  test.loc[:,'pred_margin'] = y_pred\n",
      "/var/folders/_6/_8xn00vj0gz5g10qr8khtxz40000gn/T/ipykernel_10067/1731616626.py:20: SettingWithCopyWarning: \n",
      "A value is trying to be set on a copy of a slice from a DataFrame.\n",
      "Try using .loc[row_indexer,col_indexer] = value instead\n",
      "\n",
      "See the caveats in the documentation: https://pandas.pydata.org/pandas-docs/stable/user_guide/indexing.html#returning-a-view-versus-a-copy\n",
      "  test.loc[:,'mse'] = (test['margin'] - test['pred_margin'])**2\n"
     ]
    }
   ],
   "source": [
    "\n",
    "def backtest(model, games, x_features, label):\n",
    "    num_games_increment = 10\n",
    "    errors = []\n",
    "    min_num_games = games['num_games_into_season'].min()\n",
    "    max_num_games = games['num_games_into_season'].max()\n",
    "\n",
    "    for num_games in range(min_num_games, max_num_games, num_games_increment):\n",
    "        print(num_games)\n",
    "        train = games[games['num_games_into_season'] < num_games]\n",
    "        if len(train) == 0:\n",
    "            continue\n",
    "        test = games[(num_games + num_games_increment > games['num_games_into_season']) & (games['num_games_into_season'] >= num_games)]\n",
    "        X = train[x_features]\n",
    "        y = train[label]\n",
    "        model.fit(X, y)\n",
    "        X_test = test[x_features]\n",
    "        y_test = test[label]\n",
    "        y_pred = model.predict(X_test)\n",
    "        test.loc[:,'pred_margin'] = y_pred\n",
    "        test.loc[:,'mse'] = (test['margin'] - test['pred_margin'])**2\n",
    "        errors += list(test['mse'])\n",
    "\n",
    "        print('Num games: ', num_games, 'MSE on sample: ', round(mean_squared_error(y_test, y_pred), 2), 'MSE on all games: ', round(np.mean(errors), 2))\n",
    "    return errors\n",
    "\n",
    "params = {'max_depth': 5, 'learning_rate': 0.014567791445364069, 'n_estimators': 655, 'min_child_weight': 2, 'gamma': 0.11052774751544212, 'subsample': 0.9899289938848144, 'colsample_bytree': 0.9249071617042357, 'reg_alpha': 0.4468005337539522, 'reg_lambda': 0.24513091931966713, 'random_state': 996}\n",
    "model = XGBRegressor(**params)\n",
    "\n",
    "x_features = ['team_rating', 'opponent_rating', 'team_win_total_future', 'opponent_win_total_future', 'last_year_team_rating', 'last_year_opponent_rating', 'num_games_into_season', 'team_last_10_rating', 'opponent_last_10_rating', 'team_last_5_rating', 'opponent_last_5_rating', 'team_last_3_rating', 'opponent_last_3_rating', 'team_last_1_rating', 'opponent_last_1_rating', 'team_days_since_most_recent_game', 'opponent_days_since_most_recent_game']\n",
    "label = 'margin'\n",
    "errors = backtest(model, games, x_features, label)\n",
    "\n",
    "\n",
    "\n",
    "\n",
    "\n"
   ]
  },
  {
   "cell_type": "code",
   "execution_count": 46,
   "metadata": {},
   "outputs": [],
   "source": [
    "X_train, X_test, y_train, y_test = train_test_split(games[['team_rating', 'opponent_rating', 'team_win_total_future', 'opponent_win_total_future', 'last_year_team_rating', 'last_year_opponent_rating', 'num_games_into_season', 'last_year_team_rating*num_games_into_season', 'last_year_opponent_rating*num_games_into_season', 'team_last_10_rating', 'opponent_last_10_rating', 'team_last_5_rating', 'opponent_last_5_rating', 'team_last_3_rating', 'opponent_last_3_rating', 'team_last_1_rating', 'opponent_last_1_rating', 'team_days_since_most_recent_game', 'opponent_days_since_most_recent_game']], games['margin'], test_size=0.2, random_state=42)"
   ]
  },
  {
   "cell_type": "code",
   "execution_count": 47,
   "metadata": {},
   "outputs": [],
   "source": [
    "# use optuna to tune the parameters\n",
    "def objective(trial):\n",
    "    param = {\n",
    "        'max_depth': trial.suggest_int('max_depth', 1, 10),\n",
    "        'learning_rate': trial.suggest_float('learning_rate', 0.01, 1.0),\n",
    "        'n_estimators': trial.suggest_int('n_estimators', 50, 1000),\n",
    "        'min_child_weight': trial.suggest_int('min_child_weight', 1, 10),\n",
    "        'gamma': trial.suggest_float('gamma', 0.01, 1.0),\n",
    "        'subsample': trial.suggest_float('subsample', 0.01, 1.0),\n",
    "        'colsample_bytree': trial.suggest_float('colsample_bytree', 0.01, 1.0),\n",
    "        'reg_alpha': trial.suggest_float('reg_alpha', 0.01, 1.0),\n",
    "        'reg_lambda': trial.suggest_float('reg_lambda', 0.01, 1.0),\n",
    "        'random_state': trial.suggest_int('random_state', 1, 1000)\n",
    "    }\n",
    "    model = XGBRegressor(**param)\n",
    "    model.fit(X_train, y_train)\n",
    "    y_pred = model.predict(X_test)\n",
    "    return np.sqrt(mean_squared_error(y_test, y_pred))"
   ]
  },
  {
   "cell_type": "code",
   "execution_count": 48,
   "metadata": {},
   "outputs": [
    {
     "name": "stderr",
     "output_type": "stream",
     "text": [
      "\u001b[32m[I 2023-01-31 23:19:19,689]\u001b[0m A new study created in memory with name: regression\u001b[0m\n",
      "\u001b[32m[I 2023-01-31 23:19:27,115]\u001b[0m Trial 0 finished with value: 20.50425487433687 and parameters: {'max_depth': 9, 'learning_rate': 0.8899898768032132, 'n_estimators': 742, 'min_child_weight': 8, 'gamma': 0.24483365891808206, 'subsample': 0.683549360316754, 'colsample_bytree': 0.1800994705731504, 'reg_alpha': 0.12299255906397302, 'reg_lambda': 0.06124102918940829, 'random_state': 908}. Best is trial 0 with value: 20.50425487433687.\u001b[0m\n",
      "\u001b[32m[I 2023-01-31 23:19:28,169]\u001b[0m Trial 1 finished with value: 15.595338601246185 and parameters: {'max_depth': 2, 'learning_rate': 0.6731381641114502, 'n_estimators': 343, 'min_child_weight': 5, 'gamma': 0.20895874738527057, 'subsample': 0.16966601811503212, 'colsample_bytree': 0.6273308127180829, 'reg_alpha': 0.8762323047959243, 'reg_lambda': 0.5423191738212015, 'random_state': 938}. Best is trial 1 with value: 15.595338601246185.\u001b[0m\n",
      "\u001b[32m[I 2023-01-31 23:19:30,956]\u001b[0m Trial 2 finished with value: 120.35465263303576 and parameters: {'max_depth': 6, 'learning_rate': 0.8463601321870963, 'n_estimators': 435, 'min_child_weight': 4, 'gamma': 0.10660734549846362, 'subsample': 0.25296769506105227, 'colsample_bytree': 0.3798492119078428, 'reg_alpha': 0.021220435509801933, 'reg_lambda': 0.4022819904941631, 'random_state': 665}. Best is trial 1 with value: 15.595338601246185.\u001b[0m\n",
      "\u001b[32m[I 2023-01-31 23:19:33,261]\u001b[0m Trial 3 finished with value: 13.126999974191799 and parameters: {'max_depth': 2, 'learning_rate': 0.10460103461391358, 'n_estimators': 909, 'min_child_weight': 10, 'gamma': 0.020667034146726465, 'subsample': 0.20507415224649744, 'colsample_bytree': 0.3738708840193192, 'reg_alpha': 0.9849526161531358, 'reg_lambda': 0.11521870001918946, 'random_state': 226}. Best is trial 3 with value: 13.126999974191799.\u001b[0m\n",
      "\u001b[32m[I 2023-01-31 23:19:36,590]\u001b[0m Trial 4 finished with value: 13.495213303375602 and parameters: {'max_depth': 4, 'learning_rate': 0.15729275371999382, 'n_estimators': 796, 'min_child_weight': 9, 'gamma': 0.862814811713266, 'subsample': 0.4657429502702299, 'colsample_bytree': 0.13492655946775042, 'reg_alpha': 0.9619621092741273, 'reg_lambda': 0.9781006632217976, 'random_state': 854}. Best is trial 3 with value: 13.126999974191799.\u001b[0m\n",
      "\u001b[32m[I 2023-01-31 23:19:39,711]\u001b[0m Trial 5 finished with value: 13.850365858019234 and parameters: {'max_depth': 2, 'learning_rate': 0.4809909026582507, 'n_estimators': 836, 'min_child_weight': 1, 'gamma': 0.9017278933341746, 'subsample': 0.7429388505872054, 'colsample_bytree': 0.6233779062040549, 'reg_alpha': 0.7262388386517408, 'reg_lambda': 0.8135323872479364, 'random_state': 729}. Best is trial 3 with value: 13.126999974191799.\u001b[0m\n",
      "\u001b[32m[I 2023-01-31 23:19:45,282]\u001b[0m Trial 6 finished with value: 26.38804253631379 and parameters: {'max_depth': 4, 'learning_rate': 0.5522818487423203, 'n_estimators': 968, 'min_child_weight': 7, 'gamma': 0.8987963075773685, 'subsample': 0.23660019197839896, 'colsample_bytree': 0.7377915388761762, 'reg_alpha': 0.4420360603203313, 'reg_lambda': 0.534073714010792, 'random_state': 412}. Best is trial 3 with value: 13.126999974191799.\u001b[0m\n",
      "\u001b[32m[I 2023-01-31 23:19:46,977]\u001b[0m Trial 7 finished with value: 22.855872018756784 and parameters: {'max_depth': 8, 'learning_rate': 0.7153612558615814, 'n_estimators': 132, 'min_child_weight': 2, 'gamma': 0.9061980264214031, 'subsample': 0.4354378000863431, 'colsample_bytree': 0.47816297394998075, 'reg_alpha': 0.4524056503231227, 'reg_lambda': 0.5614844024209231, 'random_state': 351}. Best is trial 3 with value: 13.126999974191799.\u001b[0m\n",
      "\u001b[32m[I 2023-01-31 23:19:49,345]\u001b[0m Trial 8 finished with value: 13.998155642565195 and parameters: {'max_depth': 9, 'learning_rate': 0.27791161752980714, 'n_estimators': 326, 'min_child_weight': 7, 'gamma': 0.9975077456771857, 'subsample': 0.7211703659253349, 'colsample_bytree': 0.0248806068452255, 'reg_alpha': 0.7539336257164565, 'reg_lambda': 0.6418695770122476, 'random_state': 14}. Best is trial 3 with value: 13.126999974191799.\u001b[0m\n",
      "\u001b[32m[I 2023-01-31 23:19:51,754]\u001b[0m Trial 9 finished with value: 12.916103699910257 and parameters: {'max_depth': 1, 'learning_rate': 0.09970272572995101, 'n_estimators': 807, 'min_child_weight': 8, 'gamma': 0.9771913844809805, 'subsample': 0.9344577519806835, 'colsample_bytree': 0.9964201707549212, 'reg_alpha': 0.4117480815294106, 'reg_lambda': 0.025379328710194125, 'random_state': 604}. Best is trial 9 with value: 12.916103699910257.\u001b[0m\n",
      "\u001b[32m[I 2023-01-31 23:19:59,240]\u001b[0m Trial 10 finished with value: 12.902199534094354 and parameters: {'max_depth': 1, 'learning_rate': 0.024152670035085533, 'n_estimators': 634, 'min_child_weight': 4, 'gamma': 0.6476411069959247, 'subsample': 0.9832636246577593, 'colsample_bytree': 0.9984726904094893, 'reg_alpha': 0.2682329512045069, 'reg_lambda': 0.26791245224297444, 'random_state': 617}. Best is trial 10 with value: 12.902199534094354.\u001b[0m\n",
      "\u001b[32m[I 2023-01-31 23:20:01,994]\u001b[0m Trial 11 finished with value: 12.90209607017894 and parameters: {'max_depth': 1, 'learning_rate': 0.021823292458271915, 'n_estimators': 650, 'min_child_weight': 4, 'gamma': 0.6965394636363594, 'subsample': 0.9911127895774059, 'colsample_bytree': 0.9682698975452537, 'reg_alpha': 0.28446280133398094, 'reg_lambda': 0.18247087209205848, 'random_state': 535}. Best is trial 11 with value: 12.90209607017894.\u001b[0m\n",
      "\u001b[32m[I 2023-01-31 23:20:07,016]\u001b[0m Trial 12 finished with value: 12.952445056480661 and parameters: {'max_depth': 4, 'learning_rate': 0.0270183230281027, 'n_estimators': 634, 'min_child_weight': 3, 'gamma': 0.6427947128831696, 'subsample': 0.9999317376531293, 'colsample_bytree': 0.9985959830517254, 'reg_alpha': 0.24450509750043237, 'reg_lambda': 0.2690416385401718, 'random_state': 543}. Best is trial 11 with value: 12.90209607017894.\u001b[0m\n",
      "\u001b[32m[I 2023-01-31 23:20:08,434]\u001b[0m Trial 13 finished with value: 12.954612193238969 and parameters: {'max_depth': 1, 'learning_rate': 0.25515754942352753, 'n_estimators': 576, 'min_child_weight': 5, 'gamma': 0.6082417282320071, 'subsample': 0.8994140541668545, 'colsample_bytree': 0.8607739287651628, 'reg_alpha': 0.255141640863589, 'reg_lambda': 0.2563755855644813, 'random_state': 445}. Best is trial 11 with value: 12.90209607017894.\u001b[0m\n",
      "\u001b[32m[I 2023-01-31 23:20:16,100]\u001b[0m Trial 14 finished with value: 14.264400248089817 and parameters: {'max_depth': 6, 'learning_rate': 0.2593506074113978, 'n_estimators': 662, 'min_child_weight': 3, 'gamma': 0.6961924180363336, 'subsample': 0.8283335684167838, 'colsample_bytree': 0.8258171669611349, 'reg_alpha': 0.29225538146845226, 'reg_lambda': 0.2536084575479498, 'random_state': 758}. Best is trial 11 with value: 12.90209607017894.\u001b[0m\n",
      "\u001b[32m[I 2023-01-31 23:20:18,852]\u001b[0m Trial 15 finished with value: 12.91022677180983 and parameters: {'max_depth': 3, 'learning_rate': 0.03542525548245974, 'n_estimators': 484, 'min_child_weight': 6, 'gamma': 0.4485932250073015, 'subsample': 0.9842221971965619, 'colsample_bytree': 0.8684003158402158, 'reg_alpha': 0.5462834982997951, 'reg_lambda': 0.3734104429283275, 'random_state': 191}. Best is trial 11 with value: 12.90209607017894.\u001b[0m\n",
      "\u001b[32m[I 2023-01-31 23:20:20,625]\u001b[0m Trial 16 finished with value: 12.917400819480962 and parameters: {'max_depth': 1, 'learning_rate': 0.01256261677860606, 'n_estimators': 685, 'min_child_weight': 4, 'gamma': 0.7714866094317719, 'subsample': 0.8411305962206974, 'colsample_bytree': 0.9877868926253541, 'reg_alpha': 0.1567190216292812, 'reg_lambda': 0.13713527148662244, 'random_state': 533}. Best is trial 11 with value: 12.90209607017894.\u001b[0m\n",
      "\u001b[32m[I 2023-01-31 23:20:28,486]\u001b[0m Trial 17 finished with value: 15.300645544783464 and parameters: {'max_depth': 7, 'learning_rate': 0.39232895459771244, 'n_estimators': 558, 'min_child_weight': 2, 'gamma': 0.4913318480826827, 'subsample': 0.6211461133595039, 'colsample_bytree': 0.7615523680063516, 'reg_alpha': 0.34598054953517954, 'reg_lambda': 0.17848162402362244, 'random_state': 310}. Best is trial 11 with value: 12.90209607017894.\u001b[0m\n",
      "\u001b[32m[I 2023-01-31 23:20:29,357]\u001b[0m Trial 18 finished with value: 12.966033075867601 and parameters: {'max_depth': 3, 'learning_rate': 0.17478152335411437, 'n_estimators': 138, 'min_child_weight': 4, 'gamma': 0.5651732866815826, 'subsample': 0.8325183976364585, 'colsample_bytree': 0.9175688498903659, 'reg_alpha': 0.5676161690352485, 'reg_lambda': 0.3807002219707842, 'random_state': 797}. Best is trial 11 with value: 12.90209607017894.\u001b[0m\n",
      "\u001b[32m[I 2023-01-31 23:20:32,687]\u001b[0m Trial 19 finished with value: 14.182565759795533 and parameters: {'max_depth': 5, 'learning_rate': 0.3491344425463987, 'n_estimators': 378, 'min_child_weight': 6, 'gamma': 0.7458509040508345, 'subsample': 0.9013627565861719, 'colsample_bytree': 0.7445336525272421, 'reg_alpha': 0.3376360607786999, 'reg_lambda': 0.19295986020079242, 'random_state': 681}. Best is trial 11 with value: 12.90209607017894.\u001b[0m\n",
      "\u001b[32m[I 2023-01-31 23:20:35,681]\u001b[0m Trial 20 finished with value: 13.166753656359148 and parameters: {'max_depth': 3, 'learning_rate': 0.1740320000107713, 'n_estimators': 508, 'min_child_weight': 1, 'gamma': 0.4249664419051299, 'subsample': 0.996094879352085, 'colsample_bytree': 0.9129796181050709, 'reg_alpha': 0.1980793861456035, 'reg_lambda': 0.013740192521234429, 'random_state': 612}. Best is trial 11 with value: 12.90209607017894.\u001b[0m\n",
      "\u001b[32m[I 2023-01-31 23:20:38,762]\u001b[0m Trial 21 finished with value: 12.880155275102345 and parameters: {'max_depth': 3, 'learning_rate': 0.027122905843075095, 'n_estimators': 464, 'min_child_weight': 6, 'gamma': 0.44560982375960845, 'subsample': 0.9853183455577158, 'colsample_bytree': 0.8834925455233669, 'reg_alpha': 0.53656542523677, 'reg_lambda': 0.35582159592902246, 'random_state': 107}. Best is trial 21 with value: 12.880155275102345.\u001b[0m\n",
      "\u001b[32m[I 2023-01-31 23:20:39,471]\u001b[0m Trial 22 finished with value: 13.022043677237846 and parameters: {'max_depth': 1, 'learning_rate': 0.018104461896820453, 'n_estimators': 269, 'min_child_weight': 5, 'gamma': 0.5678362045424328, 'subsample': 0.8857458581403299, 'colsample_bytree': 0.9223941708807032, 'reg_alpha': 0.38192636383987333, 'reg_lambda': 0.32806021352522374, 'random_state': 25}. Best is trial 21 with value: 12.880155275102345.\u001b[0m\n",
      "\u001b[32m[I 2023-01-31 23:20:41,897]\u001b[0m Trial 23 finished with value: 12.969098014255069 and parameters: {'max_depth': 2, 'learning_rate': 0.11353671450028396, 'n_estimators': 602, 'min_child_weight': 3, 'gamma': 0.3592899057465298, 'subsample': 0.7737436734769405, 'colsample_bytree': 0.8170251842699398, 'reg_alpha': 0.5210773245980408, 'reg_lambda': 0.4492874986261053, 'random_state': 126}. Best is trial 21 with value: 12.880155275102345.\u001b[0m\n",
      "\u001b[32m[I 2023-01-31 23:20:46,437]\u001b[0m Trial 24 finished with value: 13.421462163851535 and parameters: {'max_depth': 3, 'learning_rate': 0.21347763110011023, 'n_estimators': 716, 'min_child_weight': 6, 'gamma': 0.674855663178186, 'subsample': 0.9269605771884188, 'colsample_bytree': 0.9987872928096179, 'reg_alpha': 0.29336179900830084, 'reg_lambda': 0.31022414928634234, 'random_state': 453}. Best is trial 21 with value: 12.880155275102345.\u001b[0m\n",
      "\u001b[32m[I 2023-01-31 23:20:47,172]\u001b[0m Trial 25 finished with value: 12.903841240920986 and parameters: {'max_depth': 1, 'learning_rate': 0.09708499673394301, 'n_estimators': 226, 'min_child_weight': 4, 'gamma': 0.5662428928735409, 'subsample': 0.5961803063891584, 'colsample_bytree': 0.9034398917034675, 'reg_alpha': 0.4702290908528458, 'reg_lambda': 0.19140544269370438, 'random_state': 260}. Best is trial 21 with value: 12.880155275102345.\u001b[0m\n",
      "\u001b[32m[I 2023-01-31 23:20:49,643]\u001b[0m Trial 26 finished with value: 13.229603016481908 and parameters: {'max_depth': 2, 'learning_rate': 0.32913615868391305, 'n_estimators': 414, 'min_child_weight': 5, 'gamma': 0.7823763506033043, 'subsample': 0.808348884276832, 'colsample_bytree': 0.7991157965346591, 'reg_alpha': 0.603147459909266, 'reg_lambda': 0.4653174016995145, 'random_state': 579}. Best is trial 21 with value: 12.880155275102345.\u001b[0m\n",
      "\u001b[32m[I 2023-01-31 23:20:53,855]\u001b[0m Trial 27 finished with value: 13.495203534204002 and parameters: {'max_depth': 5, 'learning_rate': 0.20533553387203113, 'n_estimators': 481, 'min_child_weight': 7, 'gamma': 0.5016294500429529, 'subsample': 0.996288332010841, 'colsample_bytree': 0.6766326071364537, 'reg_alpha': 0.3677919122999014, 'reg_lambda': 0.10082847333873186, 'random_state': 127}. Best is trial 21 with value: 12.880155275102345.\u001b[0m\n",
      "\u001b[32m[I 2023-01-31 23:21:08,754]\u001b[0m Trial 28 finished with value: 13.327093467010314 and parameters: {'max_depth': 10, 'learning_rate': 0.07695655379590428, 'n_estimators': 575, 'min_child_weight': 2, 'gamma': 0.6908233526131103, 'subsample': 0.8716211944231602, 'colsample_bytree': 0.9252357292375507, 'reg_alpha': 0.10201216514852982, 'reg_lambda': 0.31561688019726863, 'random_state': 356}. Best is trial 21 with value: 12.880155275102345.\u001b[0m\n",
      "\u001b[32m[I 2023-01-31 23:21:11,704]\u001b[0m Trial 29 finished with value: 13.069204914708159 and parameters: {'max_depth': 2, 'learning_rate': 0.13756169096592563, 'n_estimators': 741, 'min_child_weight': 8, 'gamma': 0.32972837738509486, 'subsample': 0.7122037955317763, 'colsample_bytree': 0.8414830630869827, 'reg_alpha': 0.19166141009780446, 'reg_lambda': 0.08614932338721311, 'random_state': 498}. Best is trial 21 with value: 12.880155275102345.\u001b[0m\n",
      "\u001b[32m[I 2023-01-31 23:21:15,152]\u001b[0m Trial 30 finished with value: 12.875710156274005 and parameters: {'max_depth': 3, 'learning_rate': 0.010123949461119438, 'n_estimators': 642, 'min_child_weight': 3, 'gamma': 0.6188341963880296, 'subsample': 0.9339359374777606, 'colsample_bytree': 0.6940614431253255, 'reg_alpha': 0.1268975486106587, 'reg_lambda': 0.1905051296102713, 'random_state': 863}. Best is trial 30 with value: 12.875710156274005.\u001b[0m\n",
      "\u001b[32m[I 2023-01-31 23:21:19,893]\u001b[0m Trial 31 finished with value: 13.00107851759772 and parameters: {'max_depth': 4, 'learning_rate': 0.05338845556443117, 'n_estimators': 644, 'min_child_weight': 3, 'gamma': 0.6028513775253547, 'subsample': 0.9376268133928306, 'colsample_bytree': 0.9431423139277966, 'reg_alpha': 0.04403266163532843, 'reg_lambda': 0.23735497021761087, 'random_state': 1000}. Best is trial 30 with value: 12.875710156274005.\u001b[0m\n",
      "\u001b[32m[I 2023-01-31 23:21:22,793]\u001b[0m Trial 32 finished with value: 12.87585104162843 and parameters: {'max_depth': 3, 'learning_rate': 0.01259316726906936, 'n_estimators': 530, 'min_child_weight': 4, 'gamma': 0.5248457567819047, 'subsample': 0.7819583146159361, 'colsample_bytree': 0.8647237881528148, 'reg_alpha': 0.11852446450898638, 'reg_lambda': 0.19396410983157783, 'random_state': 856}. Best is trial 30 with value: 12.875710156274005.\u001b[0m\n",
      "\u001b[32m[I 2023-01-31 23:21:25,427]\u001b[0m Trial 33 finished with value: 13.023838780063729 and parameters: {'max_depth': 3, 'learning_rate': 0.12645463778834054, 'n_estimators': 517, 'min_child_weight': 5, 'gamma': 0.5141549897979316, 'subsample': 0.7882004708617358, 'colsample_bytree': 0.6868846124495702, 'reg_alpha': 0.11497875396633007, 'reg_lambda': 0.16121454254898585, 'random_state': 925}. Best is trial 30 with value: 12.875710156274005.\u001b[0m\n",
      "\u001b[32m[I 2023-01-31 23:21:29,150]\u001b[0m Trial 34 finished with value: 13.11201419662362 and parameters: {'max_depth': 5, 'learning_rate': 0.0789917449250068, 'n_estimators': 448, 'min_child_weight': 4, 'gamma': 0.32606784685703016, 'subsample': 0.8527720788065124, 'colsample_bytree': 0.7791083080809146, 'reg_alpha': 0.0664309876128296, 'reg_lambda': 0.07479749835325045, 'random_state': 847}. Best is trial 30 with value: 12.875710156274005.\u001b[0m\n",
      "\u001b[32m[I 2023-01-31 23:21:34,680]\u001b[0m Trial 35 finished with value: 13.473051037185048 and parameters: {'max_depth': 4, 'learning_rate': 0.16796768172208806, 'n_estimators': 758, 'min_child_weight': 3, 'gamma': 0.39248880289737764, 'subsample': 0.9279070086210579, 'colsample_bytree': 0.871811973277284, 'reg_alpha': 0.16595392091659783, 'reg_lambda': 0.11660453299313156, 'random_state': 851}. Best is trial 30 with value: 12.875710156274005.\u001b[0m\n",
      "\u001b[32m[I 2023-01-31 23:21:42,986]\u001b[0m Trial 36 finished with value: 13.360400793567084 and parameters: {'max_depth': 6, 'learning_rate': 0.07516143424614123, 'n_estimators': 873, 'min_child_weight': 6, 'gamma': 0.2879478712377304, 'subsample': 0.7668215352685688, 'colsample_bytree': 0.5873020863794256, 'reg_alpha': 0.08077688897267983, 'reg_lambda': 0.2128442615925195, 'random_state': 960}. Best is trial 30 with value: 12.875710156274005.\u001b[0m\n",
      "\u001b[32m[I 2023-01-31 23:21:44,137]\u001b[0m Trial 37 finished with value: 12.922179306335487 and parameters: {'max_depth': 2, 'learning_rate': 0.01248109122407469, 'n_estimators': 331, 'min_child_weight': 2, 'gamma': 0.4776887656084138, 'subsample': 0.8634530697727936, 'colsample_bytree': 0.7061672748627473, 'reg_alpha': 0.12694407284457654, 'reg_lambda': 0.1531620576483566, 'random_state': 693}. Best is trial 30 with value: 12.875710156274005.\u001b[0m\n",
      "\u001b[32m[I 2023-01-31 23:21:46,369]\u001b[0m Trial 38 finished with value: 13.006266554811488 and parameters: {'max_depth': 3, 'learning_rate': 0.11767580765852734, 'n_estimators': 420, 'min_child_weight': 5, 'gamma': 0.24693547233360447, 'subsample': 0.9431766561859477, 'colsample_bytree': 0.8318569027164096, 'reg_alpha': 0.04101276500549955, 'reg_lambda': 0.054960710504426136, 'random_state': 777}. Best is trial 30 with value: 12.875710156274005.\u001b[0m\n",
      "\u001b[32m[I 2023-01-31 23:21:49,834]\u001b[0m Trial 39 finished with value: 13.766136073863533 and parameters: {'max_depth': 4, 'learning_rate': 0.2235523879418106, 'n_estimators': 540, 'min_child_weight': 10, 'gamma': 0.40529775316047095, 'subsample': 0.6565671042522697, 'colsample_bytree': 0.772717163660984, 'reg_alpha': 0.21617580779013784, 'reg_lambda': 0.13502587772150035, 'random_state': 872}. Best is trial 30 with value: 12.875710156274005.\u001b[0m\n",
      "\u001b[32m[I 2023-01-31 23:21:57,971]\u001b[0m Trial 40 finished with value: 13.726291139442122 and parameters: {'max_depth': 7, 'learning_rate': 0.15056171609389513, 'n_estimators': 695, 'min_child_weight': 7, 'gamma': 0.523791961816178, 'subsample': 0.7623150566874176, 'colsample_bytree': 0.613083257096569, 'reg_alpha': 0.028381309546133854, 'reg_lambda': 0.34024243861483144, 'random_state': 715}. Best is trial 30 with value: 12.875710156274005.\u001b[0m\n",
      "\u001b[32m[I 2023-01-31 23:22:00,507]\u001b[0m Trial 41 finished with value: 12.934866483837745 and parameters: {'max_depth': 2, 'learning_rate': 0.0633469326769646, 'n_estimators': 618, 'min_child_weight': 4, 'gamma': 0.6364459955366489, 'subsample': 0.9547276317044636, 'colsample_bytree': 0.9644246931057986, 'reg_alpha': 0.1537116340739848, 'reg_lambda': 0.2214653186085093, 'random_state': 651}. Best is trial 30 with value: 12.875710156274005.\u001b[0m\n",
      "\u001b[32m[I 2023-01-31 23:22:02,377]\u001b[0m Trial 42 finished with value: 12.902997871439245 and parameters: {'max_depth': 1, 'learning_rate': 0.05853331625079366, 'n_estimators': 787, 'min_child_weight': 3, 'gamma': 0.7231772266513514, 'subsample': 0.8962110054393311, 'colsample_bytree': 0.8869786391671681, 'reg_alpha': 0.24927046264772607, 'reg_lambda': 0.27341450449338456, 'random_state': 635}. Best is trial 30 with value: 12.875710156274005.\u001b[0m\n",
      "\u001b[32m[I 2023-01-31 23:22:04,684]\u001b[0m Trial 43 finished with value: 12.895789312862755 and parameters: {'max_depth': 2, 'learning_rate': 0.019145068037707363, 'n_estimators': 594, 'min_child_weight': 4, 'gamma': 0.6368106221557718, 'subsample': 0.9732753367218115, 'colsample_bytree': 0.9432544691632847, 'reg_alpha': 0.3005770091232446, 'reg_lambda': 0.30564635900955484, 'random_state': 799}. Best is trial 30 with value: 12.875710156274005.\u001b[0m\n",
      "\u001b[32m[I 2023-01-31 23:22:07,896]\u001b[0m Trial 44 finished with value: 13.026613705626465 and parameters: {'max_depth': 3, 'learning_rate': 0.10848367036828166, 'n_estimators': 582, 'min_child_weight': 4, 'gamma': 0.8162117783263751, 'subsample': 0.9593540200393138, 'colsample_bytree': 0.9395214821996914, 'reg_alpha': 0.32180094700847406, 'reg_lambda': 0.30494692959272757, 'random_state': 811}. Best is trial 30 with value: 12.875710156274005.\u001b[0m\n",
      "\u001b[32m[I 2023-01-31 23:22:09,773]\u001b[0m Trial 45 finished with value: 12.895117230529912 and parameters: {'max_depth': 2, 'learning_rate': 0.013235577765234048, 'n_estimators': 477, 'min_child_weight': 5, 'gamma': 0.45808321942719626, 'subsample': 0.9035104305554804, 'colsample_bytree': 0.8683854980842293, 'reg_alpha': 0.2236469091804423, 'reg_lambda': 0.4130471100299027, 'random_state': 913}. Best is trial 30 with value: 12.875710156274005.\u001b[0m\n",
      "\u001b[32m[I 2023-01-31 23:22:11,502]\u001b[0m Trial 46 finished with value: 12.910074825373618 and parameters: {'max_depth': 2, 'learning_rate': 0.060902000725311184, 'n_estimators': 464, 'min_child_weight': 5, 'gamma': 0.4654639657631549, 'subsample': 0.8068791030720731, 'colsample_bytree': 0.8075965732067609, 'reg_alpha': 0.22904811248493662, 'reg_lambda': 0.4274669435066606, 'random_state': 906}. Best is trial 30 with value: 12.875710156274005.\u001b[0m\n",
      "\u001b[32m[I 2023-01-31 23:22:12,912]\u001b[0m Trial 47 finished with value: 12.948800076793804 and parameters: {'max_depth': 2, 'learning_rate': 0.1553951849023895, 'n_estimators': 368, 'min_child_weight': 6, 'gamma': 0.43505855862407006, 'subsample': 0.9095341510550007, 'colsample_bytree': 0.8681438222046538, 'reg_alpha': 0.10122657451883432, 'reg_lambda': 0.3769947304880557, 'random_state': 987}. Best is trial 30 with value: 12.875710156274005.\u001b[0m\n",
      "\u001b[32m[I 2023-01-31 23:22:19,289]\u001b[0m Trial 48 finished with value: 12.88746357120792 and parameters: {'max_depth': 4, 'learning_rate': 0.014712000870872531, 'n_estimators': 973, 'min_child_weight': 5, 'gamma': 0.6077549855253552, 'subsample': 0.8742698404630636, 'colsample_bytree': 0.7207762863100642, 'reg_alpha': 0.17745856249901065, 'reg_lambda': 0.4889028134432176, 'random_state': 879}. Best is trial 30 with value: 12.875710156274005.\u001b[0m\n",
      "\u001b[32m[I 2023-01-31 23:22:25,113]\u001b[0m Trial 49 finished with value: 13.218045530097129 and parameters: {'max_depth': 4, 'learning_rate': 0.09049488670973524, 'n_estimators': 889, 'min_child_weight': 7, 'gamma': 0.5303080736621574, 'subsample': 0.8467147767381364, 'colsample_bytree': 0.7248545599150045, 'reg_alpha': 0.015339298077313976, 'reg_lambda': 0.4927695680762072, 'random_state': 928}. Best is trial 30 with value: 12.875710156274005.\u001b[0m\n",
      "\u001b[32m[I 2023-01-31 23:22:33,070]\u001b[0m Trial 50 finished with value: 13.134200129437305 and parameters: {'max_depth': 5, 'learning_rate': 0.053264380890667325, 'n_estimators': 992, 'min_child_weight': 5, 'gamma': 0.4639273814036154, 'subsample': 0.7315512924671026, 'colsample_bytree': 0.6483602166069047, 'reg_alpha': 0.1563263816957006, 'reg_lambda': 0.5641039814906844, 'random_state': 890}. Best is trial 30 with value: 12.875710156274005.\u001b[0m\n",
      "\u001b[32m[I 2023-01-31 23:22:37,873]\u001b[0m Trial 51 finished with value: 12.88874566521741 and parameters: {'max_depth': 3, 'learning_rate': 0.01730375232310909, 'n_estimators': 936, 'min_child_weight': 5, 'gamma': 0.6102564586025236, 'subsample': 0.8700649058026934, 'colsample_bytree': 0.7595632786240339, 'reg_alpha': 0.19607922761109614, 'reg_lambda': 0.41188248549903617, 'random_state': 829}. Best is trial 30 with value: 12.875710156274005.\u001b[0m\n",
      "\u001b[32m[I 2023-01-31 23:22:42,569]\u001b[0m Trial 52 finished with value: 12.875934699373115 and parameters: {'max_depth': 3, 'learning_rate': 0.011242083881067719, 'n_estimators': 947, 'min_child_weight': 6, 'gamma': 0.5954909805526402, 'subsample': 0.8802453018514742, 'colsample_bytree': 0.7254246397097213, 'reg_alpha': 0.2111476950646381, 'reg_lambda': 0.4179494296943791, 'random_state': 737}. Best is trial 30 with value: 12.875710156274005.\u001b[0m\n",
      "\u001b[32m[I 2023-01-31 23:22:48,634]\u001b[0m Trial 53 finished with value: 13.393852391361765 and parameters: {'max_depth': 4, 'learning_rate': 0.1250777032329774, 'n_estimators': 914, 'min_child_weight': 6, 'gamma': 0.5994766719205942, 'subsample': 0.8066099037827175, 'colsample_bytree': 0.7460224545460235, 'reg_alpha': 0.07340333934534977, 'reg_lambda': 0.5272455221349739, 'random_state': 842}. Best is trial 30 with value: 12.875710156274005.\u001b[0m\n",
      "\u001b[32m[I 2023-01-31 23:22:53,281]\u001b[0m Trial 54 finished with value: 12.963830166027934 and parameters: {'max_depth': 3, 'learning_rate': 0.058568039327818205, 'n_estimators': 946, 'min_child_weight': 6, 'gamma': 0.5566514939421007, 'subsample': 0.8802836868805907, 'colsample_bytree': 0.7137408825541913, 'reg_alpha': 0.18488794332533737, 'reg_lambda': 0.363828593653918, 'random_state': 749}. Best is trial 30 with value: 12.875710156274005.\u001b[0m\n",
      "\u001b[32m[I 2023-01-31 23:22:58,873]\u001b[0m Trial 55 finished with value: 13.25742002564363 and parameters: {'max_depth': 4, 'learning_rate': 0.1079482871808371, 'n_estimators': 835, 'min_child_weight': 7, 'gamma': 0.6016576338629092, 'subsample': 0.850027623482172, 'colsample_bytree': 0.7831007600570284, 'reg_alpha': 0.13989255637795694, 'reg_lambda': 0.4134086032752985, 'random_state': 959}. Best is trial 30 with value: 12.875710156274005.\u001b[0m\n",
      "\u001b[32m[I 2023-01-31 23:23:03,273]\u001b[0m Trial 56 finished with value: 12.931157840822976 and parameters: {'max_depth': 3, 'learning_rate': 0.041040321408643, 'n_estimators': 942, 'min_child_weight': 6, 'gamma': 0.5480376581837964, 'subsample': 0.952909684390297, 'colsample_bytree': 0.5649907716615793, 'reg_alpha': 0.1996346883821235, 'reg_lambda': 0.46647029951986957, 'random_state': 822}. Best is trial 30 with value: 12.875710156274005.\u001b[0m\n",
      "\u001b[32m[I 2023-01-31 23:23:08,115]\u001b[0m Trial 57 finished with value: 12.872938228669188 and parameters: {'max_depth': 3, 'learning_rate': 0.011827323693776924, 'n_estimators': 972, 'min_child_weight': 8, 'gamma': 0.6582625575377095, 'subsample': 0.8299434021227543, 'colsample_bytree': 0.6631606153069924, 'reg_alpha': 0.2730867089935157, 'reg_lambda': 0.5989691035027318, 'random_state': 733}. Best is trial 57 with value: 12.872938228669188.\u001b[0m\n",
      "\u001b[32m[I 2023-01-31 23:23:14,335]\u001b[0m Trial 58 finished with value: 13.779315650652613 and parameters: {'max_depth': 4, 'learning_rate': 0.1893277768137267, 'n_estimators': 972, 'min_child_weight': 9, 'gamma': 0.6896521922947939, 'subsample': 0.8059073322529455, 'colsample_bytree': 0.6640927093845143, 'reg_alpha': 0.2569110899835928, 'reg_lambda': 0.5889827903752439, 'random_state': 730}. Best is trial 57 with value: 12.872938228669188.\u001b[0m\n",
      "\u001b[32m[I 2023-01-31 23:23:18,332]\u001b[0m Trial 59 finished with value: 13.304159246504957 and parameters: {'max_depth': 3, 'learning_rate': 0.1492589141687897, 'n_estimators': 826, 'min_child_weight': 8, 'gamma': 0.6500724644237342, 'subsample': 0.7460269114842629, 'colsample_bytree': 0.7062415498242105, 'reg_alpha': 0.4020786447061289, 'reg_lambda': 0.6620609956583466, 'random_state': 878}. Best is trial 57 with value: 12.872938228669188.\u001b[0m\n",
      "\u001b[32m[I 2023-01-31 23:23:18,836]\u001b[0m Trial 60 finished with value: 12.9033162257712 and parameters: {'max_depth': 5, 'learning_rate': 0.09048778623273952, 'n_estimators': 54, 'min_child_weight': 9, 'gamma': 0.49944351985536367, 'subsample': 0.8325202863412605, 'colsample_bytree': 0.6375740183694804, 'reg_alpha': 0.1379984242402022, 'reg_lambda': 0.5123641088263045, 'random_state': 753}. Best is trial 57 with value: 12.872938228669188.\u001b[0m\n",
      "\u001b[32m[I 2023-01-31 23:23:23,214]\u001b[0m Trial 61 finished with value: 12.904975035000573 and parameters: {'max_depth': 3, 'learning_rate': 0.03448869680314569, 'n_estimators': 881, 'min_child_weight': 5, 'gamma': 0.6053249061130342, 'subsample': 0.8758458768735911, 'colsample_bytree': 0.75113046216741, 'reg_alpha': 0.2702168654184056, 'reg_lambda': 0.39375463397651284, 'random_state': 786}. Best is trial 57 with value: 12.872938228669188.\u001b[0m\n",
      "\u001b[32m[I 2023-01-31 23:23:28,096]\u001b[0m Trial 62 finished with value: 12.873103005332505 and parameters: {'max_depth': 3, 'learning_rate': 0.013692615023914965, 'n_estimators': 926, 'min_child_weight': 8, 'gamma': 0.5827261137757812, 'subsample': 0.9183138089560751, 'colsample_bytree': 0.8056870454255848, 'reg_alpha': 0.23406543238032052, 'reg_lambda': 0.44471349705902796, 'random_state': 705}. Best is trial 57 with value: 12.872938228669188.\u001b[0m\n",
      "\u001b[32m[I 2023-01-31 23:23:34,676]\u001b[0m Trial 63 finished with value: 13.054110397903068 and parameters: {'max_depth': 4, 'learning_rate': 0.04773239851192548, 'n_estimators': 975, 'min_child_weight': 8, 'gamma': 0.6668878771572946, 'subsample': 0.9210349946708983, 'colsample_bytree': 0.8162555234016489, 'reg_alpha': 0.3194468866446704, 'reg_lambda': 0.4825246856423409, 'random_state': 690}. Best is trial 57 with value: 12.872938228669188.\u001b[0m\n",
      "\u001b[32m[I 2023-01-31 23:23:39,926]\u001b[0m Trial 64 finished with value: 13.077510994523044 and parameters: {'max_depth': 3, 'learning_rate': 0.0954320819156351, 'n_estimators': 997, 'min_child_weight': 8, 'gamma': 0.5447977070537215, 'subsample': 0.9715416306591365, 'colsample_bytree': 0.841135130227178, 'reg_alpha': 0.17320242320551202, 'reg_lambda': 0.4587833403968101, 'random_state': 730}. Best is trial 57 with value: 12.872938228669188.\u001b[0m\n",
      "\u001b[32m[I 2023-01-31 23:23:45,831]\u001b[0m Trial 65 finished with value: 12.895575851727695 and parameters: {'max_depth': 4, 'learning_rate': 0.013901962365742666, 'n_estimators': 858, 'min_child_weight': 10, 'gamma': 0.7174373235487155, 'subsample': 0.9283674863396505, 'colsample_bytree': 0.792310836353753, 'reg_alpha': 0.22838375046645087, 'reg_lambda': 0.44161201225030483, 'random_state': 578}. Best is trial 57 with value: 12.872938228669188.\u001b[0m\n",
      "\u001b[32m[I 2023-01-31 23:23:50,236]\u001b[0m Trial 66 finished with value: 13.08447308736526 and parameters: {'max_depth': 3, 'learning_rate': 0.08500305628086718, 'n_estimators': 912, 'min_child_weight': 9, 'gamma': 0.562864814595682, 'subsample': 0.893604093582229, 'colsample_bytree': 0.6839582881263517, 'reg_alpha': 0.11711008399422468, 'reg_lambda': 0.35720125966448546, 'random_state': 871}. Best is trial 57 with value: 12.872938228669188.\u001b[0m\n",
      "\u001b[32m[I 2023-01-31 23:23:54,039]\u001b[0m Trial 67 finished with value: 13.190847801933183 and parameters: {'max_depth': 3, 'learning_rate': 0.14305008645712575, 'n_estimators': 779, 'min_child_weight': 7, 'gamma': 0.5072462480434868, 'subsample': 0.8215927819746889, 'colsample_bytree': 0.7251751418436378, 'reg_alpha': 0.2845053602233047, 'reg_lambda': 0.2744447308927177, 'random_state': 671}. Best is trial 57 with value: 12.872938228669188.\u001b[0m\n",
      "\u001b[32m[I 2023-01-31 23:23:57,740]\u001b[0m Trial 68 finished with value: 12.930209595985245 and parameters: {'max_depth': 2, 'learning_rate': 0.04396011605008463, 'n_estimators': 955, 'min_child_weight': 8, 'gamma': 0.5823769373929049, 'subsample': 0.9993597028041562, 'colsample_bytree': 0.8389789625297979, 'reg_alpha': 0.09135610608274139, 'reg_lambda': 0.49168174022572303, 'random_state': 773}. Best is trial 57 with value: 12.872938228669188.\u001b[0m\n",
      "\u001b[32m[I 2023-01-31 23:24:04,833]\u001b[0m Trial 69 finished with value: 12.881009518705612 and parameters: {'max_depth': 4, 'learning_rate': 0.010222021280678015, 'n_estimators': 916, 'min_child_weight': 2, 'gamma': 0.6292913632748516, 'subsample': 0.7826839233044744, 'colsample_bytree': 0.8976072921575912, 'reg_alpha': 0.36328094242699605, 'reg_lambda': 0.20681974437354664, 'random_state': 125}. Best is trial 57 with value: 12.872938228669188.\u001b[0m\n",
      "\u001b[33m[W 2023-01-31 23:24:08,842]\u001b[0m Trial 70 failed with parameters: {'max_depth': 3, 'learning_rate': 0.18800793589686934, 'n_estimators': 848, 'min_child_weight': 2, 'gamma': 0.6554054957823381, 'subsample': 0.7772755643368907, 'colsample_bytree': 0.912475699293922, 'reg_alpha': 0.4381942848171862, 'reg_lambda': 0.20622805996026403, 'random_state': 58} because of the following error: KeyboardInterrupt().\u001b[0m\n",
      "Traceback (most recent call last):\n",
      "  File \"/Users/kylecox/opt/anaconda3/lib/python3.9/site-packages/optuna/study/_optimize.py\", line 200, in _run_trial\n",
      "    value_or_values = func(trial)\n",
      "  File \"/var/folders/_6/_8xn00vj0gz5g10qr8khtxz40000gn/T/ipykernel_10067/4181945504.py\", line 16, in objective\n",
      "    model.fit(X_train, y_train)\n",
      "  File \"/Users/kylecox/opt/anaconda3/lib/python3.9/site-packages/xgboost/core.py\", line 620, in inner_f\n",
      "    return func(**kwargs)\n",
      "  File \"/Users/kylecox/opt/anaconda3/lib/python3.9/site-packages/xgboost/sklearn.py\", line 1051, in fit\n",
      "    self._Booster = train(\n",
      "  File \"/Users/kylecox/opt/anaconda3/lib/python3.9/site-packages/xgboost/core.py\", line 620, in inner_f\n",
      "    return func(**kwargs)\n",
      "  File \"/Users/kylecox/opt/anaconda3/lib/python3.9/site-packages/xgboost/training.py\", line 185, in train\n",
      "    bst.update(dtrain, i, obj)\n",
      "  File \"/Users/kylecox/opt/anaconda3/lib/python3.9/site-packages/xgboost/core.py\", line 1918, in update\n",
      "    _check_call(_LIB.XGBoosterUpdateOneIter(self.handle,\n",
      "KeyboardInterrupt\n",
      "\u001b[33m[W 2023-01-31 23:24:08,843]\u001b[0m Trial 70 failed with value None.\u001b[0m\n"
     ]
    },
    {
     "ename": "KeyboardInterrupt",
     "evalue": "",
     "output_type": "error",
     "traceback": [
      "\u001b[0;31m---------------------------------------------------------------------------\u001b[0m",
      "\u001b[0;31mKeyboardInterrupt\u001b[0m                         Traceback (most recent call last)",
      "\u001b[1;32m/Users/kylecox/Documents/ws/nba2/rank/margin_model.ipynb Cell 6\u001b[0m in \u001b[0;36m<cell line: 2>\u001b[0;34m()\u001b[0m\n\u001b[1;32m      <a href='vscode-notebook-cell:/Users/kylecox/Documents/ws/nba2/rank/margin_model.ipynb#W5sZmlsZQ%3D%3D?line=0'>1</a>\u001b[0m study \u001b[39m=\u001b[39m optuna\u001b[39m.\u001b[39mcreate_study(direction\u001b[39m=\u001b[39m\u001b[39m'\u001b[39m\u001b[39mminimize\u001b[39m\u001b[39m'\u001b[39m, study_name\u001b[39m=\u001b[39m\u001b[39m'\u001b[39m\u001b[39mregression\u001b[39m\u001b[39m'\u001b[39m)\n\u001b[0;32m----> <a href='vscode-notebook-cell:/Users/kylecox/Documents/ws/nba2/rank/margin_model.ipynb#W5sZmlsZQ%3D%3D?line=1'>2</a>\u001b[0m study\u001b[39m.\u001b[39;49moptimize(objective, n_trials\u001b[39m=\u001b[39;49m\u001b[39m100\u001b[39;49m)\n",
      "File \u001b[0;32m~/opt/anaconda3/lib/python3.9/site-packages/optuna/study/study.py:425\u001b[0m, in \u001b[0;36mStudy.optimize\u001b[0;34m(self, func, n_trials, timeout, n_jobs, catch, callbacks, gc_after_trial, show_progress_bar)\u001b[0m\n\u001b[1;32m    321\u001b[0m \u001b[39mdef\u001b[39;00m \u001b[39moptimize\u001b[39m(\n\u001b[1;32m    322\u001b[0m     \u001b[39mself\u001b[39m,\n\u001b[1;32m    323\u001b[0m     func: ObjectiveFuncType,\n\u001b[0;32m   (...)\u001b[0m\n\u001b[1;32m    330\u001b[0m     show_progress_bar: \u001b[39mbool\u001b[39m \u001b[39m=\u001b[39m \u001b[39mFalse\u001b[39;00m,\n\u001b[1;32m    331\u001b[0m ) \u001b[39m-\u001b[39m\u001b[39m>\u001b[39m \u001b[39mNone\u001b[39;00m:\n\u001b[1;32m    332\u001b[0m     \u001b[39m\"\"\"Optimize an objective function.\u001b[39;00m\n\u001b[1;32m    333\u001b[0m \n\u001b[1;32m    334\u001b[0m \u001b[39m    Optimization is done by choosing a suitable set of hyperparameter values from a given\u001b[39;00m\n\u001b[0;32m   (...)\u001b[0m\n\u001b[1;32m    422\u001b[0m \u001b[39m            If nested invocation of this method occurs.\u001b[39;00m\n\u001b[1;32m    423\u001b[0m \u001b[39m    \"\"\"\u001b[39;00m\n\u001b[0;32m--> 425\u001b[0m     _optimize(\n\u001b[1;32m    426\u001b[0m         study\u001b[39m=\u001b[39;49m\u001b[39mself\u001b[39;49m,\n\u001b[1;32m    427\u001b[0m         func\u001b[39m=\u001b[39;49mfunc,\n\u001b[1;32m    428\u001b[0m         n_trials\u001b[39m=\u001b[39;49mn_trials,\n\u001b[1;32m    429\u001b[0m         timeout\u001b[39m=\u001b[39;49mtimeout,\n\u001b[1;32m    430\u001b[0m         n_jobs\u001b[39m=\u001b[39;49mn_jobs,\n\u001b[1;32m    431\u001b[0m         catch\u001b[39m=\u001b[39;49m\u001b[39mtuple\u001b[39;49m(catch) \u001b[39mif\u001b[39;49;00m \u001b[39misinstance\u001b[39;49m(catch, Iterable) \u001b[39melse\u001b[39;49;00m (catch,),\n\u001b[1;32m    432\u001b[0m         callbacks\u001b[39m=\u001b[39;49mcallbacks,\n\u001b[1;32m    433\u001b[0m         gc_after_trial\u001b[39m=\u001b[39;49mgc_after_trial,\n\u001b[1;32m    434\u001b[0m         show_progress_bar\u001b[39m=\u001b[39;49mshow_progress_bar,\n\u001b[1;32m    435\u001b[0m     )\n",
      "File \u001b[0;32m~/opt/anaconda3/lib/python3.9/site-packages/optuna/study/_optimize.py:66\u001b[0m, in \u001b[0;36m_optimize\u001b[0;34m(study, func, n_trials, timeout, n_jobs, catch, callbacks, gc_after_trial, show_progress_bar)\u001b[0m\n\u001b[1;32m     64\u001b[0m \u001b[39mtry\u001b[39;00m:\n\u001b[1;32m     65\u001b[0m     \u001b[39mif\u001b[39;00m n_jobs \u001b[39m==\u001b[39m \u001b[39m1\u001b[39m:\n\u001b[0;32m---> 66\u001b[0m         _optimize_sequential(\n\u001b[1;32m     67\u001b[0m             study,\n\u001b[1;32m     68\u001b[0m             func,\n\u001b[1;32m     69\u001b[0m             n_trials,\n\u001b[1;32m     70\u001b[0m             timeout,\n\u001b[1;32m     71\u001b[0m             catch,\n\u001b[1;32m     72\u001b[0m             callbacks,\n\u001b[1;32m     73\u001b[0m             gc_after_trial,\n\u001b[1;32m     74\u001b[0m             reseed_sampler_rng\u001b[39m=\u001b[39;49m\u001b[39mFalse\u001b[39;49;00m,\n\u001b[1;32m     75\u001b[0m             time_start\u001b[39m=\u001b[39;49m\u001b[39mNone\u001b[39;49;00m,\n\u001b[1;32m     76\u001b[0m             progress_bar\u001b[39m=\u001b[39;49mprogress_bar,\n\u001b[1;32m     77\u001b[0m         )\n\u001b[1;32m     78\u001b[0m     \u001b[39melse\u001b[39;00m:\n\u001b[1;32m     79\u001b[0m         \u001b[39mif\u001b[39;00m n_jobs \u001b[39m==\u001b[39m \u001b[39m-\u001b[39m\u001b[39m1\u001b[39m:\n",
      "File \u001b[0;32m~/opt/anaconda3/lib/python3.9/site-packages/optuna/study/_optimize.py:163\u001b[0m, in \u001b[0;36m_optimize_sequential\u001b[0;34m(study, func, n_trials, timeout, catch, callbacks, gc_after_trial, reseed_sampler_rng, time_start, progress_bar)\u001b[0m\n\u001b[1;32m    160\u001b[0m         \u001b[39mbreak\u001b[39;00m\n\u001b[1;32m    162\u001b[0m \u001b[39mtry\u001b[39;00m:\n\u001b[0;32m--> 163\u001b[0m     frozen_trial \u001b[39m=\u001b[39m _run_trial(study, func, catch)\n\u001b[1;32m    164\u001b[0m \u001b[39mfinally\u001b[39;00m:\n\u001b[1;32m    165\u001b[0m     \u001b[39m# The following line mitigates memory problems that can be occurred in some\u001b[39;00m\n\u001b[1;32m    166\u001b[0m     \u001b[39m# environments (e.g., services that use computing containers such as GitHub Actions).\u001b[39;00m\n\u001b[1;32m    167\u001b[0m     \u001b[39m# Please refer to the following PR for further details:\u001b[39;00m\n\u001b[1;32m    168\u001b[0m     \u001b[39m# https://github.com/optuna/optuna/pull/325.\u001b[39;00m\n\u001b[1;32m    169\u001b[0m     \u001b[39mif\u001b[39;00m gc_after_trial:\n",
      "File \u001b[0;32m~/opt/anaconda3/lib/python3.9/site-packages/optuna/study/_optimize.py:251\u001b[0m, in \u001b[0;36m_run_trial\u001b[0;34m(study, func, catch)\u001b[0m\n\u001b[1;32m    244\u001b[0m         \u001b[39massert\u001b[39;00m \u001b[39mFalse\u001b[39;00m, \u001b[39m\"\u001b[39m\u001b[39mShould not reach.\u001b[39m\u001b[39m\"\u001b[39m\n\u001b[1;32m    246\u001b[0m \u001b[39mif\u001b[39;00m (\n\u001b[1;32m    247\u001b[0m     frozen_trial\u001b[39m.\u001b[39mstate \u001b[39m==\u001b[39m TrialState\u001b[39m.\u001b[39mFAIL\n\u001b[1;32m    248\u001b[0m     \u001b[39mand\u001b[39;00m func_err \u001b[39mis\u001b[39;00m \u001b[39mnot\u001b[39;00m \u001b[39mNone\u001b[39;00m\n\u001b[1;32m    249\u001b[0m     \u001b[39mand\u001b[39;00m \u001b[39mnot\u001b[39;00m \u001b[39misinstance\u001b[39m(func_err, catch)\n\u001b[1;32m    250\u001b[0m ):\n\u001b[0;32m--> 251\u001b[0m     \u001b[39mraise\u001b[39;00m func_err\n\u001b[1;32m    252\u001b[0m \u001b[39mreturn\u001b[39;00m frozen_trial\n",
      "File \u001b[0;32m~/opt/anaconda3/lib/python3.9/site-packages/optuna/study/_optimize.py:200\u001b[0m, in \u001b[0;36m_run_trial\u001b[0;34m(study, func, catch)\u001b[0m\n\u001b[1;32m    198\u001b[0m \u001b[39mwith\u001b[39;00m get_heartbeat_thread(trial\u001b[39m.\u001b[39m_trial_id, study\u001b[39m.\u001b[39m_storage):\n\u001b[1;32m    199\u001b[0m     \u001b[39mtry\u001b[39;00m:\n\u001b[0;32m--> 200\u001b[0m         value_or_values \u001b[39m=\u001b[39m func(trial)\n\u001b[1;32m    201\u001b[0m     \u001b[39mexcept\u001b[39;00m exceptions\u001b[39m.\u001b[39mTrialPruned \u001b[39mas\u001b[39;00m e:\n\u001b[1;32m    202\u001b[0m         \u001b[39m# TODO(mamu): Handle multi-objective cases.\u001b[39;00m\n\u001b[1;32m    203\u001b[0m         state \u001b[39m=\u001b[39m TrialState\u001b[39m.\u001b[39mPRUNED\n",
      "\u001b[1;32m/Users/kylecox/Documents/ws/nba2/rank/margin_model.ipynb Cell 6\u001b[0m in \u001b[0;36mobjective\u001b[0;34m(trial)\u001b[0m\n\u001b[1;32m      <a href='vscode-notebook-cell:/Users/kylecox/Documents/ws/nba2/rank/margin_model.ipynb#W5sZmlsZQ%3D%3D?line=2'>3</a>\u001b[0m param \u001b[39m=\u001b[39m {\n\u001b[1;32m      <a href='vscode-notebook-cell:/Users/kylecox/Documents/ws/nba2/rank/margin_model.ipynb#W5sZmlsZQ%3D%3D?line=3'>4</a>\u001b[0m     \u001b[39m'\u001b[39m\u001b[39mmax_depth\u001b[39m\u001b[39m'\u001b[39m: trial\u001b[39m.\u001b[39msuggest_int(\u001b[39m'\u001b[39m\u001b[39mmax_depth\u001b[39m\u001b[39m'\u001b[39m, \u001b[39m1\u001b[39m, \u001b[39m10\u001b[39m),\n\u001b[1;32m      <a href='vscode-notebook-cell:/Users/kylecox/Documents/ws/nba2/rank/margin_model.ipynb#W5sZmlsZQ%3D%3D?line=4'>5</a>\u001b[0m     \u001b[39m'\u001b[39m\u001b[39mlearning_rate\u001b[39m\u001b[39m'\u001b[39m: trial\u001b[39m.\u001b[39msuggest_float(\u001b[39m'\u001b[39m\u001b[39mlearning_rate\u001b[39m\u001b[39m'\u001b[39m, \u001b[39m0.01\u001b[39m, \u001b[39m1.0\u001b[39m),\n\u001b[0;32m   (...)\u001b[0m\n\u001b[1;32m     <a href='vscode-notebook-cell:/Users/kylecox/Documents/ws/nba2/rank/margin_model.ipynb#W5sZmlsZQ%3D%3D?line=12'>13</a>\u001b[0m     \u001b[39m'\u001b[39m\u001b[39mrandom_state\u001b[39m\u001b[39m'\u001b[39m: trial\u001b[39m.\u001b[39msuggest_int(\u001b[39m'\u001b[39m\u001b[39mrandom_state\u001b[39m\u001b[39m'\u001b[39m, \u001b[39m1\u001b[39m, \u001b[39m1000\u001b[39m)\n\u001b[1;32m     <a href='vscode-notebook-cell:/Users/kylecox/Documents/ws/nba2/rank/margin_model.ipynb#W5sZmlsZQ%3D%3D?line=13'>14</a>\u001b[0m }\n\u001b[1;32m     <a href='vscode-notebook-cell:/Users/kylecox/Documents/ws/nba2/rank/margin_model.ipynb#W5sZmlsZQ%3D%3D?line=14'>15</a>\u001b[0m model \u001b[39m=\u001b[39m XGBRegressor(\u001b[39m*\u001b[39m\u001b[39m*\u001b[39mparam)\n\u001b[0;32m---> <a href='vscode-notebook-cell:/Users/kylecox/Documents/ws/nba2/rank/margin_model.ipynb#W5sZmlsZQ%3D%3D?line=15'>16</a>\u001b[0m model\u001b[39m.\u001b[39;49mfit(X_train, y_train)\n\u001b[1;32m     <a href='vscode-notebook-cell:/Users/kylecox/Documents/ws/nba2/rank/margin_model.ipynb#W5sZmlsZQ%3D%3D?line=16'>17</a>\u001b[0m y_pred \u001b[39m=\u001b[39m model\u001b[39m.\u001b[39mpredict(X_test)\n\u001b[1;32m     <a href='vscode-notebook-cell:/Users/kylecox/Documents/ws/nba2/rank/margin_model.ipynb#W5sZmlsZQ%3D%3D?line=17'>18</a>\u001b[0m \u001b[39mreturn\u001b[39;00m np\u001b[39m.\u001b[39msqrt(mean_squared_error(y_test, y_pred))\n",
      "File \u001b[0;32m~/opt/anaconda3/lib/python3.9/site-packages/xgboost/core.py:620\u001b[0m, in \u001b[0;36mrequire_keyword_args.<locals>.throw_if.<locals>.inner_f\u001b[0;34m(*args, **kwargs)\u001b[0m\n\u001b[1;32m    618\u001b[0m \u001b[39mfor\u001b[39;00m k, arg \u001b[39min\u001b[39;00m \u001b[39mzip\u001b[39m(sig\u001b[39m.\u001b[39mparameters, args):\n\u001b[1;32m    619\u001b[0m     kwargs[k] \u001b[39m=\u001b[39m arg\n\u001b[0;32m--> 620\u001b[0m \u001b[39mreturn\u001b[39;00m func(\u001b[39m*\u001b[39;49m\u001b[39m*\u001b[39;49mkwargs)\n",
      "File \u001b[0;32m~/opt/anaconda3/lib/python3.9/site-packages/xgboost/sklearn.py:1051\u001b[0m, in \u001b[0;36mXGBModel.fit\u001b[0;34m(self, X, y, sample_weight, base_margin, eval_set, eval_metric, early_stopping_rounds, verbose, xgb_model, sample_weight_eval_set, base_margin_eval_set, feature_weights, callbacks)\u001b[0m\n\u001b[1;32m   1040\u001b[0m     obj \u001b[39m=\u001b[39m \u001b[39mNone\u001b[39;00m\n\u001b[1;32m   1042\u001b[0m (\n\u001b[1;32m   1043\u001b[0m     model,\n\u001b[1;32m   1044\u001b[0m     metric,\n\u001b[0;32m   (...)\u001b[0m\n\u001b[1;32m   1049\u001b[0m     xgb_model, eval_metric, params, early_stopping_rounds, callbacks\n\u001b[1;32m   1050\u001b[0m )\n\u001b[0;32m-> 1051\u001b[0m \u001b[39mself\u001b[39m\u001b[39m.\u001b[39m_Booster \u001b[39m=\u001b[39m train(\n\u001b[1;32m   1052\u001b[0m     params,\n\u001b[1;32m   1053\u001b[0m     train_dmatrix,\n\u001b[1;32m   1054\u001b[0m     \u001b[39mself\u001b[39;49m\u001b[39m.\u001b[39;49mget_num_boosting_rounds(),\n\u001b[1;32m   1055\u001b[0m     evals\u001b[39m=\u001b[39;49mevals,\n\u001b[1;32m   1056\u001b[0m     early_stopping_rounds\u001b[39m=\u001b[39;49mearly_stopping_rounds,\n\u001b[1;32m   1057\u001b[0m     evals_result\u001b[39m=\u001b[39;49mevals_result,\n\u001b[1;32m   1058\u001b[0m     obj\u001b[39m=\u001b[39;49mobj,\n\u001b[1;32m   1059\u001b[0m     custom_metric\u001b[39m=\u001b[39;49mmetric,\n\u001b[1;32m   1060\u001b[0m     verbose_eval\u001b[39m=\u001b[39;49mverbose,\n\u001b[1;32m   1061\u001b[0m     xgb_model\u001b[39m=\u001b[39;49mmodel,\n\u001b[1;32m   1062\u001b[0m     callbacks\u001b[39m=\u001b[39;49mcallbacks,\n\u001b[1;32m   1063\u001b[0m )\n\u001b[1;32m   1065\u001b[0m \u001b[39mself\u001b[39m\u001b[39m.\u001b[39m_set_evaluation_result(evals_result)\n\u001b[1;32m   1066\u001b[0m \u001b[39mreturn\u001b[39;00m \u001b[39mself\u001b[39m\n",
      "File \u001b[0;32m~/opt/anaconda3/lib/python3.9/site-packages/xgboost/core.py:620\u001b[0m, in \u001b[0;36mrequire_keyword_args.<locals>.throw_if.<locals>.inner_f\u001b[0;34m(*args, **kwargs)\u001b[0m\n\u001b[1;32m    618\u001b[0m \u001b[39mfor\u001b[39;00m k, arg \u001b[39min\u001b[39;00m \u001b[39mzip\u001b[39m(sig\u001b[39m.\u001b[39mparameters, args):\n\u001b[1;32m    619\u001b[0m     kwargs[k] \u001b[39m=\u001b[39m arg\n\u001b[0;32m--> 620\u001b[0m \u001b[39mreturn\u001b[39;00m func(\u001b[39m*\u001b[39;49m\u001b[39m*\u001b[39;49mkwargs)\n",
      "File \u001b[0;32m~/opt/anaconda3/lib/python3.9/site-packages/xgboost/training.py:185\u001b[0m, in \u001b[0;36mtrain\u001b[0;34m(params, dtrain, num_boost_round, evals, obj, feval, maximize, early_stopping_rounds, evals_result, verbose_eval, xgb_model, callbacks, custom_metric)\u001b[0m\n\u001b[1;32m    183\u001b[0m \u001b[39mif\u001b[39;00m cb_container\u001b[39m.\u001b[39mbefore_iteration(bst, i, dtrain, evals):\n\u001b[1;32m    184\u001b[0m     \u001b[39mbreak\u001b[39;00m\n\u001b[0;32m--> 185\u001b[0m bst\u001b[39m.\u001b[39;49mupdate(dtrain, i, obj)\n\u001b[1;32m    186\u001b[0m \u001b[39mif\u001b[39;00m cb_container\u001b[39m.\u001b[39mafter_iteration(bst, i, dtrain, evals):\n\u001b[1;32m    187\u001b[0m     \u001b[39mbreak\u001b[39;00m\n",
      "File \u001b[0;32m~/opt/anaconda3/lib/python3.9/site-packages/xgboost/core.py:1918\u001b[0m, in \u001b[0;36mBooster.update\u001b[0;34m(self, dtrain, iteration, fobj)\u001b[0m\n\u001b[1;32m   1915\u001b[0m \u001b[39mself\u001b[39m\u001b[39m.\u001b[39m_validate_dmatrix_features(dtrain)\n\u001b[1;32m   1917\u001b[0m \u001b[39mif\u001b[39;00m fobj \u001b[39mis\u001b[39;00m \u001b[39mNone\u001b[39;00m:\n\u001b[0;32m-> 1918\u001b[0m     _check_call(_LIB\u001b[39m.\u001b[39;49mXGBoosterUpdateOneIter(\u001b[39mself\u001b[39;49m\u001b[39m.\u001b[39;49mhandle,\n\u001b[1;32m   1919\u001b[0m                                             ctypes\u001b[39m.\u001b[39;49mc_int(iteration),\n\u001b[1;32m   1920\u001b[0m                                             dtrain\u001b[39m.\u001b[39;49mhandle))\n\u001b[1;32m   1921\u001b[0m \u001b[39melse\u001b[39;00m:\n\u001b[1;32m   1922\u001b[0m     pred \u001b[39m=\u001b[39m \u001b[39mself\u001b[39m\u001b[39m.\u001b[39mpredict(dtrain, output_margin\u001b[39m=\u001b[39m\u001b[39mTrue\u001b[39;00m, training\u001b[39m=\u001b[39m\u001b[39mTrue\u001b[39;00m)\n",
      "\u001b[0;31mKeyboardInterrupt\u001b[0m: "
     ]
    }
   ],
   "source": [
    "study = optuna.create_study(direction='minimize', study_name='regression')\n",
    "study.optimize(objective, n_trials=100)"
   ]
  },
  {
   "cell_type": "code",
   "execution_count": null,
   "metadata": {},
   "outputs": [],
   "source": [
    "print('Best parameters', study.best_params)\n",
    "print('Best value', study.best_value)"
   ]
  },
  {
   "cell_type": "code",
   "execution_count": 3,
   "metadata": {},
   "outputs": [],
   "source": [
    "games['win'] = games.apply(lambda row: 1 if row['margin'] > 0 else 0, axis=1)"
   ]
  },
  {
   "cell_type": "code",
   "execution_count": 59,
   "metadata": {},
   "outputs": [],
   "source": [
    "X_train, X_test, y_train, y_test = train_test_split(games[['team_rating', 'opponent_rating', 'team_win_total_future', 'opponent_win_total_future', 'last_year_team_rating', 'last_year_opponent_rating', 'num_games_into_season', 'last_year_team_rating*num_games_into_season', 'last_year_opponent_rating*num_games_into_season', 'team_last_10_rating', 'opponent_last_10_rating', 'team_last_5_rating', 'opponent_last_5_rating', 'team_last_3_rating', 'opponent_last_3_rating', 'team_last_1_rating', 'opponent_last_1_rating', 'team_days_since_most_recent_game', 'opponent_days_since_most_recent_game']], games['win'], test_size=0.2, random_state=41)"
   ]
  },
  {
   "cell_type": "code",
   "execution_count": 60,
   "metadata": {},
   "outputs": [],
   "source": [
    "# use optuna to tune the parameters for a classifier\n",
    "from sklearn.metrics import accuracy_score\n",
    "from sklearn.metrics import log_loss\n",
    "def objective(trial):\n",
    "    param = {\n",
    "        'max_depth': trial.suggest_int('max_depth', 1, 10),\n",
    "        'learning_rate': trial.suggest_float('learning_rate', 0.01, 1.0),\n",
    "        'n_estimators': trial.suggest_int('n_estimators', 50, 1000),\n",
    "        'min_child_weight': trial.suggest_int('min_child_weight', 1, 10),\n",
    "        'gamma': trial.suggest_float('gamma', 0.01, 1.0),\n",
    "        'subsample': trial.suggest_float('subsample', 0.01, 1.0),\n",
    "        'colsample_bytree': trial.suggest_float('colsample_bytree', 0.01, 1.0),\n",
    "        'reg_alpha': trial.suggest_float('reg_alpha', 0.01, 1.0),\n",
    "        'reg_lambda': trial.suggest_float('reg_lambda', 0.01, 1.0),\n",
    "        'random_state': trial.suggest_int('random_state', 1, 1000)\n",
    "    }\n",
    "    model = XGBClassifier(**param)\n",
    "    model.fit(X_train, y_train)\n",
    "    y_pred = model.predict_proba(X_test)\n",
    "    return log_loss(y_test, y_pred)"
   ]
  },
  {
   "cell_type": "code",
   "execution_count": null,
   "metadata": {},
   "outputs": [],
   "source": [
    "study = optuna.create_study(direction='minimize', study_name='win_probability')\n",
    "study.optimize(objective, n_trials=100)"
   ]
  },
  {
   "cell_type": "code",
   "execution_count": 32,
   "metadata": {},
   "outputs": [
    {
     "name": "stdout",
     "output_type": "stream",
     "text": [
      "Baseline log loss 0.6931471805599452\n"
     ]
    }
   ],
   "source": [
    "y_pred = [0.5] * len(y_test)\n",
    "print('Baseline log loss', log_loss(y_test, y_pred))"
   ]
  },
  {
   "cell_type": "code",
   "execution_count": 9,
   "metadata": {},
   "outputs": [
    {
     "ename": "NameError",
     "evalue": "name 'X_train' is not defined",
     "output_type": "error",
     "traceback": [
      "\u001b[0;31m---------------------------------------------------------------------------\u001b[0m",
      "\u001b[0;31mNameError\u001b[0m                                 Traceback (most recent call last)",
      "\u001b[1;32m/Users/kylecox/Documents/ws/nba2/rank/margin_model.ipynb Cell 13\u001b[0m in \u001b[0;36m<cell line: 8>\u001b[0;34m()\u001b[0m\n\u001b[1;32m      <a href='vscode-notebook-cell:/Users/kylecox/Documents/ws/nba2/rank/margin_model.ipynb#X15sZmlsZQ%3D%3D?line=5'>6</a>\u001b[0m params \u001b[39m=\u001b[39m {\u001b[39m'\u001b[39m\u001b[39mmax_depth\u001b[39m\u001b[39m'\u001b[39m: \u001b[39m1\u001b[39m, \u001b[39m'\u001b[39m\u001b[39mlearning_rate\u001b[39m\u001b[39m'\u001b[39m: \u001b[39m0.6642774658597874\u001b[39m, \u001b[39m'\u001b[39m\u001b[39mn_estimators\u001b[39m\u001b[39m'\u001b[39m: \u001b[39m365\u001b[39m, \u001b[39m'\u001b[39m\u001b[39mmin_child_weight\u001b[39m\u001b[39m'\u001b[39m: \u001b[39m3\u001b[39m, \u001b[39m'\u001b[39m\u001b[39mgamma\u001b[39m\u001b[39m'\u001b[39m: \u001b[39m0.9138018877462927\u001b[39m, \u001b[39m'\u001b[39m\u001b[39msubsample\u001b[39m\u001b[39m'\u001b[39m: \u001b[39m0.9850665433158399\u001b[39m, \u001b[39m'\u001b[39m\u001b[39mcolsample_bytree\u001b[39m\u001b[39m'\u001b[39m: \u001b[39m0.6714438416337997\u001b[39m, \u001b[39m'\u001b[39m\u001b[39mreg_alpha\u001b[39m\u001b[39m'\u001b[39m: \u001b[39m0.6338885144969151\u001b[39m, \u001b[39m'\u001b[39m\u001b[39mreg_lambda\u001b[39m\u001b[39m'\u001b[39m: \u001b[39m0.18021132749565166\u001b[39m, \u001b[39m'\u001b[39m\u001b[39mrandom_state\u001b[39m\u001b[39m'\u001b[39m: \u001b[39m23\u001b[39m}\n\u001b[1;32m      <a href='vscode-notebook-cell:/Users/kylecox/Documents/ws/nba2/rank/margin_model.ipynb#X15sZmlsZQ%3D%3D?line=6'>7</a>\u001b[0m model \u001b[39m=\u001b[39m XGBClassifier(\u001b[39m*\u001b[39m\u001b[39m*\u001b[39mparams)\n\u001b[0;32m----> <a href='vscode-notebook-cell:/Users/kylecox/Documents/ws/nba2/rank/margin_model.ipynb#X15sZmlsZQ%3D%3D?line=7'>8</a>\u001b[0m model\u001b[39m.\u001b[39mfit(X_train, y_train)\n\u001b[1;32m      <a href='vscode-notebook-cell:/Users/kylecox/Documents/ws/nba2/rank/margin_model.ipynb#X15sZmlsZQ%3D%3D?line=8'>9</a>\u001b[0m y_pred \u001b[39m=\u001b[39m model\u001b[39m.\u001b[39mpredict_proba(X_test)\n\u001b[1;32m     <a href='vscode-notebook-cell:/Users/kylecox/Documents/ws/nba2/rank/margin_model.ipynb#X15sZmlsZQ%3D%3D?line=9'>10</a>\u001b[0m \u001b[39mprint\u001b[39m(\u001b[39m'\u001b[39m\u001b[39mLog loss\u001b[39m\u001b[39m'\u001b[39m, log_loss(y_test, y_pred))\n",
      "\u001b[0;31mNameError\u001b[0m: name 'X_train' is not defined"
     ]
    }
   ],
   "source": [
    "games = pd.read_csv(f'data/train_data.csv')\n",
    "games = games[games['completed'] == True]\n",
    "games = games[games['year'] == 2023]\n",
    "games['win'] = games.apply(lambda row: 1 if row['margin'] > 0 else 0, axis=1)\n",
    "# test the model on the 2023 season\n",
    "params = {'max_depth': 1, 'learning_rate': 0.6642774658597874, 'n_estimators': 365, 'min_child_weight': 3, 'gamma': 0.9138018877462927, 'subsample': 0.9850665433158399, 'colsample_bytree': 0.6714438416337997, 'reg_alpha': 0.6338885144969151, 'reg_lambda': 0.18021132749565166, 'random_state': 23}\n",
    "model = XGBClassifier(**params)\n",
    "model.fit(X_train, y_train)\n",
    "y_pred = model.predict_proba(X_test)\n",
    "print('Log loss', log_loss(y_test, y_pred))"
   ]
  },
  {
   "cell_type": "code",
   "execution_count": 39,
   "metadata": {},
   "outputs": [
    {
     "name": "stderr",
     "output_type": "stream",
     "text": [
      "/var/folders/_6/_8xn00vj0gz5g10qr8khtxz40000gn/T/ipykernel_10067/1685079216.py:20: SettingWithCopyWarning: \n",
      "A value is trying to be set on a copy of a slice from a DataFrame.\n",
      "Try using .loc[row_indexer,col_indexer] = value instead\n",
      "\n",
      "See the caveats in the documentation: https://pandas.pydata.org/pandas-docs/stable/user_guide/indexing.html#returning-a-view-versus-a-copy\n",
      "  test['pred_prob'] = y_pred\n"
     ]
    },
    {
     "name": "stdout",
     "output_type": "stream",
     "text": [
      "Num games:  10 log loss on sample:  0.7040308767351611 log loss overall:  0.7040308767351612\n"
     ]
    },
    {
     "name": "stderr",
     "output_type": "stream",
     "text": [
      "/var/folders/_6/_8xn00vj0gz5g10qr8khtxz40000gn/T/ipykernel_10067/1685079216.py:20: SettingWithCopyWarning: \n",
      "A value is trying to be set on a copy of a slice from a DataFrame.\n",
      "Try using .loc[row_indexer,col_indexer] = value instead\n",
      "\n",
      "See the caveats in the documentation: https://pandas.pydata.org/pandas-docs/stable/user_guide/indexing.html#returning-a-view-versus-a-copy\n",
      "  test['pred_prob'] = y_pred\n"
     ]
    },
    {
     "name": "stdout",
     "output_type": "stream",
     "text": [
      "Num games:  20 log loss on sample:  0.6183433779793926 log loss overall:  0.665765848664837\n"
     ]
    },
    {
     "name": "stderr",
     "output_type": "stream",
     "text": [
      "/var/folders/_6/_8xn00vj0gz5g10qr8khtxz40000gn/T/ipykernel_10067/1685079216.py:20: SettingWithCopyWarning: \n",
      "A value is trying to be set on a copy of a slice from a DataFrame.\n",
      "Try using .loc[row_indexer,col_indexer] = value instead\n",
      "\n",
      "See the caveats in the documentation: https://pandas.pydata.org/pandas-docs/stable/user_guide/indexing.html#returning-a-view-versus-a-copy\n",
      "  test['pred_prob'] = y_pred\n"
     ]
    },
    {
     "name": "stdout",
     "output_type": "stream",
     "text": [
      "Num games:  30 log loss on sample:  0.6367875745273986 log loss overall:  0.6574188457882925\n"
     ]
    },
    {
     "name": "stderr",
     "output_type": "stream",
     "text": [
      "/var/folders/_6/_8xn00vj0gz5g10qr8khtxz40000gn/T/ipykernel_10067/1685079216.py:20: SettingWithCopyWarning: \n",
      "A value is trying to be set on a copy of a slice from a DataFrame.\n",
      "Try using .loc[row_indexer,col_indexer] = value instead\n",
      "\n",
      "See the caveats in the documentation: https://pandas.pydata.org/pandas-docs/stable/user_guide/indexing.html#returning-a-view-versus-a-copy\n",
      "  test['pred_prob'] = y_pred\n"
     ]
    },
    {
     "name": "stdout",
     "output_type": "stream",
     "text": [
      "Num games:  40 log loss on sample:  0.5834580681478704 log loss overall:  0.6380022889327908\n"
     ]
    },
    {
     "name": "stderr",
     "output_type": "stream",
     "text": [
      "/var/folders/_6/_8xn00vj0gz5g10qr8khtxz40000gn/T/ipykernel_10067/1685079216.py:20: SettingWithCopyWarning: \n",
      "A value is trying to be set on a copy of a slice from a DataFrame.\n",
      "Try using .loc[row_indexer,col_indexer] = value instead\n",
      "\n",
      "See the caveats in the documentation: https://pandas.pydata.org/pandas-docs/stable/user_guide/indexing.html#returning-a-view-versus-a-copy\n",
      "  test['pred_prob'] = y_pred\n"
     ]
    },
    {
     "name": "stdout",
     "output_type": "stream",
     "text": [
      "Num games:  50 log loss on sample:  0.6763413992182464 log loss overall:  0.6471779601444014\n"
     ]
    },
    {
     "name": "stderr",
     "output_type": "stream",
     "text": [
      "/var/folders/_6/_8xn00vj0gz5g10qr8khtxz40000gn/T/ipykernel_10067/1685079216.py:20: SettingWithCopyWarning: \n",
      "A value is trying to be set on a copy of a slice from a DataFrame.\n",
      "Try using .loc[row_indexer,col_indexer] = value instead\n",
      "\n",
      "See the caveats in the documentation: https://pandas.pydata.org/pandas-docs/stable/user_guide/indexing.html#returning-a-view-versus-a-copy\n",
      "  test['pred_prob'] = y_pred\n"
     ]
    },
    {
     "name": "stdout",
     "output_type": "stream",
     "text": [
      "Num games:  60 log loss on sample:  0.653850280907419 log loss overall:  0.6483167253820846\n"
     ]
    },
    {
     "name": "stderr",
     "output_type": "stream",
     "text": [
      "/var/folders/_6/_8xn00vj0gz5g10qr8khtxz40000gn/T/ipykernel_10067/1685079216.py:20: SettingWithCopyWarning: \n",
      "A value is trying to be set on a copy of a slice from a DataFrame.\n",
      "Try using .loc[row_indexer,col_indexer] = value instead\n",
      "\n",
      "See the caveats in the documentation: https://pandas.pydata.org/pandas-docs/stable/user_guide/indexing.html#returning-a-view-versus-a-copy\n",
      "  test['pred_prob'] = y_pred\n"
     ]
    },
    {
     "name": "stdout",
     "output_type": "stream",
     "text": [
      "Num games:  70 log loss on sample:  0.6126968331896422 log loss overall:  0.6438297997357438\n"
     ]
    },
    {
     "name": "stderr",
     "output_type": "stream",
     "text": [
      "/var/folders/_6/_8xn00vj0gz5g10qr8khtxz40000gn/T/ipykernel_10067/1685079216.py:20: SettingWithCopyWarning: \n",
      "A value is trying to be set on a copy of a slice from a DataFrame.\n",
      "Try using .loc[row_indexer,col_indexer] = value instead\n",
      "\n",
      "See the caveats in the documentation: https://pandas.pydata.org/pandas-docs/stable/user_guide/indexing.html#returning-a-view-versus-a-copy\n",
      "  test['pred_prob'] = y_pred\n"
     ]
    },
    {
     "name": "stdout",
     "output_type": "stream",
     "text": [
      "Num games:  80 log loss on sample:  0.7129039509046791 log loss overall:  0.6517375058871776\n"
     ]
    },
    {
     "name": "stderr",
     "output_type": "stream",
     "text": [
      "/var/folders/_6/_8xn00vj0gz5g10qr8khtxz40000gn/T/ipykernel_10067/1685079216.py:20: SettingWithCopyWarning: \n",
      "A value is trying to be set on a copy of a slice from a DataFrame.\n",
      "Try using .loc[row_indexer,col_indexer] = value instead\n",
      "\n",
      "See the caveats in the documentation: https://pandas.pydata.org/pandas-docs/stable/user_guide/indexing.html#returning-a-view-versus-a-copy\n",
      "  test['pred_prob'] = y_pred\n"
     ]
    },
    {
     "name": "stdout",
     "output_type": "stream",
     "text": [
      "Num games:  90 log loss on sample:  0.6383118925254736 log loss overall:  0.6501812496670493\n"
     ]
    },
    {
     "name": "stderr",
     "output_type": "stream",
     "text": [
      "/var/folders/_6/_8xn00vj0gz5g10qr8khtxz40000gn/T/ipykernel_10067/1685079216.py:20: SettingWithCopyWarning: \n",
      "A value is trying to be set on a copy of a slice from a DataFrame.\n",
      "Try using .loc[row_indexer,col_indexer] = value instead\n",
      "\n",
      "See the caveats in the documentation: https://pandas.pydata.org/pandas-docs/stable/user_guide/indexing.html#returning-a-view-versus-a-copy\n",
      "  test['pred_prob'] = y_pred\n"
     ]
    },
    {
     "name": "stdout",
     "output_type": "stream",
     "text": [
      "Num games:  100 log loss on sample:  0.6222420014244946 log loss overall:  0.6469344868743365\n"
     ]
    },
    {
     "name": "stderr",
     "output_type": "stream",
     "text": [
      "/var/folders/_6/_8xn00vj0gz5g10qr8khtxz40000gn/T/ipykernel_10067/1685079216.py:20: SettingWithCopyWarning: \n",
      "A value is trying to be set on a copy of a slice from a DataFrame.\n",
      "Try using .loc[row_indexer,col_indexer] = value instead\n",
      "\n",
      "See the caveats in the documentation: https://pandas.pydata.org/pandas-docs/stable/user_guide/indexing.html#returning-a-view-versus-a-copy\n",
      "  test['pred_prob'] = y_pred\n"
     ]
    },
    {
     "name": "stdout",
     "output_type": "stream",
     "text": [
      "Num games:  110 log loss on sample:  0.6658056261284011 log loss overall:  0.6485081838408633\n"
     ]
    },
    {
     "name": "stderr",
     "output_type": "stream",
     "text": [
      "/var/folders/_6/_8xn00vj0gz5g10qr8khtxz40000gn/T/ipykernel_10067/1685079216.py:20: SettingWithCopyWarning: \n",
      "A value is trying to be set on a copy of a slice from a DataFrame.\n",
      "Try using .loc[row_indexer,col_indexer] = value instead\n",
      "\n",
      "See the caveats in the documentation: https://pandas.pydata.org/pandas-docs/stable/user_guide/indexing.html#returning-a-view-versus-a-copy\n",
      "  test['pred_prob'] = y_pred\n"
     ]
    },
    {
     "name": "stdout",
     "output_type": "stream",
     "text": [
      "Num games:  120 log loss on sample:  0.5767057124525309 log loss overall:  0.6429385028023372\n"
     ]
    },
    {
     "name": "stderr",
     "output_type": "stream",
     "text": [
      "/var/folders/_6/_8xn00vj0gz5g10qr8khtxz40000gn/T/ipykernel_10067/1685079216.py:20: SettingWithCopyWarning: \n",
      "A value is trying to be set on a copy of a slice from a DataFrame.\n",
      "Try using .loc[row_indexer,col_indexer] = value instead\n",
      "\n",
      "See the caveats in the documentation: https://pandas.pydata.org/pandas-docs/stable/user_guide/indexing.html#returning-a-view-versus-a-copy\n",
      "  test['pred_prob'] = y_pred\n"
     ]
    },
    {
     "name": "stdout",
     "output_type": "stream",
     "text": [
      "Num games:  130 log loss on sample:  0.601531698361977 log loss overall:  0.6394348501189222\n"
     ]
    },
    {
     "name": "stderr",
     "output_type": "stream",
     "text": [
      "/var/folders/_6/_8xn00vj0gz5g10qr8khtxz40000gn/T/ipykernel_10067/1685079216.py:20: SettingWithCopyWarning: \n",
      "A value is trying to be set on a copy of a slice from a DataFrame.\n",
      "Try using .loc[row_indexer,col_indexer] = value instead\n",
      "\n",
      "See the caveats in the documentation: https://pandas.pydata.org/pandas-docs/stable/user_guide/indexing.html#returning-a-view-versus-a-copy\n",
      "  test['pred_prob'] = y_pred\n"
     ]
    },
    {
     "name": "stdout",
     "output_type": "stream",
     "text": [
      "Num games:  140 log loss on sample:  0.6715601115457474 log loss overall:  0.6416308437335452\n"
     ]
    },
    {
     "name": "stderr",
     "output_type": "stream",
     "text": [
      "/var/folders/_6/_8xn00vj0gz5g10qr8khtxz40000gn/T/ipykernel_10067/1685079216.py:20: SettingWithCopyWarning: \n",
      "A value is trying to be set on a copy of a slice from a DataFrame.\n",
      "Try using .loc[row_indexer,col_indexer] = value instead\n",
      "\n",
      "See the caveats in the documentation: https://pandas.pydata.org/pandas-docs/stable/user_guide/indexing.html#returning-a-view-versus-a-copy\n",
      "  test['pred_prob'] = y_pred\n"
     ]
    },
    {
     "name": "stdout",
     "output_type": "stream",
     "text": [
      "Num games:  150 log loss on sample:  0.6170700420267307 log loss overall:  0.6396859274562543\n"
     ]
    },
    {
     "name": "stderr",
     "output_type": "stream",
     "text": [
      "/var/folders/_6/_8xn00vj0gz5g10qr8khtxz40000gn/T/ipykernel_10067/1685079216.py:20: SettingWithCopyWarning: \n",
      "A value is trying to be set on a copy of a slice from a DataFrame.\n",
      "Try using .loc[row_indexer,col_indexer] = value instead\n",
      "\n",
      "See the caveats in the documentation: https://pandas.pydata.org/pandas-docs/stable/user_guide/indexing.html#returning-a-view-versus-a-copy\n",
      "  test['pred_prob'] = y_pred\n"
     ]
    },
    {
     "name": "stdout",
     "output_type": "stream",
     "text": [
      "Num games:  160 log loss on sample:  0.6193738434802402 log loss overall:  0.6386117307075228\n"
     ]
    },
    {
     "name": "stderr",
     "output_type": "stream",
     "text": [
      "/var/folders/_6/_8xn00vj0gz5g10qr8khtxz40000gn/T/ipykernel_10067/1685079216.py:20: SettingWithCopyWarning: \n",
      "A value is trying to be set on a copy of a slice from a DataFrame.\n",
      "Try using .loc[row_indexer,col_indexer] = value instead\n",
      "\n",
      "See the caveats in the documentation: https://pandas.pydata.org/pandas-docs/stable/user_guide/indexing.html#returning-a-view-versus-a-copy\n",
      "  test['pred_prob'] = y_pred\n"
     ]
    },
    {
     "name": "stdout",
     "output_type": "stream",
     "text": [
      "Num games:  170 log loss on sample:  0.5763032817815104 log loss overall:  0.6352935292854275\n"
     ]
    },
    {
     "name": "stderr",
     "output_type": "stream",
     "text": [
      "/var/folders/_6/_8xn00vj0gz5g10qr8khtxz40000gn/T/ipykernel_10067/1685079216.py:20: SettingWithCopyWarning: \n",
      "A value is trying to be set on a copy of a slice from a DataFrame.\n",
      "Try using .loc[row_indexer,col_indexer] = value instead\n",
      "\n",
      "See the caveats in the documentation: https://pandas.pydata.org/pandas-docs/stable/user_guide/indexing.html#returning-a-view-versus-a-copy\n",
      "  test['pred_prob'] = y_pred\n"
     ]
    },
    {
     "name": "stdout",
     "output_type": "stream",
     "text": [
      "Num games:  180 log loss on sample:  0.6292362924424006 log loss overall:  0.6349331029493056\n"
     ]
    },
    {
     "name": "stderr",
     "output_type": "stream",
     "text": [
      "/var/folders/_6/_8xn00vj0gz5g10qr8khtxz40000gn/T/ipykernel_10067/1685079216.py:20: SettingWithCopyWarning: \n",
      "A value is trying to be set on a copy of a slice from a DataFrame.\n",
      "Try using .loc[row_indexer,col_indexer] = value instead\n",
      "\n",
      "See the caveats in the documentation: https://pandas.pydata.org/pandas-docs/stable/user_guide/indexing.html#returning-a-view-versus-a-copy\n",
      "  test['pred_prob'] = y_pred\n"
     ]
    },
    {
     "name": "stdout",
     "output_type": "stream",
     "text": [
      "Num games:  190 log loss on sample:  0.6137262089429675 log loss overall:  0.6339711228779106\n"
     ]
    },
    {
     "name": "stderr",
     "output_type": "stream",
     "text": [
      "/var/folders/_6/_8xn00vj0gz5g10qr8khtxz40000gn/T/ipykernel_10067/1685079216.py:20: SettingWithCopyWarning: \n",
      "A value is trying to be set on a copy of a slice from a DataFrame.\n",
      "Try using .loc[row_indexer,col_indexer] = value instead\n",
      "\n",
      "See the caveats in the documentation: https://pandas.pydata.org/pandas-docs/stable/user_guide/indexing.html#returning-a-view-versus-a-copy\n",
      "  test['pred_prob'] = y_pred\n"
     ]
    },
    {
     "name": "stdout",
     "output_type": "stream",
     "text": [
      "Num games:  200 log loss on sample:  0.6409396942084035 log loss overall:  0.6343584151479187\n"
     ]
    },
    {
     "name": "stderr",
     "output_type": "stream",
     "text": [
      "/var/folders/_6/_8xn00vj0gz5g10qr8khtxz40000gn/T/ipykernel_10067/1685079216.py:20: SettingWithCopyWarning: \n",
      "A value is trying to be set on a copy of a slice from a DataFrame.\n",
      "Try using .loc[row_indexer,col_indexer] = value instead\n",
      "\n",
      "See the caveats in the documentation: https://pandas.pydata.org/pandas-docs/stable/user_guide/indexing.html#returning-a-view-versus-a-copy\n",
      "  test['pred_prob'] = y_pred\n"
     ]
    },
    {
     "name": "stdout",
     "output_type": "stream",
     "text": [
      "Num games:  210 log loss on sample:  0.6259984422940761 log loss overall:  0.6339648599712758\n"
     ]
    },
    {
     "name": "stderr",
     "output_type": "stream",
     "text": [
      "/var/folders/_6/_8xn00vj0gz5g10qr8khtxz40000gn/T/ipykernel_10067/1685079216.py:20: SettingWithCopyWarning: \n",
      "A value is trying to be set on a copy of a slice from a DataFrame.\n",
      "Try using .loc[row_indexer,col_indexer] = value instead\n",
      "\n",
      "See the caveats in the documentation: https://pandas.pydata.org/pandas-docs/stable/user_guide/indexing.html#returning-a-view-versus-a-copy\n",
      "  test['pred_prob'] = y_pred\n"
     ]
    },
    {
     "name": "stdout",
     "output_type": "stream",
     "text": [
      "Num games:  220 log loss on sample:  0.5404055648156114 log loss overall:  0.6291351509782384\n"
     ]
    },
    {
     "name": "stderr",
     "output_type": "stream",
     "text": [
      "/var/folders/_6/_8xn00vj0gz5g10qr8khtxz40000gn/T/ipykernel_10067/1685079216.py:20: SettingWithCopyWarning: \n",
      "A value is trying to be set on a copy of a slice from a DataFrame.\n",
      "Try using .loc[row_indexer,col_indexer] = value instead\n",
      "\n",
      "See the caveats in the documentation: https://pandas.pydata.org/pandas-docs/stable/user_guide/indexing.html#returning-a-view-versus-a-copy\n",
      "  test['pred_prob'] = y_pred\n"
     ]
    },
    {
     "name": "stdout",
     "output_type": "stream",
     "text": [
      "Num games:  230 log loss on sample:  0.530503446965114 log loss overall:  0.625331446765794\n"
     ]
    },
    {
     "name": "stderr",
     "output_type": "stream",
     "text": [
      "/var/folders/_6/_8xn00vj0gz5g10qr8khtxz40000gn/T/ipykernel_10067/1685079216.py:20: SettingWithCopyWarning: \n",
      "A value is trying to be set on a copy of a slice from a DataFrame.\n",
      "Try using .loc[row_indexer,col_indexer] = value instead\n",
      "\n",
      "See the caveats in the documentation: https://pandas.pydata.org/pandas-docs/stable/user_guide/indexing.html#returning-a-view-versus-a-copy\n",
      "  test['pred_prob'] = y_pred\n"
     ]
    },
    {
     "name": "stdout",
     "output_type": "stream",
     "text": [
      "Num games:  240 log loss on sample:  0.6200909919009127 log loss overall:  0.6251352257314731\n"
     ]
    },
    {
     "name": "stderr",
     "output_type": "stream",
     "text": [
      "/var/folders/_6/_8xn00vj0gz5g10qr8khtxz40000gn/T/ipykernel_10067/1685079216.py:20: SettingWithCopyWarning: \n",
      "A value is trying to be set on a copy of a slice from a DataFrame.\n",
      "Try using .loc[row_indexer,col_indexer] = value instead\n",
      "\n",
      "See the caveats in the documentation: https://pandas.pydata.org/pandas-docs/stable/user_guide/indexing.html#returning-a-view-versus-a-copy\n",
      "  test['pred_prob'] = y_pred\n"
     ]
    },
    {
     "name": "stdout",
     "output_type": "stream",
     "text": [
      "Num games:  250 log loss on sample:  0.6710645398125052 log loss overall:  0.6273908089889823\n"
     ]
    },
    {
     "name": "stderr",
     "output_type": "stream",
     "text": [
      "/var/folders/_6/_8xn00vj0gz5g10qr8khtxz40000gn/T/ipykernel_10067/1685079216.py:20: SettingWithCopyWarning: \n",
      "A value is trying to be set on a copy of a slice from a DataFrame.\n",
      "Try using .loc[row_indexer,col_indexer] = value instead\n",
      "\n",
      "See the caveats in the documentation: https://pandas.pydata.org/pandas-docs/stable/user_guide/indexing.html#returning-a-view-versus-a-copy\n",
      "  test['pred_prob'] = y_pred\n"
     ]
    },
    {
     "name": "stdout",
     "output_type": "stream",
     "text": [
      "Num games:  260 log loss on sample:  0.6840466433449796 log loss overall:  0.6296129340168053\n"
     ]
    },
    {
     "name": "stderr",
     "output_type": "stream",
     "text": [
      "/var/folders/_6/_8xn00vj0gz5g10qr8khtxz40000gn/T/ipykernel_10067/1685079216.py:20: SettingWithCopyWarning: \n",
      "A value is trying to be set on a copy of a slice from a DataFrame.\n",
      "Try using .loc[row_indexer,col_indexer] = value instead\n",
      "\n",
      "See the caveats in the documentation: https://pandas.pydata.org/pandas-docs/stable/user_guide/indexing.html#returning-a-view-versus-a-copy\n",
      "  test['pred_prob'] = y_pred\n"
     ]
    },
    {
     "name": "stdout",
     "output_type": "stream",
     "text": [
      "Num games:  270 log loss on sample:  0.6609178415643491 log loss overall:  0.6307086948672173\n"
     ]
    },
    {
     "name": "stderr",
     "output_type": "stream",
     "text": [
      "/var/folders/_6/_8xn00vj0gz5g10qr8khtxz40000gn/T/ipykernel_10067/1685079216.py:20: SettingWithCopyWarning: \n",
      "A value is trying to be set on a copy of a slice from a DataFrame.\n",
      "Try using .loc[row_indexer,col_indexer] = value instead\n",
      "\n",
      "See the caveats in the documentation: https://pandas.pydata.org/pandas-docs/stable/user_guide/indexing.html#returning-a-view-versus-a-copy\n",
      "  test['pred_prob'] = y_pred\n"
     ]
    },
    {
     "name": "stdout",
     "output_type": "stream",
     "text": [
      "Num games:  280 log loss on sample:  0.6141905558742876 log loss overall:  0.6301325334686724\n"
     ]
    },
    {
     "name": "stderr",
     "output_type": "stream",
     "text": [
      "/var/folders/_6/_8xn00vj0gz5g10qr8khtxz40000gn/T/ipykernel_10067/1685079216.py:20: SettingWithCopyWarning: \n",
      "A value is trying to be set on a copy of a slice from a DataFrame.\n",
      "Try using .loc[row_indexer,col_indexer] = value instead\n",
      "\n",
      "See the caveats in the documentation: https://pandas.pydata.org/pandas-docs/stable/user_guide/indexing.html#returning-a-view-versus-a-copy\n",
      "  test['pred_prob'] = y_pred\n"
     ]
    },
    {
     "name": "stdout",
     "output_type": "stream",
     "text": [
      "Num games:  290 log loss on sample:  0.5864378194590765 log loss overall:  0.628828561188077\n"
     ]
    },
    {
     "name": "stderr",
     "output_type": "stream",
     "text": [
      "/var/folders/_6/_8xn00vj0gz5g10qr8khtxz40000gn/T/ipykernel_10067/1685079216.py:20: SettingWithCopyWarning: \n",
      "A value is trying to be set on a copy of a slice from a DataFrame.\n",
      "Try using .loc[row_indexer,col_indexer] = value instead\n",
      "\n",
      "See the caveats in the documentation: https://pandas.pydata.org/pandas-docs/stable/user_guide/indexing.html#returning-a-view-versus-a-copy\n",
      "  test['pred_prob'] = y_pred\n"
     ]
    },
    {
     "name": "stdout",
     "output_type": "stream",
     "text": [
      "Num games:  300 log loss on sample:  0.5952064766966063 log loss overall:  0.6275778679476297\n"
     ]
    },
    {
     "name": "stderr",
     "output_type": "stream",
     "text": [
      "/var/folders/_6/_8xn00vj0gz5g10qr8khtxz40000gn/T/ipykernel_10067/1685079216.py:20: SettingWithCopyWarning: \n",
      "A value is trying to be set on a copy of a slice from a DataFrame.\n",
      "Try using .loc[row_indexer,col_indexer] = value instead\n",
      "\n",
      "See the caveats in the documentation: https://pandas.pydata.org/pandas-docs/stable/user_guide/indexing.html#returning-a-view-versus-a-copy\n",
      "  test['pred_prob'] = y_pred\n"
     ]
    },
    {
     "name": "stdout",
     "output_type": "stream",
     "text": [
      "Num games:  310 log loss on sample:  0.5689268593826602 log loss overall:  0.625334861205076\n"
     ]
    },
    {
     "name": "stderr",
     "output_type": "stream",
     "text": [
      "/var/folders/_6/_8xn00vj0gz5g10qr8khtxz40000gn/T/ipykernel_10067/1685079216.py:20: SettingWithCopyWarning: \n",
      "A value is trying to be set on a copy of a slice from a DataFrame.\n",
      "Try using .loc[row_indexer,col_indexer] = value instead\n",
      "\n",
      "See the caveats in the documentation: https://pandas.pydata.org/pandas-docs/stable/user_guide/indexing.html#returning-a-view-versus-a-copy\n",
      "  test['pred_prob'] = y_pred\n"
     ]
    },
    {
     "name": "stdout",
     "output_type": "stream",
     "text": [
      "Num games:  320 log loss on sample:  0.6336043616218016 log loss overall:  0.6255745855822737\n"
     ]
    },
    {
     "name": "stderr",
     "output_type": "stream",
     "text": [
      "/var/folders/_6/_8xn00vj0gz5g10qr8khtxz40000gn/T/ipykernel_10067/1685079216.py:20: SettingWithCopyWarning: \n",
      "A value is trying to be set on a copy of a slice from a DataFrame.\n",
      "Try using .loc[row_indexer,col_indexer] = value instead\n",
      "\n",
      "See the caveats in the documentation: https://pandas.pydata.org/pandas-docs/stable/user_guide/indexing.html#returning-a-view-versus-a-copy\n",
      "  test['pred_prob'] = y_pred\n"
     ]
    },
    {
     "name": "stdout",
     "output_type": "stream",
     "text": [
      "Num games:  330 log loss on sample:  0.643493259412663 log loss overall:  0.6260224477873314\n"
     ]
    },
    {
     "name": "stderr",
     "output_type": "stream",
     "text": [
      "/var/folders/_6/_8xn00vj0gz5g10qr8khtxz40000gn/T/ipykernel_10067/1685079216.py:20: SettingWithCopyWarning: \n",
      "A value is trying to be set on a copy of a slice from a DataFrame.\n",
      "Try using .loc[row_indexer,col_indexer] = value instead\n",
      "\n",
      "See the caveats in the documentation: https://pandas.pydata.org/pandas-docs/stable/user_guide/indexing.html#returning-a-view-versus-a-copy\n",
      "  test['pred_prob'] = y_pred\n"
     ]
    },
    {
     "name": "stdout",
     "output_type": "stream",
     "text": [
      "Num games:  340 log loss on sample:  0.6401305894056956 log loss overall:  0.6264071278587251\n"
     ]
    },
    {
     "name": "stderr",
     "output_type": "stream",
     "text": [
      "/var/folders/_6/_8xn00vj0gz5g10qr8khtxz40000gn/T/ipykernel_10067/1685079216.py:20: SettingWithCopyWarning: \n",
      "A value is trying to be set on a copy of a slice from a DataFrame.\n",
      "Try using .loc[row_indexer,col_indexer] = value instead\n",
      "\n",
      "See the caveats in the documentation: https://pandas.pydata.org/pandas-docs/stable/user_guide/indexing.html#returning-a-view-versus-a-copy\n",
      "  test['pred_prob'] = y_pred\n"
     ]
    },
    {
     "name": "stdout",
     "output_type": "stream",
     "text": [
      "Num games:  350 log loss on sample:  0.620934247769214 log loss overall:  0.6262290697683212\n"
     ]
    },
    {
     "name": "stderr",
     "output_type": "stream",
     "text": [
      "/var/folders/_6/_8xn00vj0gz5g10qr8khtxz40000gn/T/ipykernel_10067/1685079216.py:20: SettingWithCopyWarning: \n",
      "A value is trying to be set on a copy of a slice from a DataFrame.\n",
      "Try using .loc[row_indexer,col_indexer] = value instead\n",
      "\n",
      "See the caveats in the documentation: https://pandas.pydata.org/pandas-docs/stable/user_guide/indexing.html#returning-a-view-versus-a-copy\n",
      "  test['pred_prob'] = y_pred\n"
     ]
    },
    {
     "name": "stdout",
     "output_type": "stream",
     "text": [
      "Num games:  360 log loss on sample:  0.6145178043481075 log loss overall:  0.6258988225913359\n"
     ]
    },
    {
     "name": "stderr",
     "output_type": "stream",
     "text": [
      "/var/folders/_6/_8xn00vj0gz5g10qr8khtxz40000gn/T/ipykernel_10067/1685079216.py:20: SettingWithCopyWarning: \n",
      "A value is trying to be set on a copy of a slice from a DataFrame.\n",
      "Try using .loc[row_indexer,col_indexer] = value instead\n",
      "\n",
      "See the caveats in the documentation: https://pandas.pydata.org/pandas-docs/stable/user_guide/indexing.html#returning-a-view-versus-a-copy\n",
      "  test['pred_prob'] = y_pred\n"
     ]
    },
    {
     "name": "stdout",
     "output_type": "stream",
     "text": [
      "Num games:  370 log loss on sample:  0.5880071177732112 log loss overall:  0.6248826001544256\n"
     ]
    },
    {
     "name": "stderr",
     "output_type": "stream",
     "text": [
      "/var/folders/_6/_8xn00vj0gz5g10qr8khtxz40000gn/T/ipykernel_10067/1685079216.py:20: SettingWithCopyWarning: \n",
      "A value is trying to be set on a copy of a slice from a DataFrame.\n",
      "Try using .loc[row_indexer,col_indexer] = value instead\n",
      "\n",
      "See the caveats in the documentation: https://pandas.pydata.org/pandas-docs/stable/user_guide/indexing.html#returning-a-view-versus-a-copy\n",
      "  test['pred_prob'] = y_pred\n"
     ]
    },
    {
     "name": "stdout",
     "output_type": "stream",
     "text": [
      "Num games:  380 log loss on sample:  0.674316549765282 log loss overall:  0.626105418859317\n"
     ]
    },
    {
     "name": "stderr",
     "output_type": "stream",
     "text": [
      "/var/folders/_6/_8xn00vj0gz5g10qr8khtxz40000gn/T/ipykernel_10067/1685079216.py:20: SettingWithCopyWarning: \n",
      "A value is trying to be set on a copy of a slice from a DataFrame.\n",
      "Try using .loc[row_indexer,col_indexer] = value instead\n",
      "\n",
      "See the caveats in the documentation: https://pandas.pydata.org/pandas-docs/stable/user_guide/indexing.html#returning-a-view-versus-a-copy\n",
      "  test['pred_prob'] = y_pred\n"
     ]
    },
    {
     "name": "stdout",
     "output_type": "stream",
     "text": [
      "Num games:  390 log loss on sample:  0.6035147129543244 log loss overall:  0.625542661060972\n"
     ]
    },
    {
     "name": "stderr",
     "output_type": "stream",
     "text": [
      "/var/folders/_6/_8xn00vj0gz5g10qr8khtxz40000gn/T/ipykernel_10067/1685079216.py:20: SettingWithCopyWarning: \n",
      "A value is trying to be set on a copy of a slice from a DataFrame.\n",
      "Try using .loc[row_indexer,col_indexer] = value instead\n",
      "\n",
      "See the caveats in the documentation: https://pandas.pydata.org/pandas-docs/stable/user_guide/indexing.html#returning-a-view-versus-a-copy\n",
      "  test['pred_prob'] = y_pred\n"
     ]
    },
    {
     "name": "stdout",
     "output_type": "stream",
     "text": [
      "Num games:  400 log loss on sample:  0.6564754372898568 log loss overall:  0.6263815765155349\n"
     ]
    },
    {
     "name": "stderr",
     "output_type": "stream",
     "text": [
      "/var/folders/_6/_8xn00vj0gz5g10qr8khtxz40000gn/T/ipykernel_10067/1685079216.py:20: SettingWithCopyWarning: \n",
      "A value is trying to be set on a copy of a slice from a DataFrame.\n",
      "Try using .loc[row_indexer,col_indexer] = value instead\n",
      "\n",
      "See the caveats in the documentation: https://pandas.pydata.org/pandas-docs/stable/user_guide/indexing.html#returning-a-view-versus-a-copy\n",
      "  test['pred_prob'] = y_pred\n"
     ]
    },
    {
     "name": "stdout",
     "output_type": "stream",
     "text": [
      "Num games:  410 log loss on sample:  0.6274815140800043 log loss overall:  0.6264110207446101\n"
     ]
    },
    {
     "name": "stderr",
     "output_type": "stream",
     "text": [
      "/var/folders/_6/_8xn00vj0gz5g10qr8khtxz40000gn/T/ipykernel_10067/1685079216.py:20: SettingWithCopyWarning: \n",
      "A value is trying to be set on a copy of a slice from a DataFrame.\n",
      "Try using .loc[row_indexer,col_indexer] = value instead\n",
      "\n",
      "See the caveats in the documentation: https://pandas.pydata.org/pandas-docs/stable/user_guide/indexing.html#returning-a-view-versus-a-copy\n",
      "  test['pred_prob'] = y_pred\n"
     ]
    },
    {
     "name": "stdout",
     "output_type": "stream",
     "text": [
      "Num games:  420 log loss on sample:  0.6277657389883103 log loss overall:  0.6264415112009641\n"
     ]
    },
    {
     "name": "stderr",
     "output_type": "stream",
     "text": [
      "/var/folders/_6/_8xn00vj0gz5g10qr8khtxz40000gn/T/ipykernel_10067/1685079216.py:20: SettingWithCopyWarning: \n",
      "A value is trying to be set on a copy of a slice from a DataFrame.\n",
      "Try using .loc[row_indexer,col_indexer] = value instead\n",
      "\n",
      "See the caveats in the documentation: https://pandas.pydata.org/pandas-docs/stable/user_guide/indexing.html#returning-a-view-versus-a-copy\n",
      "  test['pred_prob'] = y_pred\n"
     ]
    },
    {
     "name": "stdout",
     "output_type": "stream",
     "text": [
      "Num games:  430 log loss on sample:  0.6830161143546907 log loss overall:  0.6275279222809084\n"
     ]
    },
    {
     "name": "stderr",
     "output_type": "stream",
     "text": [
      "/var/folders/_6/_8xn00vj0gz5g10qr8khtxz40000gn/T/ipykernel_10067/1685079216.py:20: SettingWithCopyWarning: \n",
      "A value is trying to be set on a copy of a slice from a DataFrame.\n",
      "Try using .loc[row_indexer,col_indexer] = value instead\n",
      "\n",
      "See the caveats in the documentation: https://pandas.pydata.org/pandas-docs/stable/user_guide/indexing.html#returning-a-view-versus-a-copy\n",
      "  test['pred_prob'] = y_pred\n"
     ]
    },
    {
     "name": "stdout",
     "output_type": "stream",
     "text": [
      "Num games:  440 log loss on sample:  0.6392754582782924 log loss overall:  0.6277715442928049\n"
     ]
    },
    {
     "name": "stderr",
     "output_type": "stream",
     "text": [
      "/var/folders/_6/_8xn00vj0gz5g10qr8khtxz40000gn/T/ipykernel_10067/1685079216.py:20: SettingWithCopyWarning: \n",
      "A value is trying to be set on a copy of a slice from a DataFrame.\n",
      "Try using .loc[row_indexer,col_indexer] = value instead\n",
      "\n",
      "See the caveats in the documentation: https://pandas.pydata.org/pandas-docs/stable/user_guide/indexing.html#returning-a-view-versus-a-copy\n",
      "  test['pred_prob'] = y_pred\n"
     ]
    },
    {
     "name": "stdout",
     "output_type": "stream",
     "text": [
      "Num games:  450 log loss on sample:  0.7098173581891589 log loss overall:  0.6300428057164565\n"
     ]
    },
    {
     "name": "stderr",
     "output_type": "stream",
     "text": [
      "/var/folders/_6/_8xn00vj0gz5g10qr8khtxz40000gn/T/ipykernel_10067/1685079216.py:20: SettingWithCopyWarning: \n",
      "A value is trying to be set on a copy of a slice from a DataFrame.\n",
      "Try using .loc[row_indexer,col_indexer] = value instead\n",
      "\n",
      "See the caveats in the documentation: https://pandas.pydata.org/pandas-docs/stable/user_guide/indexing.html#returning-a-view-versus-a-copy\n",
      "  test['pred_prob'] = y_pred\n"
     ]
    },
    {
     "name": "stdout",
     "output_type": "stream",
     "text": [
      "Num games:  460 log loss on sample:  0.6807328686118126 log loss overall:  0.6310447198574367\n"
     ]
    },
    {
     "name": "stderr",
     "output_type": "stream",
     "text": [
      "/var/folders/_6/_8xn00vj0gz5g10qr8khtxz40000gn/T/ipykernel_10067/1685079216.py:20: SettingWithCopyWarning: \n",
      "A value is trying to be set on a copy of a slice from a DataFrame.\n",
      "Try using .loc[row_indexer,col_indexer] = value instead\n",
      "\n",
      "See the caveats in the documentation: https://pandas.pydata.org/pandas-docs/stable/user_guide/indexing.html#returning-a-view-versus-a-copy\n",
      "  test['pred_prob'] = y_pred\n"
     ]
    },
    {
     "name": "stdout",
     "output_type": "stream",
     "text": [
      "Num games:  470 log loss on sample:  0.6342222140906574 log loss overall:  0.6311190502476463\n"
     ]
    },
    {
     "name": "stderr",
     "output_type": "stream",
     "text": [
      "/var/folders/_6/_8xn00vj0gz5g10qr8khtxz40000gn/T/ipykernel_10067/1685079216.py:20: SettingWithCopyWarning: \n",
      "A value is trying to be set on a copy of a slice from a DataFrame.\n",
      "Try using .loc[row_indexer,col_indexer] = value instead\n",
      "\n",
      "See the caveats in the documentation: https://pandas.pydata.org/pandas-docs/stable/user_guide/indexing.html#returning-a-view-versus-a-copy\n",
      "  test['pred_prob'] = y_pred\n"
     ]
    },
    {
     "name": "stdout",
     "output_type": "stream",
     "text": [
      "Num games:  480 log loss on sample:  0.5858702803343798 log loss overall:  0.6302977988823717\n"
     ]
    },
    {
     "name": "stderr",
     "output_type": "stream",
     "text": [
      "/var/folders/_6/_8xn00vj0gz5g10qr8khtxz40000gn/T/ipykernel_10067/1685079216.py:20: SettingWithCopyWarning: \n",
      "A value is trying to be set on a copy of a slice from a DataFrame.\n",
      "Try using .loc[row_indexer,col_indexer] = value instead\n",
      "\n",
      "See the caveats in the documentation: https://pandas.pydata.org/pandas-docs/stable/user_guide/indexing.html#returning-a-view-versus-a-copy\n",
      "  test['pred_prob'] = y_pred\n"
     ]
    },
    {
     "name": "stdout",
     "output_type": "stream",
     "text": [
      "Num games:  490 log loss on sample:  0.5638487281337861 log loss overall:  0.629000210729171\n"
     ]
    },
    {
     "name": "stderr",
     "output_type": "stream",
     "text": [
      "/var/folders/_6/_8xn00vj0gz5g10qr8khtxz40000gn/T/ipykernel_10067/1685079216.py:20: SettingWithCopyWarning: \n",
      "A value is trying to be set on a copy of a slice from a DataFrame.\n",
      "Try using .loc[row_indexer,col_indexer] = value instead\n",
      "\n",
      "See the caveats in the documentation: https://pandas.pydata.org/pandas-docs/stable/user_guide/indexing.html#returning-a-view-versus-a-copy\n",
      "  test['pred_prob'] = y_pred\n"
     ]
    },
    {
     "name": "stdout",
     "output_type": "stream",
     "text": [
      "Num games:  500 log loss on sample:  0.6494556449353694 log loss overall:  0.6294414681696745\n"
     ]
    },
    {
     "name": "stderr",
     "output_type": "stream",
     "text": [
      "/var/folders/_6/_8xn00vj0gz5g10qr8khtxz40000gn/T/ipykernel_10067/1685079216.py:20: SettingWithCopyWarning: \n",
      "A value is trying to be set on a copy of a slice from a DataFrame.\n",
      "Try using .loc[row_indexer,col_indexer] = value instead\n",
      "\n",
      "See the caveats in the documentation: https://pandas.pydata.org/pandas-docs/stable/user_guide/indexing.html#returning-a-view-versus-a-copy\n",
      "  test['pred_prob'] = y_pred\n"
     ]
    },
    {
     "name": "stdout",
     "output_type": "stream",
     "text": [
      "Num games:  510 log loss on sample:  0.6452063116012141 log loss overall:  0.6297463790127142\n"
     ]
    },
    {
     "name": "stderr",
     "output_type": "stream",
     "text": [
      "/var/folders/_6/_8xn00vj0gz5g10qr8khtxz40000gn/T/ipykernel_10067/1685079216.py:20: SettingWithCopyWarning: \n",
      "A value is trying to be set on a copy of a slice from a DataFrame.\n",
      "Try using .loc[row_indexer,col_indexer] = value instead\n",
      "\n",
      "See the caveats in the documentation: https://pandas.pydata.org/pandas-docs/stable/user_guide/indexing.html#returning-a-view-versus-a-copy\n",
      "  test['pred_prob'] = y_pred\n"
     ]
    },
    {
     "name": "stdout",
     "output_type": "stream",
     "text": [
      "Num games:  520 log loss on sample:  0.66335202658632 log loss overall:  0.6305251371926487\n"
     ]
    },
    {
     "name": "stderr",
     "output_type": "stream",
     "text": [
      "/var/folders/_6/_8xn00vj0gz5g10qr8khtxz40000gn/T/ipykernel_10067/1685079216.py:20: SettingWithCopyWarning: \n",
      "A value is trying to be set on a copy of a slice from a DataFrame.\n",
      "Try using .loc[row_indexer,col_indexer] = value instead\n",
      "\n",
      "See the caveats in the documentation: https://pandas.pydata.org/pandas-docs/stable/user_guide/indexing.html#returning-a-view-versus-a-copy\n",
      "  test['pred_prob'] = y_pred\n"
     ]
    },
    {
     "name": "stdout",
     "output_type": "stream",
     "text": [
      "Num games:  530 log loss on sample:  0.5951027049329775 log loss overall:  0.6299288518723583\n"
     ]
    },
    {
     "name": "stderr",
     "output_type": "stream",
     "text": [
      "/var/folders/_6/_8xn00vj0gz5g10qr8khtxz40000gn/T/ipykernel_10067/1685079216.py:20: SettingWithCopyWarning: \n",
      "A value is trying to be set on a copy of a slice from a DataFrame.\n",
      "Try using .loc[row_indexer,col_indexer] = value instead\n",
      "\n",
      "See the caveats in the documentation: https://pandas.pydata.org/pandas-docs/stable/user_guide/indexing.html#returning-a-view-versus-a-copy\n",
      "  test['pred_prob'] = y_pred\n"
     ]
    },
    {
     "name": "stdout",
     "output_type": "stream",
     "text": [
      "Num games:  540 log loss on sample:  0.525355960338794 log loss overall:  0.6281976608608135\n"
     ]
    },
    {
     "name": "stderr",
     "output_type": "stream",
     "text": [
      "/var/folders/_6/_8xn00vj0gz5g10qr8khtxz40000gn/T/ipykernel_10067/1685079216.py:20: SettingWithCopyWarning: \n",
      "A value is trying to be set on a copy of a slice from a DataFrame.\n",
      "Try using .loc[row_indexer,col_indexer] = value instead\n",
      "\n",
      "See the caveats in the documentation: https://pandas.pydata.org/pandas-docs/stable/user_guide/indexing.html#returning-a-view-versus-a-copy\n",
      "  test['pred_prob'] = y_pred\n"
     ]
    },
    {
     "name": "stdout",
     "output_type": "stream",
     "text": [
      "Num games:  550 log loss on sample:  0.5774338187057843 log loss overall:  0.6272799849025739\n"
     ]
    },
    {
     "name": "stderr",
     "output_type": "stream",
     "text": [
      "/var/folders/_6/_8xn00vj0gz5g10qr8khtxz40000gn/T/ipykernel_10067/1685079216.py:20: SettingWithCopyWarning: \n",
      "A value is trying to be set on a copy of a slice from a DataFrame.\n",
      "Try using .loc[row_indexer,col_indexer] = value instead\n",
      "\n",
      "See the caveats in the documentation: https://pandas.pydata.org/pandas-docs/stable/user_guide/indexing.html#returning-a-view-versus-a-copy\n",
      "  test['pred_prob'] = y_pred\n"
     ]
    },
    {
     "name": "stdout",
     "output_type": "stream",
     "text": [
      "Num games:  560 log loss on sample:  0.6598919924152525 log loss overall:  0.6279601475180961\n"
     ]
    },
    {
     "name": "stderr",
     "output_type": "stream",
     "text": [
      "/var/folders/_6/_8xn00vj0gz5g10qr8khtxz40000gn/T/ipykernel_10067/1685079216.py:20: SettingWithCopyWarning: \n",
      "A value is trying to be set on a copy of a slice from a DataFrame.\n",
      "Try using .loc[row_indexer,col_indexer] = value instead\n",
      "\n",
      "See the caveats in the documentation: https://pandas.pydata.org/pandas-docs/stable/user_guide/indexing.html#returning-a-view-versus-a-copy\n",
      "  test['pred_prob'] = y_pred\n"
     ]
    },
    {
     "name": "stdout",
     "output_type": "stream",
     "text": [
      "Num games:  570 log loss on sample:  0.6377912128534843 log loss overall:  0.6281285285427212\n"
     ]
    },
    {
     "name": "stderr",
     "output_type": "stream",
     "text": [
      "/var/folders/_6/_8xn00vj0gz5g10qr8khtxz40000gn/T/ipykernel_10067/1685079216.py:20: SettingWithCopyWarning: \n",
      "A value is trying to be set on a copy of a slice from a DataFrame.\n",
      "Try using .loc[row_indexer,col_indexer] = value instead\n",
      "\n",
      "See the caveats in the documentation: https://pandas.pydata.org/pandas-docs/stable/user_guide/indexing.html#returning-a-view-versus-a-copy\n",
      "  test['pred_prob'] = y_pred\n"
     ]
    },
    {
     "name": "stdout",
     "output_type": "stream",
     "text": [
      "Num games:  580 log loss on sample:  0.6724551986787737 log loss overall:  0.6287009043418689\n"
     ]
    },
    {
     "name": "stderr",
     "output_type": "stream",
     "text": [
      "/var/folders/_6/_8xn00vj0gz5g10qr8khtxz40000gn/T/ipykernel_10067/1685079216.py:20: SettingWithCopyWarning: \n",
      "A value is trying to be set on a copy of a slice from a DataFrame.\n",
      "Try using .loc[row_indexer,col_indexer] = value instead\n",
      "\n",
      "See the caveats in the documentation: https://pandas.pydata.org/pandas-docs/stable/user_guide/indexing.html#returning-a-view-versus-a-copy\n",
      "  test['pred_prob'] = y_pred\n"
     ]
    },
    {
     "name": "stdout",
     "output_type": "stream",
     "text": [
      "Num games:  590 log loss on sample:  0.6182794420904404 log loss overall:  0.6284995497187342\n"
     ]
    },
    {
     "name": "stderr",
     "output_type": "stream",
     "text": [
      "/var/folders/_6/_8xn00vj0gz5g10qr8khtxz40000gn/T/ipykernel_10067/1685079216.py:20: SettingWithCopyWarning: \n",
      "A value is trying to be set on a copy of a slice from a DataFrame.\n",
      "Try using .loc[row_indexer,col_indexer] = value instead\n",
      "\n",
      "See the caveats in the documentation: https://pandas.pydata.org/pandas-docs/stable/user_guide/indexing.html#returning-a-view-versus-a-copy\n",
      "  test['pred_prob'] = y_pred\n"
     ]
    },
    {
     "name": "stdout",
     "output_type": "stream",
     "text": [
      "Num games:  600 log loss on sample:  0.6944283016941004 log loss overall:  0.62946634644181\n"
     ]
    },
    {
     "name": "stderr",
     "output_type": "stream",
     "text": [
      "/var/folders/_6/_8xn00vj0gz5g10qr8khtxz40000gn/T/ipykernel_10067/1685079216.py:20: SettingWithCopyWarning: \n",
      "A value is trying to be set on a copy of a slice from a DataFrame.\n",
      "Try using .loc[row_indexer,col_indexer] = value instead\n",
      "\n",
      "See the caveats in the documentation: https://pandas.pydata.org/pandas-docs/stable/user_guide/indexing.html#returning-a-view-versus-a-copy\n",
      "  test['pred_prob'] = y_pred\n"
     ]
    },
    {
     "name": "stdout",
     "output_type": "stream",
     "text": [
      "Num games:  610 log loss on sample:  0.5952949511264664 log loss overall:  0.6288068001464591\n"
     ]
    },
    {
     "name": "stderr",
     "output_type": "stream",
     "text": [
      "/var/folders/_6/_8xn00vj0gz5g10qr8khtxz40000gn/T/ipykernel_10067/1685079216.py:20: SettingWithCopyWarning: \n",
      "A value is trying to be set on a copy of a slice from a DataFrame.\n",
      "Try using .loc[row_indexer,col_indexer] = value instead\n",
      "\n",
      "See the caveats in the documentation: https://pandas.pydata.org/pandas-docs/stable/user_guide/indexing.html#returning-a-view-versus-a-copy\n",
      "  test['pred_prob'] = y_pred\n"
     ]
    },
    {
     "name": "stdout",
     "output_type": "stream",
     "text": [
      "Num games:  620 log loss on sample:  0.6097013725124243 log loss overall:  0.6284962006155508\n"
     ]
    },
    {
     "name": "stderr",
     "output_type": "stream",
     "text": [
      "/var/folders/_6/_8xn00vj0gz5g10qr8khtxz40000gn/T/ipykernel_10067/1685079216.py:20: SettingWithCopyWarning: \n",
      "A value is trying to be set on a copy of a slice from a DataFrame.\n",
      "Try using .loc[row_indexer,col_indexer] = value instead\n",
      "\n",
      "See the caveats in the documentation: https://pandas.pydata.org/pandas-docs/stable/user_guide/indexing.html#returning-a-view-versus-a-copy\n",
      "  test['pred_prob'] = y_pred\n"
     ]
    },
    {
     "name": "stdout",
     "output_type": "stream",
     "text": [
      "Num games:  630 log loss on sample:  0.6677970358236568 log loss overall:  0.6291059997690547\n"
     ]
    },
    {
     "name": "stderr",
     "output_type": "stream",
     "text": [
      "/var/folders/_6/_8xn00vj0gz5g10qr8khtxz40000gn/T/ipykernel_10067/1685079216.py:20: SettingWithCopyWarning: \n",
      "A value is trying to be set on a copy of a slice from a DataFrame.\n",
      "Try using .loc[row_indexer,col_indexer] = value instead\n",
      "\n",
      "See the caveats in the documentation: https://pandas.pydata.org/pandas-docs/stable/user_guide/indexing.html#returning-a-view-versus-a-copy\n",
      "  test['pred_prob'] = y_pred\n"
     ]
    },
    {
     "name": "stdout",
     "output_type": "stream",
     "text": [
      "Num games:  640 log loss on sample:  0.6417941854590863 log loss overall:  0.6292787841728839\n"
     ]
    },
    {
     "name": "stderr",
     "output_type": "stream",
     "text": [
      "/var/folders/_6/_8xn00vj0gz5g10qr8khtxz40000gn/T/ipykernel_10067/1685079216.py:20: SettingWithCopyWarning: \n",
      "A value is trying to be set on a copy of a slice from a DataFrame.\n",
      "Try using .loc[row_indexer,col_indexer] = value instead\n",
      "\n",
      "See the caveats in the documentation: https://pandas.pydata.org/pandas-docs/stable/user_guide/indexing.html#returning-a-view-versus-a-copy\n",
      "  test['pred_prob'] = y_pred\n"
     ]
    },
    {
     "name": "stdout",
     "output_type": "stream",
     "text": [
      "Num games:  650 log loss on sample:  0.6193789137848492 log loss overall:  0.6291087638949892\n"
     ]
    },
    {
     "name": "stderr",
     "output_type": "stream",
     "text": [
      "/var/folders/_6/_8xn00vj0gz5g10qr8khtxz40000gn/T/ipykernel_10067/1685079216.py:20: SettingWithCopyWarning: \n",
      "A value is trying to be set on a copy of a slice from a DataFrame.\n",
      "Try using .loc[row_indexer,col_indexer] = value instead\n",
      "\n",
      "See the caveats in the documentation: https://pandas.pydata.org/pandas-docs/stable/user_guide/indexing.html#returning-a-view-versus-a-copy\n",
      "  test['pred_prob'] = y_pred\n"
     ]
    },
    {
     "name": "stdout",
     "output_type": "stream",
     "text": [
      "Num games:  660 log loss on sample:  0.6329490175281746 log loss overall:  0.6291705230141337\n"
     ]
    },
    {
     "name": "stderr",
     "output_type": "stream",
     "text": [
      "/var/folders/_6/_8xn00vj0gz5g10qr8khtxz40000gn/T/ipykernel_10067/1685079216.py:20: SettingWithCopyWarning: \n",
      "A value is trying to be set on a copy of a slice from a DataFrame.\n",
      "Try using .loc[row_indexer,col_indexer] = value instead\n",
      "\n",
      "See the caveats in the documentation: https://pandas.pydata.org/pandas-docs/stable/user_guide/indexing.html#returning-a-view-versus-a-copy\n",
      "  test['pred_prob'] = y_pred\n"
     ]
    },
    {
     "name": "stdout",
     "output_type": "stream",
     "text": [
      "Num games:  670 log loss on sample:  0.6175097671784754 log loss overall:  0.6290004591658186\n"
     ]
    },
    {
     "name": "stderr",
     "output_type": "stream",
     "text": [
      "/var/folders/_6/_8xn00vj0gz5g10qr8khtxz40000gn/T/ipykernel_10067/1685079216.py:20: SettingWithCopyWarning: \n",
      "A value is trying to be set on a copy of a slice from a DataFrame.\n",
      "Try using .loc[row_indexer,col_indexer] = value instead\n",
      "\n",
      "See the caveats in the documentation: https://pandas.pydata.org/pandas-docs/stable/user_guide/indexing.html#returning-a-view-versus-a-copy\n",
      "  test['pred_prob'] = y_pred\n"
     ]
    },
    {
     "name": "stdout",
     "output_type": "stream",
     "text": [
      "Num games:  680 log loss on sample:  0.6156839171954251 log loss overall:  0.6288358336611375\n"
     ]
    },
    {
     "name": "stderr",
     "output_type": "stream",
     "text": [
      "/var/folders/_6/_8xn00vj0gz5g10qr8khtxz40000gn/T/ipykernel_10067/1685079216.py:20: SettingWithCopyWarning: \n",
      "A value is trying to be set on a copy of a slice from a DataFrame.\n",
      "Try using .loc[row_indexer,col_indexer] = value instead\n",
      "\n",
      "See the caveats in the documentation: https://pandas.pydata.org/pandas-docs/stable/user_guide/indexing.html#returning-a-view-versus-a-copy\n",
      "  test['pred_prob'] = y_pred\n"
     ]
    },
    {
     "name": "stdout",
     "output_type": "stream",
     "text": [
      "Num games:  690 log loss on sample:  0.5758061808758769 log loss overall:  0.6279778444116549\n"
     ]
    },
    {
     "name": "stderr",
     "output_type": "stream",
     "text": [
      "/var/folders/_6/_8xn00vj0gz5g10qr8khtxz40000gn/T/ipykernel_10067/1685079216.py:20: SettingWithCopyWarning: \n",
      "A value is trying to be set on a copy of a slice from a DataFrame.\n",
      "Try using .loc[row_indexer,col_indexer] = value instead\n",
      "\n",
      "See the caveats in the documentation: https://pandas.pydata.org/pandas-docs/stable/user_guide/indexing.html#returning-a-view-versus-a-copy\n",
      "  test['pred_prob'] = y_pred\n"
     ]
    },
    {
     "name": "stdout",
     "output_type": "stream",
     "text": [
      "Num games:  700 log loss on sample:  0.5754469399989555 log loss overall:  0.6272153549260077\n"
     ]
    },
    {
     "name": "stderr",
     "output_type": "stream",
     "text": [
      "/var/folders/_6/_8xn00vj0gz5g10qr8khtxz40000gn/T/ipykernel_10067/1685079216.py:20: SettingWithCopyWarning: \n",
      "A value is trying to be set on a copy of a slice from a DataFrame.\n",
      "Try using .loc[row_indexer,col_indexer] = value instead\n",
      "\n",
      "See the caveats in the documentation: https://pandas.pydata.org/pandas-docs/stable/user_guide/indexing.html#returning-a-view-versus-a-copy\n",
      "  test['pred_prob'] = y_pred\n"
     ]
    },
    {
     "name": "stdout",
     "output_type": "stream",
     "text": [
      "Num games:  710 log loss on sample:  0.601527388176776 log loss overall:  0.6267957894334025\n"
     ]
    },
    {
     "name": "stderr",
     "output_type": "stream",
     "text": [
      "/var/folders/_6/_8xn00vj0gz5g10qr8khtxz40000gn/T/ipykernel_10067/1685079216.py:20: SettingWithCopyWarning: \n",
      "A value is trying to be set on a copy of a slice from a DataFrame.\n",
      "Try using .loc[row_indexer,col_indexer] = value instead\n",
      "\n",
      "See the caveats in the documentation: https://pandas.pydata.org/pandas-docs/stable/user_guide/indexing.html#returning-a-view-versus-a-copy\n",
      "  test['pred_prob'] = y_pred\n"
     ]
    },
    {
     "name": "stdout",
     "output_type": "stream",
     "text": [
      "Num games:  720 log loss on sample:  0.5702397043683699 log loss overall:  0.6261188329807699\n"
     ]
    },
    {
     "name": "stderr",
     "output_type": "stream",
     "text": [
      "/var/folders/_6/_8xn00vj0gz5g10qr8khtxz40000gn/T/ipykernel_10067/1685079216.py:20: SettingWithCopyWarning: \n",
      "A value is trying to be set on a copy of a slice from a DataFrame.\n",
      "Try using .loc[row_indexer,col_indexer] = value instead\n",
      "\n",
      "See the caveats in the documentation: https://pandas.pydata.org/pandas-docs/stable/user_guide/indexing.html#returning-a-view-versus-a-copy\n",
      "  test['pred_prob'] = y_pred\n"
     ]
    },
    {
     "name": "stdout",
     "output_type": "stream",
     "text": [
      "Num games:  730 log loss on sample:  0.579653007494024 log loss overall:  0.6255256313682044\n"
     ]
    },
    {
     "name": "stderr",
     "output_type": "stream",
     "text": [
      "/var/folders/_6/_8xn00vj0gz5g10qr8khtxz40000gn/T/ipykernel_10067/1685079216.py:20: SettingWithCopyWarning: \n",
      "A value is trying to be set on a copy of a slice from a DataFrame.\n",
      "Try using .loc[row_indexer,col_indexer] = value instead\n",
      "\n",
      "See the caveats in the documentation: https://pandas.pydata.org/pandas-docs/stable/user_guide/indexing.html#returning-a-view-versus-a-copy\n",
      "  test['pred_prob'] = y_pred\n"
     ]
    },
    {
     "name": "stdout",
     "output_type": "stream",
     "text": [
      "Num games:  740 log loss on sample:  0.670442916880377 log loss overall:  0.6260964552049215\n"
     ]
    },
    {
     "name": "stderr",
     "output_type": "stream",
     "text": [
      "/var/folders/_6/_8xn00vj0gz5g10qr8khtxz40000gn/T/ipykernel_10067/1685079216.py:20: SettingWithCopyWarning: \n",
      "A value is trying to be set on a copy of a slice from a DataFrame.\n",
      "Try using .loc[row_indexer,col_indexer] = value instead\n",
      "\n",
      "See the caveats in the documentation: https://pandas.pydata.org/pandas-docs/stable/user_guide/indexing.html#returning-a-view-versus-a-copy\n",
      "  test['pred_prob'] = y_pred\n"
     ]
    },
    {
     "name": "stdout",
     "output_type": "stream",
     "text": [
      "Num games:  750 log loss on sample:  0.5943833225987908 log loss overall:  0.6256630999561169\n"
     ]
    },
    {
     "name": "stderr",
     "output_type": "stream",
     "text": [
      "/var/folders/_6/_8xn00vj0gz5g10qr8khtxz40000gn/T/ipykernel_10067/1685079216.py:20: SettingWithCopyWarning: \n",
      "A value is trying to be set on a copy of a slice from a DataFrame.\n",
      "Try using .loc[row_indexer,col_indexer] = value instead\n",
      "\n",
      "See the caveats in the documentation: https://pandas.pydata.org/pandas-docs/stable/user_guide/indexing.html#returning-a-view-versus-a-copy\n",
      "  test['pred_prob'] = y_pred\n"
     ]
    },
    {
     "name": "stdout",
     "output_type": "stream",
     "text": [
      "Num games:  760 log loss on sample:  0.6824813379595677 log loss overall:  0.6264233642659451\n"
     ]
    },
    {
     "name": "stderr",
     "output_type": "stream",
     "text": [
      "/var/folders/_6/_8xn00vj0gz5g10qr8khtxz40000gn/T/ipykernel_10067/1685079216.py:20: SettingWithCopyWarning: \n",
      "A value is trying to be set on a copy of a slice from a DataFrame.\n",
      "Try using .loc[row_indexer,col_indexer] = value instead\n",
      "\n",
      "See the caveats in the documentation: https://pandas.pydata.org/pandas-docs/stable/user_guide/indexing.html#returning-a-view-versus-a-copy\n",
      "  test['pred_prob'] = y_pred\n"
     ]
    },
    {
     "name": "stdout",
     "output_type": "stream",
     "text": [
      "Num games:  770 log loss on sample:  0.6182480281977741 log loss overall:  0.626334831598206\n"
     ]
    },
    {
     "name": "stderr",
     "output_type": "stream",
     "text": [
      "/var/folders/_6/_8xn00vj0gz5g10qr8khtxz40000gn/T/ipykernel_10067/1685079216.py:20: SettingWithCopyWarning: \n",
      "A value is trying to be set on a copy of a slice from a DataFrame.\n",
      "Try using .loc[row_indexer,col_indexer] = value instead\n",
      "\n",
      "See the caveats in the documentation: https://pandas.pydata.org/pandas-docs/stable/user_guide/indexing.html#returning-a-view-versus-a-copy\n",
      "  test['pred_prob'] = y_pred\n"
     ]
    },
    {
     "name": "stdout",
     "output_type": "stream",
     "text": [
      "Num games:  780 log loss on sample:  0.6364614273428072 log loss overall:  0.6264760071963856\n"
     ]
    },
    {
     "name": "stderr",
     "output_type": "stream",
     "text": [
      "/var/folders/_6/_8xn00vj0gz5g10qr8khtxz40000gn/T/ipykernel_10067/1685079216.py:20: SettingWithCopyWarning: \n",
      "A value is trying to be set on a copy of a slice from a DataFrame.\n",
      "Try using .loc[row_indexer,col_indexer] = value instead\n",
      "\n",
      "See the caveats in the documentation: https://pandas.pydata.org/pandas-docs/stable/user_guide/indexing.html#returning-a-view-versus-a-copy\n",
      "  test['pred_prob'] = y_pred\n"
     ]
    },
    {
     "name": "stdout",
     "output_type": "stream",
     "text": [
      "Num games:  790 log loss on sample:  0.6249288938262246 log loss overall:  0.6264593618060572\n"
     ]
    },
    {
     "name": "stderr",
     "output_type": "stream",
     "text": [
      "/var/folders/_6/_8xn00vj0gz5g10qr8khtxz40000gn/T/ipykernel_10067/1685079216.py:20: SettingWithCopyWarning: \n",
      "A value is trying to be set on a copy of a slice from a DataFrame.\n",
      "Try using .loc[row_indexer,col_indexer] = value instead\n",
      "\n",
      "See the caveats in the documentation: https://pandas.pydata.org/pandas-docs/stable/user_guide/indexing.html#returning-a-view-versus-a-copy\n",
      "  test['pred_prob'] = y_pred\n"
     ]
    },
    {
     "name": "stdout",
     "output_type": "stream",
     "text": [
      "Num games:  800 log loss on sample:  0.6433685233592987 log loss overall:  0.6266635984660394\n"
     ]
    },
    {
     "name": "stderr",
     "output_type": "stream",
     "text": [
      "/var/folders/_6/_8xn00vj0gz5g10qr8khtxz40000gn/T/ipykernel_10067/1685079216.py:20: SettingWithCopyWarning: \n",
      "A value is trying to be set on a copy of a slice from a DataFrame.\n",
      "Try using .loc[row_indexer,col_indexer] = value instead\n",
      "\n",
      "See the caveats in the documentation: https://pandas.pydata.org/pandas-docs/stable/user_guide/indexing.html#returning-a-view-versus-a-copy\n",
      "  test['pred_prob'] = y_pred\n"
     ]
    },
    {
     "name": "stdout",
     "output_type": "stream",
     "text": [
      "Num games:  810 log loss on sample:  0.6350220724676563 log loss overall:  0.6267538782941968\n"
     ]
    },
    {
     "name": "stderr",
     "output_type": "stream",
     "text": [
      "/var/folders/_6/_8xn00vj0gz5g10qr8khtxz40000gn/T/ipykernel_10067/1685079216.py:20: SettingWithCopyWarning: \n",
      "A value is trying to be set on a copy of a slice from a DataFrame.\n",
      "Try using .loc[row_indexer,col_indexer] = value instead\n",
      "\n",
      "See the caveats in the documentation: https://pandas.pydata.org/pandas-docs/stable/user_guide/indexing.html#returning-a-view-versus-a-copy\n",
      "  test['pred_prob'] = y_pred\n"
     ]
    },
    {
     "name": "stdout",
     "output_type": "stream",
     "text": [
      "Num games:  820 log loss on sample:  0.620460417392579 log loss overall:  0.6266883958217054\n"
     ]
    },
    {
     "name": "stderr",
     "output_type": "stream",
     "text": [
      "/var/folders/_6/_8xn00vj0gz5g10qr8khtxz40000gn/T/ipykernel_10067/1685079216.py:20: SettingWithCopyWarning: \n",
      "A value is trying to be set on a copy of a slice from a DataFrame.\n",
      "Try using .loc[row_indexer,col_indexer] = value instead\n",
      "\n",
      "See the caveats in the documentation: https://pandas.pydata.org/pandas-docs/stable/user_guide/indexing.html#returning-a-view-versus-a-copy\n",
      "  test['pred_prob'] = y_pred\n"
     ]
    },
    {
     "name": "stdout",
     "output_type": "stream",
     "text": [
      "Num games:  830 log loss on sample:  0.5739063959327533 log loss overall:  0.6260034272861286\n"
     ]
    },
    {
     "name": "stderr",
     "output_type": "stream",
     "text": [
      "/var/folders/_6/_8xn00vj0gz5g10qr8khtxz40000gn/T/ipykernel_10067/1685079216.py:20: SettingWithCopyWarning: \n",
      "A value is trying to be set on a copy of a slice from a DataFrame.\n",
      "Try using .loc[row_indexer,col_indexer] = value instead\n",
      "\n",
      "See the caveats in the documentation: https://pandas.pydata.org/pandas-docs/stable/user_guide/indexing.html#returning-a-view-versus-a-copy\n",
      "  test['pred_prob'] = y_pred\n"
     ]
    },
    {
     "name": "stdout",
     "output_type": "stream",
     "text": [
      "Num games:  840 log loss on sample:  0.6026114601191583 log loss overall:  0.6258063647965716\n"
     ]
    },
    {
     "name": "stderr",
     "output_type": "stream",
     "text": [
      "/var/folders/_6/_8xn00vj0gz5g10qr8khtxz40000gn/T/ipykernel_10067/1685079216.py:20: SettingWithCopyWarning: \n",
      "A value is trying to be set on a copy of a slice from a DataFrame.\n",
      "Try using .loc[row_indexer,col_indexer] = value instead\n",
      "\n",
      "See the caveats in the documentation: https://pandas.pydata.org/pandas-docs/stable/user_guide/indexing.html#returning-a-view-versus-a-copy\n",
      "  test['pred_prob'] = y_pred\n"
     ]
    },
    {
     "name": "stdout",
     "output_type": "stream",
     "text": [
      "Num games:  850 log loss on sample:  0.6211364401833099 log loss overall:  0.6257483002740443\n"
     ]
    },
    {
     "name": "stderr",
     "output_type": "stream",
     "text": [
      "/var/folders/_6/_8xn00vj0gz5g10qr8khtxz40000gn/T/ipykernel_10067/1685079216.py:20: SettingWithCopyWarning: \n",
      "A value is trying to be set on a copy of a slice from a DataFrame.\n",
      "Try using .loc[row_indexer,col_indexer] = value instead\n",
      "\n",
      "See the caveats in the documentation: https://pandas.pydata.org/pandas-docs/stable/user_guide/indexing.html#returning-a-view-versus-a-copy\n",
      "  test['pred_prob'] = y_pred\n"
     ]
    },
    {
     "name": "stdout",
     "output_type": "stream",
     "text": [
      "Num games:  860 log loss on sample:  0.626127635491854 log loss overall:  0.6257523488952185\n"
     ]
    },
    {
     "name": "stderr",
     "output_type": "stream",
     "text": [
      "/var/folders/_6/_8xn00vj0gz5g10qr8khtxz40000gn/T/ipykernel_10067/1685079216.py:20: SettingWithCopyWarning: \n",
      "A value is trying to be set on a copy of a slice from a DataFrame.\n",
      "Try using .loc[row_indexer,col_indexer] = value instead\n",
      "\n",
      "See the caveats in the documentation: https://pandas.pydata.org/pandas-docs/stable/user_guide/indexing.html#returning-a-view-versus-a-copy\n",
      "  test['pred_prob'] = y_pred\n"
     ]
    },
    {
     "name": "stdout",
     "output_type": "stream",
     "text": [
      "Num games:  870 log loss on sample:  0.5565145057389291 log loss overall:  0.6250211814088714\n"
     ]
    },
    {
     "name": "stderr",
     "output_type": "stream",
     "text": [
      "/var/folders/_6/_8xn00vj0gz5g10qr8khtxz40000gn/T/ipykernel_10067/1685079216.py:20: SettingWithCopyWarning: \n",
      "A value is trying to be set on a copy of a slice from a DataFrame.\n",
      "Try using .loc[row_indexer,col_indexer] = value instead\n",
      "\n",
      "See the caveats in the documentation: https://pandas.pydata.org/pandas-docs/stable/user_guide/indexing.html#returning-a-view-versus-a-copy\n",
      "  test['pred_prob'] = y_pred\n"
     ]
    },
    {
     "name": "stdout",
     "output_type": "stream",
     "text": [
      "Num games:  880 log loss on sample:  0.6237847222464865 log loss overall:  0.6250084773111888\n"
     ]
    },
    {
     "name": "stderr",
     "output_type": "stream",
     "text": [
      "/var/folders/_6/_8xn00vj0gz5g10qr8khtxz40000gn/T/ipykernel_10067/1685079216.py:20: SettingWithCopyWarning: \n",
      "A value is trying to be set on a copy of a slice from a DataFrame.\n",
      "Try using .loc[row_indexer,col_indexer] = value instead\n",
      "\n",
      "See the caveats in the documentation: https://pandas.pydata.org/pandas-docs/stable/user_guide/indexing.html#returning-a-view-versus-a-copy\n",
      "  test['pred_prob'] = y_pred\n"
     ]
    },
    {
     "name": "stdout",
     "output_type": "stream",
     "text": [
      "Num games:  890 log loss on sample:  0.5832322018841902 log loss overall:  0.6244607114620586\n"
     ]
    },
    {
     "name": "stderr",
     "output_type": "stream",
     "text": [
      "/var/folders/_6/_8xn00vj0gz5g10qr8khtxz40000gn/T/ipykernel_10067/1685079216.py:20: SettingWithCopyWarning: \n",
      "A value is trying to be set on a copy of a slice from a DataFrame.\n",
      "Try using .loc[row_indexer,col_indexer] = value instead\n",
      "\n",
      "See the caveats in the documentation: https://pandas.pydata.org/pandas-docs/stable/user_guide/indexing.html#returning-a-view-versus-a-copy\n",
      "  test['pred_prob'] = y_pred\n"
     ]
    },
    {
     "name": "stdout",
     "output_type": "stream",
     "text": [
      "Num games:  900 log loss on sample:  0.6785231859413619 log loss overall:  0.6249152542395997\n"
     ]
    },
    {
     "name": "stderr",
     "output_type": "stream",
     "text": [
      "/var/folders/_6/_8xn00vj0gz5g10qr8khtxz40000gn/T/ipykernel_10067/1685079216.py:20: SettingWithCopyWarning: \n",
      "A value is trying to be set on a copy of a slice from a DataFrame.\n",
      "Try using .loc[row_indexer,col_indexer] = value instead\n",
      "\n",
      "See the caveats in the documentation: https://pandas.pydata.org/pandas-docs/stable/user_guide/indexing.html#returning-a-view-versus-a-copy\n",
      "  test['pred_prob'] = y_pred\n"
     ]
    },
    {
     "name": "stdout",
     "output_type": "stream",
     "text": [
      "Num games:  910 log loss on sample:  0.5963188075160576 log loss overall:  0.6246257320848697\n"
     ]
    },
    {
     "name": "stderr",
     "output_type": "stream",
     "text": [
      "/var/folders/_6/_8xn00vj0gz5g10qr8khtxz40000gn/T/ipykernel_10067/1685079216.py:20: SettingWithCopyWarning: \n",
      "A value is trying to be set on a copy of a slice from a DataFrame.\n",
      "Try using .loc[row_indexer,col_indexer] = value instead\n",
      "\n",
      "See the caveats in the documentation: https://pandas.pydata.org/pandas-docs/stable/user_guide/indexing.html#returning-a-view-versus-a-copy\n",
      "  test['pred_prob'] = y_pred\n"
     ]
    },
    {
     "name": "stdout",
     "output_type": "stream",
     "text": [
      "Num games:  920 log loss on sample:  0.6320785480623062 log loss overall:  0.6247079438860633\n"
     ]
    },
    {
     "name": "stderr",
     "output_type": "stream",
     "text": [
      "/var/folders/_6/_8xn00vj0gz5g10qr8khtxz40000gn/T/ipykernel_10067/1685079216.py:20: SettingWithCopyWarning: \n",
      "A value is trying to be set on a copy of a slice from a DataFrame.\n",
      "Try using .loc[row_indexer,col_indexer] = value instead\n",
      "\n",
      "See the caveats in the documentation: https://pandas.pydata.org/pandas-docs/stable/user_guide/indexing.html#returning-a-view-versus-a-copy\n",
      "  test['pred_prob'] = y_pred\n"
     ]
    },
    {
     "name": "stdout",
     "output_type": "stream",
     "text": [
      "Num games:  930 log loss on sample:  0.68616737978799 log loss overall:  0.625250689114802\n"
     ]
    },
    {
     "name": "stderr",
     "output_type": "stream",
     "text": [
      "/var/folders/_6/_8xn00vj0gz5g10qr8khtxz40000gn/T/ipykernel_10067/1685079216.py:20: SettingWithCopyWarning: \n",
      "A value is trying to be set on a copy of a slice from a DataFrame.\n",
      "Try using .loc[row_indexer,col_indexer] = value instead\n",
      "\n",
      "See the caveats in the documentation: https://pandas.pydata.org/pandas-docs/stable/user_guide/indexing.html#returning-a-view-versus-a-copy\n",
      "  test['pred_prob'] = y_pred\n"
     ]
    },
    {
     "name": "stdout",
     "output_type": "stream",
     "text": [
      "Num games:  940 log loss on sample:  0.6258041393011808 log loss overall:  0.6252565837415166\n"
     ]
    },
    {
     "name": "stderr",
     "output_type": "stream",
     "text": [
      "/var/folders/_6/_8xn00vj0gz5g10qr8khtxz40000gn/T/ipykernel_10067/1685079216.py:20: SettingWithCopyWarning: \n",
      "A value is trying to be set on a copy of a slice from a DataFrame.\n",
      "Try using .loc[row_indexer,col_indexer] = value instead\n",
      "\n",
      "See the caveats in the documentation: https://pandas.pydata.org/pandas-docs/stable/user_guide/indexing.html#returning-a-view-versus-a-copy\n",
      "  test['pred_prob'] = y_pred\n"
     ]
    },
    {
     "name": "stdout",
     "output_type": "stream",
     "text": [
      "Num games:  950 log loss on sample:  0.6046194404852195 log loss overall:  0.6250491923512969\n"
     ]
    },
    {
     "name": "stderr",
     "output_type": "stream",
     "text": [
      "/var/folders/_6/_8xn00vj0gz5g10qr8khtxz40000gn/T/ipykernel_10067/1685079216.py:20: SettingWithCopyWarning: \n",
      "A value is trying to be set on a copy of a slice from a DataFrame.\n",
      "Try using .loc[row_indexer,col_indexer] = value instead\n",
      "\n",
      "See the caveats in the documentation: https://pandas.pydata.org/pandas-docs/stable/user_guide/indexing.html#returning-a-view-versus-a-copy\n",
      "  test['pred_prob'] = y_pred\n"
     ]
    },
    {
     "name": "stdout",
     "output_type": "stream",
     "text": [
      "Num games:  960 log loss on sample:  0.6425253718688682 log loss overall:  0.6252075350111981\n"
     ]
    },
    {
     "name": "stderr",
     "output_type": "stream",
     "text": [
      "/var/folders/_6/_8xn00vj0gz5g10qr8khtxz40000gn/T/ipykernel_10067/1685079216.py:20: SettingWithCopyWarning: \n",
      "A value is trying to be set on a copy of a slice from a DataFrame.\n",
      "Try using .loc[row_indexer,col_indexer] = value instead\n",
      "\n",
      "See the caveats in the documentation: https://pandas.pydata.org/pandas-docs/stable/user_guide/indexing.html#returning-a-view-versus-a-copy\n",
      "  test['pred_prob'] = y_pred\n"
     ]
    },
    {
     "name": "stdout",
     "output_type": "stream",
     "text": [
      "Num games:  970 log loss on sample:  0.5554868626657506 log loss overall:  0.6244086698878983\n"
     ]
    },
    {
     "name": "stderr",
     "output_type": "stream",
     "text": [
      "/var/folders/_6/_8xn00vj0gz5g10qr8khtxz40000gn/T/ipykernel_10067/1685079216.py:20: SettingWithCopyWarning: \n",
      "A value is trying to be set on a copy of a slice from a DataFrame.\n",
      "Try using .loc[row_indexer,col_indexer] = value instead\n",
      "\n",
      "See the caveats in the documentation: https://pandas.pydata.org/pandas-docs/stable/user_guide/indexing.html#returning-a-view-versus-a-copy\n",
      "  test['pred_prob'] = y_pred\n"
     ]
    },
    {
     "name": "stdout",
     "output_type": "stream",
     "text": [
      "Num games:  980 log loss on sample:  0.5542928683845436 log loss overall:  0.6238362959980751\n"
     ]
    },
    {
     "name": "stderr",
     "output_type": "stream",
     "text": [
      "/var/folders/_6/_8xn00vj0gz5g10qr8khtxz40000gn/T/ipykernel_10067/1685079216.py:20: SettingWithCopyWarning: \n",
      "A value is trying to be set on a copy of a slice from a DataFrame.\n",
      "Try using .loc[row_indexer,col_indexer] = value instead\n",
      "\n",
      "See the caveats in the documentation: https://pandas.pydata.org/pandas-docs/stable/user_guide/indexing.html#returning-a-view-versus-a-copy\n",
      "  test['pred_prob'] = y_pred\n"
     ]
    },
    {
     "name": "stdout",
     "output_type": "stream",
     "text": [
      "Num games:  990 log loss on sample:  0.6052175140097028 log loss overall:  0.6236811394815053\n"
     ]
    },
    {
     "name": "stderr",
     "output_type": "stream",
     "text": [
      "/var/folders/_6/_8xn00vj0gz5g10qr8khtxz40000gn/T/ipykernel_10067/1685079216.py:20: SettingWithCopyWarning: \n",
      "A value is trying to be set on a copy of a slice from a DataFrame.\n",
      "Try using .loc[row_indexer,col_indexer] = value instead\n",
      "\n",
      "See the caveats in the documentation: https://pandas.pydata.org/pandas-docs/stable/user_guide/indexing.html#returning-a-view-versus-a-copy\n",
      "  test['pred_prob'] = y_pred\n"
     ]
    },
    {
     "name": "stdout",
     "output_type": "stream",
     "text": [
      "Num games:  1000 log loss on sample:  0.6111582255160267 log loss overall:  0.6235513071972261\n"
     ]
    },
    {
     "name": "stderr",
     "output_type": "stream",
     "text": [
      "/var/folders/_6/_8xn00vj0gz5g10qr8khtxz40000gn/T/ipykernel_10067/1685079216.py:20: SettingWithCopyWarning: \n",
      "A value is trying to be set on a copy of a slice from a DataFrame.\n",
      "Try using .loc[row_indexer,col_indexer] = value instead\n",
      "\n",
      "See the caveats in the documentation: https://pandas.pydata.org/pandas-docs/stable/user_guide/indexing.html#returning-a-view-versus-a-copy\n",
      "  test['pred_prob'] = y_pred\n"
     ]
    },
    {
     "name": "stdout",
     "output_type": "stream",
     "text": [
      "Num games:  1010 log loss on sample:  0.5480382200330496 log loss overall:  0.6226836102329172\n"
     ]
    },
    {
     "name": "stderr",
     "output_type": "stream",
     "text": [
      "/var/folders/_6/_8xn00vj0gz5g10qr8khtxz40000gn/T/ipykernel_10067/1685079216.py:20: SettingWithCopyWarning: \n",
      "A value is trying to be set on a copy of a slice from a DataFrame.\n",
      "Try using .loc[row_indexer,col_indexer] = value instead\n",
      "\n",
      "See the caveats in the documentation: https://pandas.pydata.org/pandas-docs/stable/user_guide/indexing.html#returning-a-view-versus-a-copy\n",
      "  test['pred_prob'] = y_pred\n"
     ]
    },
    {
     "name": "stdout",
     "output_type": "stream",
     "text": [
      "Num games:  1020 log loss on sample:  0.5816426924727065 log loss overall:  0.622386258123355\n"
     ]
    },
    {
     "name": "stderr",
     "output_type": "stream",
     "text": [
      "/var/folders/_6/_8xn00vj0gz5g10qr8khtxz40000gn/T/ipykernel_10067/1685079216.py:20: SettingWithCopyWarning: \n",
      "A value is trying to be set on a copy of a slice from a DataFrame.\n",
      "Try using .loc[row_indexer,col_indexer] = value instead\n",
      "\n",
      "See the caveats in the documentation: https://pandas.pydata.org/pandas-docs/stable/user_guide/indexing.html#returning-a-view-versus-a-copy\n",
      "  test['pred_prob'] = y_pred\n"
     ]
    },
    {
     "name": "stdout",
     "output_type": "stream",
     "text": [
      "Num games:  1030 log loss on sample:  0.615900124884954 log loss overall:  0.6223273067863528\n"
     ]
    },
    {
     "name": "stderr",
     "output_type": "stream",
     "text": [
      "/var/folders/_6/_8xn00vj0gz5g10qr8khtxz40000gn/T/ipykernel_10067/1685079216.py:20: SettingWithCopyWarning: \n",
      "A value is trying to be set on a copy of a slice from a DataFrame.\n",
      "Try using .loc[row_indexer,col_indexer] = value instead\n",
      "\n",
      "See the caveats in the documentation: https://pandas.pydata.org/pandas-docs/stable/user_guide/indexing.html#returning-a-view-versus-a-copy\n",
      "  test['pred_prob'] = y_pred\n"
     ]
    },
    {
     "name": "stdout",
     "output_type": "stream",
     "text": [
      "Num games:  1040 log loss on sample:  0.593358089477988 log loss overall:  0.6220468393621434\n"
     ]
    },
    {
     "name": "stderr",
     "output_type": "stream",
     "text": [
      "/var/folders/_6/_8xn00vj0gz5g10qr8khtxz40000gn/T/ipykernel_10067/1685079216.py:20: SettingWithCopyWarning: \n",
      "A value is trying to be set on a copy of a slice from a DataFrame.\n",
      "Try using .loc[row_indexer,col_indexer] = value instead\n",
      "\n",
      "See the caveats in the documentation: https://pandas.pydata.org/pandas-docs/stable/user_guide/indexing.html#returning-a-view-versus-a-copy\n",
      "  test['pred_prob'] = y_pred\n"
     ]
    },
    {
     "name": "stdout",
     "output_type": "stream",
     "text": [
      "Num games:  1050 log loss on sample:  0.6205973385296988 log loss overall:  0.6220325104390638\n"
     ]
    },
    {
     "name": "stderr",
     "output_type": "stream",
     "text": [
      "/var/folders/_6/_8xn00vj0gz5g10qr8khtxz40000gn/T/ipykernel_10067/1685079216.py:20: SettingWithCopyWarning: \n",
      "A value is trying to be set on a copy of a slice from a DataFrame.\n",
      "Try using .loc[row_indexer,col_indexer] = value instead\n",
      "\n",
      "See the caveats in the documentation: https://pandas.pydata.org/pandas-docs/stable/user_guide/indexing.html#returning-a-view-versus-a-copy\n",
      "  test['pred_prob'] = y_pred\n"
     ]
    },
    {
     "name": "stdout",
     "output_type": "stream",
     "text": [
      "Num games:  1060 log loss on sample:  0.6680340600928457 log loss overall:  0.6223778468828748\n"
     ]
    },
    {
     "name": "stderr",
     "output_type": "stream",
     "text": [
      "/var/folders/_6/_8xn00vj0gz5g10qr8khtxz40000gn/T/ipykernel_10067/1685079216.py:20: SettingWithCopyWarning: \n",
      "A value is trying to be set on a copy of a slice from a DataFrame.\n",
      "Try using .loc[row_indexer,col_indexer] = value instead\n",
      "\n",
      "See the caveats in the documentation: https://pandas.pydata.org/pandas-docs/stable/user_guide/indexing.html#returning-a-view-versus-a-copy\n",
      "  test['pred_prob'] = y_pred\n"
     ]
    },
    {
     "name": "stdout",
     "output_type": "stream",
     "text": [
      "Num games:  1070 log loss on sample:  0.5487854891879992 log loss overall:  0.6217810347812501\n"
     ]
    },
    {
     "name": "stderr",
     "output_type": "stream",
     "text": [
      "/var/folders/_6/_8xn00vj0gz5g10qr8khtxz40000gn/T/ipykernel_10067/1685079216.py:20: SettingWithCopyWarning: \n",
      "A value is trying to be set on a copy of a slice from a DataFrame.\n",
      "Try using .loc[row_indexer,col_indexer] = value instead\n",
      "\n",
      "See the caveats in the documentation: https://pandas.pydata.org/pandas-docs/stable/user_guide/indexing.html#returning-a-view-versus-a-copy\n",
      "  test['pred_prob'] = y_pred\n"
     ]
    },
    {
     "name": "stdout",
     "output_type": "stream",
     "text": [
      "Num games:  1080 log loss on sample:  0.6239478114773246 log loss overall:  0.6217972071230473\n"
     ]
    },
    {
     "name": "stderr",
     "output_type": "stream",
     "text": [
      "/var/folders/_6/_8xn00vj0gz5g10qr8khtxz40000gn/T/ipykernel_10067/1685079216.py:20: SettingWithCopyWarning: \n",
      "A value is trying to be set on a copy of a slice from a DataFrame.\n",
      "Try using .loc[row_indexer,col_indexer] = value instead\n",
      "\n",
      "See the caveats in the documentation: https://pandas.pydata.org/pandas-docs/stable/user_guide/indexing.html#returning-a-view-versus-a-copy\n",
      "  test['pred_prob'] = y_pred\n"
     ]
    },
    {
     "name": "stdout",
     "output_type": "stream",
     "text": [
      "Num games:  1090 log loss on sample:  0.6152478330806503 log loss overall:  0.6217387856996507\n"
     ]
    },
    {
     "name": "stderr",
     "output_type": "stream",
     "text": [
      "/var/folders/_6/_8xn00vj0gz5g10qr8khtxz40000gn/T/ipykernel_10067/1685079216.py:20: SettingWithCopyWarning: \n",
      "A value is trying to be set on a copy of a slice from a DataFrame.\n",
      "Try using .loc[row_indexer,col_indexer] = value instead\n",
      "\n",
      "See the caveats in the documentation: https://pandas.pydata.org/pandas-docs/stable/user_guide/indexing.html#returning-a-view-versus-a-copy\n",
      "  test['pred_prob'] = y_pred\n"
     ]
    },
    {
     "name": "stdout",
     "output_type": "stream",
     "text": [
      "Num games:  1100 log loss on sample:  0.6596875010093428 log loss overall:  0.622028282916119\n"
     ]
    },
    {
     "name": "stderr",
     "output_type": "stream",
     "text": [
      "/var/folders/_6/_8xn00vj0gz5g10qr8khtxz40000gn/T/ipykernel_10067/1685079216.py:20: SettingWithCopyWarning: \n",
      "A value is trying to be set on a copy of a slice from a DataFrame.\n",
      "Try using .loc[row_indexer,col_indexer] = value instead\n",
      "\n",
      "See the caveats in the documentation: https://pandas.pydata.org/pandas-docs/stable/user_guide/indexing.html#returning-a-view-versus-a-copy\n",
      "  test['pred_prob'] = y_pred\n"
     ]
    },
    {
     "name": "stdout",
     "output_type": "stream",
     "text": [
      "Num games:  1110 log loss on sample:  0.5633358682195345 log loss overall:  0.6215880898058946\n"
     ]
    },
    {
     "name": "stderr",
     "output_type": "stream",
     "text": [
      "/var/folders/_6/_8xn00vj0gz5g10qr8khtxz40000gn/T/ipykernel_10067/1685079216.py:20: SettingWithCopyWarning: \n",
      "A value is trying to be set on a copy of a slice from a DataFrame.\n",
      "Try using .loc[row_indexer,col_indexer] = value instead\n",
      "\n",
      "See the caveats in the documentation: https://pandas.pydata.org/pandas-docs/stable/user_guide/indexing.html#returning-a-view-versus-a-copy\n",
      "  test['pred_prob'] = y_pred\n"
     ]
    },
    {
     "name": "stdout",
     "output_type": "stream",
     "text": [
      "Num games:  1120 log loss on sample:  0.6032884639120639 log loss overall:  0.6214158793591473\n"
     ]
    },
    {
     "name": "stderr",
     "output_type": "stream",
     "text": [
      "/var/folders/_6/_8xn00vj0gz5g10qr8khtxz40000gn/T/ipykernel_10067/1685079216.py:20: SettingWithCopyWarning: \n",
      "A value is trying to be set on a copy of a slice from a DataFrame.\n",
      "Try using .loc[row_indexer,col_indexer] = value instead\n",
      "\n",
      "See the caveats in the documentation: https://pandas.pydata.org/pandas-docs/stable/user_guide/indexing.html#returning-a-view-versus-a-copy\n",
      "  test['pred_prob'] = y_pred\n"
     ]
    },
    {
     "name": "stdout",
     "output_type": "stream",
     "text": [
      "Num games:  1130 log loss on sample:  0.6016792189115765 log loss overall:  0.6212951276391095\n"
     ]
    },
    {
     "name": "stderr",
     "output_type": "stream",
     "text": [
      "/var/folders/_6/_8xn00vj0gz5g10qr8khtxz40000gn/T/ipykernel_10067/1685079216.py:20: SettingWithCopyWarning: \n",
      "A value is trying to be set on a copy of a slice from a DataFrame.\n",
      "Try using .loc[row_indexer,col_indexer] = value instead\n",
      "\n",
      "See the caveats in the documentation: https://pandas.pydata.org/pandas-docs/stable/user_guide/indexing.html#returning-a-view-versus-a-copy\n",
      "  test['pred_prob'] = y_pred\n"
     ]
    },
    {
     "name": "stdout",
     "output_type": "stream",
     "text": [
      "Num games:  1140 log loss on sample:  0.6883746767240875 log loss overall:  0.6217914582410227\n"
     ]
    },
    {
     "name": "stderr",
     "output_type": "stream",
     "text": [
      "/var/folders/_6/_8xn00vj0gz5g10qr8khtxz40000gn/T/ipykernel_10067/1685079216.py:20: SettingWithCopyWarning: \n",
      "A value is trying to be set on a copy of a slice from a DataFrame.\n",
      "Try using .loc[row_indexer,col_indexer] = value instead\n",
      "\n",
      "See the caveats in the documentation: https://pandas.pydata.org/pandas-docs/stable/user_guide/indexing.html#returning-a-view-versus-a-copy\n",
      "  test['pred_prob'] = y_pred\n"
     ]
    },
    {
     "name": "stdout",
     "output_type": "stream",
     "text": [
      "Num games:  1150 log loss on sample:  0.6062998961657285 log loss overall:  0.6216840718409443\n"
     ]
    },
    {
     "name": "stderr",
     "output_type": "stream",
     "text": [
      "/var/folders/_6/_8xn00vj0gz5g10qr8khtxz40000gn/T/ipykernel_10067/1685079216.py:20: SettingWithCopyWarning: \n",
      "A value is trying to be set on a copy of a slice from a DataFrame.\n",
      "Try using .loc[row_indexer,col_indexer] = value instead\n",
      "\n",
      "See the caveats in the documentation: https://pandas.pydata.org/pandas-docs/stable/user_guide/indexing.html#returning-a-view-versus-a-copy\n",
      "  test['pred_prob'] = y_pred\n"
     ]
    },
    {
     "name": "stdout",
     "output_type": "stream",
     "text": [
      "Num games:  1160 log loss on sample:  0.6610780471202099 log loss overall:  0.6219525746672884\n"
     ]
    },
    {
     "name": "stderr",
     "output_type": "stream",
     "text": [
      "/var/folders/_6/_8xn00vj0gz5g10qr8khtxz40000gn/T/ipykernel_10067/1685079216.py:20: SettingWithCopyWarning: \n",
      "A value is trying to be set on a copy of a slice from a DataFrame.\n",
      "Try using .loc[row_indexer,col_indexer] = value instead\n",
      "\n",
      "See the caveats in the documentation: https://pandas.pydata.org/pandas-docs/stable/user_guide/indexing.html#returning-a-view-versus-a-copy\n",
      "  test['pred_prob'] = y_pred\n"
     ]
    },
    {
     "name": "stdout",
     "output_type": "stream",
     "text": [
      "Num games:  1170 log loss on sample:  0.611761728602071 log loss overall:  0.6218663117884511\n"
     ]
    },
    {
     "name": "stderr",
     "output_type": "stream",
     "text": [
      "/var/folders/_6/_8xn00vj0gz5g10qr8khtxz40000gn/T/ipykernel_10067/1685079216.py:20: SettingWithCopyWarning: \n",
      "A value is trying to be set on a copy of a slice from a DataFrame.\n",
      "Try using .loc[row_indexer,col_indexer] = value instead\n",
      "\n",
      "See the caveats in the documentation: https://pandas.pydata.org/pandas-docs/stable/user_guide/indexing.html#returning-a-view-versus-a-copy\n",
      "  test['pred_prob'] = y_pred\n"
     ]
    },
    {
     "name": "stdout",
     "output_type": "stream",
     "text": [
      "Num games:  1180 log loss on sample:  0.6118876669766768 log loss overall:  0.6218303392558009\n"
     ]
    },
    {
     "name": "stderr",
     "output_type": "stream",
     "text": [
      "/var/folders/_6/_8xn00vj0gz5g10qr8khtxz40000gn/T/ipykernel_10067/1685079216.py:20: SettingWithCopyWarning: \n",
      "A value is trying to be set on a copy of a slice from a DataFrame.\n",
      "Try using .loc[row_indexer,col_indexer] = value instead\n",
      "\n",
      "See the caveats in the documentation: https://pandas.pydata.org/pandas-docs/stable/user_guide/indexing.html#returning-a-view-versus-a-copy\n",
      "  test['pred_prob'] = y_pred\n"
     ]
    },
    {
     "name": "stdout",
     "output_type": "stream",
     "text": [
      "Num games:  1190 log loss on sample:  0.6382534627528752 log loss overall:  0.6219247441720956\n"
     ]
    },
    {
     "name": "stderr",
     "output_type": "stream",
     "text": [
      "/var/folders/_6/_8xn00vj0gz5g10qr8khtxz40000gn/T/ipykernel_10067/1685079216.py:20: SettingWithCopyWarning: \n",
      "A value is trying to be set on a copy of a slice from a DataFrame.\n",
      "Try using .loc[row_indexer,col_indexer] = value instead\n",
      "\n",
      "See the caveats in the documentation: https://pandas.pydata.org/pandas-docs/stable/user_guide/indexing.html#returning-a-view-versus-a-copy\n",
      "  test['pred_prob'] = y_pred\n"
     ]
    },
    {
     "name": "stdout",
     "output_type": "stream",
     "text": [
      "Num games:  1200 log loss on sample:  0.5749512580888612 log loss overall:  0.6216374349078415\n"
     ]
    },
    {
     "name": "stderr",
     "output_type": "stream",
     "text": [
      "/var/folders/_6/_8xn00vj0gz5g10qr8khtxz40000gn/T/ipykernel_10067/1685079216.py:20: SettingWithCopyWarning: \n",
      "A value is trying to be set on a copy of a slice from a DataFrame.\n",
      "Try using .loc[row_indexer,col_indexer] = value instead\n",
      "\n",
      "See the caveats in the documentation: https://pandas.pydata.org/pandas-docs/stable/user_guide/indexing.html#returning-a-view-versus-a-copy\n",
      "  test['pred_prob'] = y_pred\n"
     ]
    },
    {
     "name": "stdout",
     "output_type": "stream",
     "text": [
      "Num games:  1210 log loss on sample:  0.6529733550164007 log loss overall:  0.6219605286094863\n"
     ]
    },
    {
     "name": "stderr",
     "output_type": "stream",
     "text": [
      "/var/folders/_6/_8xn00vj0gz5g10qr8khtxz40000gn/T/ipykernel_10067/1685079216.py:20: SettingWithCopyWarning: \n",
      "A value is trying to be set on a copy of a slice from a DataFrame.\n",
      "Try using .loc[row_indexer,col_indexer] = value instead\n",
      "\n",
      "See the caveats in the documentation: https://pandas.pydata.org/pandas-docs/stable/user_guide/indexing.html#returning-a-view-versus-a-copy\n",
      "  test['pred_prob'] = y_pred\n"
     ]
    },
    {
     "name": "stdout",
     "output_type": "stream",
     "text": [
      "Num games:  1220 log loss on sample:  0.401824027299881 log loss overall:  0.6219019699870724\n"
     ]
    },
    {
     "name": "stderr",
     "output_type": "stream",
     "text": [
      "/var/folders/_6/_8xn00vj0gz5g10qr8khtxz40000gn/T/ipykernel_10067/1685079216.py:20: SettingWithCopyWarning: \n",
      "A value is trying to be set on a copy of a slice from a DataFrame.\n",
      "Try using .loc[row_indexer,col_indexer] = value instead\n",
      "\n",
      "See the caveats in the documentation: https://pandas.pydata.org/pandas-docs/stable/user_guide/indexing.html#returning-a-view-versus-a-copy\n",
      "  test['pred_prob'] = y_pred\n"
     ]
    },
    {
     "name": "stdout",
     "output_type": "stream",
     "text": [
      "Num games:  1230 log loss on sample:  0.612618382440673 log loss overall:  0.6218467361086314\n"
     ]
    },
    {
     "name": "stderr",
     "output_type": "stream",
     "text": [
      "/var/folders/_6/_8xn00vj0gz5g10qr8khtxz40000gn/T/ipykernel_10067/1685079216.py:20: SettingWithCopyWarning: \n",
      "A value is trying to be set on a copy of a slice from a DataFrame.\n",
      "Try using .loc[row_indexer,col_indexer] = value instead\n",
      "\n",
      "See the caveats in the documentation: https://pandas.pydata.org/pandas-docs/stable/user_guide/indexing.html#returning-a-view-versus-a-copy\n",
      "  test['pred_prob'] = y_pred\n"
     ]
    },
    {
     "name": "stdout",
     "output_type": "stream",
     "text": [
      "Num games:  1240 log loss on sample:  0.5752542240946901 log loss overall:  0.6215346712176063\n"
     ]
    },
    {
     "name": "stderr",
     "output_type": "stream",
     "text": [
      "/var/folders/_6/_8xn00vj0gz5g10qr8khtxz40000gn/T/ipykernel_10067/1685079216.py:20: SettingWithCopyWarning: \n",
      "A value is trying to be set on a copy of a slice from a DataFrame.\n",
      "Try using .loc[row_indexer,col_indexer] = value instead\n",
      "\n",
      "See the caveats in the documentation: https://pandas.pydata.org/pandas-docs/stable/user_guide/indexing.html#returning-a-view-versus-a-copy\n",
      "  test['pred_prob'] = y_pred\n"
     ]
    },
    {
     "name": "stdout",
     "output_type": "stream",
     "text": [
      "Num games:  1250 log loss on sample:  0.6876302674412728 log loss overall:  0.6218800659329955\n"
     ]
    },
    {
     "name": "stderr",
     "output_type": "stream",
     "text": [
      "/var/folders/_6/_8xn00vj0gz5g10qr8khtxz40000gn/T/ipykernel_10067/1685079216.py:20: SettingWithCopyWarning: \n",
      "A value is trying to be set on a copy of a slice from a DataFrame.\n",
      "Try using .loc[row_indexer,col_indexer] = value instead\n",
      "\n",
      "See the caveats in the documentation: https://pandas.pydata.org/pandas-docs/stable/user_guide/indexing.html#returning-a-view-versus-a-copy\n",
      "  test['pred_prob'] = y_pred\n"
     ]
    },
    {
     "name": "stdout",
     "output_type": "stream",
     "text": [
      "Num games:  1260 log loss on sample:  0.6263898091113314 log loss overall:  0.6219075875754524\n"
     ]
    },
    {
     "name": "stderr",
     "output_type": "stream",
     "text": [
      "/var/folders/_6/_8xn00vj0gz5g10qr8khtxz40000gn/T/ipykernel_10067/1685079216.py:20: SettingWithCopyWarning: \n",
      "A value is trying to be set on a copy of a slice from a DataFrame.\n",
      "Try using .loc[row_indexer,col_indexer] = value instead\n",
      "\n",
      "See the caveats in the documentation: https://pandas.pydata.org/pandas-docs/stable/user_guide/indexing.html#returning-a-view-versus-a-copy\n",
      "  test['pred_prob'] = y_pred\n"
     ]
    },
    {
     "name": "stdout",
     "output_type": "stream",
     "text": [
      "Num games:  1270 log loss on sample:  0.647782807490405 log loss overall:  0.6220495938830951\n"
     ]
    },
    {
     "name": "stderr",
     "output_type": "stream",
     "text": [
      "/var/folders/_6/_8xn00vj0gz5g10qr8khtxz40000gn/T/ipykernel_10067/1685079216.py:20: SettingWithCopyWarning: \n",
      "A value is trying to be set on a copy of a slice from a DataFrame.\n",
      "Try using .loc[row_indexer,col_indexer] = value instead\n",
      "\n",
      "See the caveats in the documentation: https://pandas.pydata.org/pandas-docs/stable/user_guide/indexing.html#returning-a-view-versus-a-copy\n",
      "  test['pred_prob'] = y_pred\n"
     ]
    },
    {
     "name": "stdout",
     "output_type": "stream",
     "text": [
      "Num games:  1280 log loss on sample:  0.6148554461670446 log loss overall:  0.622007571452762\n"
     ]
    },
    {
     "name": "stderr",
     "output_type": "stream",
     "text": [
      "/var/folders/_6/_8xn00vj0gz5g10qr8khtxz40000gn/T/ipykernel_10067/1685079216.py:20: SettingWithCopyWarning: \n",
      "A value is trying to be set on a copy of a slice from a DataFrame.\n",
      "Try using .loc[row_indexer,col_indexer] = value instead\n",
      "\n",
      "See the caveats in the documentation: https://pandas.pydata.org/pandas-docs/stable/user_guide/indexing.html#returning-a-view-versus-a-copy\n",
      "  test['pred_prob'] = y_pred\n"
     ]
    },
    {
     "name": "stdout",
     "output_type": "stream",
     "text": [
      "Num games:  1290 log loss on sample:  0.6058730933555337 log loss overall:  0.6219189940434826\n"
     ]
    },
    {
     "name": "stderr",
     "output_type": "stream",
     "text": [
      "/var/folders/_6/_8xn00vj0gz5g10qr8khtxz40000gn/T/ipykernel_10067/1685079216.py:20: SettingWithCopyWarning: \n",
      "A value is trying to be set on a copy of a slice from a DataFrame.\n",
      "Try using .loc[row_indexer,col_indexer] = value instead\n",
      "\n",
      "See the caveats in the documentation: https://pandas.pydata.org/pandas-docs/stable/user_guide/indexing.html#returning-a-view-versus-a-copy\n",
      "  test['pred_prob'] = y_pred\n"
     ]
    },
    {
     "name": "stdout",
     "output_type": "stream",
     "text": [
      "Num games:  1300 log loss on sample:  0.618563739921559 log loss overall:  0.6219002507969436\n"
     ]
    },
    {
     "name": "stderr",
     "output_type": "stream",
     "text": [
      "/var/folders/_6/_8xn00vj0gz5g10qr8khtxz40000gn/T/ipykernel_10067/1685079216.py:20: SettingWithCopyWarning: \n",
      "A value is trying to be set on a copy of a slice from a DataFrame.\n",
      "Try using .loc[row_indexer,col_indexer] = value instead\n",
      "\n",
      "See the caveats in the documentation: https://pandas.pydata.org/pandas-docs/stable/user_guide/indexing.html#returning-a-view-versus-a-copy\n",
      "  test['pred_prob'] = y_pred\n"
     ]
    },
    {
     "name": "stdout",
     "output_type": "stream",
     "text": [
      "Num games:  1310 log loss on sample:  0.7351226644856589 log loss overall:  0.6221512505739327\n",
      "Num games:  1320 log loss on sample:  0.6815819342931112 log loss overall:  0.6221625413124013\n"
     ]
    },
    {
     "name": "stderr",
     "output_type": "stream",
     "text": [
      "/var/folders/_6/_8xn00vj0gz5g10qr8khtxz40000gn/T/ipykernel_10067/1685079216.py:20: SettingWithCopyWarning: \n",
      "A value is trying to be set on a copy of a slice from a DataFrame.\n",
      "Try using .loc[row_indexer,col_indexer] = value instead\n",
      "\n",
      "See the caveats in the documentation: https://pandas.pydata.org/pandas-docs/stable/user_guide/indexing.html#returning-a-view-versus-a-copy\n",
      "  test['pred_prob'] = y_pred\n"
     ]
    }
   ],
   "source": [
    "\n",
    "from sklearn.metrics import log_loss\n",
    "\n",
    "def backtest(model, games, x_features, label):\n",
    "    num_games_increment = 10\n",
    "    errors = []\n",
    "    min_num_games_into_season = games['num_games_into_season'].min()\n",
    "    max_num_games_into_season = games['num_games_into_season'].max()\n",
    "    for num_games in range(min_num_games_into_season, max_num_games_into_season, num_games_increment):\n",
    "        train = games[games['num_games_into_season'] < num_games]\n",
    "        if len(train) == 0:\n",
    "            continue\n",
    "        test = games[(games['num_games_into_season'] >= num_games) & (games['num_games_into_season'] < num_games + num_games_increment)]\n",
    "        X = train[x_features]\n",
    "        y = train[label]\n",
    "        model.fit(X, y)\n",
    "        X_test = test[x_features]\n",
    "        y_test = test[label]\n",
    "        y_pred = model.predict_proba(X_test)[::,1]\n",
    "        # get log loss\n",
    "        test['pred_prob'] = y_pred\n",
    "        score = log_loss(test['team_win'], test['pred_prob'], labels=[0, 1])\n",
    "        errors += [score] * len(test)\n",
    "\n",
    "        print('Num games: ', num_games, 'log loss on sample: ', score, 'log loss overall: ', np.mean(errors))\n",
    "    return errors\n",
    "\n",
    "games['team_win'] = games.apply(lambda row: 1 if row['margin'] > 0 else 0, axis=1)\n",
    "params = {'max_depth': 5, 'learning_rate': 0.01337501236333186, 'n_estimators': 615, 'min_child_weight': 6, 'gamma': 0.22171810700204012, 'subsample': 0.23183800840898533, 'colsample_bytree': 0.29826505641378537, 'reg_alpha': 0.5869931848470185, 'reg_lambda': 0.01392437600344064, 'random_state': 931}\n",
    "model = XGBClassifier(**params)\n",
    "\n",
    "x_features = ['team_rating', 'opponent_rating', 'team_win_total_future', 'opponent_win_total_future', 'last_year_team_rating', 'last_year_opponent_rating', 'num_games_into_season', 'team_last_10_rating', 'opponent_last_10_rating', 'team_last_5_rating', 'opponent_last_5_rating', 'team_last_3_rating', 'opponent_last_3_rating', 'team_last_1_rating', 'opponent_last_1_rating', 'team_days_since_most_recent_game', 'opponent_days_since_most_recent_game']\n",
    "label = 'team_win'\n",
    "errors = backtest(model, games, x_features, label)"
   ]
  }
 ],
 "metadata": {
  "kernelspec": {
   "display_name": "base",
   "language": "python",
   "name": "python3"
  },
  "language_info": {
   "codemirror_mode": {
    "name": "ipython",
    "version": 3
   },
   "file_extension": ".py",
   "mimetype": "text/x-python",
   "name": "python",
   "nbconvert_exporter": "python",
   "pygments_lexer": "ipython3",
   "version": "3.9.12 (main, Apr  5 2022, 01:53:17) \n[Clang 12.0.0 ]"
  },
  "orig_nbformat": 4,
  "vscode": {
   "interpreter": {
    "hash": "4f25485710d74911ca7fc67b8a856de95184e6f65cdc4013b6c08f121ea51890"
   }
  }
 },
 "nbformat": 4,
 "nbformat_minor": 2
}
