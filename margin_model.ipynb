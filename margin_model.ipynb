{
 "cells": [
  {
   "cell_type": "code",
   "execution_count": 1,
   "metadata": {},
   "outputs": [],
   "source": [
    "import pandas as pd\n",
    "import numpy as np\n",
    "from xgboost import XGBRegressor\n",
    "from xgboost import XGBClassifier\n",
    "from sklearn.model_selection import train_test_split\n",
    "import optuna\n",
    "from sklearn.metrics import mean_squared_error"
   ]
  },
  {
   "cell_type": "code",
   "execution_count": 2,
   "metadata": {},
   "outputs": [],
   "source": [
    "games = pd.read_csv(f'data/cumulative_with_cur_year_and_last_year_ratings_2010_2023.csv')\n",
    "games = games[games['completed'] == True]\n",
    "games = games[games['year'] != 2023]\n",
    "games['last_year_team_rating*num_games_into_season'] = games.apply(lambda row: row['last_year_team_rating'] * row['num_games_into_season'], axis=1)\n",
    "games['last_year_opponent_rating*num_games_into_season'] = games.apply(lambda row: row['last_year_opponent_rating'] * row['num_games_into_season'], axis=1)"
   ]
  },
  {
   "cell_type": "code",
   "execution_count": 3,
   "metadata": {},
   "outputs": [],
   "source": [
    "X_train, X_test, y_train, y_test = train_test_split(games[['team_rating', 'opponent_rating', 'team_win_total_future', 'opponent_win_total_future', 'last_year_team_rating', 'last_year_opponent_rating', 'num_games_into_season', 'last_year_team_rating*num_games_into_season', 'last_year_opponent_rating*num_games_into_season', 'team_last_10_rating', 'opponent_last_10_rating', 'team_last_5_rating', 'opponent_last_5_rating', 'team_last_3_rating', 'opponent_last_3_rating', 'team_last_1_rating', 'opponent_last_1_rating', 'team_days_since_most_recent_game', 'opponent_days_since_most_recent_game']], games['margin'], test_size=0.2, random_state=41)"
   ]
  },
  {
   "cell_type": "code",
   "execution_count": 17,
   "metadata": {},
   "outputs": [],
   "source": [
    "# use optuna to tune the parameters\n",
    "def objective(trial):\n",
    "    param = {\n",
    "        'max_depth': trial.suggest_int('max_depth', 1, 10),\n",
    "        'learning_rate': trial.suggest_float('learning_rate', 0.01, 1.0),\n",
    "        'n_estimators': trial.suggest_int('n_estimators', 50, 1000),\n",
    "        'min_child_weight': trial.suggest_int('min_child_weight', 1, 10),\n",
    "        'gamma': trial.suggest_float('gamma', 0.01, 1.0),\n",
    "        'subsample': trial.suggest_float('subsample', 0.01, 1.0),\n",
    "        'colsample_bytree': trial.suggest_float('colsample_bytree', 0.01, 1.0),\n",
    "        'reg_alpha': trial.suggest_float('reg_alpha', 0.01, 1.0),\n",
    "        'reg_lambda': trial.suggest_float('reg_lambda', 0.01, 1.0),\n",
    "        'random_state': trial.suggest_int('random_state', 1, 1000)\n",
    "    }\n",
    "    model = XGBRegressor(**param)\n",
    "    model.fit(X_train, y_train)\n",
    "    y_pred = model.predict(X_test)\n",
    "    return np.sqrt(mean_squared_error(y_test, y_pred))"
   ]
  },
  {
   "cell_type": "code",
   "execution_count": 52,
   "metadata": {},
   "outputs": [
    {
     "name": "stderr",
     "output_type": "stream",
     "text": [
      "\u001b[32m[I 2023-01-25 22:07:11,355]\u001b[0m A new study created in memory with name: regression\u001b[0m\n",
      "\u001b[33m[W 2023-01-25 22:07:11,360]\u001b[0m Trial 0 failed with parameters: {'max_depth': 10, 'learning_rate': 0.6343428806487641, 'n_estimators': 214, 'min_child_weight': 2, 'gamma': 0.029961678608671688, 'subsample': 0.16432938669846478, 'colsample_bytree': 0.10971432743278545, 'reg_alpha': 0.6255840696406675, 'reg_lambda': 0.4420785327106033, 'random_state': 53} because of the following error: ValueError('Invalid classes inferred from unique values of `y`.  Expected: [  0   1   2   3   4   5   6   7   8   9  10  11  12  13  14  15  16  17\\n  18  19  20  21  22  23  24  25  26  27  28  29  30  31  32  33  34  35\\n  36  37  38  39  40  41  42  43  44  45  46  47  48  49  50  51  52  53\\n  54  55  56  57  58  59  60  61  62  63  64  65  66  67  68  69  70  71\\n  72  73  74  75  76  77  78  79  80  81  82  83  84  85  86  87  88  89\\n  90  91  92  93  94  95  96  97  98  99 100 101 102 103], got [-57. -56. -54. -51. -49. -48. -47. -45. -44. -42. -41. -40. -39. -38.\\n -37. -36. -35. -34. -33. -32. -31. -30. -29. -28. -27. -26. -25. -24.\\n -23. -22. -21. -20. -19. -18. -17. -16. -15. -14. -13. -12. -11. -10.\\n  -9.  -8.  -7.  -6.  -5.  -4.  -3.  -2.  -1.   1.   2.   3.   4.   5.\\n   6.   7.   8.   9.  10.  11.  12.  13.  14.  15.  16.  17.  18.  19.\\n  20.  21.  22.  23.  24.  25.  26.  27.  28.  29.  30.  31.  32.  33.\\n  34.  35.  36.  37.  38.  39.  40.  41.  42.  43.  44.  45.  46.  47.\\n  48.  49.  50.  53.  55.  61.]').\u001b[0m\n",
      "Traceback (most recent call last):\n",
      "  File \"/Users/kylecox/opt/anaconda3/lib/python3.9/site-packages/optuna/study/_optimize.py\", line 200, in _run_trial\n",
      "    value_or_values = func(trial)\n",
      "  File \"/var/folders/_6/_8xn00vj0gz5g10qr8khtxz40000gn/T/ipykernel_63854/2820431322.py\", line 18, in objective\n",
      "    model.fit(X_train, y_train)\n",
      "  File \"/Users/kylecox/opt/anaconda3/lib/python3.9/site-packages/xgboost/core.py\", line 620, in inner_f\n",
      "    return func(**kwargs)\n",
      "  File \"/Users/kylecox/opt/anaconda3/lib/python3.9/site-packages/xgboost/sklearn.py\", line 1466, in fit\n",
      "    raise ValueError(\n",
      "ValueError: Invalid classes inferred from unique values of `y`.  Expected: [  0   1   2   3   4   5   6   7   8   9  10  11  12  13  14  15  16  17\n",
      "  18  19  20  21  22  23  24  25  26  27  28  29  30  31  32  33  34  35\n",
      "  36  37  38  39  40  41  42  43  44  45  46  47  48  49  50  51  52  53\n",
      "  54  55  56  57  58  59  60  61  62  63  64  65  66  67  68  69  70  71\n",
      "  72  73  74  75  76  77  78  79  80  81  82  83  84  85  86  87  88  89\n",
      "  90  91  92  93  94  95  96  97  98  99 100 101 102 103], got [-57. -56. -54. -51. -49. -48. -47. -45. -44. -42. -41. -40. -39. -38.\n",
      " -37. -36. -35. -34. -33. -32. -31. -30. -29. -28. -27. -26. -25. -24.\n",
      " -23. -22. -21. -20. -19. -18. -17. -16. -15. -14. -13. -12. -11. -10.\n",
      "  -9.  -8.  -7.  -6.  -5.  -4.  -3.  -2.  -1.   1.   2.   3.   4.   5.\n",
      "   6.   7.   8.   9.  10.  11.  12.  13.  14.  15.  16.  17.  18.  19.\n",
      "  20.  21.  22.  23.  24.  25.  26.  27.  28.  29.  30.  31.  32.  33.\n",
      "  34.  35.  36.  37.  38.  39.  40.  41.  42.  43.  44.  45.  46.  47.\n",
      "  48.  49.  50.  53.  55.  61.]\n",
      "\u001b[33m[W 2023-01-25 22:07:11,361]\u001b[0m Trial 0 failed with value None.\u001b[0m\n"
     ]
    },
    {
     "ename": "ValueError",
     "evalue": "Invalid classes inferred from unique values of `y`.  Expected: [  0   1   2   3   4   5   6   7   8   9  10  11  12  13  14  15  16  17\n  18  19  20  21  22  23  24  25  26  27  28  29  30  31  32  33  34  35\n  36  37  38  39  40  41  42  43  44  45  46  47  48  49  50  51  52  53\n  54  55  56  57  58  59  60  61  62  63  64  65  66  67  68  69  70  71\n  72  73  74  75  76  77  78  79  80  81  82  83  84  85  86  87  88  89\n  90  91  92  93  94  95  96  97  98  99 100 101 102 103], got [-57. -56. -54. -51. -49. -48. -47. -45. -44. -42. -41. -40. -39. -38.\n -37. -36. -35. -34. -33. -32. -31. -30. -29. -28. -27. -26. -25. -24.\n -23. -22. -21. -20. -19. -18. -17. -16. -15. -14. -13. -12. -11. -10.\n  -9.  -8.  -7.  -6.  -5.  -4.  -3.  -2.  -1.   1.   2.   3.   4.   5.\n   6.   7.   8.   9.  10.  11.  12.  13.  14.  15.  16.  17.  18.  19.\n  20.  21.  22.  23.  24.  25.  26.  27.  28.  29.  30.  31.  32.  33.\n  34.  35.  36.  37.  38.  39.  40.  41.  42.  43.  44.  45.  46.  47.\n  48.  49.  50.  53.  55.  61.]",
     "output_type": "error",
     "traceback": [
      "\u001b[0;31m---------------------------------------------------------------------------\u001b[0m",
      "\u001b[0;31mValueError\u001b[0m                                Traceback (most recent call last)",
      "\u001b[1;32m/Users/kylecox/Documents/ws/nba2/rank/margin_model.ipynb Cell 5\u001b[0m in \u001b[0;36m<cell line: 2>\u001b[0;34m()\u001b[0m\n\u001b[1;32m      <a href='vscode-notebook-cell:/Users/kylecox/Documents/ws/nba2/rank/margin_model.ipynb#W4sZmlsZQ%3D%3D?line=0'>1</a>\u001b[0m study \u001b[39m=\u001b[39m optuna\u001b[39m.\u001b[39mcreate_study(direction\u001b[39m=\u001b[39m\u001b[39m'\u001b[39m\u001b[39mminimize\u001b[39m\u001b[39m'\u001b[39m, study_name\u001b[39m=\u001b[39m\u001b[39m'\u001b[39m\u001b[39mregression\u001b[39m\u001b[39m'\u001b[39m)\n\u001b[0;32m----> <a href='vscode-notebook-cell:/Users/kylecox/Documents/ws/nba2/rank/margin_model.ipynb#W4sZmlsZQ%3D%3D?line=1'>2</a>\u001b[0m study\u001b[39m.\u001b[39;49moptimize(objective, n_trials\u001b[39m=\u001b[39;49m\u001b[39m100\u001b[39;49m)\n",
      "File \u001b[0;32m~/opt/anaconda3/lib/python3.9/site-packages/optuna/study/study.py:425\u001b[0m, in \u001b[0;36mStudy.optimize\u001b[0;34m(self, func, n_trials, timeout, n_jobs, catch, callbacks, gc_after_trial, show_progress_bar)\u001b[0m\n\u001b[1;32m    321\u001b[0m \u001b[39mdef\u001b[39;00m \u001b[39moptimize\u001b[39m(\n\u001b[1;32m    322\u001b[0m     \u001b[39mself\u001b[39m,\n\u001b[1;32m    323\u001b[0m     func: ObjectiveFuncType,\n\u001b[0;32m   (...)\u001b[0m\n\u001b[1;32m    330\u001b[0m     show_progress_bar: \u001b[39mbool\u001b[39m \u001b[39m=\u001b[39m \u001b[39mFalse\u001b[39;00m,\n\u001b[1;32m    331\u001b[0m ) \u001b[39m-\u001b[39m\u001b[39m>\u001b[39m \u001b[39mNone\u001b[39;00m:\n\u001b[1;32m    332\u001b[0m     \u001b[39m\"\"\"Optimize an objective function.\u001b[39;00m\n\u001b[1;32m    333\u001b[0m \n\u001b[1;32m    334\u001b[0m \u001b[39m    Optimization is done by choosing a suitable set of hyperparameter values from a given\u001b[39;00m\n\u001b[0;32m   (...)\u001b[0m\n\u001b[1;32m    422\u001b[0m \u001b[39m            If nested invocation of this method occurs.\u001b[39;00m\n\u001b[1;32m    423\u001b[0m \u001b[39m    \"\"\"\u001b[39;00m\n\u001b[0;32m--> 425\u001b[0m     _optimize(\n\u001b[1;32m    426\u001b[0m         study\u001b[39m=\u001b[39;49m\u001b[39mself\u001b[39;49m,\n\u001b[1;32m    427\u001b[0m         func\u001b[39m=\u001b[39;49mfunc,\n\u001b[1;32m    428\u001b[0m         n_trials\u001b[39m=\u001b[39;49mn_trials,\n\u001b[1;32m    429\u001b[0m         timeout\u001b[39m=\u001b[39;49mtimeout,\n\u001b[1;32m    430\u001b[0m         n_jobs\u001b[39m=\u001b[39;49mn_jobs,\n\u001b[1;32m    431\u001b[0m         catch\u001b[39m=\u001b[39;49m\u001b[39mtuple\u001b[39;49m(catch) \u001b[39mif\u001b[39;49;00m \u001b[39misinstance\u001b[39;49m(catch, Iterable) \u001b[39melse\u001b[39;49;00m (catch,),\n\u001b[1;32m    432\u001b[0m         callbacks\u001b[39m=\u001b[39;49mcallbacks,\n\u001b[1;32m    433\u001b[0m         gc_after_trial\u001b[39m=\u001b[39;49mgc_after_trial,\n\u001b[1;32m    434\u001b[0m         show_progress_bar\u001b[39m=\u001b[39;49mshow_progress_bar,\n\u001b[1;32m    435\u001b[0m     )\n",
      "File \u001b[0;32m~/opt/anaconda3/lib/python3.9/site-packages/optuna/study/_optimize.py:66\u001b[0m, in \u001b[0;36m_optimize\u001b[0;34m(study, func, n_trials, timeout, n_jobs, catch, callbacks, gc_after_trial, show_progress_bar)\u001b[0m\n\u001b[1;32m     64\u001b[0m \u001b[39mtry\u001b[39;00m:\n\u001b[1;32m     65\u001b[0m     \u001b[39mif\u001b[39;00m n_jobs \u001b[39m==\u001b[39m \u001b[39m1\u001b[39m:\n\u001b[0;32m---> 66\u001b[0m         _optimize_sequential(\n\u001b[1;32m     67\u001b[0m             study,\n\u001b[1;32m     68\u001b[0m             func,\n\u001b[1;32m     69\u001b[0m             n_trials,\n\u001b[1;32m     70\u001b[0m             timeout,\n\u001b[1;32m     71\u001b[0m             catch,\n\u001b[1;32m     72\u001b[0m             callbacks,\n\u001b[1;32m     73\u001b[0m             gc_after_trial,\n\u001b[1;32m     74\u001b[0m             reseed_sampler_rng\u001b[39m=\u001b[39;49m\u001b[39mFalse\u001b[39;49;00m,\n\u001b[1;32m     75\u001b[0m             time_start\u001b[39m=\u001b[39;49m\u001b[39mNone\u001b[39;49;00m,\n\u001b[1;32m     76\u001b[0m             progress_bar\u001b[39m=\u001b[39;49mprogress_bar,\n\u001b[1;32m     77\u001b[0m         )\n\u001b[1;32m     78\u001b[0m     \u001b[39melse\u001b[39;00m:\n\u001b[1;32m     79\u001b[0m         \u001b[39mif\u001b[39;00m n_jobs \u001b[39m==\u001b[39m \u001b[39m-\u001b[39m\u001b[39m1\u001b[39m:\n",
      "File \u001b[0;32m~/opt/anaconda3/lib/python3.9/site-packages/optuna/study/_optimize.py:163\u001b[0m, in \u001b[0;36m_optimize_sequential\u001b[0;34m(study, func, n_trials, timeout, catch, callbacks, gc_after_trial, reseed_sampler_rng, time_start, progress_bar)\u001b[0m\n\u001b[1;32m    160\u001b[0m         \u001b[39mbreak\u001b[39;00m\n\u001b[1;32m    162\u001b[0m \u001b[39mtry\u001b[39;00m:\n\u001b[0;32m--> 163\u001b[0m     frozen_trial \u001b[39m=\u001b[39m _run_trial(study, func, catch)\n\u001b[1;32m    164\u001b[0m \u001b[39mfinally\u001b[39;00m:\n\u001b[1;32m    165\u001b[0m     \u001b[39m# The following line mitigates memory problems that can be occurred in some\u001b[39;00m\n\u001b[1;32m    166\u001b[0m     \u001b[39m# environments (e.g., services that use computing containers such as GitHub Actions).\u001b[39;00m\n\u001b[1;32m    167\u001b[0m     \u001b[39m# Please refer to the following PR for further details:\u001b[39;00m\n\u001b[1;32m    168\u001b[0m     \u001b[39m# https://github.com/optuna/optuna/pull/325.\u001b[39;00m\n\u001b[1;32m    169\u001b[0m     \u001b[39mif\u001b[39;00m gc_after_trial:\n",
      "File \u001b[0;32m~/opt/anaconda3/lib/python3.9/site-packages/optuna/study/_optimize.py:251\u001b[0m, in \u001b[0;36m_run_trial\u001b[0;34m(study, func, catch)\u001b[0m\n\u001b[1;32m    244\u001b[0m         \u001b[39massert\u001b[39;00m \u001b[39mFalse\u001b[39;00m, \u001b[39m\"\u001b[39m\u001b[39mShould not reach.\u001b[39m\u001b[39m\"\u001b[39m\n\u001b[1;32m    246\u001b[0m \u001b[39mif\u001b[39;00m (\n\u001b[1;32m    247\u001b[0m     frozen_trial\u001b[39m.\u001b[39mstate \u001b[39m==\u001b[39m TrialState\u001b[39m.\u001b[39mFAIL\n\u001b[1;32m    248\u001b[0m     \u001b[39mand\u001b[39;00m func_err \u001b[39mis\u001b[39;00m \u001b[39mnot\u001b[39;00m \u001b[39mNone\u001b[39;00m\n\u001b[1;32m    249\u001b[0m     \u001b[39mand\u001b[39;00m \u001b[39mnot\u001b[39;00m \u001b[39misinstance\u001b[39m(func_err, catch)\n\u001b[1;32m    250\u001b[0m ):\n\u001b[0;32m--> 251\u001b[0m     \u001b[39mraise\u001b[39;00m func_err\n\u001b[1;32m    252\u001b[0m \u001b[39mreturn\u001b[39;00m frozen_trial\n",
      "File \u001b[0;32m~/opt/anaconda3/lib/python3.9/site-packages/optuna/study/_optimize.py:200\u001b[0m, in \u001b[0;36m_run_trial\u001b[0;34m(study, func, catch)\u001b[0m\n\u001b[1;32m    198\u001b[0m \u001b[39mwith\u001b[39;00m get_heartbeat_thread(trial\u001b[39m.\u001b[39m_trial_id, study\u001b[39m.\u001b[39m_storage):\n\u001b[1;32m    199\u001b[0m     \u001b[39mtry\u001b[39;00m:\n\u001b[0;32m--> 200\u001b[0m         value_or_values \u001b[39m=\u001b[39m func(trial)\n\u001b[1;32m    201\u001b[0m     \u001b[39mexcept\u001b[39;00m exceptions\u001b[39m.\u001b[39mTrialPruned \u001b[39mas\u001b[39;00m e:\n\u001b[1;32m    202\u001b[0m         \u001b[39m# TODO(mamu): Handle multi-objective cases.\u001b[39;00m\n\u001b[1;32m    203\u001b[0m         state \u001b[39m=\u001b[39m TrialState\u001b[39m.\u001b[39mPRUNED\n",
      "\u001b[1;32m/Users/kylecox/Documents/ws/nba2/rank/margin_model.ipynb Cell 5\u001b[0m in \u001b[0;36mobjective\u001b[0;34m(trial)\u001b[0m\n\u001b[1;32m      <a href='vscode-notebook-cell:/Users/kylecox/Documents/ws/nba2/rank/margin_model.ipynb#W4sZmlsZQ%3D%3D?line=4'>5</a>\u001b[0m param \u001b[39m=\u001b[39m {\n\u001b[1;32m      <a href='vscode-notebook-cell:/Users/kylecox/Documents/ws/nba2/rank/margin_model.ipynb#W4sZmlsZQ%3D%3D?line=5'>6</a>\u001b[0m     \u001b[39m'\u001b[39m\u001b[39mmax_depth\u001b[39m\u001b[39m'\u001b[39m: trial\u001b[39m.\u001b[39msuggest_int(\u001b[39m'\u001b[39m\u001b[39mmax_depth\u001b[39m\u001b[39m'\u001b[39m, \u001b[39m1\u001b[39m, \u001b[39m10\u001b[39m),\n\u001b[1;32m      <a href='vscode-notebook-cell:/Users/kylecox/Documents/ws/nba2/rank/margin_model.ipynb#W4sZmlsZQ%3D%3D?line=6'>7</a>\u001b[0m     \u001b[39m'\u001b[39m\u001b[39mlearning_rate\u001b[39m\u001b[39m'\u001b[39m: trial\u001b[39m.\u001b[39msuggest_float(\u001b[39m'\u001b[39m\u001b[39mlearning_rate\u001b[39m\u001b[39m'\u001b[39m, \u001b[39m0.01\u001b[39m, \u001b[39m1.0\u001b[39m),\n\u001b[0;32m   (...)\u001b[0m\n\u001b[1;32m     <a href='vscode-notebook-cell:/Users/kylecox/Documents/ws/nba2/rank/margin_model.ipynb#W4sZmlsZQ%3D%3D?line=14'>15</a>\u001b[0m     \u001b[39m'\u001b[39m\u001b[39mrandom_state\u001b[39m\u001b[39m'\u001b[39m: trial\u001b[39m.\u001b[39msuggest_int(\u001b[39m'\u001b[39m\u001b[39mrandom_state\u001b[39m\u001b[39m'\u001b[39m, \u001b[39m1\u001b[39m, \u001b[39m1000\u001b[39m)\n\u001b[1;32m     <a href='vscode-notebook-cell:/Users/kylecox/Documents/ws/nba2/rank/margin_model.ipynb#W4sZmlsZQ%3D%3D?line=15'>16</a>\u001b[0m }\n\u001b[1;32m     <a href='vscode-notebook-cell:/Users/kylecox/Documents/ws/nba2/rank/margin_model.ipynb#W4sZmlsZQ%3D%3D?line=16'>17</a>\u001b[0m model \u001b[39m=\u001b[39m XGBClassifier(\u001b[39m*\u001b[39m\u001b[39m*\u001b[39mparam)\n\u001b[0;32m---> <a href='vscode-notebook-cell:/Users/kylecox/Documents/ws/nba2/rank/margin_model.ipynb#W4sZmlsZQ%3D%3D?line=17'>18</a>\u001b[0m model\u001b[39m.\u001b[39;49mfit(X_train, y_train)\n\u001b[1;32m     <a href='vscode-notebook-cell:/Users/kylecox/Documents/ws/nba2/rank/margin_model.ipynb#W4sZmlsZQ%3D%3D?line=18'>19</a>\u001b[0m y_pred \u001b[39m=\u001b[39m model\u001b[39m.\u001b[39mpredict_proba(X_test)\n\u001b[1;32m     <a href='vscode-notebook-cell:/Users/kylecox/Documents/ws/nba2/rank/margin_model.ipynb#W4sZmlsZQ%3D%3D?line=19'>20</a>\u001b[0m \u001b[39mreturn\u001b[39;00m log_loss(y_test, y_pred)\n",
      "File \u001b[0;32m~/opt/anaconda3/lib/python3.9/site-packages/xgboost/core.py:620\u001b[0m, in \u001b[0;36mrequire_keyword_args.<locals>.throw_if.<locals>.inner_f\u001b[0;34m(*args, **kwargs)\u001b[0m\n\u001b[1;32m    618\u001b[0m \u001b[39mfor\u001b[39;00m k, arg \u001b[39min\u001b[39;00m \u001b[39mzip\u001b[39m(sig\u001b[39m.\u001b[39mparameters, args):\n\u001b[1;32m    619\u001b[0m     kwargs[k] \u001b[39m=\u001b[39m arg\n\u001b[0;32m--> 620\u001b[0m \u001b[39mreturn\u001b[39;00m func(\u001b[39m*\u001b[39;49m\u001b[39m*\u001b[39;49mkwargs)\n",
      "File \u001b[0;32m~/opt/anaconda3/lib/python3.9/site-packages/xgboost/sklearn.py:1466\u001b[0m, in \u001b[0;36mXGBClassifier.fit\u001b[0;34m(self, X, y, sample_weight, base_margin, eval_set, eval_metric, early_stopping_rounds, verbose, xgb_model, sample_weight_eval_set, base_margin_eval_set, feature_weights, callbacks)\u001b[0m\n\u001b[1;32m   1461\u001b[0m     expected_classes \u001b[39m=\u001b[39m np\u001b[39m.\u001b[39marange(\u001b[39mself\u001b[39m\u001b[39m.\u001b[39mn_classes_)\n\u001b[1;32m   1462\u001b[0m \u001b[39mif\u001b[39;00m (\n\u001b[1;32m   1463\u001b[0m     \u001b[39mself\u001b[39m\u001b[39m.\u001b[39mclasses_\u001b[39m.\u001b[39mshape \u001b[39m!=\u001b[39m expected_classes\u001b[39m.\u001b[39mshape\n\u001b[1;32m   1464\u001b[0m     \u001b[39mor\u001b[39;00m \u001b[39mnot\u001b[39;00m (\u001b[39mself\u001b[39m\u001b[39m.\u001b[39mclasses_ \u001b[39m==\u001b[39m expected_classes)\u001b[39m.\u001b[39mall()\n\u001b[1;32m   1465\u001b[0m ):\n\u001b[0;32m-> 1466\u001b[0m     \u001b[39mraise\u001b[39;00m \u001b[39mValueError\u001b[39;00m(\n\u001b[1;32m   1467\u001b[0m         \u001b[39mf\u001b[39m\u001b[39m\"\u001b[39m\u001b[39mInvalid classes inferred from unique values of `y`.  \u001b[39m\u001b[39m\"\u001b[39m\n\u001b[1;32m   1468\u001b[0m         \u001b[39mf\u001b[39m\u001b[39m\"\u001b[39m\u001b[39mExpected: \u001b[39m\u001b[39m{\u001b[39;00mexpected_classes\u001b[39m}\u001b[39;00m\u001b[39m, got \u001b[39m\u001b[39m{\u001b[39;00m\u001b[39mself\u001b[39m\u001b[39m.\u001b[39mclasses_\u001b[39m}\u001b[39;00m\u001b[39m\"\u001b[39m\n\u001b[1;32m   1469\u001b[0m     )\n\u001b[1;32m   1471\u001b[0m params \u001b[39m=\u001b[39m \u001b[39mself\u001b[39m\u001b[39m.\u001b[39mget_xgb_params()\n\u001b[1;32m   1473\u001b[0m \u001b[39mif\u001b[39;00m callable(\u001b[39mself\u001b[39m\u001b[39m.\u001b[39mobjective):\n",
      "\u001b[0;31mValueError\u001b[0m: Invalid classes inferred from unique values of `y`.  Expected: [  0   1   2   3   4   5   6   7   8   9  10  11  12  13  14  15  16  17\n  18  19  20  21  22  23  24  25  26  27  28  29  30  31  32  33  34  35\n  36  37  38  39  40  41  42  43  44  45  46  47  48  49  50  51  52  53\n  54  55  56  57  58  59  60  61  62  63  64  65  66  67  68  69  70  71\n  72  73  74  75  76  77  78  79  80  81  82  83  84  85  86  87  88  89\n  90  91  92  93  94  95  96  97  98  99 100 101 102 103], got [-57. -56. -54. -51. -49. -48. -47. -45. -44. -42. -41. -40. -39. -38.\n -37. -36. -35. -34. -33. -32. -31. -30. -29. -28. -27. -26. -25. -24.\n -23. -22. -21. -20. -19. -18. -17. -16. -15. -14. -13. -12. -11. -10.\n  -9.  -8.  -7.  -6.  -5.  -4.  -3.  -2.  -1.   1.   2.   3.   4.   5.\n   6.   7.   8.   9.  10.  11.  12.  13.  14.  15.  16.  17.  18.  19.\n  20.  21.  22.  23.  24.  25.  26.  27.  28.  29.  30.  31.  32.  33.\n  34.  35.  36.  37.  38.  39.  40.  41.  42.  43.  44.  45.  46.  47.\n  48.  49.  50.  53.  55.  61.]"
     ]
    }
   ],
   "source": [
    "study = optuna.create_study(direction='minimize', study_name='regression')\n",
    "study.optimize(objective, n_trials=100)"
   ]
  },
  {
   "cell_type": "code",
   "execution_count": 15,
   "metadata": {},
   "outputs": [
    {
     "name": "stdout",
     "output_type": "stream",
     "text": [
      "Best parameters {'max_depth': 3, 'learning_rate': 0.029107780559027997, 'n_estimators': 335, 'min_child_weight': 9, 'gamma': 0.5195681210769822, 'subsample': 0.908711599613052, 'colsample_bytree': 0.6667307628090092, 'reg_alpha': 0.3146270282768631, 'reg_lambda': 0.1375893443806859, 'random_state': 631}\n",
      "Best value 155.3689425052693\n"
     ]
    }
   ],
   "source": [
    "print('Best parameters', study.best_params)\n",
    "print('Best value', study.best_value)"
   ]
  },
  {
   "cell_type": "code",
   "execution_count": 10,
   "metadata": {},
   "outputs": [],
   "source": [
    "games['win'] = games.apply(lambda row: 1 if row['margin'] > 0 else 0, axis=1)"
   ]
  },
  {
   "cell_type": "code",
   "execution_count": 14,
   "metadata": {},
   "outputs": [],
   "source": [
    "X_train, X_test, y_train, y_test = train_test_split(games[['team_rating', 'opponent_rating', 'team_win_total_future', 'opponent_win_total_future', 'last_year_team_rating', 'last_year_opponent_rating', 'num_games_into_season', 'team_last_10_rating', 'opponent_last_10_rating', 'team_last_5_rating', 'opponent_last_5_rating', 'team_last_3_rating', 'opponent_last_3_rating', 'team_last_1_rating', 'opponent_last_1_rating', 'team_days_since_most_recent_game', 'opponent_days_since_most_recent_game']], games['win'], test_size=0.5, random_state=41)"
   ]
  },
  {
   "cell_type": "code",
   "execution_count": 15,
   "metadata": {},
   "outputs": [],
   "source": [
    "# use optuna to tune the parameters for a classifier\n",
    "from sklearn.metrics import accuracy_score\n",
    "from sklearn.metrics import log_loss\n",
    "def objective(trial):\n",
    "    param = {\n",
    "        'max_depth': trial.suggest_int('max_depth', 1, 10),\n",
    "        'learning_rate': trial.suggest_float('learning_rate', 0.01, 1.0),\n",
    "        'n_estimators': trial.suggest_int('n_estimators', 50, 1000),\n",
    "        'min_child_weight': trial.suggest_int('min_child_weight', 1, 10),\n",
    "        'gamma': trial.suggest_float('gamma', 0.01, 1.0),\n",
    "        'subsample': trial.suggest_float('subsample', 0.01, 1.0),\n",
    "        'colsample_bytree': trial.suggest_float('colsample_bytree', 0.01, 1.0),\n",
    "        'reg_alpha': trial.suggest_float('reg_alpha', 0.01, 1.0),\n",
    "        'reg_lambda': trial.suggest_float('reg_lambda', 0.01, 1.0),\n",
    "        'random_state': trial.suggest_int('random_state', 1, 1000)\n",
    "    }\n",
    "    model = XGBClassifier(**param)\n",
    "    model.fit(X_train, y_train)\n",
    "    y_pred = model.predict_proba(X_test)\n",
    "    return log_loss(y_test, y_pred)"
   ]
  },
  {
   "cell_type": "code",
   "execution_count": 16,
   "metadata": {},
   "outputs": [
    {
     "name": "stderr",
     "output_type": "stream",
     "text": [
      "\u001b[32m[I 2023-01-28 11:28:56,837]\u001b[0m A new study created in memory with name: win_probability\u001b[0m\n",
      "\u001b[32m[I 2023-01-28 11:28:58,995]\u001b[0m Trial 0 finished with value: 0.66156079666028 and parameters: {'max_depth': 8, 'learning_rate': 0.05746408648351279, 'n_estimators': 311, 'min_child_weight': 2, 'gamma': 0.4367635460744282, 'subsample': 0.018860949915606946, 'colsample_bytree': 0.3894982801279265, 'reg_alpha': 0.6794355184376749, 'reg_lambda': 0.6041807001047681, 'random_state': 1}. Best is trial 0 with value: 0.66156079666028.\u001b[0m\n",
      "\u001b[32m[I 2023-01-28 11:29:26,760]\u001b[0m Trial 1 finished with value: 1.039901039920528 and parameters: {'max_depth': 10, 'learning_rate': 0.3976800746515197, 'n_estimators': 172, 'min_child_weight': 6, 'gamma': 0.2725445297548599, 'subsample': 0.4727425393032529, 'colsample_bytree': 0.8391931534413788, 'reg_alpha': 0.04239507583964167, 'reg_lambda': 0.22018751183594557, 'random_state': 376}. Best is trial 0 with value: 0.66156079666028.\u001b[0m\n",
      "\u001b[32m[I 2023-01-28 11:30:03,228]\u001b[0m Trial 2 finished with value: 1.1871567660924287 and parameters: {'max_depth': 8, 'learning_rate': 0.31923478860775284, 'n_estimators': 870, 'min_child_weight': 1, 'gamma': 0.6281091146970633, 'subsample': 0.2581291989795219, 'colsample_bytree': 0.85395561388984, 'reg_alpha': 0.6444425306310517, 'reg_lambda': 0.5969975389596271, 'random_state': 280}. Best is trial 0 with value: 0.66156079666028.\u001b[0m\n",
      "\u001b[32m[I 2023-01-28 11:30:08,403]\u001b[0m Trial 3 finished with value: 1.035868875110097 and parameters: {'max_depth': 4, 'learning_rate': 0.6371095810159845, 'n_estimators': 791, 'min_child_weight': 10, 'gamma': 0.8324751651522336, 'subsample': 0.6927456476199434, 'colsample_bytree': 0.4546836338791444, 'reg_alpha': 0.67131046920645, 'reg_lambda': 0.3068590293692878, 'random_state': 619}. Best is trial 0 with value: 0.66156079666028.\u001b[0m\n",
      "\u001b[32m[I 2023-01-28 11:31:59,453]\u001b[0m Trial 4 finished with value: 3.4465236922347837 and parameters: {'max_depth': 8, 'learning_rate': 0.8503653161660947, 'n_estimators': 469, 'min_child_weight': 10, 'gamma': 0.09016117596850157, 'subsample': 0.3672099281832776, 'colsample_bytree': 0.5686300544597911, 'reg_alpha': 0.29135620959693054, 'reg_lambda': 0.7583129814201781, 'random_state': 907}. Best is trial 0 with value: 0.66156079666028.\u001b[0m\n",
      "\u001b[32m[I 2023-01-28 11:33:23,945]\u001b[0m Trial 5 finished with value: 0.7344013401146192 and parameters: {'max_depth': 4, 'learning_rate': 0.1929721038770675, 'n_estimators': 492, 'min_child_weight': 6, 'gamma': 0.020943630180890106, 'subsample': 0.3530630785990395, 'colsample_bytree': 0.6867832789067042, 'reg_alpha': 0.9606688505753844, 'reg_lambda': 0.4389752632673533, 'random_state': 203}. Best is trial 0 with value: 0.66156079666028.\u001b[0m\n",
      "\u001b[32m[I 2023-01-28 11:34:47,038]\u001b[0m Trial 6 finished with value: 2.8962539943842582 and parameters: {'max_depth': 6, 'learning_rate': 0.6563251077210744, 'n_estimators': 305, 'min_child_weight': 5, 'gamma': 0.5742482392486781, 'subsample': 0.0809357304671236, 'colsample_bytree': 0.22121266213516552, 'reg_alpha': 0.42745909905206303, 'reg_lambda': 0.8570621445976191, 'random_state': 13}. Best is trial 0 with value: 0.66156079666028.\u001b[0m\n",
      "\u001b[32m[I 2023-01-28 11:41:01,497]\u001b[0m Trial 7 finished with value: 0.8541111049628697 and parameters: {'max_depth': 10, 'learning_rate': 0.23483882365400835, 'n_estimators': 601, 'min_child_weight': 5, 'gamma': 0.48616155683643786, 'subsample': 0.8356621330266435, 'colsample_bytree': 0.787569844458058, 'reg_alpha': 0.4685572550120419, 'reg_lambda': 0.4919306688992224, 'random_state': 261}. Best is trial 0 with value: 0.66156079666028.\u001b[0m\n",
      "\u001b[32m[I 2023-01-28 11:42:21,318]\u001b[0m Trial 8 finished with value: 0.7978115664154298 and parameters: {'max_depth': 2, 'learning_rate': 0.4830352067138754, 'n_estimators': 797, 'min_child_weight': 7, 'gamma': 0.6471791483458772, 'subsample': 0.41165015297240876, 'colsample_bytree': 0.6594080677552422, 'reg_alpha': 0.5968477880174197, 'reg_lambda': 0.029717233560596523, 'random_state': 452}. Best is trial 0 with value: 0.66156079666028.\u001b[0m\n",
      "\u001b[32m[I 2023-01-28 11:43:07,427]\u001b[0m Trial 9 finished with value: 8.587149880266235 and parameters: {'max_depth': 7, 'learning_rate': 0.805567189455524, 'n_estimators': 356, 'min_child_weight': 3, 'gamma': 0.9309877391655045, 'subsample': 0.1598294853775363, 'colsample_bytree': 0.28136500461619446, 'reg_alpha': 0.5383254463749712, 'reg_lambda': 0.24817711890493377, 'random_state': 873}. Best is trial 0 with value: 0.66156079666028.\u001b[0m\n",
      "\u001b[32m[I 2023-01-28 11:43:13,307]\u001b[0m Trial 10 finished with value: 0.6542991707072086 and parameters: {'max_depth': 1, 'learning_rate': 0.030864577675161174, 'n_estimators': 109, 'min_child_weight': 1, 'gamma': 0.41538453161472466, 'subsample': 0.03729929798020577, 'colsample_bytree': 0.056859939902340784, 'reg_alpha': 0.8421220402116105, 'reg_lambda': 0.9615387149673966, 'random_state': 21}. Best is trial 10 with value: 0.6542991707072086.\u001b[0m\n",
      "\u001b[32m[I 2023-01-28 11:43:15,469]\u001b[0m Trial 11 finished with value: 0.6501590668622377 and parameters: {'max_depth': 1, 'learning_rate': 0.0959185346452972, 'n_estimators': 60, 'min_child_weight': 1, 'gamma': 0.3600701951329379, 'subsample': 0.04080652159432971, 'colsample_bytree': 0.02870545939540577, 'reg_alpha': 0.8586823060027313, 'reg_lambda': 0.995079430016791, 'random_state': 31}. Best is trial 11 with value: 0.6501590668622377.\u001b[0m\n",
      "\u001b[32m[I 2023-01-28 11:43:19,899]\u001b[0m Trial 12 finished with value: 0.6727055809044374 and parameters: {'max_depth': 1, 'learning_rate': 0.014458798252060548, 'n_estimators': 86, 'min_child_weight': 3, 'gamma': 0.3303005458672016, 'subsample': 0.014074266638115663, 'colsample_bytree': 0.021784645201642028, 'reg_alpha': 0.9325078981625964, 'reg_lambda': 0.9959876331126365, 'random_state': 139}. Best is trial 11 with value: 0.6501590668622377.\u001b[0m\n",
      "\u001b[32m[I 2023-01-28 11:43:24,305]\u001b[0m Trial 13 finished with value: 0.6477050692211253 and parameters: {'max_depth': 3, 'learning_rate': 0.14240851085666745, 'n_estimators': 54, 'min_child_weight': 1, 'gamma': 0.27529098716510914, 'subsample': 0.18463401150922537, 'colsample_bytree': 0.0434359136740019, 'reg_alpha': 0.847653820818639, 'reg_lambda': 0.9701028038757517, 'random_state': 581}. Best is trial 13 with value: 0.6477050692211253.\u001b[0m\n",
      "\u001b[32m[I 2023-01-28 11:43:29,417]\u001b[0m Trial 14 finished with value: 0.6302100784222661 and parameters: {'max_depth': 3, 'learning_rate': 0.232251321456032, 'n_estimators': 53, 'min_child_weight': 3, 'gamma': 0.22981433918626815, 'subsample': 0.2224070332292562, 'colsample_bytree': 0.1424871622792946, 'reg_alpha': 0.7748380141113448, 'reg_lambda': 0.795990044287926, 'random_state': 650}. Best is trial 14 with value: 0.6302100784222661.\u001b[0m\n",
      "\u001b[32m[I 2023-01-28 11:43:49,533]\u001b[0m Trial 15 finished with value: 0.6613720279036028 and parameters: {'max_depth': 3, 'learning_rate': 0.24300164148900721, 'n_estimators': 204, 'min_child_weight': 3, 'gamma': 0.17585805083125022, 'subsample': 0.2169724162956493, 'colsample_bytree': 0.16092234899708424, 'reg_alpha': 0.7792838320634711, 'reg_lambda': 0.8079503693770678, 'random_state': 637}. Best is trial 14 with value: 0.6302100784222661.\u001b[0m\n",
      "\u001b[32m[I 2023-01-28 11:45:58,586]\u001b[0m Trial 16 finished with value: 0.9014297473036793 and parameters: {'max_depth': 4, 'learning_rate': 0.357148680401603, 'n_estimators': 996, 'min_child_weight': 4, 'gamma': 0.21795745836820488, 'subsample': 0.5846759013114863, 'colsample_bytree': 0.3126804964592022, 'reg_alpha': 0.9736513584178741, 'reg_lambda': 0.7331026804967542, 'random_state': 712}. Best is trial 14 with value: 0.6302100784222661.\u001b[0m\n",
      "\u001b[32m[I 2023-01-28 11:46:16,681]\u001b[0m Trial 17 finished with value: 0.6350806952051654 and parameters: {'max_depth': 3, 'learning_rate': 0.14894619700936085, 'n_estimators': 220, 'min_child_weight': 8, 'gamma': 0.15976442708176547, 'subsample': 0.2818221328426913, 'colsample_bytree': 0.1560396349455062, 'reg_alpha': 0.789097131162471, 'reg_lambda': 0.8720675390620056, 'random_state': 786}. Best is trial 14 with value: 0.6302100784222661.\u001b[0m\n",
      "\u001b[32m[I 2023-01-28 11:46:29,741]\u001b[0m Trial 18 finished with value: 0.6650688732216736 and parameters: {'max_depth': 5, 'learning_rate': 0.1817064079222991, 'n_estimators': 220, 'min_child_weight': 8, 'gamma': 0.14241296184516875, 'subsample': 0.2852791951954487, 'colsample_bytree': 0.16124703879376823, 'reg_alpha': 0.7332905470813081, 'reg_lambda': 0.6628776365467117, 'random_state': 767}. Best is trial 14 with value: 0.6302100784222661.\u001b[0m\n",
      "\u001b[32m[I 2023-01-28 11:47:03,204]\u001b[0m Trial 19 finished with value: 0.7781943110275997 and parameters: {'max_depth': 3, 'learning_rate': 0.30499943190717804, 'n_estimators': 616, 'min_child_weight': 8, 'gamma': 0.013930902903560527, 'subsample': 0.30217086980054547, 'colsample_bytree': 0.3718901190895083, 'reg_alpha': 0.7665840952370371, 'reg_lambda': 0.8582298060745496, 'random_state': 820}. Best is trial 14 with value: 0.6302100784222661.\u001b[0m\n",
      "\u001b[32m[I 2023-01-28 11:47:32,415]\u001b[0m Trial 20 finished with value: 0.6570876880972935 and parameters: {'max_depth': 5, 'learning_rate': 0.13217059224540445, 'n_estimators': 404, 'min_child_weight': 9, 'gamma': 0.13907722029186997, 'subsample': 0.47369174819692816, 'colsample_bytree': 0.15931976177684207, 'reg_alpha': 0.9949142737161235, 'reg_lambda': 0.7139350497324706, 'random_state': 987}. Best is trial 14 with value: 0.6302100784222661.\u001b[0m\n",
      "\u001b[32m[I 2023-01-28 11:47:37,307]\u001b[0m Trial 21 finished with value: 0.627223874162197 and parameters: {'max_depth': 3, 'learning_rate': 0.12985890487195098, 'n_estimators': 162, 'min_child_weight': 2, 'gamma': 0.2583304023166722, 'subsample': 0.16311836874823782, 'colsample_bytree': 0.10887285057247811, 'reg_alpha': 0.8243240031529693, 'reg_lambda': 0.8969994019782515, 'random_state': 543}. Best is trial 21 with value: 0.627223874162197.\u001b[0m\n",
      "\u001b[32m[I 2023-01-28 11:47:45,690]\u001b[0m Trial 22 finished with value: 0.6604680291748656 and parameters: {'max_depth': 2, 'learning_rate': 0.25650357554018766, 'n_estimators': 239, 'min_child_weight': 4, 'gamma': 0.23311683071809902, 'subsample': 0.13719589314860242, 'colsample_bytree': 0.2393908827828189, 'reg_alpha': 0.7763719083868078, 'reg_lambda': 0.8727902729365346, 'random_state': 503}. Best is trial 21 with value: 0.627223874162197.\u001b[0m\n",
      "\u001b[32m[I 2023-01-28 11:47:50,167]\u001b[0m Trial 23 finished with value: 0.6248396312456567 and parameters: {'max_depth': 2, 'learning_rate': 0.1730947022423291, 'n_estimators': 151, 'min_child_weight': 2, 'gamma': 0.29056405248251627, 'subsample': 0.23218937217443436, 'colsample_bytree': 0.11603853263782979, 'reg_alpha': 0.8941892724488293, 'reg_lambda': 0.8994156436394958, 'random_state': 706}. Best is trial 23 with value: 0.6248396312456567.\u001b[0m\n",
      "\u001b[32m[I 2023-01-28 11:47:54,473]\u001b[0m Trial 24 finished with value: 0.6230828486026493 and parameters: {'max_depth': 2, 'learning_rate': 0.09779338400998142, 'n_estimators': 144, 'min_child_weight': 2, 'gamma': 0.3271330810614206, 'subsample': 0.13623422544053965, 'colsample_bytree': 0.10568019976218138, 'reg_alpha': 0.869749721819096, 'reg_lambda': 0.7917266376405477, 'random_state': 523}. Best is trial 24 with value: 0.6230828486026493.\u001b[0m\n",
      "\u001b[32m[I 2023-01-28 11:48:02,844]\u001b[0m Trial 25 finished with value: 0.624423450658139 and parameters: {'max_depth': 2, 'learning_rate': 0.011616706904109486, 'n_estimators': 146, 'min_child_weight': 2, 'gamma': 0.34067298452257155, 'subsample': 0.12547335132094148, 'colsample_bytree': 0.9662344257237004, 'reg_alpha': 0.8947409897468425, 'reg_lambda': 0.9181967339413228, 'random_state': 518}. Best is trial 24 with value: 0.6230828486026493.\u001b[0m\n",
      "\u001b[32m[I 2023-01-28 11:48:15,169]\u001b[0m Trial 26 finished with value: 0.6161131703664013 and parameters: {'max_depth': 2, 'learning_rate': 0.02324132101965226, 'n_estimators': 305, 'min_child_weight': 2, 'gamma': 0.37569771667869545, 'subsample': 0.11235070504851558, 'colsample_bytree': 0.4475126535515201, 'reg_alpha': 0.8985635624684682, 'reg_lambda': 0.9259043116064612, 'random_state': 427}. Best is trial 26 with value: 0.6161131703664013.\u001b[0m\n",
      "\u001b[32m[I 2023-01-28 11:48:24,200]\u001b[0m Trial 27 finished with value: 0.621125432818376 and parameters: {'max_depth': 2, 'learning_rate': 0.0555065018589135, 'n_estimators': 273, 'min_child_weight': 4, 'gamma': 0.3831389263135133, 'subsample': 0.12628942226226855, 'colsample_bytree': 0.9997427346838068, 'reg_alpha': 0.9985039606876376, 'reg_lambda': 0.7740645907649897, 'random_state': 417}. Best is trial 26 with value: 0.6161131703664013.\u001b[0m\n",
      "\u001b[32m[I 2023-01-28 11:48:32,595]\u001b[0m Trial 28 finished with value: 0.6155166709247182 and parameters: {'max_depth': 1, 'learning_rate': 0.06346268811730543, 'n_estimators': 287, 'min_child_weight': 5, 'gamma': 0.40079228269412387, 'subsample': 0.1188519636488056, 'colsample_bytree': 0.5366184258629714, 'reg_alpha': 0.9230988785415375, 'reg_lambda': 0.8005281042286356, 'random_state': 402}. Best is trial 28 with value: 0.6155166709247182.\u001b[0m\n",
      "\u001b[32m[I 2023-01-28 11:48:41,042]\u001b[0m Trial 29 finished with value: 0.617218616090472 and parameters: {'max_depth': 1, 'learning_rate': 0.058591515206254975, 'n_estimators': 295, 'min_child_weight': 4, 'gamma': 0.43841160002839397, 'subsample': 0.08703847809390479, 'colsample_bytree': 0.49145511086788646, 'reg_alpha': 0.9351430689696266, 'reg_lambda': 0.6579993600687742, 'random_state': 418}. Best is trial 28 with value: 0.6155166709247182.\u001b[0m\n",
      "\u001b[32m[I 2023-01-28 11:48:53,118]\u001b[0m Trial 30 finished with value: 0.6202201827656435 and parameters: {'max_depth': 1, 'learning_rate': 0.07771861374823386, 'n_estimators': 420, 'min_child_weight': 5, 'gamma': 0.4517115062967332, 'subsample': 0.07797909136444248, 'colsample_bytree': 0.48224708001934774, 'reg_alpha': 0.9247198088079656, 'reg_lambda': 0.6695095399632174, 'random_state': 348}. Best is trial 28 with value: 0.6155166709247182.\u001b[0m\n",
      "\u001b[32m[I 2023-01-28 11:49:02,171]\u001b[0m Trial 31 finished with value: 0.6202311666479645 and parameters: {'max_depth': 1, 'learning_rate': 0.08292101348196917, 'n_estimators': 389, 'min_child_weight': 5, 'gamma': 0.45584291960631335, 'subsample': 0.06666063367105801, 'colsample_bytree': 0.47450604500315635, 'reg_alpha': 0.9233470059441771, 'reg_lambda': 0.6616037618060754, 'random_state': 348}. Best is trial 28 with value: 0.6155166709247182.\u001b[0m\n",
      "\u001b[32m[I 2023-01-28 11:49:14,796]\u001b[0m Trial 32 finished with value: 0.6195610602906308 and parameters: {'max_depth': 1, 'learning_rate': 0.06720431570534224, 'n_estimators': 451, 'min_child_weight': 6, 'gamma': 0.4492004525523888, 'subsample': 0.0828371714987933, 'colsample_bytree': 0.5331921728068252, 'reg_alpha': 0.9223331620970374, 'reg_lambda': 0.584587765549101, 'random_state': 340}. Best is trial 28 with value: 0.6155166709247182.\u001b[0m\n",
      "\u001b[32m[I 2023-01-28 11:49:23,300]\u001b[0m Trial 33 finished with value: 0.6272351729040172 and parameters: {'max_depth': 1, 'learning_rate': 0.01367857128129285, 'n_estimators': 340, 'min_child_weight': 6, 'gamma': 0.5339329206907278, 'subsample': 0.010259151286528045, 'colsample_bytree': 0.5540610056330335, 'reg_alpha': 0.9304359719086036, 'reg_lambda': 0.5967308881859265, 'random_state': 433}. Best is trial 28 with value: 0.6155166709247182.\u001b[0m\n",
      "\u001b[32m[I 2023-01-28 11:49:39,593]\u001b[0m Trial 34 finished with value: 0.6211278963825233 and parameters: {'max_depth': 1, 'learning_rate': 0.08294603881138049, 'n_estimators': 632, 'min_child_weight': 7, 'gamma': 0.41650744963821895, 'subsample': 0.0950550697849208, 'colsample_bytree': 0.4085060812533136, 'reg_alpha': 0.7032445467859444, 'reg_lambda': 0.5904859091738622, 'random_state': 305}. Best is trial 28 with value: 0.6155166709247182.\u001b[0m\n",
      "\u001b[32m[I 2023-01-28 11:50:01,304]\u001b[0m Trial 35 finished with value: 0.7039447713800354 and parameters: {'max_depth': 2, 'learning_rate': 0.30730057297277824, 'n_estimators': 523, 'min_child_weight': 6, 'gamma': 0.5220215464927171, 'subsample': 0.1876179500456447, 'colsample_bytree': 0.5342619402838283, 'reg_alpha': 0.9982709860290688, 'reg_lambda': 0.5385363041361961, 'random_state': 222}. Best is trial 28 with value: 0.6155166709247182.\u001b[0m\n",
      "\u001b[32m[I 2023-01-28 11:50:14,044]\u001b[0m Trial 36 finished with value: 0.6183482829038716 and parameters: {'max_depth': 1, 'learning_rate': 0.06017136707163975, 'n_estimators': 459, 'min_child_weight': 4, 'gamma': 0.40179555123306576, 'subsample': 0.08068963316433683, 'colsample_bytree': 0.5914756633332753, 'reg_alpha': 0.7050741131717826, 'reg_lambda': 0.7103017605840123, 'random_state': 140}. Best is trial 28 with value: 0.6155166709247182.\u001b[0m\n",
      "\u001b[32m[I 2023-01-28 11:50:39,499]\u001b[0m Trial 37 finished with value: 0.7079951438898763 and parameters: {'max_depth': 4, 'learning_rate': 0.17909018763949697, 'n_estimators': 296, 'min_child_weight': 4, 'gamma': 0.3906959738950849, 'subsample': 0.2470583711549492, 'colsample_bytree': 0.5988756486297436, 'reg_alpha': 0.6742971441892541, 'reg_lambda': 0.7049361169510483, 'random_state': 156}. Best is trial 28 with value: 0.6155166709247182.\u001b[0m\n",
      "\u001b[32m[I 2023-01-28 11:51:00,626]\u001b[0m Trial 38 finished with value: 0.738909788762067 and parameters: {'max_depth': 2, 'learning_rate': 0.43075478535347145, 'n_estimators': 568, 'min_child_weight': 4, 'gamma': 0.5793227026954688, 'subsample': 0.31484790328025636, 'colsample_bytree': 0.4146477643778455, 'reg_alpha': 0.7219806291675332, 'reg_lambda': 0.8114846903282992, 'random_state': 96}. Best is trial 28 with value: 0.6155166709247182.\u001b[0m\n",
      "\u001b[32m[I 2023-01-28 11:51:46,018]\u001b[0m Trial 39 finished with value: 0.7559561161074352 and parameters: {'max_depth': 9, 'learning_rate': 0.12775422232567046, 'n_estimators': 349, 'min_child_weight': 5, 'gamma': 0.49229940191180777, 'subsample': 0.18736345226171347, 'colsample_bytree': 0.45672078738128596, 'reg_alpha': 0.63904056046417, 'reg_lambda': 0.7466037341990895, 'random_state': 396}. Best is trial 28 with value: 0.6155166709247182.\u001b[0m\n",
      "\u001b[32m[I 2023-01-28 11:52:46,417]\u001b[0m Trial 40 finished with value: 0.8009613318557294 and parameters: {'max_depth': 4, 'learning_rate': 0.20458330255323454, 'n_estimators': 697, 'min_child_weight': 3, 'gamma': 0.3932835756974064, 'subsample': 0.36160540100288313, 'colsample_bytree': 0.6131003200458968, 'reg_alpha': 0.810748446513367, 'reg_lambda': 0.8396025702823577, 'random_state': 468}. Best is trial 28 with value: 0.6155166709247182.\u001b[0m\n",
      "\u001b[32m[I 2023-01-28 11:52:58,576]\u001b[0m Trial 41 finished with value: 0.6180681633179347 and parameters: {'max_depth': 1, 'learning_rate': 0.056087850192676605, 'n_estimators': 459, 'min_child_weight': 7, 'gamma': 0.43847690442813203, 'subsample': 0.08807824361854322, 'colsample_bytree': 0.5042321283164439, 'reg_alpha': 0.886592426013236, 'reg_lambda': 0.634063655477324, 'random_state': 287}. Best is trial 28 with value: 0.6155166709247182.\u001b[0m\n",
      "\u001b[32m[I 2023-01-28 11:53:14,625]\u001b[0m Trial 42 finished with value: 0.6188555686694465 and parameters: {'max_depth': 1, 'learning_rate': 0.05353089858616401, 'n_estimators': 497, 'min_child_weight': 7, 'gamma': 0.3070803204380201, 'subsample': 0.1258204738933882, 'colsample_bytree': 0.5066769345832925, 'reg_alpha': 0.8758885966871898, 'reg_lambda': 0.6466199468750697, 'random_state': 255}. Best is trial 28 with value: 0.6155166709247182.\u001b[0m\n",
      "\u001b[32m[I 2023-01-28 11:53:23,763]\u001b[0m Trial 43 finished with value: 0.6283550991683603 and parameters: {'max_depth': 1, 'learning_rate': 0.11340551032486113, 'n_estimators': 439, 'min_child_weight': 7, 'gamma': 0.36346928900043923, 'subsample': 0.04763327670821899, 'colsample_bytree': 0.6464079768393424, 'reg_alpha': 0.8440565838074925, 'reg_lambda': 0.7576477179694892, 'random_state': 192}. Best is trial 28 with value: 0.6155166709247182.\u001b[0m\n",
      "\u001b[32m[I 2023-01-28 11:53:52,950]\u001b[0m Trial 44 finished with value: 0.645764841511307 and parameters: {'max_depth': 7, 'learning_rate': 0.057273701529180536, 'n_estimators': 278, 'min_child_weight': 5, 'gamma': 0.48031895880021525, 'subsample': 0.08342898844953597, 'colsample_bytree': 0.5619368946363509, 'reg_alpha': 0.9415339676040736, 'reg_lambda': 0.4818028639892451, 'random_state': 304}. Best is trial 28 with value: 0.6155166709247182.\u001b[0m\n",
      "\u001b[32m[I 2023-01-28 11:54:09,239]\u001b[0m Trial 45 finished with value: 0.6205020880651759 and parameters: {'max_depth': 2, 'learning_rate': 0.0332184378777992, 'n_estimators': 373, 'min_child_weight': 4, 'gamma': 0.43810443464197546, 'subsample': 0.016845435523406088, 'colsample_bytree': 0.7151573875907313, 'reg_alpha': 0.823416613441327, 'reg_lambda': 0.7029596505187073, 'random_state': 69}. Best is trial 28 with value: 0.6155166709247182.\u001b[0m\n",
      "\u001b[32m[I 2023-01-28 11:54:18,087]\u001b[0m Trial 46 finished with value: 0.6176565501904536 and parameters: {'max_depth': 1, 'learning_rate': 0.10849507520006829, 'n_estimators': 328, 'min_child_weight': 6, 'gamma': 0.6513655378386114, 'subsample': 0.19404700760973265, 'colsample_bytree': 0.4966135151483392, 'reg_alpha': 0.887127417217878, 'reg_lambda': 0.9308224699397392, 'random_state': 465}. Best is trial 28 with value: 0.6155166709247182.\u001b[0m\n",
      "\u001b[32m[I 2023-01-28 11:54:30,853]\u001b[0m Trial 47 finished with value: 0.6313496636832475 and parameters: {'max_depth': 2, 'learning_rate': 0.15333142141768896, 'n_estimators': 314, 'min_child_weight': 6, 'gamma': 0.7179603886982943, 'subsample': 0.2061663064490814, 'colsample_bytree': 0.504393247143179, 'reg_alpha': 0.9573336732130779, 'reg_lambda': 0.9492876714420165, 'random_state': 467}. Best is trial 28 with value: 0.6155166709247182.\u001b[0m\n",
      "\u001b[32m[I 2023-01-28 11:54:35,346]\u001b[0m Trial 48 finished with value: 0.6254114235499648 and parameters: {'max_depth': 1, 'learning_rate': 0.01356750565982525, 'n_estimators': 263, 'min_child_weight': 7, 'gamma': 0.6337858470716556, 'subsample': 0.16273368422983617, 'colsample_bytree': 0.44070117389283725, 'reg_alpha': 0.893627421648771, 'reg_lambda': 0.9428767890942057, 'random_state': 386}. Best is trial 28 with value: 0.6155166709247182.\u001b[0m\n",
      "\u001b[32m[I 2023-01-28 11:54:43,854]\u001b[0m Trial 49 finished with value: 0.6235102286075607 and parameters: {'max_depth': 1, 'learning_rate': 0.1994562358049934, 'n_estimators': 326, 'min_child_weight': 6, 'gamma': 0.5577103330084233, 'subsample': 0.2537834112329394, 'colsample_bytree': 0.36603203102329246, 'reg_alpha': 0.9569603128788993, 'reg_lambda': 0.8412462713944625, 'random_state': 572}. Best is trial 28 with value: 0.6155166709247182.\u001b[0m\n",
      "\u001b[32m[I 2023-01-28 11:54:53,262]\u001b[0m Trial 50 finished with value: 0.6475362852585456 and parameters: {'max_depth': 3, 'learning_rate': 0.11029360419288897, 'n_estimators': 204, 'min_child_weight': 8, 'gamma': 0.6895360718795016, 'subsample': 0.047391323139546415, 'colsample_bytree': 0.4350889188581851, 'reg_alpha': 0.8575996608912706, 'reg_lambda': 0.910102649387735, 'random_state': 465}. Best is trial 28 with value: 0.6155166709247182.\u001b[0m\n",
      "\u001b[32m[I 2023-01-28 11:55:07,839]\u001b[0m Trial 51 finished with value: 0.6182292916911892 and parameters: {'max_depth': 1, 'learning_rate': 0.05797175223152018, 'n_estimators': 494, 'min_child_weight': 5, 'gamma': 0.41440011408549854, 'subsample': 0.09832481536993873, 'colsample_bytree': 0.5925535582446945, 'reg_alpha': 0.7412279540643665, 'reg_lambda': 0.7610451854677853, 'random_state': 249}. Best is trial 28 with value: 0.6155166709247182.\u001b[0m\n",
      "\u001b[32m[I 2023-01-28 11:55:30,164]\u001b[0m Trial 52 finished with value: 0.6410754845510938 and parameters: {'max_depth': 2, 'learning_rate': 0.10943025374263479, 'n_estimators': 556, 'min_child_weight': 5, 'gamma': 0.47703444915637405, 'subsample': 0.11196420090901812, 'colsample_bytree': 0.5077193010169259, 'reg_alpha': 0.804359274755384, 'reg_lambda': 0.8157580907930619, 'random_state': 292}. Best is trial 28 with value: 0.6155166709247182.\u001b[0m\n",
      "\u001b[32m[I 2023-01-28 11:55:42,895]\u001b[0m Trial 53 finished with value: 0.616337255581618 and parameters: {'max_depth': 1, 'learning_rate': 0.04399620205769969, 'n_estimators': 488, 'min_child_weight': 6, 'gamma': 0.36683607032476506, 'subsample': 0.1663447568295313, 'colsample_bytree': 0.5702462205273116, 'reg_alpha': 0.8904782358588871, 'reg_lambda': 0.7827021105076502, 'random_state': 243}. Best is trial 28 with value: 0.6155166709247182.\u001b[0m\n",
      "\u001b[32m[I 2023-01-28 11:55:54,629]\u001b[0m Trial 54 finished with value: 0.6222106614380244 and parameters: {'max_depth': 1, 'learning_rate': 0.15303226135120643, 'n_estimators': 391, 'min_child_weight': 7, 'gamma': 0.34528664020574595, 'subsample': 0.17010250087544174, 'colsample_bytree': 0.47875881914280266, 'reg_alpha': 0.8902933023814454, 'reg_lambda': 0.9933090835811578, 'random_state': 342}. Best is trial 28 with value: 0.6155166709247182.\u001b[0m\n",
      "\u001b[32m[I 2023-01-28 11:56:06,572]\u001b[0m Trial 55 finished with value: 0.6483492650168524 and parameters: {'max_depth': 2, 'learning_rate': 0.2696270175979332, 'n_estimators': 247, 'min_child_weight': 6, 'gamma': 0.49588995893535465, 'subsample': 0.20322360027800201, 'colsample_bytree': 0.37843908706992513, 'reg_alpha': 0.9636078510026855, 'reg_lambda': 0.8333183053749653, 'random_state': 409}. Best is trial 28 with value: 0.6155166709247182.\u001b[0m\n",
      "\u001b[32m[I 2023-01-28 11:56:24,364]\u001b[0m Trial 56 finished with value: 0.657775024976361 and parameters: {'max_depth': 1, 'learning_rate': 0.21727671108326185, 'n_estimators': 662, 'min_child_weight': 1, 'gamma': 0.29581826492519336, 'subsample': 0.044706271816390294, 'colsample_bytree': 0.5373721273871396, 'reg_alpha': 0.8220877709749529, 'reg_lambda': 0.9426396218014184, 'random_state': 601}. Best is trial 28 with value: 0.6155166709247182.\u001b[0m\n",
      "\u001b[32m[I 2023-01-28 11:57:04,220]\u001b[0m Trial 57 finished with value: 0.7671454836894971 and parameters: {'max_depth': 6, 'learning_rate': 0.16485980843322404, 'n_estimators': 420, 'min_child_weight': 9, 'gamma': 0.3643305718668183, 'subsample': 0.14674383514758785, 'colsample_bytree': 0.6402999838126211, 'reg_alpha': 0.8640369178437816, 'reg_lambda': 0.8681382907221813, 'random_state': 381}. Best is trial 28 with value: 0.6155166709247182.\u001b[0m\n",
      "\u001b[32m[I 2023-01-28 11:57:23,165]\u001b[0m Trial 58 finished with value: 0.6345753866080371 and parameters: {'max_depth': 3, 'learning_rate': 0.09666924329433066, 'n_estimators': 367, 'min_child_weight': 6, 'gamma': 0.31325076784367867, 'subsample': 0.23966233914109047, 'colsample_bytree': 0.3479161759027418, 'reg_alpha': 0.7484382942467637, 'reg_lambda': 0.7873727118485455, 'random_state': 186}. Best is trial 28 with value: 0.6155166709247182.\u001b[0m\n",
      "\u001b[32m[I 2023-01-28 11:57:38,377]\u001b[0m Trial 59 finished with value: 0.6177711337687277 and parameters: {'max_depth': 2, 'learning_rate': 0.021252667362404422, 'n_estimators': 195, 'min_child_weight': 3, 'gamma': 0.5913996832857277, 'subsample': 0.39205246651830805, 'colsample_bytree': 0.4093612920187697, 'reg_alpha': 0.7921451093877296, 'reg_lambda': 0.6329314106012631, 'random_state': 485}. Best is trial 28 with value: 0.6155166709247182.\u001b[0m\n",
      "\u001b[32m[I 2023-01-28 11:57:47,161]\u001b[0m Trial 60 finished with value: 0.6341479864523802 and parameters: {'max_depth': 3, 'learning_rate': 0.010702557377961643, 'n_estimators': 119, 'min_child_weight': 3, 'gamma': 0.5817977932118398, 'subsample': 0.39514223111194036, 'colsample_bytree': 0.4152067521922031, 'reg_alpha': 0.969041442020849, 'reg_lambda': 0.8865206079779717, 'random_state': 551}. Best is trial 28 with value: 0.6155166709247182.\u001b[0m\n",
      "\u001b[32m[I 2023-01-28 11:57:55,472]\u001b[0m Trial 61 finished with value: 0.6176009167105226 and parameters: {'max_depth': 2, 'learning_rate': 0.044013298609780704, 'n_estimators': 190, 'min_child_weight': 3, 'gamma': 0.5255133039872563, 'subsample': 0.1601119795094193, 'colsample_bytree': 0.44157240519839974, 'reg_alpha': 0.9062179125886871, 'reg_lambda': 0.6243482591768729, 'random_state': 487}. Best is trial 28 with value: 0.6155166709247182.\u001b[0m\n",
      "\u001b[32m[I 2023-01-28 11:58:03,915]\u001b[0m Trial 62 finished with value: 0.6164427734901649 and parameters: {'max_depth': 2, 'learning_rate': 0.035633161247559594, 'n_estimators': 214, 'min_child_weight': 3, 'gamma': 0.5160577178688102, 'subsample': 0.31067466955494205, 'colsample_bytree': 0.4461532394985019, 'reg_alpha': 0.9126349996587902, 'reg_lambda': 0.7443816467418289, 'random_state': 490}. Best is trial 28 with value: 0.6155166709247182.\u001b[0m\n",
      "\u001b[32m[I 2023-01-28 11:58:12,953]\u001b[0m Trial 63 finished with value: 0.6303880999685431 and parameters: {'max_depth': 2, 'learning_rate': 0.13545465138005902, 'n_estimators': 309, 'min_child_weight': 2, 'gamma': 0.5145524606268247, 'subsample': 0.2128286761224835, 'colsample_bytree': 0.44975800485323914, 'reg_alpha': 0.9168791140684893, 'reg_lambda': 0.7364788136875042, 'random_state': 444}. Best is trial 28 with value: 0.6155166709247182.\u001b[0m\n",
      "\u001b[32m[I 2023-01-28 11:58:21,230]\u001b[0m Trial 64 finished with value: 0.6264344034207247 and parameters: {'max_depth': 3, 'learning_rate': 0.10109124492528757, 'n_estimators': 191, 'min_child_weight': 3, 'gamma': 0.4641941741281834, 'subsample': 0.27625888440259716, 'colsample_bytree': 0.3267746039362805, 'reg_alpha': 0.841672610696331, 'reg_lambda': 0.7835473278860292, 'random_state': 679}. Best is trial 28 with value: 0.6155166709247182.\u001b[0m\n",
      "\u001b[32m[I 2023-01-28 11:58:33,614]\u001b[0m Trial 65 finished with value: 0.616487616432202 and parameters: {'max_depth': 2, 'learning_rate': 0.03977861440994663, 'n_estimators': 238, 'min_child_weight': 2, 'gamma': 0.5467169998775663, 'subsample': 0.16944277497837634, 'colsample_bytree': 0.5654438082884019, 'reg_alpha': 0.9024739550600851, 'reg_lambda': 0.6850381774253897, 'random_state': 506}. Best is trial 28 with value: 0.6155166709247182.\u001b[0m\n",
      "\u001b[32m[I 2023-01-28 11:58:42,292]\u001b[0m Trial 66 finished with value: 0.6172791731051247 and parameters: {'max_depth': 2, 'learning_rate': 0.039146886955315714, 'n_estimators': 235, 'min_child_weight': 2, 'gamma': 0.5167719806856945, 'subsample': 0.15674796008295588, 'colsample_bytree': 0.5643785096980072, 'reg_alpha': 0.9748634709734868, 'reg_lambda': 0.6926430655564345, 'random_state': 506}. Best is trial 28 with value: 0.6155166709247182.\u001b[0m\n",
      "\u001b[32m[I 2023-01-28 11:58:54,976]\u001b[0m Trial 67 finished with value: 0.6333438390611301 and parameters: {'max_depth': 3, 'learning_rate': 0.08194529352310799, 'n_estimators': 234, 'min_child_weight': 1, 'gamma': 0.5487789052846647, 'subsample': 0.1152380482861155, 'colsample_bytree': 0.5609413625636104, 'reg_alpha': 0.9732618625582805, 'reg_lambda': 0.6860093514519895, 'random_state': 534}. Best is trial 28 with value: 0.6155166709247182.\u001b[0m\n",
      "\u001b[32m[I 2023-01-28 11:59:24,098]\u001b[0m Trial 68 finished with value: 0.6286902275537734 and parameters: {'max_depth': 10, 'learning_rate': 0.04202951299476136, 'n_estimators': 98, 'min_child_weight': 2, 'gamma': 0.3672428841057257, 'subsample': 0.3122469540240017, 'colsample_bytree': 0.5736296309125466, 'reg_alpha': 0.9448967304611164, 'reg_lambda': 0.7305349805022805, 'random_state': 618}. Best is trial 28 with value: 0.6155166709247182.\u001b[0m\n",
      "\u001b[32m[I 2023-01-28 11:59:35,349]\u001b[0m Trial 69 finished with value: 0.6504251032620404 and parameters: {'max_depth': 2, 'learning_rate': 0.17853324169420076, 'n_estimators': 291, 'min_child_weight': 2, 'gamma': 0.4216454711785297, 'subsample': 0.1408300418255366, 'colsample_bytree': 0.528429341824791, 'reg_alpha': 0.9367685069586138, 'reg_lambda': 0.6740364877407076, 'random_state': 427}. Best is trial 28 with value: 0.6155166709247182.\u001b[0m\n",
      "\u001b[32m[I 2023-01-28 12:00:03,048]\u001b[0m Trial 70 finished with value: 0.6281176423340581 and parameters: {'max_depth': 5, 'learning_rate': 0.03866954162954132, 'n_estimators': 257, 'min_child_weight': 1, 'gamma': 0.5027925849517925, 'subsample': 0.22762025062645486, 'colsample_bytree': 0.6230670213506746, 'reg_alpha': 0.9835232492531408, 'reg_lambda': 0.7689418831545846, 'random_state': 497}. Best is trial 28 with value: 0.6155166709247182.\u001b[0m\n",
      "\u001b[32m[I 2023-01-28 12:00:11,499]\u001b[0m Trial 71 finished with value: 0.6196639874752231 and parameters: {'max_depth': 2, 'learning_rate': 0.06985570258040952, 'n_estimators': 169, 'min_child_weight': 3, 'gamma': 0.519873536067148, 'subsample': 0.15522293070069115, 'colsample_bytree': 0.4630345796959203, 'reg_alpha': 0.9186324243166978, 'reg_lambda': 0.6890518073612997, 'random_state': 567}. Best is trial 28 with value: 0.6155166709247182.\u001b[0m\n",
      "\u001b[32m[I 2023-01-28 12:00:19,436]\u001b[0m Trial 72 finished with value: 0.6175380768430675 and parameters: {'max_depth': 2, 'learning_rate': 0.0319525682678425, 'n_estimators': 129, 'min_child_weight': 2, 'gamma': 0.4653922349758051, 'subsample': 0.1736434719492272, 'colsample_bytree': 0.47299512132660654, 'reg_alpha': 0.9062825175553201, 'reg_lambda': 0.7313235967409963, 'random_state': 597}. Best is trial 28 with value: 0.6155166709247182.\u001b[0m\n",
      "\u001b[32m[I 2023-01-28 12:00:24,496]\u001b[0m Trial 73 finished with value: 0.6223273937341676 and parameters: {'max_depth': 3, 'learning_rate': 0.07737026280919539, 'n_estimators': 125, 'min_child_weight': 2, 'gamma': 0.45979389529845033, 'subsample': 0.17817039931175666, 'colsample_bytree': 0.5810744518577349, 'reg_alpha': 0.9951134353627138, 'reg_lambda': 0.72609689468213, 'random_state': 638}. Best is trial 28 with value: 0.6155166709247182.\u001b[0m\n",
      "\u001b[32m[I 2023-01-28 12:00:57,129]\u001b[0m Trial 74 finished with value: 0.6162679359683088 and parameters: {'max_depth': 2, 'learning_rate': 0.011524050221351716, 'n_estimators': 774, 'min_child_weight': 2, 'gamma': 0.4319882839989474, 'subsample': 0.1100548591800487, 'colsample_bytree': 0.4747149332694992, 'reg_alpha': 0.869845283766205, 'reg_lambda': 0.7424019987639173, 'random_state': 591}. Best is trial 28 with value: 0.6155166709247182.\u001b[0m\n",
      "\u001b[32m[I 2023-01-28 12:01:21,810]\u001b[0m Trial 75 finished with value: 0.6262368199608429 and parameters: {'max_depth': 1, 'learning_rate': 0.12285501772051396, 'n_estimators': 984, 'min_child_weight': 1, 'gamma': 0.39067693456345504, 'subsample': 0.11649189413302659, 'colsample_bytree': 0.5426955537937647, 'reg_alpha': 0.8615499661040193, 'reg_lambda': 0.811053003570309, 'random_state': 521}. Best is trial 28 with value: 0.6155166709247182.\u001b[0m\n",
      "\u001b[32m[I 2023-01-28 12:02:58,180]\u001b[0m Trial 76 finished with value: 0.715849981163184 and parameters: {'max_depth': 4, 'learning_rate': 0.08533397090424563, 'n_estimators': 778, 'min_child_weight': 3, 'gamma': 0.41961492687685664, 'subsample': 0.06266762225629889, 'colsample_bytree': 0.6796802718808945, 'reg_alpha': 0.9471431137211194, 'reg_lambda': 0.7606516603202146, 'random_state': 364}. Best is trial 28 with value: 0.6155166709247182.\u001b[0m\n",
      "\u001b[32m[I 2023-01-28 12:03:03,295]\u001b[0m Trial 77 finished with value: 0.6786081484056466 and parameters: {'max_depth': 2, 'learning_rate': 0.14880566236255915, 'n_estimators': 900, 'min_child_weight': 2, 'gamma': 0.3528094280208129, 'subsample': 0.10028458494993553, 'colsample_bytree': 0.525761257005434, 'reg_alpha': 0.8444828791656761, 'reg_lambda': 0.6952732671500857, 'random_state': 670}. Best is trial 28 with value: 0.6155166709247182.\u001b[0m\n",
      "\u001b[32m[I 2023-01-28 12:03:08,466]\u001b[0m Trial 78 finished with value: 0.6190755160463745 and parameters: {'max_depth': 1, 'learning_rate': 0.03338844230720009, 'n_estimators': 737, 'min_child_weight': 4, 'gamma': 0.330889828249913, 'subsample': 0.03494682788479546, 'colsample_bytree': 0.6154340436197125, 'reg_alpha': 0.873648034208488, 'reg_lambda': 0.8472008569367668, 'random_state': 432}. Best is trial 28 with value: 0.6155166709247182.\u001b[0m\n",
      "\u001b[32m[I 2023-01-28 12:03:09,850]\u001b[0m Trial 79 finished with value: 0.6258335695930068 and parameters: {'max_depth': 3, 'learning_rate': 0.07397999846454813, 'n_estimators': 223, 'min_child_weight': 2, 'gamma': 0.4418462010844355, 'subsample': 0.26946005733810974, 'colsample_bytree': 0.5635205748460204, 'reg_alpha': 0.802601083023635, 'reg_lambda': 0.6622473885478014, 'random_state': 317}. Best is trial 28 with value: 0.6155166709247182.\u001b[0m\n",
      "\u001b[32m[I 2023-01-28 12:03:13,876]\u001b[0m Trial 80 finished with value: 0.6571615496505278 and parameters: {'max_depth': 2, 'learning_rate': 0.127748577554821, 'n_estimators': 853, 'min_child_weight': 2, 'gamma': 0.4947119275086557, 'subsample': 0.13163310396119401, 'colsample_bytree': 0.4871407469007271, 'reg_alpha': 0.9158763568030662, 'reg_lambda': 0.7963082771703234, 'random_state': 513}. Best is trial 28 with value: 0.6155166709247182.\u001b[0m\n",
      "\u001b[32m[I 2023-01-28 12:03:14,403]\u001b[0m Trial 81 finished with value: 0.6319247950632302 and parameters: {'max_depth': 2, 'learning_rate': 0.010524322176472076, 'n_estimators': 146, 'min_child_weight': 2, 'gamma': 0.47422942484670405, 'subsample': 0.1794571565573802, 'colsample_bytree': 0.46811543130974165, 'reg_alpha': 0.9079034214197147, 'reg_lambda': 0.723967691499751, 'random_state': 596}. Best is trial 28 with value: 0.6155166709247182.\u001b[0m\n",
      "\u001b[32m[I 2023-01-28 12:03:14,756]\u001b[0m Trial 82 finished with value: 0.6197543104975382 and parameters: {'max_depth': 2, 'learning_rate': 0.043067419262261895, 'n_estimators': 79, 'min_child_weight': 1, 'gamma': 0.3826974221854438, 'subsample': 0.14830893924702324, 'colsample_bytree': 0.5133437007758475, 'reg_alpha': 0.9678616910650195, 'reg_lambda': 0.7487520169962026, 'random_state': 559}. Best is trial 28 with value: 0.6155166709247182.\u001b[0m\n",
      "\u001b[32m[I 2023-01-28 12:03:18,734]\u001b[0m Trial 83 finished with value: 0.6395476187286031 and parameters: {'max_depth': 9, 'learning_rate': 0.03850744526767363, 'n_estimators': 284, 'min_child_weight': 2, 'gamma': 0.4253409762326308, 'subsample': 0.06367364842765924, 'colsample_bytree': 0.49111209010882173, 'reg_alpha': 0.8361420007714331, 'reg_lambda': 0.7182155915163384, 'random_state': 592}. Best is trial 28 with value: 0.6155166709247182.\u001b[0m\n",
      "\u001b[32m[I 2023-01-28 12:03:19,193]\u001b[0m Trial 84 finished with value: 0.6162504049196259 and parameters: {'max_depth': 1, 'learning_rate': 0.09632182151713811, 'n_estimators': 175, 'min_child_weight': 4, 'gamma': 0.5508354526743436, 'subsample': 0.22296376432140036, 'colsample_bytree': 0.396641424680042, 'reg_alpha': 0.9371268128398421, 'reg_lambda': 0.8294240005609335, 'random_state': 706}. Best is trial 28 with value: 0.6155166709247182.\u001b[0m\n",
      "\u001b[32m[I 2023-01-28 12:03:19,775]\u001b[0m Trial 85 finished with value: 0.6164037116752304 and parameters: {'max_depth': 1, 'learning_rate': 0.10022902695281188, 'n_estimators': 173, 'min_child_weight': 4, 'gamma': 0.5438753953215646, 'subsample': 0.21286707226355514, 'colsample_bytree': 0.3958400127159038, 'reg_alpha': 0.9402444327122601, 'reg_lambda': 0.8318335116453951, 'random_state': 746}. Best is trial 28 with value: 0.6155166709247182.\u001b[0m\n",
      "\u001b[32m[I 2023-01-28 12:03:20,219]\u001b[0m Trial 86 finished with value: 0.6168004461533765 and parameters: {'max_depth': 1, 'learning_rate': 0.08659391736893146, 'n_estimators': 185, 'min_child_weight': 4, 'gamma': 0.5430321029360796, 'subsample': 0.24537706179743068, 'colsample_bytree': 0.39173473603274345, 'reg_alpha': 0.9361177501413334, 'reg_lambda': 0.8858444596730781, 'random_state': 748}. Best is trial 28 with value: 0.6155166709247182.\u001b[0m\n",
      "\u001b[32m[I 2023-01-28 12:03:21,061]\u001b[0m Trial 87 finished with value: 0.6158682202663739 and parameters: {'max_depth': 1, 'learning_rate': 0.09406813609641895, 'n_estimators': 173, 'min_child_weight': 4, 'gamma': 0.5461087560299619, 'subsample': 0.2383798687350624, 'colsample_bytree': 0.39411213271644036, 'reg_alpha': 0.8770989064839645, 'reg_lambda': 0.8800903741045825, 'random_state': 769}. Best is trial 28 with value: 0.6155166709247182.\u001b[0m\n",
      "\u001b[32m[I 2023-01-28 12:03:21,501]\u001b[0m Trial 88 finished with value: 0.6162003658562076 and parameters: {'max_depth': 1, 'learning_rate': 0.16118009239915299, 'n_estimators': 156, 'min_child_weight': 4, 'gamma': 0.5983445733320438, 'subsample': 0.22238048199212937, 'colsample_bytree': 0.39326284294165137, 'reg_alpha': 0.7703850149235197, 'reg_lambda': 0.8275088762998124, 'random_state': 830}. Best is trial 28 with value: 0.6155166709247182.\u001b[0m\n",
      "\u001b[32m[I 2023-01-28 12:03:21,906]\u001b[0m Trial 89 finished with value: 0.6191084265795103 and parameters: {'max_depth': 1, 'learning_rate': 0.18734875814657093, 'n_estimators': 160, 'min_child_weight': 4, 'gamma': 0.6040504906170999, 'subsample': 0.21629381204567036, 'colsample_bytree': 0.3557769073883957, 'reg_alpha': 0.875334821278832, 'reg_lambda': 0.9147397302277638, 'random_state': 846}. Best is trial 28 with value: 0.6155166709247182.\u001b[0m\n",
      "\u001b[32m[I 2023-01-28 12:03:22,111]\u001b[0m Trial 90 finished with value: 0.6160363656215049 and parameters: {'max_depth': 1, 'learning_rate': 0.15904139744800033, 'n_estimators': 68, 'min_child_weight': 5, 'gamma': 0.5592956440456226, 'subsample': 0.3017166916575831, 'colsample_bytree': 0.39027776780254814, 'reg_alpha': 0.8230620258111178, 'reg_lambda': 0.85877814790395, 'random_state': 787}. Best is trial 28 with value: 0.6155166709247182.\u001b[0m\n",
      "\u001b[32m[I 2023-01-28 12:03:22,337]\u001b[0m Trial 91 finished with value: 0.616307688964145 and parameters: {'max_depth': 1, 'learning_rate': 0.13937875205529326, 'n_estimators': 63, 'min_child_weight': 5, 'gamma': 0.602647226912294, 'subsample': 0.3384689841691634, 'colsample_bytree': 0.398089973105463, 'reg_alpha': 0.7776879164920035, 'reg_lambda': 0.870747770987445, 'random_state': 793}. Best is trial 28 with value: 0.6155166709247182.\u001b[0m\n",
      "\u001b[32m[I 2023-01-28 12:03:22,580]\u001b[0m Trial 92 finished with value: 0.6157242673920266 and parameters: {'max_depth': 1, 'learning_rate': 0.16291843773546041, 'n_estimators': 75, 'min_child_weight': 5, 'gamma': 0.5704150038364108, 'subsample': 0.34190553440954546, 'colsample_bytree': 0.39098660746305847, 'reg_alpha': 0.7670673957310588, 'reg_lambda': 0.856776203853038, 'random_state': 900}. Best is trial 28 with value: 0.6155166709247182.\u001b[0m\n",
      "\u001b[32m[I 2023-01-28 12:03:22,852]\u001b[0m Trial 93 finished with value: 0.6170620798117644 and parameters: {'max_depth': 1, 'learning_rate': 0.2212408913465801, 'n_estimators': 74, 'min_child_weight': 5, 'gamma': 0.5732909458507598, 'subsample': 0.33574243916587787, 'colsample_bytree': 0.38264010675908605, 'reg_alpha': 0.7682244187974967, 'reg_lambda': 0.87765629564719, 'random_state': 922}. Best is trial 28 with value: 0.6155166709247182.\u001b[0m\n",
      "\u001b[32m[I 2023-01-28 12:03:23,215]\u001b[0m Trial 94 finished with value: 0.6187608305376598 and parameters: {'max_depth': 1, 'learning_rate': 0.16208517723796811, 'n_estimators': 52, 'min_child_weight': 5, 'gamma': 0.6156132572246608, 'subsample': 0.26840978029680973, 'colsample_bytree': 0.41933091409748807, 'reg_alpha': 0.7863342794520456, 'reg_lambda': 0.90283936107704, 'random_state': 799}. Best is trial 28 with value: 0.6155166709247182.\u001b[0m\n",
      "\u001b[32m[I 2023-01-28 12:03:23,518]\u001b[0m Trial 95 finished with value: 0.616783072704843 and parameters: {'max_depth': 1, 'learning_rate': 0.138302965830155, 'n_estimators': 78, 'min_child_weight': 5, 'gamma': 0.5662706284380596, 'subsample': 0.29466635886834436, 'colsample_bytree': 0.3147140235190352, 'reg_alpha': 0.7628079560432056, 'reg_lambda': 0.8605931174356094, 'random_state': 894}. Best is trial 28 with value: 0.6155166709247182.\u001b[0m\n",
      "\u001b[32m[I 2023-01-28 12:03:23,819]\u001b[0m Trial 96 finished with value: 0.6158048547285322 and parameters: {'max_depth': 1, 'learning_rate': 0.1955831466089568, 'n_estimators': 111, 'min_child_weight': 5, 'gamma': 0.6128848727810786, 'subsample': 0.34126526645050614, 'colsample_bytree': 0.4297616747813422, 'reg_alpha': 0.82160836689591, 'reg_lambda': 0.8211528647299742, 'random_state': 845}. Best is trial 28 with value: 0.6155166709247182.\u001b[0m\n",
      "\u001b[32m[I 2023-01-28 12:03:24,121]\u001b[0m Trial 97 finished with value: 0.616407757752294 and parameters: {'max_depth': 1, 'learning_rate': 0.20393332465524128, 'n_estimators': 86, 'min_child_weight': 5, 'gamma': 0.6020344349242298, 'subsample': 0.3414386712266634, 'colsample_bytree': 0.36221134991565235, 'reg_alpha': 0.7912875919423918, 'reg_lambda': 0.8239651530758934, 'random_state': 841}. Best is trial 28 with value: 0.6155166709247182.\u001b[0m\n",
      "\u001b[32m[I 2023-01-28 12:03:25,127]\u001b[0m Trial 98 finished with value: 0.6193757522435023 and parameters: {'max_depth': 1, 'learning_rate': 0.2392442756363573, 'n_estimators': 105, 'min_child_weight': 5, 'gamma': 0.57076833826054, 'subsample': 0.32657385822739093, 'colsample_bytree': 0.3895945031677723, 'reg_alpha': 0.7206614740681171, 'reg_lambda': 0.851225687075277, 'random_state': 941}. Best is trial 28 with value: 0.6155166709247182.\u001b[0m\n",
      "\u001b[32m[I 2023-01-28 12:03:29,609]\u001b[0m Trial 99 finished with value: 0.6189652659864675 and parameters: {'max_depth': 1, 'learning_rate': 0.16334083914654218, 'n_estimators': 132, 'min_child_weight': 5, 'gamma': 0.6504057886656033, 'subsample': 0.2502588031683762, 'colsample_bytree': 0.33894584719589355, 'reg_alpha': 0.8119019050584042, 'reg_lambda': 0.9189226575445906, 'random_state': 798}. Best is trial 28 with value: 0.6155166709247182.\u001b[0m\n"
     ]
    }
   ],
   "source": [
    "study = optuna.create_study(direction='minimize', study_name='win_probability')\n",
    "study.optimize(objective, n_trials=100)"
   ]
  },
  {
   "cell_type": "code",
   "execution_count": 32,
   "metadata": {},
   "outputs": [
    {
     "name": "stdout",
     "output_type": "stream",
     "text": [
      "Baseline log loss 0.6931471805599452\n"
     ]
    }
   ],
   "source": [
    "y_pred = [0.5] * len(y_test)\n",
    "print('Baseline log loss', log_loss(y_test, y_pred))"
   ]
  },
  {
   "cell_type": "code",
   "execution_count": 62,
   "metadata": {},
   "outputs": [
    {
     "name": "stdout",
     "output_type": "stream",
     "text": [
      "Log loss 0.6154474363917245\n"
     ]
    }
   ],
   "source": [
    "games = pd.read_csv(f'data/cumulative_with_cur_year_and_last_year_ratings_2010_2023.csv')\n",
    "games = games[games['completed'] == True]\n",
    "games = games[games['year'] == 2023]\n",
    "games['win'] = games.apply(lambda row: 1 if row['margin'] > 0 else 0, axis=1)\n",
    "# test the model on the 2023 season\n",
    "params = {'max_depth': 1, 'learning_rate': 0.6642774658597874, 'n_estimators': 365, 'min_child_weight': 3, 'gamma': 0.9138018877462927, 'subsample': 0.9850665433158399, 'colsample_bytree': 0.6714438416337997, 'reg_alpha': 0.6338885144969151, 'reg_lambda': 0.18021132749565166, 'random_state': 23}\n",
    "model = XGBClassifier(**params)\n",
    "model.fit(X_train, y_train)\n",
    "y_pred = model.predict_proba(X_test)\n",
    "print('Log loss', log_loss(y_test, y_pred))"
   ]
  }
 ],
 "metadata": {
  "kernelspec": {
   "display_name": "base",
   "language": "python",
   "name": "python3"
  },
  "language_info": {
   "codemirror_mode": {
    "name": "ipython",
    "version": 3
   },
   "file_extension": ".py",
   "mimetype": "text/x-python",
   "name": "python",
   "nbconvert_exporter": "python",
   "pygments_lexer": "ipython3",
   "version": "3.9.12 (main, Apr  5 2022, 01:53:17) \n[Clang 12.0.0 ]"
  },
  "orig_nbformat": 4,
  "vscode": {
   "interpreter": {
    "hash": "4f25485710d74911ca7fc67b8a856de95184e6f65cdc4013b6c08f121ea51890"
   }
  }
 },
 "nbformat": 4,
 "nbformat_minor": 2
}
